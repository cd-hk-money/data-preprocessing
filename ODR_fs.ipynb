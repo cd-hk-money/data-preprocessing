{
 "cells": [
  {
   "cell_type": "code",
   "execution_count": 4,
   "metadata": {
    "collapsed": true
   },
   "outputs": [],
   "source": [
    "import OpenDartReader\n",
    "import FinanceDataReader as fdr\n",
    "import pandas as pd\n",
    "import time\n",
    "from pathlib import Path\n",
    "\n",
    "api_key = '85c2367fdad752f376b3947ccdf9998092765f0e'  # OpenDart API KEY"
   ]
  },
  {
   "cell_type": "code",
   "execution_count": 3,
   "outputs": [],
   "source": [
    "dart = OpenDartReader(api_key)"
   ],
   "metadata": {
    "collapsed": false,
    "pycharm": {
     "name": "#%%\n"
    }
   }
  },
  {
   "cell_type": "code",
   "execution_count": 24,
   "outputs": [],
   "source": [
    "symbols = fdr.StockListing(\"KRX\")"
   ],
   "metadata": {
    "collapsed": false,
    "pycharm": {
     "name": "#%%\n"
    }
   }
  },
  {
   "cell_type": "code",
   "execution_count": 25,
   "outputs": [
    {
     "name": "stdout",
     "output_type": "stream",
     "text": [
      "<class 'pandas.core.frame.DataFrame'>\n",
      "Int64Index: 7626 entries, 0 to 7625\n",
      "Data columns (total 10 columns):\n",
      " #   Column          Non-Null Count  Dtype         \n",
      "---  ------          --------------  -----         \n",
      " 0   Symbol          7626 non-null   object        \n",
      " 1   Market          7626 non-null   object        \n",
      " 2   Name            7626 non-null   object        \n",
      " 3   Sector          2492 non-null   object        \n",
      " 4   Industry        2474 non-null   object        \n",
      " 5   ListingDate     2492 non-null   datetime64[ns]\n",
      " 6   SettleMonth     2492 non-null   object        \n",
      " 7   Representative  2492 non-null   object        \n",
      " 8   HomePage        2341 non-null   object        \n",
      " 9   Region          2492 non-null   object        \n",
      "dtypes: datetime64[ns](1), object(9)\n",
      "memory usage: 655.4+ KB\n"
     ]
    }
   ],
   "source": [
    "symbols.info()"
   ],
   "metadata": {
    "collapsed": false,
    "pycharm": {
     "name": "#%%\n"
    }
   }
  },
  {
   "cell_type": "code",
   "execution_count": 26,
   "outputs": [],
   "source": [
    "symbols = list(symbols['Symbol'])"
   ],
   "metadata": {
    "collapsed": false,
    "pycharm": {
     "name": "#%%\n"
    }
   }
  },
  {
   "cell_type": "code",
   "execution_count": 32,
   "outputs": [
    {
     "data": {
      "text/plain": "['060310',\n '095570',\n '006840',\n '054620',\n '265520',\n '211270',\n '152100',\n '295820',\n '253150',\n '253160',\n '395750',\n '395760',\n '278420',\n '292750',\n '309210',\n '333940',\n '333950',\n '333960',\n '333970',\n '333980',\n '269530',\n '251590',\n '161510',\n '251600',\n '289670',\n '298340',\n '189400',\n '419650',\n '415920',\n '278620',\n '269540',\n '287180',\n '213630',\n '332610',\n '332620',\n '195970',\n '238670',\n '195980',\n '373530',\n '256450',\n '239660',\n '280920',\n '266550',\n '301400',\n '301410',\n '227830',\n '122090',\n '328370',\n '301440',\n '376250',\n '027410',\n '282330',\n '032790',\n '138930',\n '001460',\n '001465',\n '013720',\n '001040',\n '079160',\n '035760',\n '311690',\n '00104K',\n '000120',\n '011150',\n '011155',\n '001045',\n '097950',\n '097955',\n '051500',\n '058820',\n '023460',\n '056730',\n '056000',\n '065770',\n '083660',\n '000590',\n '012030',\n '404950',\n '367340',\n '367360',\n '016610',\n '005830',\n '000990',\n '000995',\n '139130',\n '001530',\n '000210',\n '001880',\n '000215',\n '375500',\n '37550K',\n '068790',\n '004840',\n '241520',\n '155660',\n '069730',\n '017940',\n '245620',\n '037370',\n '278990',\n '079190',\n '365550',\n '050120',\n '383220',\n '007700',\n '285690',\n '292730',\n '402520',\n '214270',\n '73501BB4',\n '73502BB4',\n '73503BB4',\n '73501BA2',\n '73502BA2',\n '73503BA2',\n '130500',\n '114090',\n '900290',\n '078930',\n '083450',\n '006360',\n '001250',\n '007070',\n '078935',\n '293180',\n '407310',\n '332930',\n '304780',\n '306520',\n '395290',\n '395280',\n '368190',\n '402460',\n '395270',\n '367740',\n '407300',\n '381560',\n '381570',\n '346000',\n '304760',\n '404470',\n '332940',\n '322400',\n '322410',\n '354350',\n '401590',\n '314700',\n '390950',\n '419170',\n '304770',\n '306530',\n '375760',\n '297890',\n '078150',\n '012630',\n '039570',\n '089470',\n '294870',\n '097230',\n '215620',\n '391670',\n '391680',\n '195940',\n '028300',\n '067630',\n '047920',\n '115450',\n '011200',\n '036640',\n '082740',\n '75801BB4',\n '75802BB4',\n '335870',\n '351340',\n '388790',\n '405350',\n '003560',\n '095340',\n '099520',\n '175330',\n '950170',\n '234080',\n '067290',\n '001060',\n '001067',\n '001065',\n '096760',\n '035900',\n '580011',\n '580030',\n '580028',\n '580013',\n '580010',\n '580025',\n '580024',\n '580016',\n '580032',\n '580022',\n '580015',\n '580026',\n '580018',\n '71901B96',\n '71902B96',\n '71903B96',\n '580017',\n '580033',\n '580023',\n '580014',\n '580027',\n '580019',\n '580031',\n '580029',\n '580021',\n '580020',\n '58GD31',\n '58GD32',\n '58GD33',\n '58GD34',\n '58GD92',\n '58GE43',\n '58GE86',\n '58GE87',\n '58GE88',\n '58GE89',\n '58GE90',\n '58GG37',\n '58GG38',\n '58GG39',\n '58GG40',\n '58GG41',\n '58GG42',\n '58GG43',\n '58GG44',\n '58GG45',\n '58GG46',\n '58GG47',\n '58GG48',\n '58GG49',\n '58GG50',\n '58GG51',\n '58GG52',\n '58GG54',\n '58GG55',\n '58GG56',\n '58GG57',\n '58GG58',\n '58GG59',\n '58GG60',\n '58GG61',\n '58GG62',\n '58GG63',\n '58GJ63',\n '58GJ64',\n '58GJ66',\n '58GJ67',\n '58GJ68',\n '58GJ69',\n '58GJ70',\n '58GJ71',\n '58GJ72',\n '58GJ74',\n '58GJ75',\n '58GJ76',\n '58GJ77',\n '58GJ78',\n '58GJ79',\n '58GJ80',\n '58GJ81',\n '58GJ82',\n '58GJ83',\n '58GJ84',\n '58GJ85',\n '58GJ86',\n '58GJ87',\n '58GJ88',\n '58GJ89',\n '58GJ90',\n '58GJ91',\n '58GJ92',\n '58GJ93',\n '58GJ94',\n '58GJ95',\n '58GJ96',\n '58GJ97',\n '58GJ98',\n '58GJ99',\n '58GK00',\n '58GK01',\n '58GK02',\n '58GK04',\n '58GK05',\n '58GK06',\n '58GK07',\n '58GK08',\n '58GK09',\n '58GK51',\n '58GK52',\n '58GK53',\n '58GK54',\n '58GK55',\n '58GK56',\n '58GK57',\n '58GK58',\n '58GK59',\n '58GK60',\n '58GK61',\n '58GK62',\n '58GK63',\n '58GK64',\n '58GK65',\n '58GP45',\n '58GP51',\n '58GP53',\n '58GP54',\n '58GP55',\n '58GP60',\n '58GP65',\n '58GP67',\n '58GP71',\n '58GP72',\n '58GP74',\n '58GP78',\n '58GP80',\n '58GP81',\n '58GP83',\n '58GP84',\n '58GP86',\n '58GP87',\n '58GP89',\n '58GP90',\n '58GP91',\n '58GP92',\n '58GP93',\n '58GP94',\n '58GP95',\n '58GP96',\n '58GP97',\n '58GP98',\n '58GP99',\n '58GQ00',\n '58GQ01',\n '58GQ02',\n '58GQ03',\n '58GQ05',\n '58GQ06',\n '58GQ07',\n '58GQ08',\n '58GQ09',\n '58GQ10',\n '58GQ11',\n '58GQ12',\n '58GQ13',\n '58GQ14',\n '58GQ15',\n '58GQ16',\n '58GQ17',\n '58GQ19',\n '58GQ20',\n '58GQ21',\n '58GQ22',\n '58GQ24',\n '58GQ25',\n '58GQ27',\n '58GQ28',\n '58GQ29',\n '58GQ30',\n '58GQ31',\n '58GQ33',\n '58GQ34',\n '58GQ35',\n '58GQ36',\n '58GQ37',\n '58GQ38',\n '58GQ39',\n '58GQ40',\n '58GQ41',\n '58GQ42',\n '58GQ43',\n '58GQ44',\n '58GQ45',\n '58GQ77',\n '58GQ78',\n '58GQ79',\n '58GQ80',\n '58GQ81',\n '58GQ82',\n '58GQ83',\n '58GQ84',\n '58GQ85',\n '58GQ86',\n '58GQ87',\n '58GQ88',\n '58GQ89',\n '58GQ90',\n '58GQ91',\n '58GQ92',\n '58GQ93',\n '58GQ94',\n '58GQ95',\n '58GQ96',\n '58GQ97',\n '58GQ98',\n '58GQ99',\n '58GR00',\n '58GR01',\n '58GR02',\n '58GR03',\n '58GR04',\n '58GR05',\n '58GR06',\n '58GR07',\n '58GR08',\n '58GR09',\n '58GR10',\n '58GR11',\n '58GR12',\n '58GR13',\n '58GR14',\n '58GR15',\n '58GR16',\n '58GR17',\n '58GR18',\n '58GR19',\n '58GR20',\n '58GR21',\n '58GR22',\n '58GR23',\n '58GR24',\n '58GR25',\n '58GR26',\n '58GR27',\n '58GR28',\n '58GR29',\n '58GR30',\n '58GR31',\n '58GR32',\n '58GR33',\n '58GR34',\n '58GR35',\n '58GR36',\n '58GR37',\n '58GR38',\n '58GR39',\n '58GR40',\n '58GR41',\n '58GR42',\n '58GR43',\n '58GR44',\n '58GR45',\n '58GR46',\n '58GR47',\n '58GR48',\n '58GR49',\n '58GR50',\n '58GR51',\n '58GR52',\n '58GR53',\n '58GR54',\n '58GR55',\n '58GR56',\n '58GR57',\n '58GR58',\n '58GR59',\n '58GR60',\n '58GR61',\n '58GR62',\n '58GR63',\n '58GR64',\n '58GR65',\n '58GR66',\n '58GR67',\n '58GR68',\n '58GR69',\n '58GR70',\n '58GR72',\n '58GR73',\n '58GR74',\n '58GR75',\n '58GR76',\n '58GR77',\n '58GR78',\n '58GR79',\n '58GR80',\n '58GR81',\n '58GR82',\n '58GR83',\n '58GR84',\n '58GR85',\n '58GR86',\n '58GR87',\n '58GR88',\n '58GR89',\n '58GR90',\n '58GR91',\n '58GR92',\n '58GR93',\n '58GR94',\n '58GR95',\n '58GR96',\n '58GR97',\n '58GR98',\n '58GR99',\n '58GS00',\n '58GS02',\n '58GS03',\n '58GS05',\n '58GS06',\n '58GS07',\n '58GS09',\n '58GS10',\n '58GS11',\n '58GS12',\n '58GS13',\n '58GS14',\n '58GS15',\n '58GS16',\n '58GS17',\n '58GS18',\n '58GS19',\n '58GS20',\n '58GS21',\n '58GS22',\n '58GS23',\n '58GS24',\n '58GS25',\n '58GS26',\n '58GS27',\n '58GS28',\n '58GS29',\n '58GS30',\n '58GS31',\n '58GS32',\n '58GS33',\n '58GS34',\n '58GS35',\n '58GS37',\n '58GS38',\n '58GS39',\n '58GS40',\n '58GS41',\n '58GS42',\n '58GS43',\n '58GS44',\n '58GS45',\n '58GS46',\n '58GS47',\n '58GS48',\n '58GS49',\n '58GS50',\n '58GS51',\n '58GS52',\n '58GS53',\n '58GS54',\n '58GS55',\n '58GS56',\n '58GS57',\n '58GS58',\n '58GS59',\n '58GS60',\n '58GS61',\n '58GS62',\n '58GS63',\n '58GS64',\n '58GS65',\n '58GS66',\n '58GS67',\n '58GS68',\n '58GS69',\n '58GS70',\n '58GS71',\n '58GS72',\n '58GS73',\n '58GS74',\n '58GS76',\n '58GS77',\n '58GS78',\n '58GS79',\n '58GS80',\n '58GS81',\n '58GS82',\n '58GS83',\n '58GS84',\n '58GS85',\n '58GS86',\n '58GS87',\n '58GS88',\n '58GS89',\n '58GS90',\n '58GS91',\n '58GS92',\n '58GS93',\n '58GS94',\n '58GS95',\n '58GS96',\n '58GS97',\n '58GS98',\n '58GS99',\n '58GT00',\n '58GT01',\n '58GT02',\n '58GT03',\n '58GT04',\n '58GT05',\n '58GT06',\n '58GT07',\n '58GT08',\n '58GT09',\n '58GT10',\n '58GT11',\n '58GT12',\n '58GT13',\n '58GT14',\n '58GT15',\n '58GT16',\n '58GT17',\n '58GT18',\n '58GT19',\n '58GT20',\n '58GT21',\n '58GT22',\n '58GT23',\n '58GT24',\n '58GT25',\n '58GT26',\n '58GT27',\n '58GT28',\n '58GT29',\n '58GT30',\n '58GT31',\n '58GT32',\n '58GT33',\n '58GT34',\n '58GT35',\n '58GT36',\n '58GT37',\n '58GT38',\n '58GT39',\n '58GT40',\n '58GT41',\n '58GT42',\n '58GT43',\n '58GT44',\n '58GT45',\n '58GT46',\n '58GT47',\n '58GT48',\n '58GT49',\n '58GT50',\n '58GT51',\n '58GT52',\n '58GT53',\n '58GT54',\n '58GT55',\n '58GT56',\n '58GT57',\n '58GT58',\n '58GT59',\n '58GT60',\n '58GT61',\n '58GT62',\n '58GT63',\n '58GT64',\n '58GT65',\n '58GT66',\n '58GT67',\n '58GT69',\n '58GT70',\n '58GT71',\n '58GT72',\n '58GT73',\n '58GT74',\n '58GT75',\n '58GT76',\n '58GT77',\n '58GT78',\n '58GT79',\n '58GT80',\n '58GT81',\n '58GT82',\n '58GT83',\n '58GT84',\n '58GT85',\n '58GT86',\n '58GT87',\n '58GT88',\n '58GT89',\n '58GT90',\n '58GT91',\n '58GT92',\n '58GT93',\n '58GT94',\n '58GT95',\n '58GT96',\n '58GT97',\n '58GT98',\n '58GT99',\n '58GV00',\n '58GV02',\n '58GV04',\n '58GV05',\n '58GV07',\n '58GV08',\n '58GV09',\n '58GV10',\n '58GV11',\n '58GV12',\n '58GV13',\n '58GV14',\n '58GV15',\n '58GV16',\n '58GV17',\n '58GV18',\n '58GV19',\n '58GV20',\n '58GV21',\n '58GV22',\n '58GV23',\n '58GV24',\n '58GV25',\n '58GV26',\n '58GV27',\n '58GV28',\n '58GV30',\n '58GV31',\n '58GV32',\n '58GV33',\n '58GV35',\n '58GV36',\n '58GV37',\n '58GV38',\n '58GV39',\n '58GV40',\n '58GV41',\n '58GV42',\n '58GV43',\n '58GV44',\n '58GV45',\n '58GV47',\n '58GV48',\n '58GV49',\n '58GV50',\n '58GV51',\n '58GV52',\n '58GV53',\n '58GV54',\n '58GV55',\n '58GV56',\n '58GV57',\n '58GV58',\n '58GV60',\n '58GV61',\n '58GV62',\n '58GV63',\n '58GV64',\n '58GV65',\n '58GV67',\n '58GV69',\n '58GV70',\n '58GV72',\n '58GV73',\n '58GV74',\n '58GV75',\n '58GV76',\n '58GV77',\n '58GV78',\n '58GV79',\n '58GV80',\n '58GV81',\n '58GV82',\n '58GV83',\n '58GV84',\n '58GV85',\n '58GV86',\n '58GV87',\n '58GV88',\n '58GV89',\n '58GV90',\n '58GV91',\n '58GV92',\n '58GV93',\n '58GV94',\n '58GV95',\n '58GV96',\n '58GV97',\n '58GV98',\n '58GV99',\n '58GW00',\n '58GW01',\n '58GW02',\n '58GW03',\n '58GW04',\n '58GW05',\n '58GW06',\n '58GW07',\n '58GW08',\n '58GW09',\n '58GW10',\n '58GW11',\n '58GW12',\n '58GW13',\n '58GW14',\n '58GW15',\n '58GW16',\n '58GW17',\n '58GW18',\n '58GW19',\n '58GW20',\n '58GW21',\n '58GW22',\n '58GW23',\n '58GW24',\n '58GW25',\n '58GW26',\n '58GW27',\n '58GW28',\n '58GW29',\n '58GW30',\n '58GW31',\n '58GW32',\n '58GW33',\n '58GW34',\n '58GW35',\n '58GW36',\n '58GW37',\n '58GW38',\n '58GW39',\n '58GW40',\n '58GW41',\n '58GW42',\n '58GW43',\n '58GW44',\n '58GW45',\n '58GW46',\n '58GW47',\n '58GW48',\n '58GW49',\n '58GW50',\n '58GW51',\n '58GW52',\n '58GW53',\n '58GW54',\n '58GW55',\n '58GW56',\n '58GW57',\n '58GW58',\n '58GW59',\n '58GW60',\n '58GW61',\n '58GW62',\n '58GW72',\n '58GW73',\n '58GW74',\n '58GW75',\n '58GW76',\n '58GW77',\n '58GW78',\n '58GW79',\n '58GW80',\n '58GW81',\n '58GW82',\n '58GW83',\n '58GW84',\n '58GW85',\n '58GW86',\n '58GW87',\n '58GW88',\n '58GW89',\n '58H001',\n '58H002',\n '58H003',\n '58H004',\n '58H005',\n '58H006',\n '58H007',\n '58H008',\n '58H009',\n '58H010',\n '58H011',\n '58H012',\n '58H013',\n '58H014',\n '58H015',\n '58H016',\n '58H017',\n '58H018',\n '58H019',\n '58H020',\n '58H021',\n '58H022',\n '58H023',\n '58H024',\n '58H025',\n '58H026',\n '58H027',\n '58H028',\n '58H029',\n '58H030',\n '58H031',\n '58H032',\n '58H033',\n '58H034',\n '58H035',\n '58H036',\n '58H037',\n '58H038',\n '58H039',\n '58H040',\n '58H041',\n '58H042',\n '58H052',\n '58H053',\n '58H054',\n '58H055',\n '58H056',\n '58H057',\n '58H058',\n '58H059',\n '58H060',\n '58H061',\n '58H062',\n '58H063',\n '58H064',\n '58H065',\n '58H066',\n '58H067',\n '58H068',\n '58H069',\n '58H070',\n '58H071',\n '58H072',\n '58H073',\n '58H074',\n '58H075',\n '58H076',\n '58H077',\n '58H078',\n '58H079',\n '58H080',\n '58H081',\n '58H082',\n '58H083',\n '58H084',\n '58H085',\n '58H086',\n '58H087',\n '58H088',\n '58H089',\n '58H090',\n '58H091',\n '58H092',\n '58H093',\n '58H094',\n '58H095',\n '58H096',\n '58H097',\n '58H098',\n '58H106',\n '58H107',\n '58H108',\n '58H109',\n '58H110',\n '58H111',\n '58H112',\n '58H113',\n '58H114',\n '58H115',\n '58H116',\n '58H117',\n '58H118',\n '58H119',\n '58H120',\n '58H121',\n '58H122',\n '58H123',\n '58H124',\n '58H125',\n '58H126',\n '58H127',\n '58H128',\n '58H129',\n '58H130',\n '58H131',\n '58H132',\n '58H133',\n '58H134',\n '58H135',\n '58H138',\n '58H139',\n '58H140',\n '58H141',\n '58H142',\n '58H143',\n '58H144',\n '58H145',\n '58H146',\n '58H147',\n '58H148',\n '58H149',\n '58H150',\n '58H151',\n ...]"
     },
     "execution_count": 32,
     "metadata": {},
     "output_type": "execute_result"
    }
   ],
   "source": [
    "symbols"
   ],
   "metadata": {
    "collapsed": false,
    "pycharm": {
     "name": "#%%\n"
    }
   }
  },
  {
   "cell_type": "code",
   "execution_count": 29,
   "outputs": [],
   "source": [
    "stock_names = ['삼성전자', 'LG전자', '현대자동차']"
   ],
   "metadata": {
    "collapsed": false,
    "pycharm": {
     "name": "#%%\n"
    }
   }
  },
  {
   "cell_type": "code",
   "execution_count": 30,
   "outputs": [
    {
     "data": {
      "text/plain": "['삼성전자', 'LG전자', '현대자동차']"
     },
     "execution_count": 30,
     "metadata": {},
     "output_type": "execute_result"
    }
   ],
   "source": [
    "stock_names"
   ],
   "metadata": {
    "collapsed": false,
    "pycharm": {
     "name": "#%%\n"
    }
   }
  },
  {
   "cell_type": "code",
   "execution_count": 33,
   "outputs": [],
   "source": [
    "# 데이터 초기화. df2 는 정리된 데이터를 모으는 곳이며 얻고자 하는 데이터 이름을\n",
    "# column 화 시킴.  빈 index 를 넣으면 추가가 안되므로 임으로 하나 넣자.\n",
    "df2 = pd.DataFrame(columns=['종목코드', '유동자산', '부채총계', '자본총계', '매출액', '매출총이익', '영업이익',\n",
    "                            '당기순이익', '영업활동현금흐름', '잉여현금흐름'], index=['1900-01-01'])\n",
    "\n",
    "# '11013' = 1분기보고서, '11012' = 반기보고서, '11014' = 3분기보고서, '11011' = 사업보고서\n",
    "reprt_code = ['11013', '11012', '11014', '11011']"
   ],
   "metadata": {
    "collapsed": false,
    "pycharm": {
     "name": "#%%\n"
    }
   }
  },
  {
   "cell_type": "code",
   "execution_count": 34,
   "outputs": [
    {
     "name": "stdout",
     "output_type": "stream",
     "text": [
      "<class 'pandas.core.frame.DataFrame'>\n",
      "Index: 1 entries, 1900-01-01 to 1900-01-01\n",
      "Data columns (total 10 columns):\n",
      " #   Column    Non-Null Count  Dtype \n",
      "---  ------    --------------  ----- \n",
      " 0   종목코드      0 non-null      object\n",
      " 1   유동자산      0 non-null      object\n",
      " 2   부채총계      0 non-null      object\n",
      " 3   자본총계      0 non-null      object\n",
      " 4   매출액       0 non-null      object\n",
      " 5   매출총이익     0 non-null      object\n",
      " 6   영업이익      0 non-null      object\n",
      " 7   당기순이익     0 non-null      object\n",
      " 8   영업활동현금흐름  0 non-null      object\n",
      " 9   잉여현금흐름    0 non-null      object\n",
      "dtypes: object(10)\n",
      "memory usage: 88.0+ bytes\n"
     ]
    }
   ],
   "source": [
    "df2.info()"
   ],
   "metadata": {
    "collapsed": false,
    "pycharm": {
     "name": "#%%\n"
    }
   }
  },
  {
   "cell_type": "code",
   "execution_count": 38,
   "outputs": [],
   "source": [
    "# 데이터를 얻기위한 반복문 시작\n",
    "for stock_name in stock_names:\n",
    "    # 정리 완료된 파일 저장하기 위한 경로 및 이름. result_종목이름.xlsx 형태로 저장된다.\n",
    "    filePath = 'C:/workspace/capstone-finance/finance-data/data/'\n",
    "    Path(filePath).mkdir(exist_ok=True)\n",
    "    fileName = f'result_{str(stock_name)}.csv'\n",
    "    for i in range(2015, 2022):  # OpenDart는 2015년부터 정보를 제공한다.\n",
    "\n",
    "        # 더미 리스트 초기화. 1 ~ 4 분기 데이터를 합할 예정이므로 4 크기 만큼의 리스트 선언.\n",
    "        current_assets = [0, 0, 0, 0]  # 유동자산\n",
    "        liabilities = [0, 0, 0, 0]  # 부채총계\n",
    "        equity = [0, 0, 0, 0]  # 자본총계\n",
    "        revenue = [0, 0, 0, 0]  # 매출액\n",
    "        gross_marin = [0, 0, 0, 0]  # 매출총이익 #grossMargin\n",
    "        EBIT = [0, 0, 0, 0]  # 영업이익 #EBIT\n",
    "        net_income = [0, 0, 0, 0]  # 당기순이익\n",
    "        cfo = [0, 0, 0, 0]  # 영업활동현금흐름\n",
    "        cfi = [0, 0, 0, 0]  # 투자활동현금흐름\n",
    "        fcf = [0, 0, 0, 0]  # 잉여현금흐름 : 편의상 영업활동 - 투자활동 현금흐름으로 계산\n",
    "\n",
    "        for j, k in enumerate(reprt_code):\n",
    "            df1 = pd.DataFrame()  # Raw Data\n",
    "            if str(type(dart.finstate_all('004840', i, reprt_code=k, fs_div='CFS'))) == \"<class 'NoneType'>\":\n",
    "                pass\n",
    "\n",
    "            # 타입이 NoneType 이 아니면 읽어온다.\n",
    "            else:\n",
    "                df1 = df1.append(dart.finstate_all(stock_name, i, reprt_code=k, fs_div='CFS'))\n",
    "                # 재무상태표 부분\n",
    "                condition = (df1.sj_nm == '재무상태표') & (df1.account_nm == '유동자산')  # 유동자산\n",
    "                condition_2 = (df1.sj_nm == '재무상태표') & (df1.account_nm == '부채총계')  # 부채총계\n",
    "                condition_3 = (df1.sj_nm == '재무상태표') & ((df1.account_nm == '자본총계') | (df1.account_nm == '반기말자본') | (\n",
    "                        df1.account_nm == '3분기말자본') | (df1.account_nm == '분기말자본') | (\n",
    "                                                                df1.account_nm == '1분기말자본'))  #자본총계\n",
    "                # 손익계산서 부분\n",
    "                condition_4 = ((df1.sj_nm == '손익계산서') | (df1.sj_nm == '포괄손익계산서')) & (\n",
    "                        (df1.account_nm == '매출액') | (df1.account_nm == '수익(매출액)'))\n",
    "                condition_5 = ((df1.sj_nm == '손익계산서') | (df1.sj_nm == '포괄손익계산서')) & (df1.account_nm == '매출총이익')\n",
    "                condition_6 = ((df1.sj_nm == '손익계산서') | (df1.sj_nm == '포괄손익계산서')) & (\n",
    "                        (df1.account_nm == '영업이익(손실)') | (df1.account_nm == '영업이익'))\n",
    "                condition_7 = ((df1.sj_nm == '손익계산서') | (df1.sj_nm == '포괄손익계산서')) & (\n",
    "                        (df1.account_nm == '당기순이익(손실)') | (df1.account_nm == '당기순이익') |\n",
    "                        (df1.account_nm == '분기순이익') | (df1.account_nm == '분기순이익(손실)') | (\n",
    "                                df1.account_nm == '반기순이익') | (df1.account_nm == '반기순이익(손실)') |\n",
    "                        (df1.account_nm == '연결분기순이익') | (df1.account_nm == '연결반기순이익') | (\n",
    "                                df1.account_nm == '연결당기순이익') | (df1.account_nm == '연결분기(당기)순이익') | (\n",
    "                                df1.account_nm == '연결반기(당기)순이익') |\n",
    "                        (df1.account_nm == '연결분기순이익(손실)'))\n",
    "                # 현금흐름표 부분\n",
    "                condition_8 = (df1.sj_nm == '현금흐름표') & (\n",
    "                        (df1.account_nm == '영업활동으로 인한 현금흐름') | (df1.account_nm == '영업활동 현금흐름'))\n",
    "                condition_9 = (df1.sj_nm == '현금흐름표') & (\n",
    "                        (df1.account_nm == '투자활동으로 인한 현금흐름') | (df1.account_nm == '영업활동 현금흐름'))\n",
    "\n",
    "                stock_code = stock_name\n",
    "                current_assets[j] = int(df1.loc[condition].iloc[0]['thstrm_amount'])\n",
    "                liabilities[j] = int(df1.loc[condition_2].iloc[0]['thstrm_amount'])\n",
    "                equity[j] = int(df1.loc[condition_3].iloc[0]['thstrm_amount'])\n",
    "                revenue[j] = int(df1.loc[condition_4].iloc[0]['thstrm_amount'])\n",
    "                gross_marin[j] = int(df1.loc[condition_5].iloc[0]['thstrm_amount'])\n",
    "                EBIT[j] = int(df1.loc[condition_6].iloc[0]['thstrm_amount'])\n",
    "                net_income[j] = int(df1.loc[condition_7].iloc[0]['thstrm_amount'])\n",
    "                cfo[j] = int(df1.loc[condition_8].iloc[0]['thstrm_amount'])\n",
    "                cfi[j] = int(df1.loc[condition_9].iloc[0]['thstrm_amount'])\n",
    "                fcf[j] = (cfo[j] - cfi[j])\n",
    "\n",
    "                if k == '11013':  # 1분기.\n",
    "                    path_string = str(i) + '-03-31'\n",
    "                elif k == '11012':  # 2분기\n",
    "                    path_string = str(i) + '-06-30'\n",
    "                elif k == '11014':  # 3분기\n",
    "                    path_string = str(i) + '-09-30'\n",
    "                else:  # 4분기. 1 ~ 3분기 데이터를 더한다음 사업보고서에서 빼야 함\n",
    "                    path_string = str(i) + '-12-30'\n",
    "                    revenue[j] = revenue[j] - (revenue[0] + revenue[1] + revenue[2])\n",
    "                    gross_marin[j] = gross_marin[j] - (gross_marin[0] + gross_marin[1] + gross_marin[2])\n",
    "                    EBIT[j] = EBIT[j] - (EBIT[0] + EBIT[1] + EBIT[2])\n",
    "                    net_income[j] = net_income[j] - (net_income[0] + net_income[1] + net_income[2])\n",
    "                    fcf[j] = fcf[j] - (fcf[0] + fcf[1] + fcf[2])\n",
    "\n",
    "                # 데이터프레임에 저장하는 부분\n",
    "                df2.loc[path_string] = [stock_code, current_assets[j], liabilities[j], equity[j],\n",
    "                                        revenue[j], gross_marin[j], EBIT[j], net_income[j], cfo[j], fcf[j]]\n",
    "                df2.tail()  # 데이터프레임 끝에 저장한다.\n",
    "            # 너무 잦은 요청이 있을 경우 OpenDart API 측에서 IP 를 차단하니 텀을 둔다.\n",
    "            time.sleep(0.1)\n",
    "\n",
    "    # 원본 dataframe 에도 영향을 끼치게끔 (inplace=True) 첫 행 drop.\n",
    "    # df2.drop(['1900-01-01'], inplace=True) # 첫 행 drop\n",
    "\n",
    "    # 파일 저장. fileName 에 명시된 경로에 각 종목코드별로 다른 이름으로 저장\n",
    "    df2.to_csv(filePath + fileName)\n",
    "\n",
    "    # 그 다음 종목의 데이터를 얻기 위해 df2 재초기화\n",
    "    df2 = pd.DataFrame(columns=['종목코드', '유동자산', '부채총계', '자본총계', '매출액', '매출총이익', '영업이익', '당기순이익', '영업활동현금흐름', '잉여현금흐름'],\n",
    "                       index=['1900-01-01'])  # 정리된 Data. 빈 index 를 넣으면 추가가 안되므로 하나 넣자."
   ],
   "metadata": {
    "collapsed": false,
    "pycharm": {
     "name": "#%%\n"
    }
   }
  },
  {
   "cell_type": "code",
   "execution_count": null,
   "outputs": [],
   "source": [],
   "metadata": {
    "collapsed": false,
    "pycharm": {
     "name": "#%%\n"
    }
   }
  },
  {
   "cell_type": "code",
   "execution_count": 1,
   "outputs": [
    {
     "ename": "NameError",
     "evalue": "name 'symbols' is not defined",
     "output_type": "error",
     "traceback": [
      "\u001B[1;31m---------------------------------------------------------------------------\u001B[0m",
      "\u001B[1;31mNameError\u001B[0m                                 Traceback (most recent call last)",
      "Input \u001B[1;32mIn [1]\u001B[0m, in \u001B[0;36m<module>\u001B[1;34m\u001B[0m\n\u001B[0;32m      1\u001B[0m \u001B[38;5;66;03m# 데이터를 얻기위한 반복문 시작\u001B[39;00m\n\u001B[1;32m----> 2\u001B[0m \u001B[38;5;28;01mfor\u001B[39;00m symbol \u001B[38;5;129;01min\u001B[39;00m \u001B[43msymbols\u001B[49m:\n\u001B[0;32m      3\u001B[0m     \u001B[38;5;66;03m# 정리 완료된 파일 저장하기 위한 경로 및 이름. result_종목이름.xlsx 형태로 저장된다.\u001B[39;00m\n\u001B[0;32m      4\u001B[0m     filePath \u001B[38;5;241m=\u001B[39m \u001B[38;5;124m'\u001B[39m\u001B[38;5;124mC:/workspace/capstone-finance/finance-data/data/\u001B[39m\u001B[38;5;124m'\u001B[39m\n\u001B[0;32m      5\u001B[0m     Path(filePath)\u001B[38;5;241m.\u001B[39mmkdir(exist_ok\u001B[38;5;241m=\u001B[39m\u001B[38;5;28;01mTrue\u001B[39;00m)\n",
      "\u001B[1;31mNameError\u001B[0m: name 'symbols' is not defined"
     ]
    }
   ],
   "source": [
    "# 데이터를 얻기위한 반복문 시작\n",
    "for symbol in symbols:\n",
    "    # 정리 완료된 파일 저장하기 위한 경로 및 이름. result_종목이름.xlsx 형태로 저장된다.\n",
    "    filePath = 'C:/workspace/capstone-finance/finance-data/data/'\n",
    "    Path(filePath).mkdir(exist_ok=True)\n",
    "    fileName = f'2022_1_KRX.csv'\n",
    "    for i in range(2015, 2022):  # OpenDart는 2015년부터 정보를 제공한다.\n",
    "\n",
    "        # 더미 리스트 초기화. 1 ~ 4 분기 데이터를 합할 예정이므로 4 크기 만큼의 리스트 선언.\n",
    "        current_assets = [0, 0, 0, 0]  # 유동자산\n",
    "        liabilities = [0, 0, 0, 0]  # 부채총계\n",
    "        equity = [0, 0, 0, 0]  # 자본총계\n",
    "        revenue = [0, 0, 0, 0]  # 매출액\n",
    "        gross_marin = [0, 0, 0, 0]  # 매출총이익 #grossMargin\n",
    "        EBIT = [0, 0, 0, 0]  # 영업이익 #EBIT\n",
    "        net_income = [0, 0, 0, 0]  # 당기순이익\n",
    "        cfo = [0, 0, 0, 0]  # 영업활동현금흐름\n",
    "        cfi = [0, 0, 0, 0]  # 투자활동현금흐름\n",
    "        fcf = [0, 0, 0, 0]  # 잉여현금흐름 : 편의상 영업활동 - 투자활동 현금흐름으로 계산\n",
    "\n",
    "        for j, k in enumerate(reprt_code):\n",
    "            df1 = pd.DataFrame()  # Raw Data\n",
    "            if str(type(dart.finstate_all('004840', i, reprt_code=k, fs_div='CFS'))) == \"<class 'NoneType'>\":\n",
    "                pass\n",
    "\n",
    "            # 타입이 NoneType 이 아니면 읽어온다.\n",
    "            else:\n",
    "                df1 = df1.append(dart.finstate_all(symbol, i, reprt_code=k, fs_div='CFS'))\n",
    "                # 재무상태표 부분\n",
    "                condition = (df1.sj_nm == '재무상태표') & (df1.account_nm == '유동자산')  # 유동자산\n",
    "                condition_2 = (df1.sj_nm == '재무상태표') & (df1.account_nm == '부채총계')  # 부채총계\n",
    "                condition_3 = (df1.sj_nm == '재무상태표') & ((df1.account_nm == '자본총계') | (df1.account_nm == '반기말자본') | (\n",
    "                        df1.account_nm == '3분기말자본') | (df1.account_nm == '분기말자본') | (\n",
    "                                                                df1.account_nm == '1분기말자본'))  #자본총계\n",
    "                # 손익계산서 부분\n",
    "                condition_4 = ((df1.sj_nm == '손익계산서') | (df1.sj_nm == '포괄손익계산서')) & (\n",
    "                        (df1.account_nm == '매출액') | (df1.account_nm == '수익(매출액)'))\n",
    "                condition_5 = ((df1.sj_nm == '손익계산서') | (df1.sj_nm == '포괄손익계산서')) & (df1.account_nm == '매출총이익')\n",
    "                condition_6 = ((df1.sj_nm == '손익계산서') | (df1.sj_nm == '포괄손익계산서')) & (\n",
    "                        (df1.account_nm == '영업이익(손실)') | (df1.account_nm == '영업이익'))\n",
    "                condition_7 = ((df1.sj_nm == '손익계산서') | (df1.sj_nm == '포괄손익계산서')) & (\n",
    "                        (df1.account_nm == '당기순이익(손실)') | (df1.account_nm == '당기순이익') |\n",
    "                        (df1.account_nm == '분기순이익') | (df1.account_nm == '분기순이익(손실)') | (\n",
    "                                df1.account_nm == '반기순이익') | (df1.account_nm == '반기순이익(손실)') |\n",
    "                        (df1.account_nm == '연결분기순이익') | (df1.account_nm == '연결반기순이익') | (\n",
    "                                df1.account_nm == '연결당기순이익') | (df1.account_nm == '연결분기(당기)순이익') | (\n",
    "                                df1.account_nm == '연결반기(당기)순이익') |\n",
    "                        (df1.account_nm == '연결분기순이익(손실)'))\n",
    "                # 현금흐름표 부분\n",
    "                condition_8 = (df1.sj_nm == '현금흐름표') & (\n",
    "                        (df1.account_nm == '영업활동으로 인한 현금흐름') | (df1.account_nm == '영업활동 현금흐름'))\n",
    "                condition_9 = (df1.sj_nm == '현금흐름표') & (\n",
    "                        (df1.account_nm == '투자활동으로 인한 현금흐름') | (df1.account_nm == '영업활동 현금흐름'))\n",
    "\n",
    "                stock_code = symbol\n",
    "                current_assets[j] = int(df1.loc[condition].iloc[0]['thstrm_amount'])\n",
    "                liabilities[j] = int(df1.loc[condition_2].iloc[0]['thstrm_amount'])\n",
    "                equity[j] = int(df1.loc[condition_3].iloc[0]['thstrm_amount'])\n",
    "                revenue[j] = int(df1.loc[condition_4].iloc[0]['thstrm_amount'])\n",
    "                gross_marin[j] = int(df1.loc[condition_5].iloc[0]['thstrm_amount'])\n",
    "                EBIT[j] = int(df1.loc[condition_6].iloc[0]['thstrm_amount'])\n",
    "                net_income[j] = int(df1.loc[condition_7].iloc[0]['thstrm_amount'])\n",
    "                cfo[j] = 0\n",
    "                cfi[j] = 0\n",
    "                if df1.loc[condition_8] & df1.loc[condition_8].iloc[0]:\n",
    "                    cfo[j] = int(df1.loc[condition_8].iloc[0]['thstrm_amount'])\n",
    "                if df1.loc[condition_9] & df1.loc[condition_9].iloc[0]:\n",
    "                    cfi[j] = int(df1.loc[condition_9].iloc[0]['thstrm_amount'])\n",
    "                fcf[j] = (cfo[j] - cfi[j])\n",
    "\n",
    "                if k == '11013':  # 1분기.\n",
    "                    path_string = str(i) + '-03-31'\n",
    "                elif k == '11012':  # 2분기\n",
    "                    path_string = str(i) + '-06-30'\n",
    "                elif k == '11014':  # 3분기\n",
    "                    path_string = str(i) + '-09-30'\n",
    "                else:  # 4분기. 1 ~ 3분기 데이터를 더한다음 사업보고서에서 빼야 함\n",
    "                    path_string = str(i) + '-12-30'\n",
    "                    revenue[j] = revenue[j] - (revenue[0] + revenue[1] + revenue[2])\n",
    "                    gross_marin[j] = gross_marin[j] - (gross_marin[0] + gross_marin[1] + gross_marin[2])\n",
    "                    EBIT[j] = EBIT[j] - (EBIT[0] + EBIT[1] + EBIT[2])\n",
    "                    net_income[j] = net_income[j] - (net_income[0] + net_income[1] + net_income[2])\n",
    "                    fcf[j] = fcf[j] - (fcf[0] + fcf[1] + fcf[2])\n",
    "\n",
    "                # 데이터프레임에 저장하는 부분\n",
    "                df2.loc[path_string] = [stock_code, current_assets[j], liabilities[j], equity[j],\n",
    "                                        revenue[j], gross_marin[j], EBIT[j], net_income[j], cfo[j], fcf[j]]\n",
    "                df2.tail()  # 데이터프레임 끝에 저장한다.\n",
    "            # 너무 잦은 요청이 있을 경우 OpenDart API 측에서 IP 를 차단하니 텀을 둔다.\n",
    "            time.sleep(0.1)\n",
    "\n",
    "    # 원본 dataframe 에도 영향을 끼치게끔 (inplace=True) 첫 행 drop.\n",
    "    # df2.drop(['1900-01-01'], inplace=True) # 첫 행 drop\n",
    "\n",
    "    # 파일 저장. fileName 에 명시된 경로에 각 종목코드별로 다른 이름으로 저장\n",
    "    df2.to_csv(filePath + fileName)\n",
    "\n",
    "    # 그 다음 종목의 데이터를 얻기 위해 df2 재초기화\n",
    "    df2 = pd.DataFrame(columns=['종목코드', '유동자산', '부채총계', '자본총계', '매출액', '매출총이익', '영업이익', '당기순이익', '영업활동현금흐름', '잉여현금흐름'],\n",
    "                       index=['1900-01-01'])  # 정리된 Data. 빈 index 를 넣으면 추가가 안되므로 하나 넣자."
   ],
   "metadata": {
    "collapsed": false,
    "pycharm": {
     "name": "#%%\n"
    }
   }
  },
  {
   "cell_type": "code",
   "execution_count": null,
   "outputs": [],
   "source": [],
   "metadata": {
    "collapsed": false,
    "pycharm": {
     "name": "#%%\n"
    }
   }
  }
 ],
 "metadata": {
  "kernelspec": {
   "display_name": "Python 3",
   "language": "python",
   "name": "python3"
  },
  "language_info": {
   "codemirror_mode": {
    "name": "ipython",
    "version": 2
   },
   "file_extension": ".py",
   "mimetype": "text/x-python",
   "name": "python",
   "nbconvert_exporter": "python",
   "pygments_lexer": "ipython2",
   "version": "2.7.6"
  }
 },
 "nbformat": 4,
 "nbformat_minor": 0
}