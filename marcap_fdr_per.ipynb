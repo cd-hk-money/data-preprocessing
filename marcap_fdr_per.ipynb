{
 "cells": [
  {
   "cell_type": "code",
   "execution_count": 7,
   "outputs": [
    {
     "name": "stdout",
     "output_type": "stream",
     "text": [
      "Collecting OpenDartReader\n",
      "  Using cached OpenDartReader-0.1.6-py3-none-any.whl (19 kB)\n",
      "Requirement already satisfied: pandas>=0.19.2 in c:\\users\\wkdwoo\\appdata\\roaming\\python\\python38\\site-packages (from OpenDartReader) (1.2.4)\n",
      "Requirement already satisfied: requests>=2.3.0 in c:\\users\\wkdwoo\\appdata\\local\\programs\\python\\python38\\lib\\site-packages (from OpenDartReader) (2.25.1)\n",
      "Requirement already satisfied: lxml in c:\\users\\wkdwoo\\appdata\\local\\programs\\python\\python38\\lib\\site-packages (from OpenDartReader) (4.7.1)\n",
      "Requirement already satisfied: requests-file in c:\\users\\wkdwoo\\appdata\\local\\programs\\python\\python38\\lib\\site-packages (from OpenDartReader) (1.5.1)\n",
      "Requirement already satisfied: numpy>=1.16.5 in c:\\users\\wkdwoo\\appdata\\roaming\\python\\python38\\site-packages (from pandas>=0.19.2->OpenDartReader) (1.20.2)\n",
      "Requirement already satisfied: pytz>=2017.3 in c:\\users\\wkdwoo\\appdata\\roaming\\python\\python38\\site-packages (from pandas>=0.19.2->OpenDartReader) (2021.1)\n",
      "Requirement already satisfied: python-dateutil>=2.7.3 in c:\\users\\wkdwoo\\appdata\\roaming\\python\\python38\\site-packages (from pandas>=0.19.2->OpenDartReader) (2.8.1)\n",
      "Requirement already satisfied: urllib3<1.27,>=1.21.1 in c:\\users\\wkdwoo\\appdata\\local\\programs\\python\\python38\\lib\\site-packages (from requests>=2.3.0->OpenDartReader) (1.26.2)\n",
      "Requirement already satisfied: idna<3,>=2.5 in c:\\users\\wkdwoo\\appdata\\local\\programs\\python\\python38\\lib\\site-packages (from requests>=2.3.0->OpenDartReader) (2.10)\n",
      "Requirement already satisfied: chardet<5,>=3.0.2 in c:\\users\\wkdwoo\\appdata\\local\\programs\\python\\python38\\lib\\site-packages (from requests>=2.3.0->OpenDartReader) (4.0.0)\n",
      "Requirement already satisfied: certifi>=2017.4.17 in c:\\users\\wkdwoo\\appdata\\local\\programs\\python\\python38\\lib\\site-packages (from requests>=2.3.0->OpenDartReader) (2020.12.5)\n",
      "Requirement already satisfied: six in c:\\users\\wkdwoo\\appdata\\roaming\\python\\python38\\site-packages (from requests-file->OpenDartReader) (1.15.0)\n",
      "Installing collected packages: OpenDartReader\n",
      "Successfully installed OpenDartReader-0.1.6\n",
      "Note: you may need to restart the kernel to use updated packages.\n"
     ]
    },
    {
     "name": "stderr",
     "output_type": "stream",
     "text": [
      "WARNING: You are using pip version 20.2.1; however, version 22.0.3 is available.\n",
      "You should consider upgrading via the 'c:\\users\\wkdwoo\\appdata\\local\\programs\\python\\python38\\python.exe -m pip install --upgrade pip' command.\n"
     ]
    }
   ],
   "source": [
    "pip install OpenDartReader"
   ],
   "metadata": {
    "collapsed": false,
    "pycharm": {
     "name": "#%%\n"
    }
   }
  },
  {
   "cell_type": "code",
   "execution_count": 1,
   "outputs": [],
   "source": [
    "import OpenDartReader\n",
    "import pandas as pd\n",
    "api_key = '85c2367fdad752f376b3947ccdf9998092765f0e'\n",
    "dart = OpenDartReader(api_key)"
   ],
   "metadata": {
    "collapsed": false,
    "pycharm": {
     "name": "#%%\n"
    }
   }
  },
  {
   "cell_type": "code",
   "execution_count": 2,
   "outputs": [
    {
     "data": {
      "text/plain": "<OpenDartReader.dart.OpenDartReader at 0x2ab36d216a0>"
     },
     "execution_count": 2,
     "metadata": {},
     "output_type": "execute_result"
    }
   ],
   "source": [
    "dart"
   ],
   "metadata": {
    "collapsed": false,
    "pycharm": {
     "name": "#%%\n"
    }
   }
  },
  {
   "cell_type": "code",
   "execution_count": 3,
   "outputs": [],
   "source": [
    "fs_2020 = dart.finstate_all(corp='005930', bsns_year='2020', fs_div='CFS', reprt_code=11011)\n",
    "fs_2021_3Q = dart.finstate_all(corp='005930', bsns_year='2021', fs_div='CFS', reprt_code=11014)"
   ],
   "metadata": {
    "collapsed": false,
    "pycharm": {
     "name": "#%%\n"
    }
   }
  },
  {
   "cell_type": "code",
   "execution_count": 4,
   "outputs": [
    {
     "data": {
      "text/plain": "          rcept_no reprt_code bsns_year corp_code sj_div  sj_nm  \\\n51  20211115001965      11014      2021  00126380     BS  재무상태표   \n\n          account_id account_nm account_detail    thstrm_nm    thstrm_amount  \\\n51  ifrs-full_Equity       자본총계              -  제 53 기 3분기말  296766118000000   \n\n   frmtrm_nm    frmtrm_amount ord thstrm_add_amount frmtrm_q_nm  \\\n51   제 52 기말  275948016000000  54               NaN         NaN   \n\n   frmtrm_q_amount frmtrm_add_amount  \n51             NaN               NaN  ",
      "text/html": "<div>\n<style scoped>\n    .dataframe tbody tr th:only-of-type {\n        vertical-align: middle;\n    }\n\n    .dataframe tbody tr th {\n        vertical-align: top;\n    }\n\n    .dataframe thead th {\n        text-align: right;\n    }\n</style>\n<table border=\"1\" class=\"dataframe\">\n  <thead>\n    <tr style=\"text-align: right;\">\n      <th></th>\n      <th>rcept_no</th>\n      <th>reprt_code</th>\n      <th>bsns_year</th>\n      <th>corp_code</th>\n      <th>sj_div</th>\n      <th>sj_nm</th>\n      <th>account_id</th>\n      <th>account_nm</th>\n      <th>account_detail</th>\n      <th>thstrm_nm</th>\n      <th>thstrm_amount</th>\n      <th>frmtrm_nm</th>\n      <th>frmtrm_amount</th>\n      <th>ord</th>\n      <th>thstrm_add_amount</th>\n      <th>frmtrm_q_nm</th>\n      <th>frmtrm_q_amount</th>\n      <th>frmtrm_add_amount</th>\n    </tr>\n  </thead>\n  <tbody>\n    <tr>\n      <th>51</th>\n      <td>20211115001965</td>\n      <td>11014</td>\n      <td>2021</td>\n      <td>00126380</td>\n      <td>BS</td>\n      <td>재무상태표</td>\n      <td>ifrs-full_Equity</td>\n      <td>자본총계</td>\n      <td>-</td>\n      <td>제 53 기 3분기말</td>\n      <td>296766118000000</td>\n      <td>제 52 기말</td>\n      <td>275948016000000</td>\n      <td>54</td>\n      <td>NaN</td>\n      <td>NaN</td>\n      <td>NaN</td>\n      <td>NaN</td>\n    </tr>\n  </tbody>\n</table>\n</div>"
     },
     "execution_count": 4,
     "metadata": {},
     "output_type": "execute_result"
    }
   ],
   "source": [
    "fs_2021_3Q.loc[fs_2021_3Q['sj_div'].isin(['BS']) & fs_2021_3Q['account_id'].isin(['ifrs-full_Equity']), ]"
   ],
   "metadata": {
    "collapsed": false,
    "pycharm": {
     "name": "#%%\n"
    }
   }
  },
  {
   "cell_type": "code",
   "execution_count": 5,
   "outputs": [
    {
     "data": {
      "text/plain": "          rcept_no reprt_code bsns_year corp_code sj_div  sj_nm  \\\n41  20211115001965      11014      2021  00126380     BS  재무상태표   \n\n               account_id account_nm account_detail    thstrm_nm  \\\n41  ifrs-full_Liabilities       부채총계              -  제 53 기 3분기말   \n\n      thstrm_amount frmtrm_nm    frmtrm_amount ord thstrm_add_amount  \\\n41  113654600000000   제 52 기말  102287702000000  43               NaN   \n\n   frmtrm_q_nm frmtrm_q_amount frmtrm_add_amount  \n41         NaN             NaN               NaN  ",
      "text/html": "<div>\n<style scoped>\n    .dataframe tbody tr th:only-of-type {\n        vertical-align: middle;\n    }\n\n    .dataframe tbody tr th {\n        vertical-align: top;\n    }\n\n    .dataframe thead th {\n        text-align: right;\n    }\n</style>\n<table border=\"1\" class=\"dataframe\">\n  <thead>\n    <tr style=\"text-align: right;\">\n      <th></th>\n      <th>rcept_no</th>\n      <th>reprt_code</th>\n      <th>bsns_year</th>\n      <th>corp_code</th>\n      <th>sj_div</th>\n      <th>sj_nm</th>\n      <th>account_id</th>\n      <th>account_nm</th>\n      <th>account_detail</th>\n      <th>thstrm_nm</th>\n      <th>thstrm_amount</th>\n      <th>frmtrm_nm</th>\n      <th>frmtrm_amount</th>\n      <th>ord</th>\n      <th>thstrm_add_amount</th>\n      <th>frmtrm_q_nm</th>\n      <th>frmtrm_q_amount</th>\n      <th>frmtrm_add_amount</th>\n    </tr>\n  </thead>\n  <tbody>\n    <tr>\n      <th>41</th>\n      <td>20211115001965</td>\n      <td>11014</td>\n      <td>2021</td>\n      <td>00126380</td>\n      <td>BS</td>\n      <td>재무상태표</td>\n      <td>ifrs-full_Liabilities</td>\n      <td>부채총계</td>\n      <td>-</td>\n      <td>제 53 기 3분기말</td>\n      <td>113654600000000</td>\n      <td>제 52 기말</td>\n      <td>102287702000000</td>\n      <td>43</td>\n      <td>NaN</td>\n      <td>NaN</td>\n      <td>NaN</td>\n      <td>NaN</td>\n    </tr>\n  </tbody>\n</table>\n</div>"
     },
     "execution_count": 5,
     "metadata": {},
     "output_type": "execute_result"
    }
   ],
   "source": [
    "fs_2021_3Q.loc[fs_2021_3Q['sj_div'].isin(['BS']) & fs_2021_3Q['account_id'].isin(['ifrs-full_Liabilities']), ]"
   ],
   "metadata": {
    "collapsed": false,
    "pycharm": {
     "name": "#%%\n"
    }
   }
  },
  {
   "cell_type": "code",
   "execution_count": 6,
   "outputs": [
    {
     "data": {
      "text/plain": "          rcept_no reprt_code bsns_year corp_code sj_div  sj_nm  \\\n67  20211115001965      11014      2021  00126380     IS  손익계산서   \n\n                                          account_id  \\\n67  ifrs-full_ProfitLossAttributableToOwnersOfParent   \n\n                    account_nm account_detail   thstrm_nm   thstrm_amount  \\\n67  지배기업의 소유주에게 귀속되는 당기순이익(손실)              -  제 53 기 3분기  12057207000000   \n\n   frmtrm_nm frmtrm_amount ord thstrm_add_amount frmtrm_q_nm frmtrm_q_amount  \\\n67       NaN           NaN  15    28600669000000  제 52 기 3분기   9266814000000   \n\n   frmtrm_add_amount  \n67    19645377000000  ",
      "text/html": "<div>\n<style scoped>\n    .dataframe tbody tr th:only-of-type {\n        vertical-align: middle;\n    }\n\n    .dataframe tbody tr th {\n        vertical-align: top;\n    }\n\n    .dataframe thead th {\n        text-align: right;\n    }\n</style>\n<table border=\"1\" class=\"dataframe\">\n  <thead>\n    <tr style=\"text-align: right;\">\n      <th></th>\n      <th>rcept_no</th>\n      <th>reprt_code</th>\n      <th>bsns_year</th>\n      <th>corp_code</th>\n      <th>sj_div</th>\n      <th>sj_nm</th>\n      <th>account_id</th>\n      <th>account_nm</th>\n      <th>account_detail</th>\n      <th>thstrm_nm</th>\n      <th>thstrm_amount</th>\n      <th>frmtrm_nm</th>\n      <th>frmtrm_amount</th>\n      <th>ord</th>\n      <th>thstrm_add_amount</th>\n      <th>frmtrm_q_nm</th>\n      <th>frmtrm_q_amount</th>\n      <th>frmtrm_add_amount</th>\n    </tr>\n  </thead>\n  <tbody>\n    <tr>\n      <th>67</th>\n      <td>20211115001965</td>\n      <td>11014</td>\n      <td>2021</td>\n      <td>00126380</td>\n      <td>IS</td>\n      <td>손익계산서</td>\n      <td>ifrs-full_ProfitLossAttributableToOwnersOfParent</td>\n      <td>지배기업의 소유주에게 귀속되는 당기순이익(손실)</td>\n      <td>-</td>\n      <td>제 53 기 3분기</td>\n      <td>12057207000000</td>\n      <td>NaN</td>\n      <td>NaN</td>\n      <td>15</td>\n      <td>28600669000000</td>\n      <td>제 52 기 3분기</td>\n      <td>9266814000000</td>\n      <td>19645377000000</td>\n    </tr>\n  </tbody>\n</table>\n</div>"
     },
     "execution_count": 6,
     "metadata": {},
     "output_type": "execute_result"
    }
   ],
   "source": [
    "fs_2021_3Q.loc[fs_2021_3Q['sj_div'].isin(['IS']) & fs_2021_3Q['account_id'].isin(['ifrs-full_ProfitLossAttributableToOwnersOfParent']), ]"
   ],
   "metadata": {
    "collapsed": false,
    "pycharm": {
     "name": "#%%\n"
    }
   }
  },
  {
   "cell_type": "code",
   "execution_count": 8,
   "outputs": [],
   "source": [
    "# 자본과 부채는 재무상태표에서 당기금액('thstrm_amount') 값을 가져오면 됨\n",
    "equity = int(fs_2021_3Q.loc[fs_2021_3Q['sj_div'].isin(['BS']) & fs_2021_3Q['account_id'].isin(['ifrs-full_Equity']), 'thstrm_amount'].replace(\",\", \"\")) # 당기자본(자본총계)\n",
    "liability = int(fs_2021_3Q.loc[fs_2021_3Q['sj_div'].isin(['BS']) & fs_2021_3Q['account_id'].isin(['ifrs-full_Liabilities']), 'thstrm_amount'].replace(\",\", \"\")) # 당기부채(부채총계)\n",
    "assets = equity + liability # 자산총계"
   ],
   "metadata": {
    "collapsed": false,
    "pycharm": {
     "name": "#%%\n"
    }
   }
  },
  {
   "cell_type": "code",
   "execution_count": 9,
   "outputs": [
    {
     "data": {
      "text/plain": "296766118000000"
     },
     "execution_count": 9,
     "metadata": {},
     "output_type": "execute_result"
    }
   ],
   "source": [
    "equity"
   ],
   "metadata": {
    "collapsed": false,
    "pycharm": {
     "name": "#%%\n"
    }
   }
  },
  {
   "cell_type": "code",
   "execution_count": 10,
   "outputs": [
    {
     "data": {
      "text/plain": "113654600000000"
     },
     "execution_count": 10,
     "metadata": {},
     "output_type": "execute_result"
    }
   ],
   "source": [
    "liability"
   ],
   "metadata": {
    "collapsed": false,
    "pycharm": {
     "name": "#%%\n"
    }
   }
  },
  {
   "cell_type": "code",
   "execution_count": 11,
   "outputs": [
    {
     "data": {
      "text/plain": "410420718000000"
     },
     "execution_count": 11,
     "metadata": {},
     "output_type": "execute_result"
    }
   ],
   "source": [
    "assets"
   ],
   "metadata": {
    "collapsed": false,
    "pycharm": {
     "name": "#%%\n"
    }
   }
  },
  {
   "cell_type": "code",
   "execution_count": 17,
   "outputs": [
    {
     "data": {
      "text/plain": "35046138000000"
     },
     "execution_count": 17,
     "metadata": {},
     "output_type": "execute_result"
    }
   ],
   "source": [
    "# 2020 4분기 ~ 2021 3분기까지의 당기순이익의 합을 구하려면 2020년 4분기 당기순이익과 2021년 1분기 ~ 3분기 당기순이익의 합을 알아여함\n",
    "# 2021년 1분기 ~ 3분기 당기순이익의 합은 2021년 3분기 손익계산서에서 'thstrm_add_amount' 값을 가져오면 되고\n",
    "# 2020년 4분기 당기순이익은 2020년 전체 당기순이익에서 2020년 1분기 ~ 3분기 당기순이익의 합을 빼서 구할 수 있음\n",
    "profit_2020_3Q = int(fs_2021_3Q.loc[fs_2021_3Q['sj_div'].isin(['IS']) & fs_2021_3Q['account_id'].isin(['ifrs-full_ProfitLossAttributableToOwnersOfParent']), 'frmtrm_add_amount'].replace(\",\", \"\")) # 당기순이익\n",
    "profit_2020 = int(fs_2020.loc[fs_2020['sj_div'].isin(['IS']) & fs_2020['account_id'].isin(['ifrs-full_ProfitLossAttributableToOwnersOfParent']), 'thstrm_amount'].replace(\",\", \"\")) # 당기순이익\n",
    "profit_2021_3Q = int(fs_2021_3Q.loc[fs_2021_3Q['sj_div'].isin(['IS']) & fs_2021_3Q['account_id'].isin(['ifrs-full_ProfitLossAttributableToOwnersOfParent']), 'thstrm_add_amount'].replace(\",\", \"\")) # 당기순이익\n",
    "profit = (profit_2020-profit_2020_3Q) + profit_2021_3Q\n",
    "profit"
   ],
   "metadata": {
    "collapsed": false,
    "pycharm": {
     "name": "#%%\n"
    }
   }
  },
  {
   "cell_type": "code",
   "execution_count": 34,
   "outputs": [
    {
     "data": {
      "text/plain": "         rcept_no corp_cls corp_code corp_name    se shrholdr_co  \\\n0  20211115001965        Y  00126380      삼성전자  소액주주   5,188,804   \n\n  shrholdr_tot_co shrholdr_rate  hold_stock_co   stock_tot_co hold_stock_rate  \n0       5,188,924        99.99%  3,834,408,221  5,969,782,550          64.23%  ",
      "text/html": "<div>\n<style scoped>\n    .dataframe tbody tr th:only-of-type {\n        vertical-align: middle;\n    }\n\n    .dataframe tbody tr th {\n        vertical-align: top;\n    }\n\n    .dataframe thead th {\n        text-align: right;\n    }\n</style>\n<table border=\"1\" class=\"dataframe\">\n  <thead>\n    <tr style=\"text-align: right;\">\n      <th></th>\n      <th>rcept_no</th>\n      <th>corp_cls</th>\n      <th>corp_code</th>\n      <th>corp_name</th>\n      <th>se</th>\n      <th>shrholdr_co</th>\n      <th>shrholdr_tot_co</th>\n      <th>shrholdr_rate</th>\n      <th>hold_stock_co</th>\n      <th>stock_tot_co</th>\n      <th>hold_stock_rate</th>\n    </tr>\n  </thead>\n  <tbody>\n    <tr>\n      <th>0</th>\n      <td>20211115001965</td>\n      <td>Y</td>\n      <td>00126380</td>\n      <td>삼성전자</td>\n      <td>소액주주</td>\n      <td>5,188,804</td>\n      <td>5,188,924</td>\n      <td>99.99%</td>\n      <td>3,834,408,221</td>\n      <td>5,969,782,550</td>\n      <td>64.23%</td>\n    </tr>\n  </tbody>\n</table>\n</div>"
     },
     "execution_count": 34,
     "metadata": {},
     "output_type": "execute_result"
    }
   ],
   "source": [
    "small = dart.report('005930', '소액주주', 2021, reprt_code=11014)\n",
    "small"
   ],
   "metadata": {
    "collapsed": false,
    "pycharm": {
     "name": "#%%\n"
    }
   }
  },
  {
   "cell_type": "code",
   "execution_count": 19,
   "outputs": [
    {
     "data": {
      "text/plain": "5969782550"
     },
     "execution_count": 19,
     "metadata": {},
     "output_type": "execute_result"
    }
   ],
   "source": [
    "stock_tot_co = int(small['stock_tot_co'].str.replace(',', ''))\n",
    "stock_tot_co"
   ],
   "metadata": {
    "collapsed": false,
    "pycharm": {
     "name": "#%%\n"
    }
   }
  },
  {
   "cell_type": "code",
   "execution_count": 20,
   "outputs": [],
   "source": [
    "from marcap import marcap_data"
   ],
   "metadata": {
    "collapsed": false,
    "pycharm": {
     "name": "#%%\n"
    }
   }
  },
  {
   "cell_type": "code",
   "execution_count": 23,
   "outputs": [
    {
     "data": {
      "text/plain": "              Code  Name Market Dept  Close ChangeCode  Changes  ChagesRatio  \\\nDate                                                                           \n2022-01-28  005930  삼성전자  KOSPI  NaN  73300          1     2000         2.81   \n\n             Open   High    Low    Volume         Amount           Marcap  \\\nDate                                                                        \n2022-01-28  71300  73700  71200  21367447  1552585967650  437585060915000   \n\n                Stocks MarketId  Rank  \nDate                                   \n2022-01-28  5969782550      STK     1  ",
      "text/html": "<div>\n<style scoped>\n    .dataframe tbody tr th:only-of-type {\n        vertical-align: middle;\n    }\n\n    .dataframe tbody tr th {\n        vertical-align: top;\n    }\n\n    .dataframe thead th {\n        text-align: right;\n    }\n</style>\n<table border=\"1\" class=\"dataframe\">\n  <thead>\n    <tr style=\"text-align: right;\">\n      <th></th>\n      <th>Code</th>\n      <th>Name</th>\n      <th>Market</th>\n      <th>Dept</th>\n      <th>Close</th>\n      <th>ChangeCode</th>\n      <th>Changes</th>\n      <th>ChagesRatio</th>\n      <th>Open</th>\n      <th>High</th>\n      <th>Low</th>\n      <th>Volume</th>\n      <th>Amount</th>\n      <th>Marcap</th>\n      <th>Stocks</th>\n      <th>MarketId</th>\n      <th>Rank</th>\n    </tr>\n    <tr>\n      <th>Date</th>\n      <th></th>\n      <th></th>\n      <th></th>\n      <th></th>\n      <th></th>\n      <th></th>\n      <th></th>\n      <th></th>\n      <th></th>\n      <th></th>\n      <th></th>\n      <th></th>\n      <th></th>\n      <th></th>\n      <th></th>\n      <th></th>\n      <th></th>\n    </tr>\n  </thead>\n  <tbody>\n    <tr>\n      <th>2022-01-28</th>\n      <td>005930</td>\n      <td>삼성전자</td>\n      <td>KOSPI</td>\n      <td>NaN</td>\n      <td>73300</td>\n      <td>1</td>\n      <td>2000</td>\n      <td>2.81</td>\n      <td>71300</td>\n      <td>73700</td>\n      <td>71200</td>\n      <td>21367447</td>\n      <td>1552585967650</td>\n      <td>437585060915000</td>\n      <td>5969782550</td>\n      <td>STK</td>\n      <td>1</td>\n    </tr>\n  </tbody>\n</table>\n</div>"
     },
     "execution_count": 23,
     "metadata": {},
     "output_type": "execute_result"
    }
   ],
   "source": [
    "# 삼성전자\n",
    "df_005930 = marcap_data('2022-01-28', code='005930')\n",
    "df_005930 = df_005930.assign(Amount=df_005930['Amount'].astype('int64'),\n",
    "                             Marcap=df_005930['Marcap'].astype('int64'))\n",
    "df_005930"
   ],
   "metadata": {
    "collapsed": false,
    "pycharm": {
     "name": "#%%\n"
    }
   }
  },
  {
   "cell_type": "code",
   "execution_count": 24,
   "outputs": [
    {
     "data": {
      "text/plain": "5969782550"
     },
     "execution_count": 24,
     "metadata": {},
     "output_type": "execute_result"
    }
   ],
   "source": [
    "df_005930['Stocks'].iat[0]"
   ],
   "metadata": {
    "collapsed": false,
    "pycharm": {
     "name": "#%%\n"
    }
   }
  },
  {
   "cell_type": "code",
   "execution_count": 25,
   "outputs": [
    {
     "data": {
      "text/plain": "5969782550"
     },
     "execution_count": 25,
     "metadata": {},
     "output_type": "execute_result"
    }
   ],
   "source": [
    "# 시가총액/종가 로 계산하면 맞게 나옴\n",
    "stocks_005930 = int(df_005930['Marcap']/df_005930['Close'])\n",
    "stocks_005930"
   ],
   "metadata": {
    "collapsed": false,
    "pycharm": {
     "name": "#%%\n"
    }
   }
  },
  {
   "cell_type": "code",
   "execution_count": 26,
   "outputs": [
    {
     "data": {
      "text/plain": "              Code   Name Market Dept  Close ChangeCode  Changes  ChagesRatio  \\\nDate                                                                            \n2021-01-21  005935  삼성전자우  KOSPI  NaN  77600          1      800         1.04   \n\n             Open   High    Low   Volume        Amount          Marcap  \\\nDate                                                                     \n2021-01-21  77500  77800  76800  2512634  194360911300  63856007920000   \n\n               Stocks MarketId  Rank  \nDate                                  \n2021-01-21  822886700      STK     4  ",
      "text/html": "<div>\n<style scoped>\n    .dataframe tbody tr th:only-of-type {\n        vertical-align: middle;\n    }\n\n    .dataframe tbody tr th {\n        vertical-align: top;\n    }\n\n    .dataframe thead th {\n        text-align: right;\n    }\n</style>\n<table border=\"1\" class=\"dataframe\">\n  <thead>\n    <tr style=\"text-align: right;\">\n      <th></th>\n      <th>Code</th>\n      <th>Name</th>\n      <th>Market</th>\n      <th>Dept</th>\n      <th>Close</th>\n      <th>ChangeCode</th>\n      <th>Changes</th>\n      <th>ChagesRatio</th>\n      <th>Open</th>\n      <th>High</th>\n      <th>Low</th>\n      <th>Volume</th>\n      <th>Amount</th>\n      <th>Marcap</th>\n      <th>Stocks</th>\n      <th>MarketId</th>\n      <th>Rank</th>\n    </tr>\n    <tr>\n      <th>Date</th>\n      <th></th>\n      <th></th>\n      <th></th>\n      <th></th>\n      <th></th>\n      <th></th>\n      <th></th>\n      <th></th>\n      <th></th>\n      <th></th>\n      <th></th>\n      <th></th>\n      <th></th>\n      <th></th>\n      <th></th>\n      <th></th>\n      <th></th>\n    </tr>\n  </thead>\n  <tbody>\n    <tr>\n      <th>2021-01-21</th>\n      <td>005935</td>\n      <td>삼성전자우</td>\n      <td>KOSPI</td>\n      <td>NaN</td>\n      <td>77600</td>\n      <td>1</td>\n      <td>800</td>\n      <td>1.04</td>\n      <td>77500</td>\n      <td>77800</td>\n      <td>76800</td>\n      <td>2512634</td>\n      <td>194360911300</td>\n      <td>63856007920000</td>\n      <td>822886700</td>\n      <td>STK</td>\n      <td>4</td>\n    </tr>\n  </tbody>\n</table>\n</div>"
     },
     "execution_count": 26,
     "metadata": {},
     "output_type": "execute_result"
    }
   ],
   "source": [
    "# 삼성전자우\n",
    "df_005935 = marcap_data('2021-01-21', code='005935')\n",
    "df_005935 = df_005935.assign(Amount=df_005935['Amount'].astype('int64'),\n",
    "                             Marcap=df_005935['Marcap'].astype('int64'))\n",
    "df_005935"
   ],
   "metadata": {
    "collapsed": false,
    "pycharm": {
     "name": "#%%\n"
    }
   }
  },
  {
   "cell_type": "code",
   "execution_count": 27,
   "outputs": [
    {
     "data": {
      "text/plain": "822886700"
     },
     "execution_count": 27,
     "metadata": {},
     "output_type": "execute_result"
    }
   ],
   "source": [
    "df_005935['Stocks'].iat[0]"
   ],
   "metadata": {
    "collapsed": false,
    "pycharm": {
     "name": "#%%\n"
    }
   }
  },
  {
   "cell_type": "code",
   "execution_count": 28,
   "outputs": [
    {
     "data": {
      "text/plain": "822886700"
     },
     "execution_count": 28,
     "metadata": {},
     "output_type": "execute_result"
    }
   ],
   "source": [
    "stocks_005935 = int(df_005935['Marcap']/df_005935['Close'])\n",
    "stocks_005935"
   ],
   "metadata": {
    "collapsed": false,
    "pycharm": {
     "name": "#%%\n"
    }
   }
  },
  {
   "cell_type": "code",
   "execution_count": 29,
   "outputs": [
    {
     "data": {
      "text/plain": "6792669250"
     },
     "execution_count": 29,
     "metadata": {},
     "output_type": "execute_result"
    }
   ],
   "source": [
    "total_stocks = stocks_005930 + stocks_005935\n",
    "total_stocks"
   ],
   "metadata": {
    "collapsed": false,
    "pycharm": {
     "name": "#%%\n"
    }
   }
  },
  {
   "cell_type": "code",
   "execution_count": 30,
   "outputs": [
    {
     "name": "stdout",
     "output_type": "stream",
     "text": [
      "EPS: 5159, PER: 14.21\n"
     ]
    }
   ],
   "source": [
    "EPS = profit/total_stocks\n",
    "PER = df_005930['Close'].iat[0]/EPS\n",
    "print('EPS: {}, PER: {}'.format(int(round(EPS)), round(PER, 2)))"
   ],
   "metadata": {
    "collapsed": false,
    "pycharm": {
     "name": "#%%\n"
    }
   }
  },
  {
   "cell_type": "code",
   "execution_count": 31,
   "outputs": [
    {
     "name": "stdout",
     "output_type": "stream",
     "text": [
      "BPS: 43689, PBR: 1.68\n"
     ]
    }
   ],
   "source": [
    "BPS = equity/total_stocks\n",
    "PBR = df_005930['Close'].iat[0]/BPS\n",
    "print('BPS: {}, PBR: {}'.format(int(round(BPS)), round(PBR, 2)))"
   ],
   "metadata": {
    "collapsed": false,
    "pycharm": {
     "name": "#%%\n"
    }
   }
  },
  {
   "cell_type": "code",
   "execution_count": 32,
   "outputs": [
    {
     "name": "stdout",
     "output_type": "stream",
     "text": [
      "ROE: 11.81%, ROA: 8.54%\n"
     ]
    }
   ],
   "source": [
    "ROE = PBR/PER\n",
    "ROA = profit/assets\n",
    "print('ROE: {}%, ROA: {}%'.format(round(ROE*100, 2), round(ROA*100, 2)))"
   ],
   "metadata": {
    "collapsed": false,
    "pycharm": {
     "name": "#%%\n"
    }
   }
  },
  {
   "cell_type": "code",
   "execution_count": null,
   "outputs": [],
   "source": [],
   "metadata": {
    "collapsed": false,
    "pycharm": {
     "name": "#%%\n"
    }
   }
  }
 ],
 "metadata": {
  "kernelspec": {
   "display_name": "Python 3",
   "language": "python",
   "name": "python3"
  },
  "language_info": {
   "codemirror_mode": {
    "name": "ipython",
    "version": 2
   },
   "file_extension": ".py",
   "mimetype": "text/x-python",
   "name": "python",
   "nbconvert_exporter": "python",
   "pygments_lexer": "ipython2",
   "version": "2.7.6"
  }
 },
 "nbformat": 4,
 "nbformat_minor": 0
}