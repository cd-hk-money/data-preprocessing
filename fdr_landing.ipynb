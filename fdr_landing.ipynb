{
 "cells": [
  {
   "cell_type": "code",
   "execution_count": 2,
   "metadata": {
    "collapsed": true
   },
   "outputs": [],
   "source": [
    "import FinanceDataReader as fdr\n",
    "import pandas as pd"
   ]
  },
  {
   "cell_type": "markdown",
   "source": [
    "---\n",
    "\n",
    "# 지수\n",
    "\n"
   ],
   "metadata": {
    "collapsed": false
   }
  },
  {
   "cell_type": "code",
   "execution_count": 27,
   "outputs": [
    {
     "data": {
      "text/plain": "              Close     Open     High      Low    Volume  Change\nDate                                                            \n2022-02-17  2744.09  2735.11  2770.66  2711.99  602260.0  0.0053\n2022-02-18  2742.94  2714.52  2747.08  2711.88  402230.0 -0.0004",
      "text/html": "<div>\n<style scoped>\n    .dataframe tbody tr th:only-of-type {\n        vertical-align: middle;\n    }\n\n    .dataframe tbody tr th {\n        vertical-align: top;\n    }\n\n    .dataframe thead th {\n        text-align: right;\n    }\n</style>\n<table border=\"1\" class=\"dataframe\">\n  <thead>\n    <tr style=\"text-align: right;\">\n      <th></th>\n      <th>Close</th>\n      <th>Open</th>\n      <th>High</th>\n      <th>Low</th>\n      <th>Volume</th>\n      <th>Change</th>\n    </tr>\n    <tr>\n      <th>Date</th>\n      <th></th>\n      <th></th>\n      <th></th>\n      <th></th>\n      <th></th>\n      <th></th>\n    </tr>\n  </thead>\n  <tbody>\n    <tr>\n      <th>2022-02-17</th>\n      <td>2744.09</td>\n      <td>2735.11</td>\n      <td>2770.66</td>\n      <td>2711.99</td>\n      <td>602260.0</td>\n      <td>0.0053</td>\n    </tr>\n    <tr>\n      <th>2022-02-18</th>\n      <td>2742.94</td>\n      <td>2714.52</td>\n      <td>2747.08</td>\n      <td>2711.88</td>\n      <td>402230.0</td>\n      <td>-0.0004</td>\n    </tr>\n  </tbody>\n</table>\n</div>"
     },
     "execution_count": 27,
     "metadata": {},
     "output_type": "execute_result"
    }
   ],
   "source": [
    "# kospi 하루만\n",
    "df = fdr.DataReader('KS11', '2022-02-17')\n",
    "df"
   ],
   "metadata": {
    "collapsed": false,
    "pycharm": {
     "name": "#%%\n"
    }
   }
  },
  {
   "cell_type": "code",
   "execution_count": 28,
   "outputs": [
    {
     "data": {
      "text/plain": "DatetimeIndex(['2022-02-17', '2022-02-18'], dtype='datetime64[ns]', name='Date', freq=None)"
     },
     "execution_count": 28,
     "metadata": {},
     "output_type": "execute_result"
    }
   ],
   "source": [
    "df.index"
   ],
   "metadata": {
    "collapsed": false,
    "pycharm": {
     "name": "#%%\n"
    }
   }
  },
  {
   "cell_type": "code",
   "execution_count": 34,
   "outputs": [
    {
     "data": {
      "text/plain": "              Close     Open     High      Low    Volume  Change\nDate                                                            \n2022-02-18  2742.76  2714.52  2747.08  2711.88  403030.0 -0.0005",
      "text/html": "<div>\n<style scoped>\n    .dataframe tbody tr th:only-of-type {\n        vertical-align: middle;\n    }\n\n    .dataframe tbody tr th {\n        vertical-align: top;\n    }\n\n    .dataframe thead th {\n        text-align: right;\n    }\n</style>\n<table border=\"1\" class=\"dataframe\">\n  <thead>\n    <tr style=\"text-align: right;\">\n      <th></th>\n      <th>Close</th>\n      <th>Open</th>\n      <th>High</th>\n      <th>Low</th>\n      <th>Volume</th>\n      <th>Change</th>\n    </tr>\n    <tr>\n      <th>Date</th>\n      <th></th>\n      <th></th>\n      <th></th>\n      <th></th>\n      <th></th>\n      <th></th>\n    </tr>\n  </thead>\n  <tbody>\n    <tr>\n      <th>2022-02-18</th>\n      <td>2742.76</td>\n      <td>2714.52</td>\n      <td>2747.08</td>\n      <td>2711.88</td>\n      <td>403030.0</td>\n      <td>-0.0005</td>\n    </tr>\n  </tbody>\n</table>\n</div>"
     },
     "execution_count": 34,
     "metadata": {},
     "output_type": "execute_result"
    }
   ],
   "source": [
    "# kospi 하루만 가져오기\n",
    "df = fdr.DataReader('KS11', '2022-02-18')\n",
    "df.loc['2022-02']"
   ],
   "metadata": {
    "collapsed": false,
    "pycharm": {
     "name": "#%%\n"
    }
   }
  },
  {
   "cell_type": "code",
   "execution_count": 30,
   "outputs": [
    {
     "data": {
      "text/plain": "              Close     Open     High      Low       Volume  Change\nDate                                                               \n2022-02-16  2729.68  2719.61  2730.43  2711.34  422370000.0  0.0199\n2022-02-17  2744.09  2735.11  2770.66  2711.99     602260.0  0.0053\n2022-02-18  2742.94  2714.52  2747.08  2711.88     402230.0 -0.0004",
      "text/html": "<div>\n<style scoped>\n    .dataframe tbody tr th:only-of-type {\n        vertical-align: middle;\n    }\n\n    .dataframe tbody tr th {\n        vertical-align: top;\n    }\n\n    .dataframe thead th {\n        text-align: right;\n    }\n</style>\n<table border=\"1\" class=\"dataframe\">\n  <thead>\n    <tr style=\"text-align: right;\">\n      <th></th>\n      <th>Close</th>\n      <th>Open</th>\n      <th>High</th>\n      <th>Low</th>\n      <th>Volume</th>\n      <th>Change</th>\n    </tr>\n    <tr>\n      <th>Date</th>\n      <th></th>\n      <th></th>\n      <th></th>\n      <th></th>\n      <th></th>\n      <th></th>\n    </tr>\n  </thead>\n  <tbody>\n    <tr>\n      <th>2022-02-16</th>\n      <td>2729.68</td>\n      <td>2719.61</td>\n      <td>2730.43</td>\n      <td>2711.34</td>\n      <td>422370000.0</td>\n      <td>0.0199</td>\n    </tr>\n    <tr>\n      <th>2022-02-17</th>\n      <td>2744.09</td>\n      <td>2735.11</td>\n      <td>2770.66</td>\n      <td>2711.99</td>\n      <td>602260.0</td>\n      <td>0.0053</td>\n    </tr>\n    <tr>\n      <th>2022-02-18</th>\n      <td>2742.94</td>\n      <td>2714.52</td>\n      <td>2747.08</td>\n      <td>2711.88</td>\n      <td>402230.0</td>\n      <td>-0.0004</td>\n    </tr>\n  </tbody>\n</table>\n</div>"
     },
     "execution_count": 30,
     "metadata": {},
     "output_type": "execute_result"
    }
   ],
   "source": [
    "df = fdr.DataReader('KS11', '2022-02-16')\n",
    "df"
   ],
   "metadata": {
    "collapsed": false,
    "pycharm": {
     "name": "#%%\n"
    }
   }
  },
  {
   "cell_type": "code",
   "execution_count": 31,
   "outputs": [
    {
     "data": {
      "text/plain": "              Close     Open     High      Low       Volume  Change\nDate                                                               \n2022-02-16  2729.68  2719.61  2730.43  2711.34  422370000.0  0.0199\n2022-02-17  2744.09  2735.11  2770.66  2711.99     602260.0  0.0053\n2022-02-18  2742.94  2714.52  2747.08  2711.88     402230.0 -0.0004",
      "text/html": "<div>\n<style scoped>\n    .dataframe tbody tr th:only-of-type {\n        vertical-align: middle;\n    }\n\n    .dataframe tbody tr th {\n        vertical-align: top;\n    }\n\n    .dataframe thead th {\n        text-align: right;\n    }\n</style>\n<table border=\"1\" class=\"dataframe\">\n  <thead>\n    <tr style=\"text-align: right;\">\n      <th></th>\n      <th>Close</th>\n      <th>Open</th>\n      <th>High</th>\n      <th>Low</th>\n      <th>Volume</th>\n      <th>Change</th>\n    </tr>\n    <tr>\n      <th>Date</th>\n      <th></th>\n      <th></th>\n      <th></th>\n      <th></th>\n      <th></th>\n      <th></th>\n    </tr>\n  </thead>\n  <tbody>\n    <tr>\n      <th>2022-02-16</th>\n      <td>2729.68</td>\n      <td>2719.61</td>\n      <td>2730.43</td>\n      <td>2711.34</td>\n      <td>422370000.0</td>\n      <td>0.0199</td>\n    </tr>\n    <tr>\n      <th>2022-02-17</th>\n      <td>2744.09</td>\n      <td>2735.11</td>\n      <td>2770.66</td>\n      <td>2711.99</td>\n      <td>602260.0</td>\n      <td>0.0053</td>\n    </tr>\n    <tr>\n      <th>2022-02-18</th>\n      <td>2742.94</td>\n      <td>2714.52</td>\n      <td>2747.08</td>\n      <td>2711.88</td>\n      <td>402230.0</td>\n      <td>-0.0004</td>\n    </tr>\n  </tbody>\n</table>\n</div>"
     },
     "execution_count": 31,
     "metadata": {},
     "output_type": "execute_result"
    }
   ],
   "source": [
    "df.tail(10)"
   ],
   "metadata": {
    "collapsed": false,
    "pycharm": {
     "name": "#%%\n"
    }
   }
  },
  {
   "cell_type": "code",
   "execution_count": 35,
   "outputs": [
    {
     "data": {
      "text/plain": "             Close    Open    High     Low    Volume  Change\nDate                                                        \n2022-02-17  369.55  368.32  373.00  365.48  207760.0  0.0061\n2022-02-18  368.57  365.33  369.32  364.84  110840.0 -0.0027",
      "text/html": "<div>\n<style scoped>\n    .dataframe tbody tr th:only-of-type {\n        vertical-align: middle;\n    }\n\n    .dataframe tbody tr th {\n        vertical-align: top;\n    }\n\n    .dataframe thead th {\n        text-align: right;\n    }\n</style>\n<table border=\"1\" class=\"dataframe\">\n  <thead>\n    <tr style=\"text-align: right;\">\n      <th></th>\n      <th>Close</th>\n      <th>Open</th>\n      <th>High</th>\n      <th>Low</th>\n      <th>Volume</th>\n      <th>Change</th>\n    </tr>\n    <tr>\n      <th>Date</th>\n      <th></th>\n      <th></th>\n      <th></th>\n      <th></th>\n      <th></th>\n      <th></th>\n    </tr>\n  </thead>\n  <tbody>\n    <tr>\n      <th>2022-02-17</th>\n      <td>369.55</td>\n      <td>368.32</td>\n      <td>373.00</td>\n      <td>365.48</td>\n      <td>207760.0</td>\n      <td>0.0061</td>\n    </tr>\n    <tr>\n      <th>2022-02-18</th>\n      <td>368.57</td>\n      <td>365.33</td>\n      <td>369.32</td>\n      <td>364.84</td>\n      <td>110840.0</td>\n      <td>-0.0027</td>\n    </tr>\n  </tbody>\n</table>\n</div>"
     },
     "execution_count": 35,
     "metadata": {},
     "output_type": "execute_result"
    }
   ],
   "source": [
    "df = fdr.DataReader('KS200', '2022-02-17')\n",
    "df"
   ],
   "metadata": {
    "collapsed": false,
    "pycharm": {
     "name": "#%%\n"
    }
   }
  },
  {
   "cell_type": "code",
   "execution_count": 56,
   "outputs": [
    {
     "data": {
      "text/plain": "               Close      Open      High       Low       Volume  Change\nDate                                                                   \n2022-02-16  14124.09  14038.92  14163.73  13931.99  838990000.0 -0.0011\n2022-02-17  13716.72  14004.19  14020.82  13704.70  922820000.0 -0.0288",
      "text/html": "<div>\n<style scoped>\n    .dataframe tbody tr th:only-of-type {\n        vertical-align: middle;\n    }\n\n    .dataframe tbody tr th {\n        vertical-align: top;\n    }\n\n    .dataframe thead th {\n        text-align: right;\n    }\n</style>\n<table border=\"1\" class=\"dataframe\">\n  <thead>\n    <tr style=\"text-align: right;\">\n      <th></th>\n      <th>Close</th>\n      <th>Open</th>\n      <th>High</th>\n      <th>Low</th>\n      <th>Volume</th>\n      <th>Change</th>\n    </tr>\n    <tr>\n      <th>Date</th>\n      <th></th>\n      <th></th>\n      <th></th>\n      <th></th>\n      <th></th>\n      <th></th>\n    </tr>\n  </thead>\n  <tbody>\n    <tr>\n      <th>2022-02-16</th>\n      <td>14124.09</td>\n      <td>14038.92</td>\n      <td>14163.73</td>\n      <td>13931.99</td>\n      <td>838990000.0</td>\n      <td>-0.0011</td>\n    </tr>\n    <tr>\n      <th>2022-02-17</th>\n      <td>13716.72</td>\n      <td>14004.19</td>\n      <td>14020.82</td>\n      <td>13704.70</td>\n      <td>922820000.0</td>\n      <td>-0.0288</td>\n    </tr>\n  </tbody>\n</table>\n</div>"
     },
     "execution_count": 56,
     "metadata": {},
     "output_type": "execute_result"
    }
   ],
   "source": [
    "# 나스닥 지수\n",
    "nasdaq_idx = fdr.DataReader('IXIC', '2022-02-16')\n",
    "nasdaq_idx"
   ],
   "metadata": {
    "collapsed": false,
    "pycharm": {
     "name": "#%%\n"
    }
   }
  },
  {
   "cell_type": "code",
   "execution_count": 57,
   "outputs": [
    {
     "data": {
      "text/plain": "              Close     Open     High      Low  Volume  Change\nDate                                                          \n2022-02-16  4475.01  4455.75  4489.55  4429.68     0.0  0.0009\n2022-02-17  4380.26  4456.06  4456.06  4373.81     0.0 -0.0212",
      "text/html": "<div>\n<style scoped>\n    .dataframe tbody tr th:only-of-type {\n        vertical-align: middle;\n    }\n\n    .dataframe tbody tr th {\n        vertical-align: top;\n    }\n\n    .dataframe thead th {\n        text-align: right;\n    }\n</style>\n<table border=\"1\" class=\"dataframe\">\n  <thead>\n    <tr style=\"text-align: right;\">\n      <th></th>\n      <th>Close</th>\n      <th>Open</th>\n      <th>High</th>\n      <th>Low</th>\n      <th>Volume</th>\n      <th>Change</th>\n    </tr>\n    <tr>\n      <th>Date</th>\n      <th></th>\n      <th></th>\n      <th></th>\n      <th></th>\n      <th></th>\n      <th></th>\n    </tr>\n  </thead>\n  <tbody>\n    <tr>\n      <th>2022-02-16</th>\n      <td>4475.01</td>\n      <td>4455.75</td>\n      <td>4489.55</td>\n      <td>4429.68</td>\n      <td>0.0</td>\n      <td>0.0009</td>\n    </tr>\n    <tr>\n      <th>2022-02-17</th>\n      <td>4380.26</td>\n      <td>4456.06</td>\n      <td>4456.06</td>\n      <td>4373.81</td>\n      <td>0.0</td>\n      <td>-0.0212</td>\n    </tr>\n  </tbody>\n</table>\n</div>"
     },
     "execution_count": 57,
     "metadata": {},
     "output_type": "execute_result"
    }
   ],
   "source": [
    "# S&P500 지수\n",
    "snp500_idx = fdr.DataReader('US500', '2022-02-16')\n",
    "snp500_idx"
   ],
   "metadata": {
    "collapsed": false,
    "pycharm": {
     "name": "#%%\n"
    }
   }
  },
  {
   "cell_type": "markdown",
   "source": [
    "---\n",
    "\n",
    "\n",
    "# 환율\n",
    "\n"
   ],
   "metadata": {
    "collapsed": false
   }
  },
  {
   "cell_type": "code",
   "execution_count": 37,
   "outputs": [
    {
     "data": {
      "text/plain": "              Close     Open     High      Low  Change\nDate                                                  \n2022-01-03  1193.00  1189.80  1193.86  1187.55  0.0042\n2022-01-04  1197.49  1194.77  1199.49  1192.75  0.0038\n2022-01-05  1198.20  1197.54  1200.18  1195.91  0.0006\n2022-01-06  1204.95  1200.65  1207.11  1197.20  0.0056\n2022-01-07  1197.63  1205.03  1205.78  1197.32 -0.0061\n2022-01-10  1198.04  1198.20  1201.81  1195.95  0.0003\n2022-01-11  1192.31  1198.14  1198.60  1192.30 -0.0048\n2022-01-12  1185.87  1190.55  1193.20  1185.11 -0.0054\n2022-01-13  1186.11  1185.96  1189.94  1184.04  0.0002\n2022-01-14  1190.07  1186.77  1192.42  1185.67  0.0033\n2022-01-17  1189.99  1190.55  1194.13  1189.49 -0.0001\n2022-01-18  1192.69  1190.98  1194.33  1185.93  0.0023\n2022-01-19  1188.13  1193.03  1193.94  1186.66 -0.0038\n2022-01-20  1192.42  1188.21  1193.88  1187.19  0.0036\n2022-01-21  1192.51  1192.49  1195.05  1190.14  0.0001\n2022-01-24  1195.59  1193.30  1197.90  1192.49  0.0026\n2022-01-25  1196.35  1195.69  1199.93  1195.17  0.0006\n2022-01-26  1197.03  1196.35  1198.51  1194.29  0.0006\n2022-01-27  1203.77  1200.75  1205.79  1200.15  0.0056\n2022-01-28  1209.56  1203.82  1213.86  1203.65  0.0048\n2022-01-31  1204.63  1209.71  1212.92  1204.20 -0.0041\n2022-02-01  1202.31  1204.75  1208.01  1201.61 -0.0019\n2022-02-02  1199.46  1202.47  1204.41  1198.82 -0.0024\n2022-02-03  1199.47  1200.36  1207.19  1198.68  0.0000\n2022-02-04  1198.25  1200.65  1202.05  1196.81 -0.0010\n2022-02-07  1196.87  1199.00  1201.09  1196.72 -0.0012\n2022-02-08  1196.35  1196.92  1200.38  1196.21 -0.0004\n2022-02-09  1194.05  1196.40  1197.47  1193.02 -0.0019\n2022-02-10  1199.83  1194.17  1200.65  1193.42  0.0048\n2022-02-11  1199.48  1200.10  1201.87  1193.23 -0.0003\n2022-02-14  1197.32  1200.10  1200.17  1193.93 -0.0018\n2022-02-15  1196.76  1197.44  1200.59  1195.29 -0.0005\n2022-02-16  1196.53  1196.86  1199.57  1195.22 -0.0002\n2022-02-17  1198.63  1196.69  1200.06  1194.44  0.0018\n2022-02-18  1195.43  1198.81  1199.04  1195.06 -0.0027",
      "text/html": "<div>\n<style scoped>\n    .dataframe tbody tr th:only-of-type {\n        vertical-align: middle;\n    }\n\n    .dataframe tbody tr th {\n        vertical-align: top;\n    }\n\n    .dataframe thead th {\n        text-align: right;\n    }\n</style>\n<table border=\"1\" class=\"dataframe\">\n  <thead>\n    <tr style=\"text-align: right;\">\n      <th></th>\n      <th>Close</th>\n      <th>Open</th>\n      <th>High</th>\n      <th>Low</th>\n      <th>Change</th>\n    </tr>\n    <tr>\n      <th>Date</th>\n      <th></th>\n      <th></th>\n      <th></th>\n      <th></th>\n      <th></th>\n    </tr>\n  </thead>\n  <tbody>\n    <tr>\n      <th>2022-01-03</th>\n      <td>1193.00</td>\n      <td>1189.80</td>\n      <td>1193.86</td>\n      <td>1187.55</td>\n      <td>0.0042</td>\n    </tr>\n    <tr>\n      <th>2022-01-04</th>\n      <td>1197.49</td>\n      <td>1194.77</td>\n      <td>1199.49</td>\n      <td>1192.75</td>\n      <td>0.0038</td>\n    </tr>\n    <tr>\n      <th>2022-01-05</th>\n      <td>1198.20</td>\n      <td>1197.54</td>\n      <td>1200.18</td>\n      <td>1195.91</td>\n      <td>0.0006</td>\n    </tr>\n    <tr>\n      <th>2022-01-06</th>\n      <td>1204.95</td>\n      <td>1200.65</td>\n      <td>1207.11</td>\n      <td>1197.20</td>\n      <td>0.0056</td>\n    </tr>\n    <tr>\n      <th>2022-01-07</th>\n      <td>1197.63</td>\n      <td>1205.03</td>\n      <td>1205.78</td>\n      <td>1197.32</td>\n      <td>-0.0061</td>\n    </tr>\n    <tr>\n      <th>2022-01-10</th>\n      <td>1198.04</td>\n      <td>1198.20</td>\n      <td>1201.81</td>\n      <td>1195.95</td>\n      <td>0.0003</td>\n    </tr>\n    <tr>\n      <th>2022-01-11</th>\n      <td>1192.31</td>\n      <td>1198.14</td>\n      <td>1198.60</td>\n      <td>1192.30</td>\n      <td>-0.0048</td>\n    </tr>\n    <tr>\n      <th>2022-01-12</th>\n      <td>1185.87</td>\n      <td>1190.55</td>\n      <td>1193.20</td>\n      <td>1185.11</td>\n      <td>-0.0054</td>\n    </tr>\n    <tr>\n      <th>2022-01-13</th>\n      <td>1186.11</td>\n      <td>1185.96</td>\n      <td>1189.94</td>\n      <td>1184.04</td>\n      <td>0.0002</td>\n    </tr>\n    <tr>\n      <th>2022-01-14</th>\n      <td>1190.07</td>\n      <td>1186.77</td>\n      <td>1192.42</td>\n      <td>1185.67</td>\n      <td>0.0033</td>\n    </tr>\n    <tr>\n      <th>2022-01-17</th>\n      <td>1189.99</td>\n      <td>1190.55</td>\n      <td>1194.13</td>\n      <td>1189.49</td>\n      <td>-0.0001</td>\n    </tr>\n    <tr>\n      <th>2022-01-18</th>\n      <td>1192.69</td>\n      <td>1190.98</td>\n      <td>1194.33</td>\n      <td>1185.93</td>\n      <td>0.0023</td>\n    </tr>\n    <tr>\n      <th>2022-01-19</th>\n      <td>1188.13</td>\n      <td>1193.03</td>\n      <td>1193.94</td>\n      <td>1186.66</td>\n      <td>-0.0038</td>\n    </tr>\n    <tr>\n      <th>2022-01-20</th>\n      <td>1192.42</td>\n      <td>1188.21</td>\n      <td>1193.88</td>\n      <td>1187.19</td>\n      <td>0.0036</td>\n    </tr>\n    <tr>\n      <th>2022-01-21</th>\n      <td>1192.51</td>\n      <td>1192.49</td>\n      <td>1195.05</td>\n      <td>1190.14</td>\n      <td>0.0001</td>\n    </tr>\n    <tr>\n      <th>2022-01-24</th>\n      <td>1195.59</td>\n      <td>1193.30</td>\n      <td>1197.90</td>\n      <td>1192.49</td>\n      <td>0.0026</td>\n    </tr>\n    <tr>\n      <th>2022-01-25</th>\n      <td>1196.35</td>\n      <td>1195.69</td>\n      <td>1199.93</td>\n      <td>1195.17</td>\n      <td>0.0006</td>\n    </tr>\n    <tr>\n      <th>2022-01-26</th>\n      <td>1197.03</td>\n      <td>1196.35</td>\n      <td>1198.51</td>\n      <td>1194.29</td>\n      <td>0.0006</td>\n    </tr>\n    <tr>\n      <th>2022-01-27</th>\n      <td>1203.77</td>\n      <td>1200.75</td>\n      <td>1205.79</td>\n      <td>1200.15</td>\n      <td>0.0056</td>\n    </tr>\n    <tr>\n      <th>2022-01-28</th>\n      <td>1209.56</td>\n      <td>1203.82</td>\n      <td>1213.86</td>\n      <td>1203.65</td>\n      <td>0.0048</td>\n    </tr>\n    <tr>\n      <th>2022-01-31</th>\n      <td>1204.63</td>\n      <td>1209.71</td>\n      <td>1212.92</td>\n      <td>1204.20</td>\n      <td>-0.0041</td>\n    </tr>\n    <tr>\n      <th>2022-02-01</th>\n      <td>1202.31</td>\n      <td>1204.75</td>\n      <td>1208.01</td>\n      <td>1201.61</td>\n      <td>-0.0019</td>\n    </tr>\n    <tr>\n      <th>2022-02-02</th>\n      <td>1199.46</td>\n      <td>1202.47</td>\n      <td>1204.41</td>\n      <td>1198.82</td>\n      <td>-0.0024</td>\n    </tr>\n    <tr>\n      <th>2022-02-03</th>\n      <td>1199.47</td>\n      <td>1200.36</td>\n      <td>1207.19</td>\n      <td>1198.68</td>\n      <td>0.0000</td>\n    </tr>\n    <tr>\n      <th>2022-02-04</th>\n      <td>1198.25</td>\n      <td>1200.65</td>\n      <td>1202.05</td>\n      <td>1196.81</td>\n      <td>-0.0010</td>\n    </tr>\n    <tr>\n      <th>2022-02-07</th>\n      <td>1196.87</td>\n      <td>1199.00</td>\n      <td>1201.09</td>\n      <td>1196.72</td>\n      <td>-0.0012</td>\n    </tr>\n    <tr>\n      <th>2022-02-08</th>\n      <td>1196.35</td>\n      <td>1196.92</td>\n      <td>1200.38</td>\n      <td>1196.21</td>\n      <td>-0.0004</td>\n    </tr>\n    <tr>\n      <th>2022-02-09</th>\n      <td>1194.05</td>\n      <td>1196.40</td>\n      <td>1197.47</td>\n      <td>1193.02</td>\n      <td>-0.0019</td>\n    </tr>\n    <tr>\n      <th>2022-02-10</th>\n      <td>1199.83</td>\n      <td>1194.17</td>\n      <td>1200.65</td>\n      <td>1193.42</td>\n      <td>0.0048</td>\n    </tr>\n    <tr>\n      <th>2022-02-11</th>\n      <td>1199.48</td>\n      <td>1200.10</td>\n      <td>1201.87</td>\n      <td>1193.23</td>\n      <td>-0.0003</td>\n    </tr>\n    <tr>\n      <th>2022-02-14</th>\n      <td>1197.32</td>\n      <td>1200.10</td>\n      <td>1200.17</td>\n      <td>1193.93</td>\n      <td>-0.0018</td>\n    </tr>\n    <tr>\n      <th>2022-02-15</th>\n      <td>1196.76</td>\n      <td>1197.44</td>\n      <td>1200.59</td>\n      <td>1195.29</td>\n      <td>-0.0005</td>\n    </tr>\n    <tr>\n      <th>2022-02-16</th>\n      <td>1196.53</td>\n      <td>1196.86</td>\n      <td>1199.57</td>\n      <td>1195.22</td>\n      <td>-0.0002</td>\n    </tr>\n    <tr>\n      <th>2022-02-17</th>\n      <td>1198.63</td>\n      <td>1196.69</td>\n      <td>1200.06</td>\n      <td>1194.44</td>\n      <td>0.0018</td>\n    </tr>\n    <tr>\n      <th>2022-02-18</th>\n      <td>1195.43</td>\n      <td>1198.81</td>\n      <td>1199.04</td>\n      <td>1195.06</td>\n      <td>-0.0027</td>\n    </tr>\n  </tbody>\n</table>\n</div>"
     },
     "execution_count": 37,
     "metadata": {},
     "output_type": "execute_result"
    }
   ],
   "source": [
    "# 환율 krw/usd\n",
    "df = fdr.DataReader('USD/KRW', '2022')\n",
    "df"
   ],
   "metadata": {
    "collapsed": false,
    "pycharm": {
     "name": "#%%\n"
    }
   }
  },
  {
   "cell_type": "code",
   "execution_count": 45,
   "outputs": [
    {
     "data": {
      "text/plain": "              Close     Open     High      Low  Change\nDate                                                  \n2022-01-03  10.3433  10.3294  10.3808  10.3021  0.0022\n2022-01-04  10.3081  10.3481  10.3675  10.2852 -0.0034\n2022-01-05  10.3177  10.3098  10.3547  10.2991  0.0009\n2022-01-06  10.4009  10.3288  10.4336  10.3203  0.0081\n2022-01-07  10.3619  10.4029  10.4137  10.3573 -0.0037\n2022-01-10  10.3969  10.3574  10.4323  10.3323  0.0034\n2022-01-11  10.3409  10.3991  10.4066  10.3173 -0.0054\n2022-01-12  10.3443  10.3431  10.3700  10.2992  0.0003\n2022-01-13  10.3853  10.3455  10.4186  10.3361  0.0040\n2022-01-14  10.4182  10.3934  10.4824  10.3889  0.0032\n2022-01-17  10.3802  10.4213  10.4401  10.3823 -0.0036\n2022-01-18  10.4056  10.3893  10.4235  10.3340  0.0024\n2022-01-19  10.3903  10.4090  10.4416  10.3681 -0.0015\n2022-01-20  10.4488  10.3924  10.4594  10.3812  0.0056\n2022-01-21  10.4873  10.4508  10.5133  10.4431  0.0037\n2022-01-24  10.4922  10.4927  10.5490  10.4722  0.0005\n2022-01-25  10.5044  10.4944  10.5531  10.4810  0.0012\n2022-01-26  10.4398  10.5044  10.5288  10.4278 -0.0061\n2022-01-27  10.4322  10.4455  10.5097  10.4137 -0.0007\n2022-01-28  10.4933  10.4349  10.5331  10.4271  0.0059\n2022-01-31  10.4632  10.4982  10.5041  10.4481 -0.0029\n2022-02-01  10.4786  10.4647  10.5149  10.4558  0.0015\n2022-02-02  10.4784  10.4813  10.5308  10.4746 -0.0000\n2022-02-03  10.4302  10.4876  10.5493  10.4306 -0.0046\n2022-02-04  10.3988  10.4431  10.4650  10.3932 -0.0030\n2022-02-07  10.3940  10.4004  10.4413  10.3867 -0.0005\n2022-02-08  10.3526  10.3994  10.4107  10.3470 -0.0040\n2022-02-09  10.3363  10.3539  10.3721  10.3263 -0.0016\n2022-02-10  10.3407  10.3387  10.3687  10.2933  0.0004\n2022-02-11  10.3905  10.3425  10.4277  10.2912  0.0048\n2022-02-14  10.3610  10.4080  10.4166  10.3360 -0.0028\n2022-02-15  10.3481  10.3635  10.4101  10.3306 -0.0012\n2022-02-16  10.3623  10.3504  10.3944  10.3274  0.0014\n2022-02-17  10.4283  10.3641  10.4376  10.3454  0.0064\n2022-02-18  10.3791  10.4317  10.4438  10.3751 -0.0047",
      "text/html": "<div>\n<style scoped>\n    .dataframe tbody tr th:only-of-type {\n        vertical-align: middle;\n    }\n\n    .dataframe tbody tr th {\n        vertical-align: top;\n    }\n\n    .dataframe thead th {\n        text-align: right;\n    }\n</style>\n<table border=\"1\" class=\"dataframe\">\n  <thead>\n    <tr style=\"text-align: right;\">\n      <th></th>\n      <th>Close</th>\n      <th>Open</th>\n      <th>High</th>\n      <th>Low</th>\n      <th>Change</th>\n    </tr>\n    <tr>\n      <th>Date</th>\n      <th></th>\n      <th></th>\n      <th></th>\n      <th></th>\n      <th></th>\n    </tr>\n  </thead>\n  <tbody>\n    <tr>\n      <th>2022-01-03</th>\n      <td>10.3433</td>\n      <td>10.3294</td>\n      <td>10.3808</td>\n      <td>10.3021</td>\n      <td>0.0022</td>\n    </tr>\n    <tr>\n      <th>2022-01-04</th>\n      <td>10.3081</td>\n      <td>10.3481</td>\n      <td>10.3675</td>\n      <td>10.2852</td>\n      <td>-0.0034</td>\n    </tr>\n    <tr>\n      <th>2022-01-05</th>\n      <td>10.3177</td>\n      <td>10.3098</td>\n      <td>10.3547</td>\n      <td>10.2991</td>\n      <td>0.0009</td>\n    </tr>\n    <tr>\n      <th>2022-01-06</th>\n      <td>10.4009</td>\n      <td>10.3288</td>\n      <td>10.4336</td>\n      <td>10.3203</td>\n      <td>0.0081</td>\n    </tr>\n    <tr>\n      <th>2022-01-07</th>\n      <td>10.3619</td>\n      <td>10.4029</td>\n      <td>10.4137</td>\n      <td>10.3573</td>\n      <td>-0.0037</td>\n    </tr>\n    <tr>\n      <th>2022-01-10</th>\n      <td>10.3969</td>\n      <td>10.3574</td>\n      <td>10.4323</td>\n      <td>10.3323</td>\n      <td>0.0034</td>\n    </tr>\n    <tr>\n      <th>2022-01-11</th>\n      <td>10.3409</td>\n      <td>10.3991</td>\n      <td>10.4066</td>\n      <td>10.3173</td>\n      <td>-0.0054</td>\n    </tr>\n    <tr>\n      <th>2022-01-12</th>\n      <td>10.3443</td>\n      <td>10.3431</td>\n      <td>10.3700</td>\n      <td>10.2992</td>\n      <td>0.0003</td>\n    </tr>\n    <tr>\n      <th>2022-01-13</th>\n      <td>10.3853</td>\n      <td>10.3455</td>\n      <td>10.4186</td>\n      <td>10.3361</td>\n      <td>0.0040</td>\n    </tr>\n    <tr>\n      <th>2022-01-14</th>\n      <td>10.4182</td>\n      <td>10.3934</td>\n      <td>10.4824</td>\n      <td>10.3889</td>\n      <td>0.0032</td>\n    </tr>\n    <tr>\n      <th>2022-01-17</th>\n      <td>10.3802</td>\n      <td>10.4213</td>\n      <td>10.4401</td>\n      <td>10.3823</td>\n      <td>-0.0036</td>\n    </tr>\n    <tr>\n      <th>2022-01-18</th>\n      <td>10.4056</td>\n      <td>10.3893</td>\n      <td>10.4235</td>\n      <td>10.3340</td>\n      <td>0.0024</td>\n    </tr>\n    <tr>\n      <th>2022-01-19</th>\n      <td>10.3903</td>\n      <td>10.4090</td>\n      <td>10.4416</td>\n      <td>10.3681</td>\n      <td>-0.0015</td>\n    </tr>\n    <tr>\n      <th>2022-01-20</th>\n      <td>10.4488</td>\n      <td>10.3924</td>\n      <td>10.4594</td>\n      <td>10.3812</td>\n      <td>0.0056</td>\n    </tr>\n    <tr>\n      <th>2022-01-21</th>\n      <td>10.4873</td>\n      <td>10.4508</td>\n      <td>10.5133</td>\n      <td>10.4431</td>\n      <td>0.0037</td>\n    </tr>\n    <tr>\n      <th>2022-01-24</th>\n      <td>10.4922</td>\n      <td>10.4927</td>\n      <td>10.5490</td>\n      <td>10.4722</td>\n      <td>0.0005</td>\n    </tr>\n    <tr>\n      <th>2022-01-25</th>\n      <td>10.5044</td>\n      <td>10.4944</td>\n      <td>10.5531</td>\n      <td>10.4810</td>\n      <td>0.0012</td>\n    </tr>\n    <tr>\n      <th>2022-01-26</th>\n      <td>10.4398</td>\n      <td>10.5044</td>\n      <td>10.5288</td>\n      <td>10.4278</td>\n      <td>-0.0061</td>\n    </tr>\n    <tr>\n      <th>2022-01-27</th>\n      <td>10.4322</td>\n      <td>10.4455</td>\n      <td>10.5097</td>\n      <td>10.4137</td>\n      <td>-0.0007</td>\n    </tr>\n    <tr>\n      <th>2022-01-28</th>\n      <td>10.4933</td>\n      <td>10.4349</td>\n      <td>10.5331</td>\n      <td>10.4271</td>\n      <td>0.0059</td>\n    </tr>\n    <tr>\n      <th>2022-01-31</th>\n      <td>10.4632</td>\n      <td>10.4982</td>\n      <td>10.5041</td>\n      <td>10.4481</td>\n      <td>-0.0029</td>\n    </tr>\n    <tr>\n      <th>2022-02-01</th>\n      <td>10.4786</td>\n      <td>10.4647</td>\n      <td>10.5149</td>\n      <td>10.4558</td>\n      <td>0.0015</td>\n    </tr>\n    <tr>\n      <th>2022-02-02</th>\n      <td>10.4784</td>\n      <td>10.4813</td>\n      <td>10.5308</td>\n      <td>10.4746</td>\n      <td>-0.0000</td>\n    </tr>\n    <tr>\n      <th>2022-02-03</th>\n      <td>10.4302</td>\n      <td>10.4876</td>\n      <td>10.5493</td>\n      <td>10.4306</td>\n      <td>-0.0046</td>\n    </tr>\n    <tr>\n      <th>2022-02-04</th>\n      <td>10.3988</td>\n      <td>10.4431</td>\n      <td>10.4650</td>\n      <td>10.3932</td>\n      <td>-0.0030</td>\n    </tr>\n    <tr>\n      <th>2022-02-07</th>\n      <td>10.3940</td>\n      <td>10.4004</td>\n      <td>10.4413</td>\n      <td>10.3867</td>\n      <td>-0.0005</td>\n    </tr>\n    <tr>\n      <th>2022-02-08</th>\n      <td>10.3526</td>\n      <td>10.3994</td>\n      <td>10.4107</td>\n      <td>10.3470</td>\n      <td>-0.0040</td>\n    </tr>\n    <tr>\n      <th>2022-02-09</th>\n      <td>10.3363</td>\n      <td>10.3539</td>\n      <td>10.3721</td>\n      <td>10.3263</td>\n      <td>-0.0016</td>\n    </tr>\n    <tr>\n      <th>2022-02-10</th>\n      <td>10.3407</td>\n      <td>10.3387</td>\n      <td>10.3687</td>\n      <td>10.2933</td>\n      <td>0.0004</td>\n    </tr>\n    <tr>\n      <th>2022-02-11</th>\n      <td>10.3905</td>\n      <td>10.3425</td>\n      <td>10.4277</td>\n      <td>10.2912</td>\n      <td>0.0048</td>\n    </tr>\n    <tr>\n      <th>2022-02-14</th>\n      <td>10.3610</td>\n      <td>10.4080</td>\n      <td>10.4166</td>\n      <td>10.3360</td>\n      <td>-0.0028</td>\n    </tr>\n    <tr>\n      <th>2022-02-15</th>\n      <td>10.3481</td>\n      <td>10.3635</td>\n      <td>10.4101</td>\n      <td>10.3306</td>\n      <td>-0.0012</td>\n    </tr>\n    <tr>\n      <th>2022-02-16</th>\n      <td>10.3623</td>\n      <td>10.3504</td>\n      <td>10.3944</td>\n      <td>10.3274</td>\n      <td>0.0014</td>\n    </tr>\n    <tr>\n      <th>2022-02-17</th>\n      <td>10.4283</td>\n      <td>10.3641</td>\n      <td>10.4376</td>\n      <td>10.3454</td>\n      <td>0.0064</td>\n    </tr>\n    <tr>\n      <th>2022-02-18</th>\n      <td>10.3791</td>\n      <td>10.4317</td>\n      <td>10.4438</td>\n      <td>10.3751</td>\n      <td>-0.0047</td>\n    </tr>\n  </tbody>\n</table>\n</div>"
     },
     "execution_count": 45,
     "metadata": {},
     "output_type": "execute_result"
    }
   ],
   "source": [
    "# 환율 krw/jpy\n",
    "df = fdr.DataReader('JPY/KRW', '2022')\n",
    "df"
   ],
   "metadata": {
    "collapsed": false,
    "pycharm": {
     "name": "#%%\n"
    }
   }
  },
  {
   "cell_type": "code",
   "execution_count": 41,
   "outputs": [
    {
     "data": {
      "text/plain": "               Close      Open      High       Low  Change\nDate                                                      \n2022-01-02  0.000740  0.000740  0.000740  0.000739  0.0000\n2022-01-03  0.000742  0.000740  0.000743  0.000737  0.0026\n2022-01-04  0.000740  0.000741  0.000742  0.000738 -0.0027\n2022-01-05  0.000737  0.000740  0.000741  0.000736 -0.0041\n2022-01-06  0.000734  0.000737  0.000738  0.000733 -0.0034\n2022-01-07  0.000735  0.000734  0.000737  0.000732  0.0007\n2022-01-09  0.000735  0.000735  0.000736  0.000735  0.0013\n2022-01-10  0.000737  0.000735  0.000739  0.000733  0.0017\n2022-01-11  0.000740  0.000737  0.000740  0.000737  0.0039\n2022-01-12  0.000737  0.000740  0.000740  0.000736 -0.0035\n2022-01-13  0.000735  0.000737  0.000737  0.000735 -0.0021\n2022-01-14  0.000736  0.000735  0.000737  0.000733  0.0014\n2022-01-16  0.000736  0.000736  0.000737  0.000736  0.0000\n2022-01-17  0.000736  0.000736  0.000737  0.000733  0.0000\n2022-01-18  0.000740  0.000736  0.000741  0.000736  0.0058\n2022-01-19  0.000742  0.000740  0.000743  0.000739  0.0017\n2022-01-20  0.000741  0.000742  0.000743  0.000739  0.0000\n2022-01-21  0.000739  0.000741  0.000742  0.000738 -0.0028\n2022-01-23  0.000739  0.000739  0.000740  0.000739  0.0000\n2022-01-24  0.000738  0.000739  0.000740  0.000736 -0.0013\n2022-01-25  0.000739  0.000739  0.000741  0.000737  0.0014\n2022-01-26  0.000741  0.000739  0.000743  0.000738  0.0017\n2022-01-27  0.000746  0.000741  0.000747  0.000739  0.0065\n2022-01-28  0.000742  0.000746  0.000746  0.000739 -0.0054\n2022-01-30  0.000741  0.000742  0.000742  0.000741  0.0000\n2022-01-31  0.000738  0.000741  0.000742  0.000737 -0.0043\n2022-02-01  0.000738  0.000738  0.000739  0.000737 -0.0008\n2022-02-02  0.000737  0.000738  0.000738  0.000735 -0.0007\n2022-02-03  0.000728  0.000737  0.000737  0.000727 -0.0131\n2022-02-04  0.000729  0.000728  0.000730  0.000726  0.0014\n2022-02-06  0.000729  0.000728  0.000729  0.000728  0.0000\n2022-02-07  0.000730  0.000729  0.000731  0.000728  0.0025\n2022-02-08  0.000732  0.000730  0.000733  0.000729  0.0023\n2022-02-09  0.000733  0.000732  0.000733  0.000731  0.0014\n2022-02-10  0.000730  0.000733  0.000733  0.000727 -0.0036\n2022-02-11  0.000734  0.000731  0.000736  0.000729  0.0054\n2022-02-13  0.000734  0.000734  0.000734  0.000734  0.0000\n2022-02-14  0.000739  0.000734  0.000740  0.000733  0.0060\n2022-02-15  0.000736  0.000739  0.000739  0.000735 -0.0042\n2022-02-16  0.000735  0.000736  0.000737  0.000733 -0.0013\n2022-02-17  0.000734  0.000735  0.000736  0.000733 -0.0008\n2022-02-18  0.000736  0.000734  0.000736  0.000734  0.0021",
      "text/html": "<div>\n<style scoped>\n    .dataframe tbody tr th:only-of-type {\n        vertical-align: middle;\n    }\n\n    .dataframe tbody tr th {\n        vertical-align: top;\n    }\n\n    .dataframe thead th {\n        text-align: right;\n    }\n</style>\n<table border=\"1\" class=\"dataframe\">\n  <thead>\n    <tr style=\"text-align: right;\">\n      <th></th>\n      <th>Close</th>\n      <th>Open</th>\n      <th>High</th>\n      <th>Low</th>\n      <th>Change</th>\n    </tr>\n    <tr>\n      <th>Date</th>\n      <th></th>\n      <th></th>\n      <th></th>\n      <th></th>\n      <th></th>\n    </tr>\n  </thead>\n  <tbody>\n    <tr>\n      <th>2022-01-02</th>\n      <td>0.000740</td>\n      <td>0.000740</td>\n      <td>0.000740</td>\n      <td>0.000739</td>\n      <td>0.0000</td>\n    </tr>\n    <tr>\n      <th>2022-01-03</th>\n      <td>0.000742</td>\n      <td>0.000740</td>\n      <td>0.000743</td>\n      <td>0.000737</td>\n      <td>0.0026</td>\n    </tr>\n    <tr>\n      <th>2022-01-04</th>\n      <td>0.000740</td>\n      <td>0.000741</td>\n      <td>0.000742</td>\n      <td>0.000738</td>\n      <td>-0.0027</td>\n    </tr>\n    <tr>\n      <th>2022-01-05</th>\n      <td>0.000737</td>\n      <td>0.000740</td>\n      <td>0.000741</td>\n      <td>0.000736</td>\n      <td>-0.0041</td>\n    </tr>\n    <tr>\n      <th>2022-01-06</th>\n      <td>0.000734</td>\n      <td>0.000737</td>\n      <td>0.000738</td>\n      <td>0.000733</td>\n      <td>-0.0034</td>\n    </tr>\n    <tr>\n      <th>2022-01-07</th>\n      <td>0.000735</td>\n      <td>0.000734</td>\n      <td>0.000737</td>\n      <td>0.000732</td>\n      <td>0.0007</td>\n    </tr>\n    <tr>\n      <th>2022-01-09</th>\n      <td>0.000735</td>\n      <td>0.000735</td>\n      <td>0.000736</td>\n      <td>0.000735</td>\n      <td>0.0013</td>\n    </tr>\n    <tr>\n      <th>2022-01-10</th>\n      <td>0.000737</td>\n      <td>0.000735</td>\n      <td>0.000739</td>\n      <td>0.000733</td>\n      <td>0.0017</td>\n    </tr>\n    <tr>\n      <th>2022-01-11</th>\n      <td>0.000740</td>\n      <td>0.000737</td>\n      <td>0.000740</td>\n      <td>0.000737</td>\n      <td>0.0039</td>\n    </tr>\n    <tr>\n      <th>2022-01-12</th>\n      <td>0.000737</td>\n      <td>0.000740</td>\n      <td>0.000740</td>\n      <td>0.000736</td>\n      <td>-0.0035</td>\n    </tr>\n    <tr>\n      <th>2022-01-13</th>\n      <td>0.000735</td>\n      <td>0.000737</td>\n      <td>0.000737</td>\n      <td>0.000735</td>\n      <td>-0.0021</td>\n    </tr>\n    <tr>\n      <th>2022-01-14</th>\n      <td>0.000736</td>\n      <td>0.000735</td>\n      <td>0.000737</td>\n      <td>0.000733</td>\n      <td>0.0014</td>\n    </tr>\n    <tr>\n      <th>2022-01-16</th>\n      <td>0.000736</td>\n      <td>0.000736</td>\n      <td>0.000737</td>\n      <td>0.000736</td>\n      <td>0.0000</td>\n    </tr>\n    <tr>\n      <th>2022-01-17</th>\n      <td>0.000736</td>\n      <td>0.000736</td>\n      <td>0.000737</td>\n      <td>0.000733</td>\n      <td>0.0000</td>\n    </tr>\n    <tr>\n      <th>2022-01-18</th>\n      <td>0.000740</td>\n      <td>0.000736</td>\n      <td>0.000741</td>\n      <td>0.000736</td>\n      <td>0.0058</td>\n    </tr>\n    <tr>\n      <th>2022-01-19</th>\n      <td>0.000742</td>\n      <td>0.000740</td>\n      <td>0.000743</td>\n      <td>0.000739</td>\n      <td>0.0017</td>\n    </tr>\n    <tr>\n      <th>2022-01-20</th>\n      <td>0.000741</td>\n      <td>0.000742</td>\n      <td>0.000743</td>\n      <td>0.000739</td>\n      <td>0.0000</td>\n    </tr>\n    <tr>\n      <th>2022-01-21</th>\n      <td>0.000739</td>\n      <td>0.000741</td>\n      <td>0.000742</td>\n      <td>0.000738</td>\n      <td>-0.0028</td>\n    </tr>\n    <tr>\n      <th>2022-01-23</th>\n      <td>0.000739</td>\n      <td>0.000739</td>\n      <td>0.000740</td>\n      <td>0.000739</td>\n      <td>0.0000</td>\n    </tr>\n    <tr>\n      <th>2022-01-24</th>\n      <td>0.000738</td>\n      <td>0.000739</td>\n      <td>0.000740</td>\n      <td>0.000736</td>\n      <td>-0.0013</td>\n    </tr>\n    <tr>\n      <th>2022-01-25</th>\n      <td>0.000739</td>\n      <td>0.000739</td>\n      <td>0.000741</td>\n      <td>0.000737</td>\n      <td>0.0014</td>\n    </tr>\n    <tr>\n      <th>2022-01-26</th>\n      <td>0.000741</td>\n      <td>0.000739</td>\n      <td>0.000743</td>\n      <td>0.000738</td>\n      <td>0.0017</td>\n    </tr>\n    <tr>\n      <th>2022-01-27</th>\n      <td>0.000746</td>\n      <td>0.000741</td>\n      <td>0.000747</td>\n      <td>0.000739</td>\n      <td>0.0065</td>\n    </tr>\n    <tr>\n      <th>2022-01-28</th>\n      <td>0.000742</td>\n      <td>0.000746</td>\n      <td>0.000746</td>\n      <td>0.000739</td>\n      <td>-0.0054</td>\n    </tr>\n    <tr>\n      <th>2022-01-30</th>\n      <td>0.000741</td>\n      <td>0.000742</td>\n      <td>0.000742</td>\n      <td>0.000741</td>\n      <td>0.0000</td>\n    </tr>\n    <tr>\n      <th>2022-01-31</th>\n      <td>0.000738</td>\n      <td>0.000741</td>\n      <td>0.000742</td>\n      <td>0.000737</td>\n      <td>-0.0043</td>\n    </tr>\n    <tr>\n      <th>2022-02-01</th>\n      <td>0.000738</td>\n      <td>0.000738</td>\n      <td>0.000739</td>\n      <td>0.000737</td>\n      <td>-0.0008</td>\n    </tr>\n    <tr>\n      <th>2022-02-02</th>\n      <td>0.000737</td>\n      <td>0.000738</td>\n      <td>0.000738</td>\n      <td>0.000735</td>\n      <td>-0.0007</td>\n    </tr>\n    <tr>\n      <th>2022-02-03</th>\n      <td>0.000728</td>\n      <td>0.000737</td>\n      <td>0.000737</td>\n      <td>0.000727</td>\n      <td>-0.0131</td>\n    </tr>\n    <tr>\n      <th>2022-02-04</th>\n      <td>0.000729</td>\n      <td>0.000728</td>\n      <td>0.000730</td>\n      <td>0.000726</td>\n      <td>0.0014</td>\n    </tr>\n    <tr>\n      <th>2022-02-06</th>\n      <td>0.000729</td>\n      <td>0.000728</td>\n      <td>0.000729</td>\n      <td>0.000728</td>\n      <td>0.0000</td>\n    </tr>\n    <tr>\n      <th>2022-02-07</th>\n      <td>0.000730</td>\n      <td>0.000729</td>\n      <td>0.000731</td>\n      <td>0.000728</td>\n      <td>0.0025</td>\n    </tr>\n    <tr>\n      <th>2022-02-08</th>\n      <td>0.000732</td>\n      <td>0.000730</td>\n      <td>0.000733</td>\n      <td>0.000729</td>\n      <td>0.0023</td>\n    </tr>\n    <tr>\n      <th>2022-02-09</th>\n      <td>0.000733</td>\n      <td>0.000732</td>\n      <td>0.000733</td>\n      <td>0.000731</td>\n      <td>0.0014</td>\n    </tr>\n    <tr>\n      <th>2022-02-10</th>\n      <td>0.000730</td>\n      <td>0.000733</td>\n      <td>0.000733</td>\n      <td>0.000727</td>\n      <td>-0.0036</td>\n    </tr>\n    <tr>\n      <th>2022-02-11</th>\n      <td>0.000734</td>\n      <td>0.000731</td>\n      <td>0.000736</td>\n      <td>0.000729</td>\n      <td>0.0054</td>\n    </tr>\n    <tr>\n      <th>2022-02-13</th>\n      <td>0.000734</td>\n      <td>0.000734</td>\n      <td>0.000734</td>\n      <td>0.000734</td>\n      <td>0.0000</td>\n    </tr>\n    <tr>\n      <th>2022-02-14</th>\n      <td>0.000739</td>\n      <td>0.000734</td>\n      <td>0.000740</td>\n      <td>0.000733</td>\n      <td>0.0060</td>\n    </tr>\n    <tr>\n      <th>2022-02-15</th>\n      <td>0.000736</td>\n      <td>0.000739</td>\n      <td>0.000739</td>\n      <td>0.000735</td>\n      <td>-0.0042</td>\n    </tr>\n    <tr>\n      <th>2022-02-16</th>\n      <td>0.000735</td>\n      <td>0.000736</td>\n      <td>0.000737</td>\n      <td>0.000733</td>\n      <td>-0.0013</td>\n    </tr>\n    <tr>\n      <th>2022-02-17</th>\n      <td>0.000734</td>\n      <td>0.000735</td>\n      <td>0.000736</td>\n      <td>0.000733</td>\n      <td>-0.0008</td>\n    </tr>\n    <tr>\n      <th>2022-02-18</th>\n      <td>0.000736</td>\n      <td>0.000734</td>\n      <td>0.000736</td>\n      <td>0.000734</td>\n      <td>0.0021</td>\n    </tr>\n  </tbody>\n</table>\n</div>"
     },
     "execution_count": 41,
     "metadata": {},
     "output_type": "execute_result"
    }
   ],
   "source": [
    "# 환율 KRW/EUR\n",
    "df = fdr.DataReader('KRW/EUR', '2022')\n",
    "df"
   ],
   "metadata": {
    "collapsed": false,
    "pycharm": {
     "name": "#%%\n"
    }
   }
  },
  {
   "cell_type": "code",
   "execution_count": 42,
   "outputs": [
    {
     "data": {
      "text/plain": "             Close    Open    High     Low  Change\nDate                                              \n2022-01-03  187.58  187.12  187.83  186.84  0.0043\n2022-01-04  187.90  188.00  188.18  187.13  0.0017\n2022-01-05  188.26  187.92  188.46  187.76  0.0019\n2022-01-06  188.75  188.65  189.35  187.90  0.0026\n2022-01-07  187.75  188.79  189.13  187.73 -0.0053\n2022-01-10  187.87  187.87  188.54  187.60  0.0006\n2022-01-11  187.04  187.90  187.98  187.03 -0.0044\n2022-01-12  186.49  186.77  187.49  186.38 -0.0029\n2022-01-13  186.49  186.51  187.13  186.12  0.0000\n2022-01-14  187.32  186.60  187.70  186.47  0.0045\n2022-01-17  187.42  187.41  188.16  187.24  0.0005\n2022-01-18  187.72  187.59  188.02  187.01  0.0016\n2022-01-19  187.25  187.79  187.96  187.01 -0.0025\n2022-01-20  188.03  187.27  188.27  187.10  0.0042\n2022-01-21  188.11  188.05  188.51  187.74  0.0004\n2022-01-24  188.84  188.24  189.34  188.17  0.0039\n2022-01-25  189.10  188.87  189.62  188.79  0.0014\n2022-01-26  189.37  189.11  189.63  188.90  0.0014\n2022-01-27  188.91  189.96  190.42  188.85 -0.0024\n2022-01-28  190.14  189.04  190.86  189.01  0.0065\n2022-01-31  189.36  190.18  190.68  189.31 -0.0041\n2022-02-01  189.00  189.40  189.91  188.90 -0.0019\n2022-02-02  188.55  189.04  189.34  188.46 -0.0024\n2022-02-03  188.55  188.71  189.78  188.45  0.0000\n2022-02-04  188.36  188.75  188.97  188.15 -0.0010\n2022-02-07  188.00  189.34  189.46  188.10 -0.0019\n2022-02-08  187.90  188.13  188.57  187.90 -0.0005\n2022-02-09  187.64  187.92  188.15  187.49 -0.0014\n2022-02-10  188.78  187.68  188.96  187.59  0.0061\n2022-02-11  188.74  188.87  189.15  187.72 -0.0002\n2022-02-14  188.30  188.80  188.86  187.71 -0.0023\n2022-02-15  188.77  188.35  189.08  188.16  0.0025\n2022-02-16  188.69  188.80  189.29  188.54 -0.0004\n2022-02-17  189.10  188.84  189.38  188.59  0.0022\n2022-02-18  188.72  189.17  189.20  188.66 -0.0020",
      "text/html": "<div>\n<style scoped>\n    .dataframe tbody tr th:only-of-type {\n        vertical-align: middle;\n    }\n\n    .dataframe tbody tr th {\n        vertical-align: top;\n    }\n\n    .dataframe thead th {\n        text-align: right;\n    }\n</style>\n<table border=\"1\" class=\"dataframe\">\n  <thead>\n    <tr style=\"text-align: right;\">\n      <th></th>\n      <th>Close</th>\n      <th>Open</th>\n      <th>High</th>\n      <th>Low</th>\n      <th>Change</th>\n    </tr>\n    <tr>\n      <th>Date</th>\n      <th></th>\n      <th></th>\n      <th></th>\n      <th></th>\n      <th></th>\n    </tr>\n  </thead>\n  <tbody>\n    <tr>\n      <th>2022-01-03</th>\n      <td>187.58</td>\n      <td>187.12</td>\n      <td>187.83</td>\n      <td>186.84</td>\n      <td>0.0043</td>\n    </tr>\n    <tr>\n      <th>2022-01-04</th>\n      <td>187.90</td>\n      <td>188.00</td>\n      <td>188.18</td>\n      <td>187.13</td>\n      <td>0.0017</td>\n    </tr>\n    <tr>\n      <th>2022-01-05</th>\n      <td>188.26</td>\n      <td>187.92</td>\n      <td>188.46</td>\n      <td>187.76</td>\n      <td>0.0019</td>\n    </tr>\n    <tr>\n      <th>2022-01-06</th>\n      <td>188.75</td>\n      <td>188.65</td>\n      <td>189.35</td>\n      <td>187.90</td>\n      <td>0.0026</td>\n    </tr>\n    <tr>\n      <th>2022-01-07</th>\n      <td>187.75</td>\n      <td>188.79</td>\n      <td>189.13</td>\n      <td>187.73</td>\n      <td>-0.0053</td>\n    </tr>\n    <tr>\n      <th>2022-01-10</th>\n      <td>187.87</td>\n      <td>187.87</td>\n      <td>188.54</td>\n      <td>187.60</td>\n      <td>0.0006</td>\n    </tr>\n    <tr>\n      <th>2022-01-11</th>\n      <td>187.04</td>\n      <td>187.90</td>\n      <td>187.98</td>\n      <td>187.03</td>\n      <td>-0.0044</td>\n    </tr>\n    <tr>\n      <th>2022-01-12</th>\n      <td>186.49</td>\n      <td>186.77</td>\n      <td>187.49</td>\n      <td>186.38</td>\n      <td>-0.0029</td>\n    </tr>\n    <tr>\n      <th>2022-01-13</th>\n      <td>186.49</td>\n      <td>186.51</td>\n      <td>187.13</td>\n      <td>186.12</td>\n      <td>0.0000</td>\n    </tr>\n    <tr>\n      <th>2022-01-14</th>\n      <td>187.32</td>\n      <td>186.60</td>\n      <td>187.70</td>\n      <td>186.47</td>\n      <td>0.0045</td>\n    </tr>\n    <tr>\n      <th>2022-01-17</th>\n      <td>187.42</td>\n      <td>187.41</td>\n      <td>188.16</td>\n      <td>187.24</td>\n      <td>0.0005</td>\n    </tr>\n    <tr>\n      <th>2022-01-18</th>\n      <td>187.72</td>\n      <td>187.59</td>\n      <td>188.02</td>\n      <td>187.01</td>\n      <td>0.0016</td>\n    </tr>\n    <tr>\n      <th>2022-01-19</th>\n      <td>187.25</td>\n      <td>187.79</td>\n      <td>187.96</td>\n      <td>187.01</td>\n      <td>-0.0025</td>\n    </tr>\n    <tr>\n      <th>2022-01-20</th>\n      <td>188.03</td>\n      <td>187.27</td>\n      <td>188.27</td>\n      <td>187.10</td>\n      <td>0.0042</td>\n    </tr>\n    <tr>\n      <th>2022-01-21</th>\n      <td>188.11</td>\n      <td>188.05</td>\n      <td>188.51</td>\n      <td>187.74</td>\n      <td>0.0004</td>\n    </tr>\n    <tr>\n      <th>2022-01-24</th>\n      <td>188.84</td>\n      <td>188.24</td>\n      <td>189.34</td>\n      <td>188.17</td>\n      <td>0.0039</td>\n    </tr>\n    <tr>\n      <th>2022-01-25</th>\n      <td>189.10</td>\n      <td>188.87</td>\n      <td>189.62</td>\n      <td>188.79</td>\n      <td>0.0014</td>\n    </tr>\n    <tr>\n      <th>2022-01-26</th>\n      <td>189.37</td>\n      <td>189.11</td>\n      <td>189.63</td>\n      <td>188.90</td>\n      <td>0.0014</td>\n    </tr>\n    <tr>\n      <th>2022-01-27</th>\n      <td>188.91</td>\n      <td>189.96</td>\n      <td>190.42</td>\n      <td>188.85</td>\n      <td>-0.0024</td>\n    </tr>\n    <tr>\n      <th>2022-01-28</th>\n      <td>190.14</td>\n      <td>189.04</td>\n      <td>190.86</td>\n      <td>189.01</td>\n      <td>0.0065</td>\n    </tr>\n    <tr>\n      <th>2022-01-31</th>\n      <td>189.36</td>\n      <td>190.18</td>\n      <td>190.68</td>\n      <td>189.31</td>\n      <td>-0.0041</td>\n    </tr>\n    <tr>\n      <th>2022-02-01</th>\n      <td>189.00</td>\n      <td>189.40</td>\n      <td>189.91</td>\n      <td>188.90</td>\n      <td>-0.0019</td>\n    </tr>\n    <tr>\n      <th>2022-02-02</th>\n      <td>188.55</td>\n      <td>189.04</td>\n      <td>189.34</td>\n      <td>188.46</td>\n      <td>-0.0024</td>\n    </tr>\n    <tr>\n      <th>2022-02-03</th>\n      <td>188.55</td>\n      <td>188.71</td>\n      <td>189.78</td>\n      <td>188.45</td>\n      <td>0.0000</td>\n    </tr>\n    <tr>\n      <th>2022-02-04</th>\n      <td>188.36</td>\n      <td>188.75</td>\n      <td>188.97</td>\n      <td>188.15</td>\n      <td>-0.0010</td>\n    </tr>\n    <tr>\n      <th>2022-02-07</th>\n      <td>188.00</td>\n      <td>189.34</td>\n      <td>189.46</td>\n      <td>188.10</td>\n      <td>-0.0019</td>\n    </tr>\n    <tr>\n      <th>2022-02-08</th>\n      <td>187.90</td>\n      <td>188.13</td>\n      <td>188.57</td>\n      <td>187.90</td>\n      <td>-0.0005</td>\n    </tr>\n    <tr>\n      <th>2022-02-09</th>\n      <td>187.64</td>\n      <td>187.92</td>\n      <td>188.15</td>\n      <td>187.49</td>\n      <td>-0.0014</td>\n    </tr>\n    <tr>\n      <th>2022-02-10</th>\n      <td>188.78</td>\n      <td>187.68</td>\n      <td>188.96</td>\n      <td>187.59</td>\n      <td>0.0061</td>\n    </tr>\n    <tr>\n      <th>2022-02-11</th>\n      <td>188.74</td>\n      <td>188.87</td>\n      <td>189.15</td>\n      <td>187.72</td>\n      <td>-0.0002</td>\n    </tr>\n    <tr>\n      <th>2022-02-14</th>\n      <td>188.30</td>\n      <td>188.80</td>\n      <td>188.86</td>\n      <td>187.71</td>\n      <td>-0.0023</td>\n    </tr>\n    <tr>\n      <th>2022-02-15</th>\n      <td>188.77</td>\n      <td>188.35</td>\n      <td>189.08</td>\n      <td>188.16</td>\n      <td>0.0025</td>\n    </tr>\n    <tr>\n      <th>2022-02-16</th>\n      <td>188.69</td>\n      <td>188.80</td>\n      <td>189.29</td>\n      <td>188.54</td>\n      <td>-0.0004</td>\n    </tr>\n    <tr>\n      <th>2022-02-17</th>\n      <td>189.10</td>\n      <td>188.84</td>\n      <td>189.38</td>\n      <td>188.59</td>\n      <td>0.0022</td>\n    </tr>\n    <tr>\n      <th>2022-02-18</th>\n      <td>188.72</td>\n      <td>189.17</td>\n      <td>189.20</td>\n      <td>188.66</td>\n      <td>-0.0020</td>\n    </tr>\n  </tbody>\n</table>\n</div>"
     },
     "execution_count": 42,
     "metadata": {},
     "output_type": "execute_result"
    }
   ],
   "source": [
    "# 환율 KRW/UER\n",
    "df = fdr.DataReader('CNY/KRW', '2022')\n",
    "df"
   ],
   "metadata": {
    "collapsed": false,
    "pycharm": {
     "name": "#%%\n"
    }
   }
  },
  {
   "cell_type": "markdown",
   "source": [
    "---\n",
    "\n",
    "# 금리\n",
    "\n"
   ],
   "metadata": {
    "collapsed": false
   }
  },
  {
   "cell_type": "code",
   "execution_count": 54,
   "outputs": [
    {
     "data": {
      "text/plain": "            DGS20  DGS10  DGS5  DGS1\nDATE                                \n2022-01-03   2.05   1.63  1.37  0.40\n2022-01-04   2.10   1.66  1.37  0.38\n2022-01-05   2.12   1.71  1.43  0.41\n2022-01-06   2.12   1.73  1.47  0.45\n2022-01-07   2.15   1.76  1.50  0.43\n2022-01-10   2.15   1.78  1.53  0.46\n2022-01-11   2.13   1.75  1.51  0.46\n2022-01-12   2.13   1.74  1.50  0.48\n2022-01-13   2.10   1.70  1.47  0.47\n2022-01-14   2.18   1.78  1.55  0.51\n2022-01-17   2.18   1.78  1.55  0.51\n2022-01-18   2.24   1.87  1.65  0.58\n2022-01-19   2.20   1.83  1.62  0.57\n2022-01-20   2.19   1.83  1.62  0.60\n2022-01-21   2.13   1.75  1.54  0.58\n2022-01-24   2.15   1.75  1.53  0.58\n2022-01-25   2.18   1.78  1.56  0.65\n2022-01-26   2.22   1.85  1.66  0.70\n2022-01-27   2.17   1.81  1.66  0.75\n2022-01-28   2.14   1.78  1.61  0.75\n2022-01-31   2.17   1.79  1.62  0.78\n2022-02-01   2.19   1.81  1.63  0.78\n2022-02-02   2.17   1.78  1.60  0.76\n2022-02-03   2.20   1.82  1.66  0.78\n2022-02-04   2.29   1.93  1.78  0.89\n2022-02-07   2.28   1.92  1.76  0.88\n2022-02-08   2.31   1.96  1.81  0.91\n2022-02-09   2.31   1.94  1.82  0.91\n2022-02-10   2.37   2.03  1.96  1.14\n2022-02-11   2.30   1.92  1.84  1.07\n2022-02-14   2.35   1.98  1.90  1.13\n2022-02-15   2.42   2.05  1.94  1.11\n2022-02-16   2.39   2.03  1.90  1.09",
      "text/html": "<div>\n<style scoped>\n    .dataframe tbody tr th:only-of-type {\n        vertical-align: middle;\n    }\n\n    .dataframe tbody tr th {\n        vertical-align: top;\n    }\n\n    .dataframe thead th {\n        text-align: right;\n    }\n</style>\n<table border=\"1\" class=\"dataframe\">\n  <thead>\n    <tr style=\"text-align: right;\">\n      <th></th>\n      <th>DGS20</th>\n      <th>DGS10</th>\n      <th>DGS5</th>\n      <th>DGS1</th>\n    </tr>\n    <tr>\n      <th>DATE</th>\n      <th></th>\n      <th></th>\n      <th></th>\n      <th></th>\n    </tr>\n  </thead>\n  <tbody>\n    <tr>\n      <th>2022-01-03</th>\n      <td>2.05</td>\n      <td>1.63</td>\n      <td>1.37</td>\n      <td>0.40</td>\n    </tr>\n    <tr>\n      <th>2022-01-04</th>\n      <td>2.10</td>\n      <td>1.66</td>\n      <td>1.37</td>\n      <td>0.38</td>\n    </tr>\n    <tr>\n      <th>2022-01-05</th>\n      <td>2.12</td>\n      <td>1.71</td>\n      <td>1.43</td>\n      <td>0.41</td>\n    </tr>\n    <tr>\n      <th>2022-01-06</th>\n      <td>2.12</td>\n      <td>1.73</td>\n      <td>1.47</td>\n      <td>0.45</td>\n    </tr>\n    <tr>\n      <th>2022-01-07</th>\n      <td>2.15</td>\n      <td>1.76</td>\n      <td>1.50</td>\n      <td>0.43</td>\n    </tr>\n    <tr>\n      <th>2022-01-10</th>\n      <td>2.15</td>\n      <td>1.78</td>\n      <td>1.53</td>\n      <td>0.46</td>\n    </tr>\n    <tr>\n      <th>2022-01-11</th>\n      <td>2.13</td>\n      <td>1.75</td>\n      <td>1.51</td>\n      <td>0.46</td>\n    </tr>\n    <tr>\n      <th>2022-01-12</th>\n      <td>2.13</td>\n      <td>1.74</td>\n      <td>1.50</td>\n      <td>0.48</td>\n    </tr>\n    <tr>\n      <th>2022-01-13</th>\n      <td>2.10</td>\n      <td>1.70</td>\n      <td>1.47</td>\n      <td>0.47</td>\n    </tr>\n    <tr>\n      <th>2022-01-14</th>\n      <td>2.18</td>\n      <td>1.78</td>\n      <td>1.55</td>\n      <td>0.51</td>\n    </tr>\n    <tr>\n      <th>2022-01-17</th>\n      <td>2.18</td>\n      <td>1.78</td>\n      <td>1.55</td>\n      <td>0.51</td>\n    </tr>\n    <tr>\n      <th>2022-01-18</th>\n      <td>2.24</td>\n      <td>1.87</td>\n      <td>1.65</td>\n      <td>0.58</td>\n    </tr>\n    <tr>\n      <th>2022-01-19</th>\n      <td>2.20</td>\n      <td>1.83</td>\n      <td>1.62</td>\n      <td>0.57</td>\n    </tr>\n    <tr>\n      <th>2022-01-20</th>\n      <td>2.19</td>\n      <td>1.83</td>\n      <td>1.62</td>\n      <td>0.60</td>\n    </tr>\n    <tr>\n      <th>2022-01-21</th>\n      <td>2.13</td>\n      <td>1.75</td>\n      <td>1.54</td>\n      <td>0.58</td>\n    </tr>\n    <tr>\n      <th>2022-01-24</th>\n      <td>2.15</td>\n      <td>1.75</td>\n      <td>1.53</td>\n      <td>0.58</td>\n    </tr>\n    <tr>\n      <th>2022-01-25</th>\n      <td>2.18</td>\n      <td>1.78</td>\n      <td>1.56</td>\n      <td>0.65</td>\n    </tr>\n    <tr>\n      <th>2022-01-26</th>\n      <td>2.22</td>\n      <td>1.85</td>\n      <td>1.66</td>\n      <td>0.70</td>\n    </tr>\n    <tr>\n      <th>2022-01-27</th>\n      <td>2.17</td>\n      <td>1.81</td>\n      <td>1.66</td>\n      <td>0.75</td>\n    </tr>\n    <tr>\n      <th>2022-01-28</th>\n      <td>2.14</td>\n      <td>1.78</td>\n      <td>1.61</td>\n      <td>0.75</td>\n    </tr>\n    <tr>\n      <th>2022-01-31</th>\n      <td>2.17</td>\n      <td>1.79</td>\n      <td>1.62</td>\n      <td>0.78</td>\n    </tr>\n    <tr>\n      <th>2022-02-01</th>\n      <td>2.19</td>\n      <td>1.81</td>\n      <td>1.63</td>\n      <td>0.78</td>\n    </tr>\n    <tr>\n      <th>2022-02-02</th>\n      <td>2.17</td>\n      <td>1.78</td>\n      <td>1.60</td>\n      <td>0.76</td>\n    </tr>\n    <tr>\n      <th>2022-02-03</th>\n      <td>2.20</td>\n      <td>1.82</td>\n      <td>1.66</td>\n      <td>0.78</td>\n    </tr>\n    <tr>\n      <th>2022-02-04</th>\n      <td>2.29</td>\n      <td>1.93</td>\n      <td>1.78</td>\n      <td>0.89</td>\n    </tr>\n    <tr>\n      <th>2022-02-07</th>\n      <td>2.28</td>\n      <td>1.92</td>\n      <td>1.76</td>\n      <td>0.88</td>\n    </tr>\n    <tr>\n      <th>2022-02-08</th>\n      <td>2.31</td>\n      <td>1.96</td>\n      <td>1.81</td>\n      <td>0.91</td>\n    </tr>\n    <tr>\n      <th>2022-02-09</th>\n      <td>2.31</td>\n      <td>1.94</td>\n      <td>1.82</td>\n      <td>0.91</td>\n    </tr>\n    <tr>\n      <th>2022-02-10</th>\n      <td>2.37</td>\n      <td>2.03</td>\n      <td>1.96</td>\n      <td>1.14</td>\n    </tr>\n    <tr>\n      <th>2022-02-11</th>\n      <td>2.30</td>\n      <td>1.92</td>\n      <td>1.84</td>\n      <td>1.07</td>\n    </tr>\n    <tr>\n      <th>2022-02-14</th>\n      <td>2.35</td>\n      <td>1.98</td>\n      <td>1.90</td>\n      <td>1.13</td>\n    </tr>\n    <tr>\n      <th>2022-02-15</th>\n      <td>2.42</td>\n      <td>2.05</td>\n      <td>1.94</td>\n      <td>1.11</td>\n    </tr>\n    <tr>\n      <th>2022-02-16</th>\n      <td>2.39</td>\n      <td>2.03</td>\n      <td>1.90</td>\n      <td>1.09</td>\n    </tr>\n  </tbody>\n</table>\n</div>"
     },
     "execution_count": 54,
     "metadata": {},
     "output_type": "execute_result"
    }
   ],
   "source": [
    "# 미국 국채 금리(20년, 10년, 5년, 1년)\n",
    "DGS = fdr.DataReader(['DGS20', 'DGS10', 'DGS5', 'DGS1'], start='2022', data_source='fred')\n",
    "DGS"
   ],
   "metadata": {
    "collapsed": false,
    "pycharm": {
     "name": "#%%\n"
    }
   }
  },
  {
   "cell_type": "code",
   "execution_count": null,
   "outputs": [],
   "source": [],
   "metadata": {
    "collapsed": false,
    "pycharm": {
     "name": "#%%\n"
    }
   }
  }
 ],
 "metadata": {
  "kernelspec": {
   "display_name": "Python 3",
   "language": "python",
   "name": "python3"
  },
  "language_info": {
   "codemirror_mode": {
    "name": "ipython",
    "version": 2
   },
   "file_extension": ".py",
   "mimetype": "text/x-python",
   "name": "python",
   "nbconvert_exporter": "python",
   "pygments_lexer": "ipython2",
   "version": "2.7.6"
  }
 },
 "nbformat": 4,
 "nbformat_minor": 0
}