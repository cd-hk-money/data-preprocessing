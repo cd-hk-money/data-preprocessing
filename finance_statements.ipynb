{
 "cells": [
  {
   "cell_type": "code",
   "execution_count": 3,
   "outputs": [
    {
     "name": "stdout",
     "output_type": "stream",
     "text": [
      "Collecting pymysql\n",
      "  Using cached PyMySQL-1.0.2-py3-none-any.whl (43 kB)\n",
      "Installing collected packages: pymysql\n",
      "Successfully installed pymysql-1.0.2\n"
     ]
    },
    {
     "name": "stderr",
     "output_type": "stream",
     "text": [
      "WARNING: You are using pip version 20.2.1; however, version 22.0.3 is available.\n",
      "You should consider upgrading via the 'c:\\users\\wkdwoo\\appdata\\local\\programs\\python\\python38\\python.exe -m pip install --upgrade pip' command.\n"
     ]
    },
    {
     "name": "stdout",
     "output_type": "stream",
     "text": [
      "Collecting sqlalchemy"
     ]
    },
    {
     "name": "stderr",
     "output_type": "stream",
     "text": [
      "WARNING: You are using pip version 20.2.1; however, version 22.0.3 is available.\n",
      "You should consider upgrading via the 'c:\\users\\wkdwoo\\appdata\\local\\programs\\python\\python38\\python.exe -m pip install --upgrade pip' command.\n"
     ]
    },
    {
     "name": "stdout",
     "output_type": "stream",
     "text": [
      "\n",
      "  Downloading SQLAlchemy-1.4.31-cp38-cp38-win_amd64.whl (1.6 MB)\n",
      "Collecting greenlet!=0.4.17; python_version >= \"3\" and (platform_machine == \"aarch64\" or (platform_machine == \"ppc64le\" or (platform_machine == \"x86_64\" or (platform_machine == \"amd64\" or (platform_machine == \"AMD64\" or (platform_machine == \"win32\" or platform_machine == \"WIN32\"))))))\n",
      "  Downloading greenlet-1.1.2-cp38-cp38-win_amd64.whl (101 kB)\n",
      "Installing collected packages: greenlet, sqlalchemy\n",
      "Successfully installed greenlet-1.1.2 sqlalchemy-1.4.31\n"
     ]
    }
   ],
   "source": [
    "!pip install pymysql\n",
    "!pip install sqlalchemy"
   ],
   "metadata": {
    "collapsed": false,
    "pycharm": {
     "name": "#%%\n"
    }
   }
  },
  {
   "cell_type": "code",
   "execution_count": 75,
   "outputs": [
    {
     "name": "stdout",
     "output_type": "stream",
     "text": [
      "Collecting fake_useragent\n",
      "  Downloading fake-useragent-0.1.11.tar.gz (13 kB)\n",
      "Using legacy 'setup.py install' for fake-useragent, since package 'wheel' is not installed.\n",
      "Installing collected packages: fake-useragent\n",
      "    Running setup.py install for fake-useragent: started\n",
      "    Running setup.py install for fake-useragent: finished with status 'done'\n",
      "Successfully installed fake-useragent-0.1.11\n"
     ]
    },
    {
     "name": "stderr",
     "output_type": "stream",
     "text": [
      "WARNING: You are using pip version 20.2.1; however, version 22.0.3 is available.\n",
      "You should consider upgrading via the 'c:\\users\\wkdwoo\\appdata\\local\\programs\\python\\python38\\python.exe -m pip install --upgrade pip' command.\n"
     ]
    }
   ],
   "source": [
    "!pip install fake_useragent"
   ],
   "metadata": {
    "collapsed": false,
    "pycharm": {
     "name": "#%%\n"
    }
   }
  },
  {
   "cell_type": "code",
   "execution_count": 5,
   "metadata": {
    "collapsed": true
   },
   "outputs": [],
   "source": [
    "import OpenDartReader\n",
    "import FinanceDataReader as fdr\n",
    "import pymysql\n",
    "from sqlalchemy import create_engine\n",
    "import pandas as pd\n",
    "import time\n",
    "from pathlib import Path\n",
    "\n",
    "api_key = '85c2367fdad752f376b3947ccdf9998092765f0e'  # OpenDart API KEY"
   ]
  },
  {
   "cell_type": "code",
   "execution_count": 6,
   "outputs": [
    {
     "ename": "OperationalError",
     "evalue": "(pymysql.err.OperationalError) (2003, \"Can't connect to MySQL server on 'host address' ([Errno 11001] getaddrinfo failed)\")\n(Background on this error at: https://sqlalche.me/e/14/e3q8)",
     "output_type": "error",
     "traceback": [
      "\u001B[1;31m---------------------------------------------------------------------------\u001B[0m",
      "\u001B[1;31mgaierror\u001B[0m                                  Traceback (most recent call last)",
      "File \u001B[1;32mc:\\users\\wkdwoo\\appdata\\local\\programs\\python\\python38\\lib\\site-packages\\pymysql\\connections.py:613\u001B[0m, in \u001B[0;36mConnection.connect\u001B[1;34m(self, sock)\u001B[0m\n\u001B[0;32m    612\u001B[0m \u001B[38;5;28;01mtry\u001B[39;00m:\n\u001B[1;32m--> 613\u001B[0m     sock \u001B[38;5;241m=\u001B[39m \u001B[43msocket\u001B[49m\u001B[38;5;241;43m.\u001B[39;49m\u001B[43mcreate_connection\u001B[49m\u001B[43m(\u001B[49m\n\u001B[0;32m    614\u001B[0m \u001B[43m        \u001B[49m\u001B[43m(\u001B[49m\u001B[38;5;28;43mself\u001B[39;49m\u001B[38;5;241;43m.\u001B[39;49m\u001B[43mhost\u001B[49m\u001B[43m,\u001B[49m\u001B[43m \u001B[49m\u001B[38;5;28;43mself\u001B[39;49m\u001B[38;5;241;43m.\u001B[39;49m\u001B[43mport\u001B[49m\u001B[43m)\u001B[49m\u001B[43m,\u001B[49m\u001B[43m \u001B[49m\u001B[38;5;28;43mself\u001B[39;49m\u001B[38;5;241;43m.\u001B[39;49m\u001B[43mconnect_timeout\u001B[49m\u001B[43m,\u001B[49m\u001B[43m \u001B[49m\u001B[38;5;241;43m*\u001B[39;49m\u001B[38;5;241;43m*\u001B[39;49m\u001B[43mkwargs\u001B[49m\n\u001B[0;32m    615\u001B[0m \u001B[43m    \u001B[49m\u001B[43m)\u001B[49m\n\u001B[0;32m    616\u001B[0m     \u001B[38;5;28;01mbreak\u001B[39;00m\n",
      "File \u001B[1;32mc:\\users\\wkdwoo\\appdata\\local\\programs\\python\\python38\\lib\\socket.py:787\u001B[0m, in \u001B[0;36mcreate_connection\u001B[1;34m(address, timeout, source_address)\u001B[0m\n\u001B[0;32m    786\u001B[0m err \u001B[38;5;241m=\u001B[39m \u001B[38;5;28;01mNone\u001B[39;00m\n\u001B[1;32m--> 787\u001B[0m \u001B[38;5;28;01mfor\u001B[39;00m res \u001B[38;5;129;01min\u001B[39;00m \u001B[43mgetaddrinfo\u001B[49m\u001B[43m(\u001B[49m\u001B[43mhost\u001B[49m\u001B[43m,\u001B[49m\u001B[43m \u001B[49m\u001B[43mport\u001B[49m\u001B[43m,\u001B[49m\u001B[43m \u001B[49m\u001B[38;5;241;43m0\u001B[39;49m\u001B[43m,\u001B[49m\u001B[43m \u001B[49m\u001B[43mSOCK_STREAM\u001B[49m\u001B[43m)\u001B[49m:\n\u001B[0;32m    788\u001B[0m     af, socktype, proto, canonname, sa \u001B[38;5;241m=\u001B[39m res\n",
      "File \u001B[1;32mc:\\users\\wkdwoo\\appdata\\local\\programs\\python\\python38\\lib\\socket.py:918\u001B[0m, in \u001B[0;36mgetaddrinfo\u001B[1;34m(host, port, family, type, proto, flags)\u001B[0m\n\u001B[0;32m    917\u001B[0m addrlist \u001B[38;5;241m=\u001B[39m []\n\u001B[1;32m--> 918\u001B[0m \u001B[38;5;28;01mfor\u001B[39;00m res \u001B[38;5;129;01min\u001B[39;00m \u001B[43m_socket\u001B[49m\u001B[38;5;241;43m.\u001B[39;49m\u001B[43mgetaddrinfo\u001B[49m\u001B[43m(\u001B[49m\u001B[43mhost\u001B[49m\u001B[43m,\u001B[49m\u001B[43m \u001B[49m\u001B[43mport\u001B[49m\u001B[43m,\u001B[49m\u001B[43m \u001B[49m\u001B[43mfamily\u001B[49m\u001B[43m,\u001B[49m\u001B[43m \u001B[49m\u001B[38;5;28;43mtype\u001B[39;49m\u001B[43m,\u001B[49m\u001B[43m \u001B[49m\u001B[43mproto\u001B[49m\u001B[43m,\u001B[49m\u001B[43m \u001B[49m\u001B[43mflags\u001B[49m\u001B[43m)\u001B[49m:\n\u001B[0;32m    919\u001B[0m     af, socktype, proto, canonname, sa \u001B[38;5;241m=\u001B[39m res\n",
      "\u001B[1;31mgaierror\u001B[0m: [Errno 11001] getaddrinfo failed",
      "\nDuring handling of the above exception, another exception occurred:\n",
      "\u001B[1;31mOperationalError\u001B[0m                          Traceback (most recent call last)",
      "File \u001B[1;32mc:\\users\\wkdwoo\\appdata\\local\\programs\\python\\python38\\lib\\site-packages\\sqlalchemy\\engine\\base.py:3250\u001B[0m, in \u001B[0;36mEngine._wrap_pool_connect\u001B[1;34m(self, fn, connection)\u001B[0m\n\u001B[0;32m   3249\u001B[0m \u001B[38;5;28;01mtry\u001B[39;00m:\n\u001B[1;32m-> 3250\u001B[0m     \u001B[38;5;28;01mreturn\u001B[39;00m \u001B[43mfn\u001B[49m\u001B[43m(\u001B[49m\u001B[43m)\u001B[49m\n\u001B[0;32m   3251\u001B[0m \u001B[38;5;28;01mexcept\u001B[39;00m dialect\u001B[38;5;241m.\u001B[39mdbapi\u001B[38;5;241m.\u001B[39mError \u001B[38;5;28;01mas\u001B[39;00m e:\n",
      "File \u001B[1;32mc:\\users\\wkdwoo\\appdata\\local\\programs\\python\\python38\\lib\\site-packages\\sqlalchemy\\pool\\base.py:310\u001B[0m, in \u001B[0;36mPool.connect\u001B[1;34m(self)\u001B[0m\n\u001B[0;32m    303\u001B[0m \u001B[38;5;124;03m\"\"\"Return a DBAPI connection from the pool.\u001B[39;00m\n\u001B[0;32m    304\u001B[0m \n\u001B[0;32m    305\u001B[0m \u001B[38;5;124;03mThe connection is instrumented such that when its\u001B[39;00m\n\u001B[1;32m   (...)\u001B[0m\n\u001B[0;32m    308\u001B[0m \n\u001B[0;32m    309\u001B[0m \u001B[38;5;124;03m\"\"\"\u001B[39;00m\n\u001B[1;32m--> 310\u001B[0m \u001B[38;5;28;01mreturn\u001B[39;00m \u001B[43m_ConnectionFairy\u001B[49m\u001B[38;5;241;43m.\u001B[39;49m\u001B[43m_checkout\u001B[49m\u001B[43m(\u001B[49m\u001B[38;5;28;43mself\u001B[39;49m\u001B[43m)\u001B[49m\n",
      "File \u001B[1;32mc:\\users\\wkdwoo\\appdata\\local\\programs\\python\\python38\\lib\\site-packages\\sqlalchemy\\pool\\base.py:868\u001B[0m, in \u001B[0;36m_ConnectionFairy._checkout\u001B[1;34m(cls, pool, threadconns, fairy)\u001B[0m\n\u001B[0;32m    867\u001B[0m \u001B[38;5;28;01mif\u001B[39;00m \u001B[38;5;129;01mnot\u001B[39;00m fairy:\n\u001B[1;32m--> 868\u001B[0m     fairy \u001B[38;5;241m=\u001B[39m \u001B[43m_ConnectionRecord\u001B[49m\u001B[38;5;241;43m.\u001B[39;49m\u001B[43mcheckout\u001B[49m\u001B[43m(\u001B[49m\u001B[43mpool\u001B[49m\u001B[43m)\u001B[49m\n\u001B[0;32m    870\u001B[0m     fairy\u001B[38;5;241m.\u001B[39m_pool \u001B[38;5;241m=\u001B[39m pool\n",
      "File \u001B[1;32mc:\\users\\wkdwoo\\appdata\\local\\programs\\python\\python38\\lib\\site-packages\\sqlalchemy\\pool\\base.py:476\u001B[0m, in \u001B[0;36m_ConnectionRecord.checkout\u001B[1;34m(cls, pool)\u001B[0m\n\u001B[0;32m    474\u001B[0m \u001B[38;5;129m@classmethod\u001B[39m\n\u001B[0;32m    475\u001B[0m \u001B[38;5;28;01mdef\u001B[39;00m \u001B[38;5;21mcheckout\u001B[39m(\u001B[38;5;28mcls\u001B[39m, pool):\n\u001B[1;32m--> 476\u001B[0m     rec \u001B[38;5;241m=\u001B[39m \u001B[43mpool\u001B[49m\u001B[38;5;241;43m.\u001B[39;49m\u001B[43m_do_get\u001B[49m\u001B[43m(\u001B[49m\u001B[43m)\u001B[49m\n\u001B[0;32m    477\u001B[0m     \u001B[38;5;28;01mtry\u001B[39;00m:\n",
      "File \u001B[1;32mc:\\users\\wkdwoo\\appdata\\local\\programs\\python\\python38\\lib\\site-packages\\sqlalchemy\\pool\\impl.py:146\u001B[0m, in \u001B[0;36mQueuePool._do_get\u001B[1;34m(self)\u001B[0m\n\u001B[0;32m    145\u001B[0m         \u001B[38;5;28;01mwith\u001B[39;00m util\u001B[38;5;241m.\u001B[39msafe_reraise():\n\u001B[1;32m--> 146\u001B[0m             \u001B[38;5;28mself\u001B[39m\u001B[38;5;241m.\u001B[39m_dec_overflow()\n\u001B[0;32m    147\u001B[0m \u001B[38;5;28;01melse\u001B[39;00m:\n",
      "File \u001B[1;32mc:\\users\\wkdwoo\\appdata\\local\\programs\\python\\python38\\lib\\site-packages\\sqlalchemy\\util\\langhelpers.py:70\u001B[0m, in \u001B[0;36msafe_reraise.__exit__\u001B[1;34m(self, type_, value, traceback)\u001B[0m\n\u001B[0;32m     69\u001B[0m     \u001B[38;5;28;01mif\u001B[39;00m \u001B[38;5;129;01mnot\u001B[39;00m \u001B[38;5;28mself\u001B[39m\u001B[38;5;241m.\u001B[39mwarn_only:\n\u001B[1;32m---> 70\u001B[0m         \u001B[43mcompat\u001B[49m\u001B[38;5;241;43m.\u001B[39;49m\u001B[43mraise_\u001B[49m\u001B[43m(\u001B[49m\n\u001B[0;32m     71\u001B[0m \u001B[43m            \u001B[49m\u001B[43mexc_value\u001B[49m\u001B[43m,\u001B[49m\n\u001B[0;32m     72\u001B[0m \u001B[43m            \u001B[49m\u001B[43mwith_traceback\u001B[49m\u001B[38;5;241;43m=\u001B[39;49m\u001B[43mexc_tb\u001B[49m\u001B[43m,\u001B[49m\n\u001B[0;32m     73\u001B[0m \u001B[43m        \u001B[49m\u001B[43m)\u001B[49m\n\u001B[0;32m     74\u001B[0m \u001B[38;5;28;01melse\u001B[39;00m:\n",
      "File \u001B[1;32mc:\\users\\wkdwoo\\appdata\\local\\programs\\python\\python38\\lib\\site-packages\\sqlalchemy\\util\\compat.py:207\u001B[0m, in \u001B[0;36mraise_\u001B[1;34m(***failed resolving arguments***)\u001B[0m\n\u001B[0;32m    206\u001B[0m \u001B[38;5;28;01mtry\u001B[39;00m:\n\u001B[1;32m--> 207\u001B[0m     \u001B[38;5;28;01mraise\u001B[39;00m exception\n\u001B[0;32m    208\u001B[0m \u001B[38;5;28;01mfinally\u001B[39;00m:\n\u001B[0;32m    209\u001B[0m     \u001B[38;5;66;03m# credit to\u001B[39;00m\n\u001B[0;32m    210\u001B[0m     \u001B[38;5;66;03m# https://cosmicpercolator.com/2016/01/13/exception-leaks-in-python-2-and-3/\u001B[39;00m\n\u001B[0;32m    211\u001B[0m     \u001B[38;5;66;03m# as the __traceback__ object creates a cycle\u001B[39;00m\n",
      "File \u001B[1;32mc:\\users\\wkdwoo\\appdata\\local\\programs\\python\\python38\\lib\\site-packages\\sqlalchemy\\pool\\impl.py:143\u001B[0m, in \u001B[0;36mQueuePool._do_get\u001B[1;34m(self)\u001B[0m\n\u001B[0;32m    142\u001B[0m \u001B[38;5;28;01mtry\u001B[39;00m:\n\u001B[1;32m--> 143\u001B[0m     \u001B[38;5;28;01mreturn\u001B[39;00m \u001B[38;5;28;43mself\u001B[39;49m\u001B[38;5;241;43m.\u001B[39;49m\u001B[43m_create_connection\u001B[49m\u001B[43m(\u001B[49m\u001B[43m)\u001B[49m\n\u001B[0;32m    144\u001B[0m \u001B[38;5;28;01mexcept\u001B[39;00m:\n",
      "File \u001B[1;32mc:\\users\\wkdwoo\\appdata\\local\\programs\\python\\python38\\lib\\site-packages\\sqlalchemy\\pool\\base.py:256\u001B[0m, in \u001B[0;36mPool._create_connection\u001B[1;34m(self)\u001B[0m\n\u001B[0;32m    254\u001B[0m \u001B[38;5;124;03m\"\"\"Called by subclasses to create a new ConnectionRecord.\"\"\"\u001B[39;00m\n\u001B[1;32m--> 256\u001B[0m \u001B[38;5;28;01mreturn\u001B[39;00m \u001B[43m_ConnectionRecord\u001B[49m\u001B[43m(\u001B[49m\u001B[38;5;28;43mself\u001B[39;49m\u001B[43m)\u001B[49m\n",
      "File \u001B[1;32mc:\\users\\wkdwoo\\appdata\\local\\programs\\python\\python38\\lib\\site-packages\\sqlalchemy\\pool\\base.py:371\u001B[0m, in \u001B[0;36m_ConnectionRecord.__init__\u001B[1;34m(self, pool, connect)\u001B[0m\n\u001B[0;32m    370\u001B[0m \u001B[38;5;28;01mif\u001B[39;00m connect:\n\u001B[1;32m--> 371\u001B[0m     \u001B[38;5;28;43mself\u001B[39;49m\u001B[38;5;241;43m.\u001B[39;49m\u001B[43m__connect\u001B[49m\u001B[43m(\u001B[49m\u001B[43m)\u001B[49m\n\u001B[0;32m    372\u001B[0m \u001B[38;5;28mself\u001B[39m\u001B[38;5;241m.\u001B[39mfinalize_callback \u001B[38;5;241m=\u001B[39m deque()\n",
      "File \u001B[1;32mc:\\users\\wkdwoo\\appdata\\local\\programs\\python\\python38\\lib\\site-packages\\sqlalchemy\\pool\\base.py:666\u001B[0m, in \u001B[0;36m_ConnectionRecord.__connect\u001B[1;34m(self)\u001B[0m\n\u001B[0;32m    665\u001B[0m     \u001B[38;5;28;01mwith\u001B[39;00m util\u001B[38;5;241m.\u001B[39msafe_reraise():\n\u001B[1;32m--> 666\u001B[0m         pool\u001B[38;5;241m.\u001B[39mlogger\u001B[38;5;241m.\u001B[39mdebug(\u001B[38;5;124m\"\u001B[39m\u001B[38;5;124mError on connect(): \u001B[39m\u001B[38;5;132;01m%s\u001B[39;00m\u001B[38;5;124m\"\u001B[39m, e)\n\u001B[0;32m    667\u001B[0m \u001B[38;5;28;01melse\u001B[39;00m:\n\u001B[0;32m    668\u001B[0m     \u001B[38;5;66;03m# in SQLAlchemy 1.4 the first_connect event is not used by\u001B[39;00m\n\u001B[0;32m    669\u001B[0m     \u001B[38;5;66;03m# the engine, so this will usually not be set\u001B[39;00m\n",
      "File \u001B[1;32mc:\\users\\wkdwoo\\appdata\\local\\programs\\python\\python38\\lib\\site-packages\\sqlalchemy\\util\\langhelpers.py:70\u001B[0m, in \u001B[0;36msafe_reraise.__exit__\u001B[1;34m(self, type_, value, traceback)\u001B[0m\n\u001B[0;32m     69\u001B[0m     \u001B[38;5;28;01mif\u001B[39;00m \u001B[38;5;129;01mnot\u001B[39;00m \u001B[38;5;28mself\u001B[39m\u001B[38;5;241m.\u001B[39mwarn_only:\n\u001B[1;32m---> 70\u001B[0m         \u001B[43mcompat\u001B[49m\u001B[38;5;241;43m.\u001B[39;49m\u001B[43mraise_\u001B[49m\u001B[43m(\u001B[49m\n\u001B[0;32m     71\u001B[0m \u001B[43m            \u001B[49m\u001B[43mexc_value\u001B[49m\u001B[43m,\u001B[49m\n\u001B[0;32m     72\u001B[0m \u001B[43m            \u001B[49m\u001B[43mwith_traceback\u001B[49m\u001B[38;5;241;43m=\u001B[39;49m\u001B[43mexc_tb\u001B[49m\u001B[43m,\u001B[49m\n\u001B[0;32m     73\u001B[0m \u001B[43m        \u001B[49m\u001B[43m)\u001B[49m\n\u001B[0;32m     74\u001B[0m \u001B[38;5;28;01melse\u001B[39;00m:\n",
      "File \u001B[1;32mc:\\users\\wkdwoo\\appdata\\local\\programs\\python\\python38\\lib\\site-packages\\sqlalchemy\\util\\compat.py:207\u001B[0m, in \u001B[0;36mraise_\u001B[1;34m(***failed resolving arguments***)\u001B[0m\n\u001B[0;32m    206\u001B[0m \u001B[38;5;28;01mtry\u001B[39;00m:\n\u001B[1;32m--> 207\u001B[0m     \u001B[38;5;28;01mraise\u001B[39;00m exception\n\u001B[0;32m    208\u001B[0m \u001B[38;5;28;01mfinally\u001B[39;00m:\n\u001B[0;32m    209\u001B[0m     \u001B[38;5;66;03m# credit to\u001B[39;00m\n\u001B[0;32m    210\u001B[0m     \u001B[38;5;66;03m# https://cosmicpercolator.com/2016/01/13/exception-leaks-in-python-2-and-3/\u001B[39;00m\n\u001B[0;32m    211\u001B[0m     \u001B[38;5;66;03m# as the __traceback__ object creates a cycle\u001B[39;00m\n",
      "File \u001B[1;32mc:\\users\\wkdwoo\\appdata\\local\\programs\\python\\python38\\lib\\site-packages\\sqlalchemy\\pool\\base.py:661\u001B[0m, in \u001B[0;36m_ConnectionRecord.__connect\u001B[1;34m(self)\u001B[0m\n\u001B[0;32m    660\u001B[0m \u001B[38;5;28mself\u001B[39m\u001B[38;5;241m.\u001B[39mstarttime \u001B[38;5;241m=\u001B[39m time\u001B[38;5;241m.\u001B[39mtime()\n\u001B[1;32m--> 661\u001B[0m \u001B[38;5;28mself\u001B[39m\u001B[38;5;241m.\u001B[39mdbapi_connection \u001B[38;5;241m=\u001B[39m connection \u001B[38;5;241m=\u001B[39m \u001B[43mpool\u001B[49m\u001B[38;5;241;43m.\u001B[39;49m\u001B[43m_invoke_creator\u001B[49m\u001B[43m(\u001B[49m\u001B[38;5;28;43mself\u001B[39;49m\u001B[43m)\u001B[49m\n\u001B[0;32m    662\u001B[0m pool\u001B[38;5;241m.\u001B[39mlogger\u001B[38;5;241m.\u001B[39mdebug(\u001B[38;5;124m\"\u001B[39m\u001B[38;5;124mCreated new connection \u001B[39m\u001B[38;5;132;01m%r\u001B[39;00m\u001B[38;5;124m\"\u001B[39m, connection)\n",
      "File \u001B[1;32mc:\\users\\wkdwoo\\appdata\\local\\programs\\python\\python38\\lib\\site-packages\\sqlalchemy\\engine\\create.py:590\u001B[0m, in \u001B[0;36mcreate_engine.<locals>.connect\u001B[1;34m(connection_record)\u001B[0m\n\u001B[0;32m    589\u001B[0m             \u001B[38;5;28;01mreturn\u001B[39;00m connection\n\u001B[1;32m--> 590\u001B[0m \u001B[38;5;28;01mreturn\u001B[39;00m \u001B[43mdialect\u001B[49m\u001B[38;5;241;43m.\u001B[39;49m\u001B[43mconnect\u001B[49m\u001B[43m(\u001B[49m\u001B[38;5;241;43m*\u001B[39;49m\u001B[43mcargs\u001B[49m\u001B[43m,\u001B[49m\u001B[43m \u001B[49m\u001B[38;5;241;43m*\u001B[39;49m\u001B[38;5;241;43m*\u001B[39;49m\u001B[43mcparams\u001B[49m\u001B[43m)\u001B[49m\n",
      "File \u001B[1;32mc:\\users\\wkdwoo\\appdata\\local\\programs\\python\\python38\\lib\\site-packages\\sqlalchemy\\engine\\default.py:597\u001B[0m, in \u001B[0;36mDefaultDialect.connect\u001B[1;34m(self, *cargs, **cparams)\u001B[0m\n\u001B[0;32m    595\u001B[0m \u001B[38;5;28;01mdef\u001B[39;00m \u001B[38;5;21mconnect\u001B[39m(\u001B[38;5;28mself\u001B[39m, \u001B[38;5;241m*\u001B[39mcargs, \u001B[38;5;241m*\u001B[39m\u001B[38;5;241m*\u001B[39mcparams):\n\u001B[0;32m    596\u001B[0m     \u001B[38;5;66;03m# inherits the docstring from interfaces.Dialect.connect\u001B[39;00m\n\u001B[1;32m--> 597\u001B[0m     \u001B[38;5;28;01mreturn\u001B[39;00m \u001B[38;5;28;43mself\u001B[39;49m\u001B[38;5;241;43m.\u001B[39;49m\u001B[43mdbapi\u001B[49m\u001B[38;5;241;43m.\u001B[39;49m\u001B[43mconnect\u001B[49m\u001B[43m(\u001B[49m\u001B[38;5;241;43m*\u001B[39;49m\u001B[43mcargs\u001B[49m\u001B[43m,\u001B[49m\u001B[43m \u001B[49m\u001B[38;5;241;43m*\u001B[39;49m\u001B[38;5;241;43m*\u001B[39;49m\u001B[43mcparams\u001B[49m\u001B[43m)\u001B[49m\n",
      "File \u001B[1;32mc:\\users\\wkdwoo\\appdata\\local\\programs\\python\\python38\\lib\\site-packages\\pymysql\\connections.py:353\u001B[0m, in \u001B[0;36mConnection.__init__\u001B[1;34m(self, user, password, host, database, unix_socket, port, charset, sql_mode, read_default_file, conv, use_unicode, client_flag, cursorclass, init_command, connect_timeout, read_default_group, autocommit, local_infile, max_allowed_packet, defer_connect, auth_plugin_map, read_timeout, write_timeout, bind_address, binary_prefix, program_name, server_public_key, ssl, ssl_ca, ssl_cert, ssl_disabled, ssl_key, ssl_verify_cert, ssl_verify_identity, compress, named_pipe, passwd, db)\u001B[0m\n\u001B[0;32m    352\u001B[0m \u001B[38;5;28;01melse\u001B[39;00m:\n\u001B[1;32m--> 353\u001B[0m     \u001B[38;5;28;43mself\u001B[39;49m\u001B[38;5;241;43m.\u001B[39;49m\u001B[43mconnect\u001B[49m\u001B[43m(\u001B[49m\u001B[43m)\u001B[49m\n",
      "File \u001B[1;32mc:\\users\\wkdwoo\\appdata\\local\\programs\\python\\python38\\lib\\site-packages\\pymysql\\connections.py:664\u001B[0m, in \u001B[0;36mConnection.connect\u001B[1;34m(self, sock)\u001B[0m\n\u001B[0;32m    663\u001B[0m         \u001B[38;5;28mprint\u001B[39m(exc\u001B[38;5;241m.\u001B[39mtraceback)\n\u001B[1;32m--> 664\u001B[0m     \u001B[38;5;28;01mraise\u001B[39;00m exc\n\u001B[0;32m    666\u001B[0m \u001B[38;5;66;03m# If e is neither DatabaseError or IOError, It's a bug.\u001B[39;00m\n\u001B[0;32m    667\u001B[0m \u001B[38;5;66;03m# But raising AssertionError hides original error.\u001B[39;00m\n\u001B[0;32m    668\u001B[0m \u001B[38;5;66;03m# So just reraise it.\u001B[39;00m\n",
      "\u001B[1;31mOperationalError\u001B[0m: (2003, \"Can't connect to MySQL server on 'host address' ([Errno 11001] getaddrinfo failed)\")",
      "\nThe above exception was the direct cause of the following exception:\n",
      "\u001B[1;31mOperationalError\u001B[0m                          Traceback (most recent call last)",
      "Input \u001B[1;32mIn [6]\u001B[0m, in \u001B[0;36m<module>\u001B[1;34m\u001B[0m\n\u001B[0;32m      1\u001B[0m db_connection_str \u001B[38;5;241m=\u001B[39m \u001B[38;5;124m'\u001B[39m\u001B[38;5;124mmysql+pymysql://[db유저이름]:[db password]@[host address]/[db name]\u001B[39m\u001B[38;5;124m'\u001B[39m\n\u001B[0;32m      2\u001B[0m db_connection \u001B[38;5;241m=\u001B[39m create_engine(db_connection_str)\n\u001B[1;32m----> 3\u001B[0m conn \u001B[38;5;241m=\u001B[39m \u001B[43mdb_connection\u001B[49m\u001B[38;5;241;43m.\u001B[39;49m\u001B[43mconnect\u001B[49m\u001B[43m(\u001B[49m\u001B[43m)\u001B[49m\n",
      "File \u001B[1;32mc:\\users\\wkdwoo\\appdata\\local\\programs\\python\\python38\\lib\\site-packages\\sqlalchemy\\engine\\base.py:3204\u001B[0m, in \u001B[0;36mEngine.connect\u001B[1;34m(self, close_with_result)\u001B[0m\n\u001B[0;32m   3189\u001B[0m \u001B[38;5;28;01mdef\u001B[39;00m \u001B[38;5;21mconnect\u001B[39m(\u001B[38;5;28mself\u001B[39m, close_with_result\u001B[38;5;241m=\u001B[39m\u001B[38;5;28;01mFalse\u001B[39;00m):\n\u001B[0;32m   3190\u001B[0m     \u001B[38;5;124;03m\"\"\"Return a new :class:`_engine.Connection` object.\u001B[39;00m\n\u001B[0;32m   3191\u001B[0m \n\u001B[0;32m   3192\u001B[0m \u001B[38;5;124;03m    The :class:`_engine.Connection` object is a facade that uses a DBAPI\u001B[39;00m\n\u001B[1;32m   (...)\u001B[0m\n\u001B[0;32m   3201\u001B[0m \n\u001B[0;32m   3202\u001B[0m \u001B[38;5;124;03m    \"\"\"\u001B[39;00m\n\u001B[1;32m-> 3204\u001B[0m     \u001B[38;5;28;01mreturn\u001B[39;00m \u001B[38;5;28;43mself\u001B[39;49m\u001B[38;5;241;43m.\u001B[39;49m\u001B[43m_connection_cls\u001B[49m\u001B[43m(\u001B[49m\u001B[38;5;28;43mself\u001B[39;49m\u001B[43m,\u001B[49m\u001B[43m \u001B[49m\u001B[43mclose_with_result\u001B[49m\u001B[38;5;241;43m=\u001B[39;49m\u001B[43mclose_with_result\u001B[49m\u001B[43m)\u001B[49m\n",
      "File \u001B[1;32mc:\\users\\wkdwoo\\appdata\\local\\programs\\python\\python38\\lib\\site-packages\\sqlalchemy\\engine\\base.py:96\u001B[0m, in \u001B[0;36mConnection.__init__\u001B[1;34m(self, engine, connection, close_with_result, _branch_from, _execution_options, _dispatch, _has_events, _allow_revalidate)\u001B[0m\n\u001B[0;32m     91\u001B[0m     \u001B[38;5;28mself\u001B[39m\u001B[38;5;241m.\u001B[39m_has_events \u001B[38;5;241m=\u001B[39m _branch_from\u001B[38;5;241m.\u001B[39m_has_events\n\u001B[0;32m     92\u001B[0m \u001B[38;5;28;01melse\u001B[39;00m:\n\u001B[0;32m     93\u001B[0m     \u001B[38;5;28mself\u001B[39m\u001B[38;5;241m.\u001B[39m_dbapi_connection \u001B[38;5;241m=\u001B[39m (\n\u001B[0;32m     94\u001B[0m         connection\n\u001B[0;32m     95\u001B[0m         \u001B[38;5;28;01mif\u001B[39;00m connection \u001B[38;5;129;01mis\u001B[39;00m \u001B[38;5;129;01mnot\u001B[39;00m \u001B[38;5;28;01mNone\u001B[39;00m\n\u001B[1;32m---> 96\u001B[0m         \u001B[38;5;28;01melse\u001B[39;00m \u001B[43mengine\u001B[49m\u001B[38;5;241;43m.\u001B[39;49m\u001B[43mraw_connection\u001B[49m\u001B[43m(\u001B[49m\u001B[43m)\u001B[49m\n\u001B[0;32m     97\u001B[0m     )\n\u001B[0;32m     99\u001B[0m     \u001B[38;5;28mself\u001B[39m\u001B[38;5;241m.\u001B[39m_transaction \u001B[38;5;241m=\u001B[39m \u001B[38;5;28mself\u001B[39m\u001B[38;5;241m.\u001B[39m_nested_transaction \u001B[38;5;241m=\u001B[39m \u001B[38;5;28;01mNone\u001B[39;00m\n\u001B[0;32m    100\u001B[0m     \u001B[38;5;28mself\u001B[39m\u001B[38;5;241m.\u001B[39m__savepoint_seq \u001B[38;5;241m=\u001B[39m \u001B[38;5;241m0\u001B[39m\n",
      "File \u001B[1;32mc:\\users\\wkdwoo\\appdata\\local\\programs\\python\\python38\\lib\\site-packages\\sqlalchemy\\engine\\base.py:3283\u001B[0m, in \u001B[0;36mEngine.raw_connection\u001B[1;34m(self, _connection)\u001B[0m\n\u001B[0;32m   3261\u001B[0m \u001B[38;5;28;01mdef\u001B[39;00m \u001B[38;5;21mraw_connection\u001B[39m(\u001B[38;5;28mself\u001B[39m, _connection\u001B[38;5;241m=\u001B[39m\u001B[38;5;28;01mNone\u001B[39;00m):\n\u001B[0;32m   3262\u001B[0m     \u001B[38;5;124;03m\"\"\"Return a \"raw\" DBAPI connection from the connection pool.\u001B[39;00m\n\u001B[0;32m   3263\u001B[0m \n\u001B[0;32m   3264\u001B[0m \u001B[38;5;124;03m    The returned object is a proxied version of the DBAPI\u001B[39;00m\n\u001B[1;32m   (...)\u001B[0m\n\u001B[0;32m   3281\u001B[0m \n\u001B[0;32m   3282\u001B[0m \u001B[38;5;124;03m    \"\"\"\u001B[39;00m\n\u001B[1;32m-> 3283\u001B[0m     \u001B[38;5;28;01mreturn\u001B[39;00m \u001B[38;5;28;43mself\u001B[39;49m\u001B[38;5;241;43m.\u001B[39;49m\u001B[43m_wrap_pool_connect\u001B[49m\u001B[43m(\u001B[49m\u001B[38;5;28;43mself\u001B[39;49m\u001B[38;5;241;43m.\u001B[39;49m\u001B[43mpool\u001B[49m\u001B[38;5;241;43m.\u001B[39;49m\u001B[43mconnect\u001B[49m\u001B[43m,\u001B[49m\u001B[43m \u001B[49m\u001B[43m_connection\u001B[49m\u001B[43m)\u001B[49m\n",
      "File \u001B[1;32mc:\\users\\wkdwoo\\appdata\\local\\programs\\python\\python38\\lib\\site-packages\\sqlalchemy\\engine\\base.py:3253\u001B[0m, in \u001B[0;36mEngine._wrap_pool_connect\u001B[1;34m(self, fn, connection)\u001B[0m\n\u001B[0;32m   3251\u001B[0m \u001B[38;5;28;01mexcept\u001B[39;00m dialect\u001B[38;5;241m.\u001B[39mdbapi\u001B[38;5;241m.\u001B[39mError \u001B[38;5;28;01mas\u001B[39;00m e:\n\u001B[0;32m   3252\u001B[0m     \u001B[38;5;28;01mif\u001B[39;00m connection \u001B[38;5;129;01mis\u001B[39;00m \u001B[38;5;28;01mNone\u001B[39;00m:\n\u001B[1;32m-> 3253\u001B[0m         \u001B[43mConnection\u001B[49m\u001B[38;5;241;43m.\u001B[39;49m\u001B[43m_handle_dbapi_exception_noconnection\u001B[49m\u001B[43m(\u001B[49m\n\u001B[0;32m   3254\u001B[0m \u001B[43m            \u001B[49m\u001B[43me\u001B[49m\u001B[43m,\u001B[49m\u001B[43m \u001B[49m\u001B[43mdialect\u001B[49m\u001B[43m,\u001B[49m\u001B[43m \u001B[49m\u001B[38;5;28;43mself\u001B[39;49m\n\u001B[0;32m   3255\u001B[0m \u001B[43m        \u001B[49m\u001B[43m)\u001B[49m\n\u001B[0;32m   3256\u001B[0m     \u001B[38;5;28;01melse\u001B[39;00m:\n\u001B[0;32m   3257\u001B[0m         util\u001B[38;5;241m.\u001B[39mraise_(\n\u001B[0;32m   3258\u001B[0m             sys\u001B[38;5;241m.\u001B[39mexc_info()[\u001B[38;5;241m1\u001B[39m], with_traceback\u001B[38;5;241m=\u001B[39msys\u001B[38;5;241m.\u001B[39mexc_info()[\u001B[38;5;241m2\u001B[39m]\n\u001B[0;32m   3259\u001B[0m         )\n",
      "File \u001B[1;32mc:\\users\\wkdwoo\\appdata\\local\\programs\\python\\python38\\lib\\site-packages\\sqlalchemy\\engine\\base.py:2100\u001B[0m, in \u001B[0;36mConnection._handle_dbapi_exception_noconnection\u001B[1;34m(cls, e, dialect, engine)\u001B[0m\n\u001B[0;32m   2098\u001B[0m     util\u001B[38;5;241m.\u001B[39mraise_(newraise, with_traceback\u001B[38;5;241m=\u001B[39mexc_info[\u001B[38;5;241m2\u001B[39m], from_\u001B[38;5;241m=\u001B[39me)\n\u001B[0;32m   2099\u001B[0m \u001B[38;5;28;01melif\u001B[39;00m should_wrap:\n\u001B[1;32m-> 2100\u001B[0m     \u001B[43mutil\u001B[49m\u001B[38;5;241;43m.\u001B[39;49m\u001B[43mraise_\u001B[49m\u001B[43m(\u001B[49m\n\u001B[0;32m   2101\u001B[0m \u001B[43m        \u001B[49m\u001B[43msqlalchemy_exception\u001B[49m\u001B[43m,\u001B[49m\u001B[43m \u001B[49m\u001B[43mwith_traceback\u001B[49m\u001B[38;5;241;43m=\u001B[39;49m\u001B[43mexc_info\u001B[49m\u001B[43m[\u001B[49m\u001B[38;5;241;43m2\u001B[39;49m\u001B[43m]\u001B[49m\u001B[43m,\u001B[49m\u001B[43m \u001B[49m\u001B[43mfrom_\u001B[49m\u001B[38;5;241;43m=\u001B[39;49m\u001B[43me\u001B[49m\n\u001B[0;32m   2102\u001B[0m \u001B[43m    \u001B[49m\u001B[43m)\u001B[49m\n\u001B[0;32m   2103\u001B[0m \u001B[38;5;28;01melse\u001B[39;00m:\n\u001B[0;32m   2104\u001B[0m     util\u001B[38;5;241m.\u001B[39mraise_(exc_info[\u001B[38;5;241m1\u001B[39m], with_traceback\u001B[38;5;241m=\u001B[39mexc_info[\u001B[38;5;241m2\u001B[39m])\n",
      "File \u001B[1;32mc:\\users\\wkdwoo\\appdata\\local\\programs\\python\\python38\\lib\\site-packages\\sqlalchemy\\util\\compat.py:207\u001B[0m, in \u001B[0;36mraise_\u001B[1;34m(***failed resolving arguments***)\u001B[0m\n\u001B[0;32m    204\u001B[0m     exception\u001B[38;5;241m.\u001B[39m__cause__ \u001B[38;5;241m=\u001B[39m replace_context\n\u001B[0;32m    206\u001B[0m \u001B[38;5;28;01mtry\u001B[39;00m:\n\u001B[1;32m--> 207\u001B[0m     \u001B[38;5;28;01mraise\u001B[39;00m exception\n\u001B[0;32m    208\u001B[0m \u001B[38;5;28;01mfinally\u001B[39;00m:\n\u001B[0;32m    209\u001B[0m     \u001B[38;5;66;03m# credit to\u001B[39;00m\n\u001B[0;32m    210\u001B[0m     \u001B[38;5;66;03m# https://cosmicpercolator.com/2016/01/13/exception-leaks-in-python-2-and-3/\u001B[39;00m\n\u001B[0;32m    211\u001B[0m     \u001B[38;5;66;03m# as the __traceback__ object creates a cycle\u001B[39;00m\n\u001B[0;32m    212\u001B[0m     \u001B[38;5;28;01mdel\u001B[39;00m exception, replace_context, from_, with_traceback\n",
      "File \u001B[1;32mc:\\users\\wkdwoo\\appdata\\local\\programs\\python\\python38\\lib\\site-packages\\sqlalchemy\\engine\\base.py:3250\u001B[0m, in \u001B[0;36mEngine._wrap_pool_connect\u001B[1;34m(self, fn, connection)\u001B[0m\n\u001B[0;32m   3248\u001B[0m dialect \u001B[38;5;241m=\u001B[39m \u001B[38;5;28mself\u001B[39m\u001B[38;5;241m.\u001B[39mdialect\n\u001B[0;32m   3249\u001B[0m \u001B[38;5;28;01mtry\u001B[39;00m:\n\u001B[1;32m-> 3250\u001B[0m     \u001B[38;5;28;01mreturn\u001B[39;00m \u001B[43mfn\u001B[49m\u001B[43m(\u001B[49m\u001B[43m)\u001B[49m\n\u001B[0;32m   3251\u001B[0m \u001B[38;5;28;01mexcept\u001B[39;00m dialect\u001B[38;5;241m.\u001B[39mdbapi\u001B[38;5;241m.\u001B[39mError \u001B[38;5;28;01mas\u001B[39;00m e:\n\u001B[0;32m   3252\u001B[0m     \u001B[38;5;28;01mif\u001B[39;00m connection \u001B[38;5;129;01mis\u001B[39;00m \u001B[38;5;28;01mNone\u001B[39;00m:\n",
      "File \u001B[1;32mc:\\users\\wkdwoo\\appdata\\local\\programs\\python\\python38\\lib\\site-packages\\sqlalchemy\\pool\\base.py:310\u001B[0m, in \u001B[0;36mPool.connect\u001B[1;34m(self)\u001B[0m\n\u001B[0;32m    302\u001B[0m \u001B[38;5;28;01mdef\u001B[39;00m \u001B[38;5;21mconnect\u001B[39m(\u001B[38;5;28mself\u001B[39m):\n\u001B[0;32m    303\u001B[0m     \u001B[38;5;124;03m\"\"\"Return a DBAPI connection from the pool.\u001B[39;00m\n\u001B[0;32m    304\u001B[0m \n\u001B[0;32m    305\u001B[0m \u001B[38;5;124;03m    The connection is instrumented such that when its\u001B[39;00m\n\u001B[1;32m   (...)\u001B[0m\n\u001B[0;32m    308\u001B[0m \n\u001B[0;32m    309\u001B[0m \u001B[38;5;124;03m    \"\"\"\u001B[39;00m\n\u001B[1;32m--> 310\u001B[0m     \u001B[38;5;28;01mreturn\u001B[39;00m \u001B[43m_ConnectionFairy\u001B[49m\u001B[38;5;241;43m.\u001B[39;49m\u001B[43m_checkout\u001B[49m\u001B[43m(\u001B[49m\u001B[38;5;28;43mself\u001B[39;49m\u001B[43m)\u001B[49m\n",
      "File \u001B[1;32mc:\\users\\wkdwoo\\appdata\\local\\programs\\python\\python38\\lib\\site-packages\\sqlalchemy\\pool\\base.py:868\u001B[0m, in \u001B[0;36m_ConnectionFairy._checkout\u001B[1;34m(cls, pool, threadconns, fairy)\u001B[0m\n\u001B[0;32m    865\u001B[0m \u001B[38;5;129m@classmethod\u001B[39m\n\u001B[0;32m    866\u001B[0m \u001B[38;5;28;01mdef\u001B[39;00m \u001B[38;5;21m_checkout\u001B[39m(\u001B[38;5;28mcls\u001B[39m, pool, threadconns\u001B[38;5;241m=\u001B[39m\u001B[38;5;28;01mNone\u001B[39;00m, fairy\u001B[38;5;241m=\u001B[39m\u001B[38;5;28;01mNone\u001B[39;00m):\n\u001B[0;32m    867\u001B[0m     \u001B[38;5;28;01mif\u001B[39;00m \u001B[38;5;129;01mnot\u001B[39;00m fairy:\n\u001B[1;32m--> 868\u001B[0m         fairy \u001B[38;5;241m=\u001B[39m \u001B[43m_ConnectionRecord\u001B[49m\u001B[38;5;241;43m.\u001B[39;49m\u001B[43mcheckout\u001B[49m\u001B[43m(\u001B[49m\u001B[43mpool\u001B[49m\u001B[43m)\u001B[49m\n\u001B[0;32m    870\u001B[0m         fairy\u001B[38;5;241m.\u001B[39m_pool \u001B[38;5;241m=\u001B[39m pool\n\u001B[0;32m    871\u001B[0m         fairy\u001B[38;5;241m.\u001B[39m_counter \u001B[38;5;241m=\u001B[39m \u001B[38;5;241m0\u001B[39m\n",
      "File \u001B[1;32mc:\\users\\wkdwoo\\appdata\\local\\programs\\python\\python38\\lib\\site-packages\\sqlalchemy\\pool\\base.py:476\u001B[0m, in \u001B[0;36m_ConnectionRecord.checkout\u001B[1;34m(cls, pool)\u001B[0m\n\u001B[0;32m    474\u001B[0m \u001B[38;5;129m@classmethod\u001B[39m\n\u001B[0;32m    475\u001B[0m \u001B[38;5;28;01mdef\u001B[39;00m \u001B[38;5;21mcheckout\u001B[39m(\u001B[38;5;28mcls\u001B[39m, pool):\n\u001B[1;32m--> 476\u001B[0m     rec \u001B[38;5;241m=\u001B[39m \u001B[43mpool\u001B[49m\u001B[38;5;241;43m.\u001B[39;49m\u001B[43m_do_get\u001B[49m\u001B[43m(\u001B[49m\u001B[43m)\u001B[49m\n\u001B[0;32m    477\u001B[0m     \u001B[38;5;28;01mtry\u001B[39;00m:\n\u001B[0;32m    478\u001B[0m         dbapi_connection \u001B[38;5;241m=\u001B[39m rec\u001B[38;5;241m.\u001B[39mget_connection()\n",
      "File \u001B[1;32mc:\\users\\wkdwoo\\appdata\\local\\programs\\python\\python38\\lib\\site-packages\\sqlalchemy\\pool\\impl.py:146\u001B[0m, in \u001B[0;36mQueuePool._do_get\u001B[1;34m(self)\u001B[0m\n\u001B[0;32m    144\u001B[0m     \u001B[38;5;28;01mexcept\u001B[39;00m:\n\u001B[0;32m    145\u001B[0m         \u001B[38;5;28;01mwith\u001B[39;00m util\u001B[38;5;241m.\u001B[39msafe_reraise():\n\u001B[1;32m--> 146\u001B[0m             \u001B[38;5;28mself\u001B[39m\u001B[38;5;241m.\u001B[39m_dec_overflow()\n\u001B[0;32m    147\u001B[0m \u001B[38;5;28;01melse\u001B[39;00m:\n\u001B[0;32m    148\u001B[0m     \u001B[38;5;28;01mreturn\u001B[39;00m \u001B[38;5;28mself\u001B[39m\u001B[38;5;241m.\u001B[39m_do_get()\n",
      "File \u001B[1;32mc:\\users\\wkdwoo\\appdata\\local\\programs\\python\\python38\\lib\\site-packages\\sqlalchemy\\util\\langhelpers.py:70\u001B[0m, in \u001B[0;36msafe_reraise.__exit__\u001B[1;34m(self, type_, value, traceback)\u001B[0m\n\u001B[0;32m     68\u001B[0m     \u001B[38;5;28mself\u001B[39m\u001B[38;5;241m.\u001B[39m_exc_info \u001B[38;5;241m=\u001B[39m \u001B[38;5;28;01mNone\u001B[39;00m  \u001B[38;5;66;03m# remove potential circular references\u001B[39;00m\n\u001B[0;32m     69\u001B[0m     \u001B[38;5;28;01mif\u001B[39;00m \u001B[38;5;129;01mnot\u001B[39;00m \u001B[38;5;28mself\u001B[39m\u001B[38;5;241m.\u001B[39mwarn_only:\n\u001B[1;32m---> 70\u001B[0m         \u001B[43mcompat\u001B[49m\u001B[38;5;241;43m.\u001B[39;49m\u001B[43mraise_\u001B[49m\u001B[43m(\u001B[49m\n\u001B[0;32m     71\u001B[0m \u001B[43m            \u001B[49m\u001B[43mexc_value\u001B[49m\u001B[43m,\u001B[49m\n\u001B[0;32m     72\u001B[0m \u001B[43m            \u001B[49m\u001B[43mwith_traceback\u001B[49m\u001B[38;5;241;43m=\u001B[39;49m\u001B[43mexc_tb\u001B[49m\u001B[43m,\u001B[49m\n\u001B[0;32m     73\u001B[0m \u001B[43m        \u001B[49m\u001B[43m)\u001B[49m\n\u001B[0;32m     74\u001B[0m \u001B[38;5;28;01melse\u001B[39;00m:\n\u001B[0;32m     75\u001B[0m     \u001B[38;5;28;01mif\u001B[39;00m \u001B[38;5;129;01mnot\u001B[39;00m compat\u001B[38;5;241m.\u001B[39mpy3k \u001B[38;5;129;01mand\u001B[39;00m \u001B[38;5;28mself\u001B[39m\u001B[38;5;241m.\u001B[39m_exc_info \u001B[38;5;129;01mand\u001B[39;00m \u001B[38;5;28mself\u001B[39m\u001B[38;5;241m.\u001B[39m_exc_info[\u001B[38;5;241m1\u001B[39m]:\n\u001B[0;32m     76\u001B[0m         \u001B[38;5;66;03m# emulate Py3K's behavior of telling us when an exception\u001B[39;00m\n\u001B[0;32m     77\u001B[0m         \u001B[38;5;66;03m# occurs in an exception handler.\u001B[39;00m\n",
      "File \u001B[1;32mc:\\users\\wkdwoo\\appdata\\local\\programs\\python\\python38\\lib\\site-packages\\sqlalchemy\\util\\compat.py:207\u001B[0m, in \u001B[0;36mraise_\u001B[1;34m(***failed resolving arguments***)\u001B[0m\n\u001B[0;32m    204\u001B[0m     exception\u001B[38;5;241m.\u001B[39m__cause__ \u001B[38;5;241m=\u001B[39m replace_context\n\u001B[0;32m    206\u001B[0m \u001B[38;5;28;01mtry\u001B[39;00m:\n\u001B[1;32m--> 207\u001B[0m     \u001B[38;5;28;01mraise\u001B[39;00m exception\n\u001B[0;32m    208\u001B[0m \u001B[38;5;28;01mfinally\u001B[39;00m:\n\u001B[0;32m    209\u001B[0m     \u001B[38;5;66;03m# credit to\u001B[39;00m\n\u001B[0;32m    210\u001B[0m     \u001B[38;5;66;03m# https://cosmicpercolator.com/2016/01/13/exception-leaks-in-python-2-and-3/\u001B[39;00m\n\u001B[0;32m    211\u001B[0m     \u001B[38;5;66;03m# as the __traceback__ object creates a cycle\u001B[39;00m\n\u001B[0;32m    212\u001B[0m     \u001B[38;5;28;01mdel\u001B[39;00m exception, replace_context, from_, with_traceback\n",
      "File \u001B[1;32mc:\\users\\wkdwoo\\appdata\\local\\programs\\python\\python38\\lib\\site-packages\\sqlalchemy\\pool\\impl.py:143\u001B[0m, in \u001B[0;36mQueuePool._do_get\u001B[1;34m(self)\u001B[0m\n\u001B[0;32m    141\u001B[0m \u001B[38;5;28;01mif\u001B[39;00m \u001B[38;5;28mself\u001B[39m\u001B[38;5;241m.\u001B[39m_inc_overflow():\n\u001B[0;32m    142\u001B[0m     \u001B[38;5;28;01mtry\u001B[39;00m:\n\u001B[1;32m--> 143\u001B[0m         \u001B[38;5;28;01mreturn\u001B[39;00m \u001B[38;5;28;43mself\u001B[39;49m\u001B[38;5;241;43m.\u001B[39;49m\u001B[43m_create_connection\u001B[49m\u001B[43m(\u001B[49m\u001B[43m)\u001B[49m\n\u001B[0;32m    144\u001B[0m     \u001B[38;5;28;01mexcept\u001B[39;00m:\n\u001B[0;32m    145\u001B[0m         \u001B[38;5;28;01mwith\u001B[39;00m util\u001B[38;5;241m.\u001B[39msafe_reraise():\n",
      "File \u001B[1;32mc:\\users\\wkdwoo\\appdata\\local\\programs\\python\\python38\\lib\\site-packages\\sqlalchemy\\pool\\base.py:256\u001B[0m, in \u001B[0;36mPool._create_connection\u001B[1;34m(self)\u001B[0m\n\u001B[0;32m    253\u001B[0m \u001B[38;5;28;01mdef\u001B[39;00m \u001B[38;5;21m_create_connection\u001B[39m(\u001B[38;5;28mself\u001B[39m):\n\u001B[0;32m    254\u001B[0m     \u001B[38;5;124;03m\"\"\"Called by subclasses to create a new ConnectionRecord.\"\"\"\u001B[39;00m\n\u001B[1;32m--> 256\u001B[0m     \u001B[38;5;28;01mreturn\u001B[39;00m \u001B[43m_ConnectionRecord\u001B[49m\u001B[43m(\u001B[49m\u001B[38;5;28;43mself\u001B[39;49m\u001B[43m)\u001B[49m\n",
      "File \u001B[1;32mc:\\users\\wkdwoo\\appdata\\local\\programs\\python\\python38\\lib\\site-packages\\sqlalchemy\\pool\\base.py:371\u001B[0m, in \u001B[0;36m_ConnectionRecord.__init__\u001B[1;34m(self, pool, connect)\u001B[0m\n\u001B[0;32m    369\u001B[0m \u001B[38;5;28mself\u001B[39m\u001B[38;5;241m.\u001B[39m__pool \u001B[38;5;241m=\u001B[39m pool\n\u001B[0;32m    370\u001B[0m \u001B[38;5;28;01mif\u001B[39;00m connect:\n\u001B[1;32m--> 371\u001B[0m     \u001B[38;5;28;43mself\u001B[39;49m\u001B[38;5;241;43m.\u001B[39;49m\u001B[43m__connect\u001B[49m\u001B[43m(\u001B[49m\u001B[43m)\u001B[49m\n\u001B[0;32m    372\u001B[0m \u001B[38;5;28mself\u001B[39m\u001B[38;5;241m.\u001B[39mfinalize_callback \u001B[38;5;241m=\u001B[39m deque()\n",
      "File \u001B[1;32mc:\\users\\wkdwoo\\appdata\\local\\programs\\python\\python38\\lib\\site-packages\\sqlalchemy\\pool\\base.py:666\u001B[0m, in \u001B[0;36m_ConnectionRecord.__connect\u001B[1;34m(self)\u001B[0m\n\u001B[0;32m    664\u001B[0m \u001B[38;5;28;01mexcept\u001B[39;00m \u001B[38;5;167;01mException\u001B[39;00m \u001B[38;5;28;01mas\u001B[39;00m e:\n\u001B[0;32m    665\u001B[0m     \u001B[38;5;28;01mwith\u001B[39;00m util\u001B[38;5;241m.\u001B[39msafe_reraise():\n\u001B[1;32m--> 666\u001B[0m         pool\u001B[38;5;241m.\u001B[39mlogger\u001B[38;5;241m.\u001B[39mdebug(\u001B[38;5;124m\"\u001B[39m\u001B[38;5;124mError on connect(): \u001B[39m\u001B[38;5;132;01m%s\u001B[39;00m\u001B[38;5;124m\"\u001B[39m, e)\n\u001B[0;32m    667\u001B[0m \u001B[38;5;28;01melse\u001B[39;00m:\n\u001B[0;32m    668\u001B[0m     \u001B[38;5;66;03m# in SQLAlchemy 1.4 the first_connect event is not used by\u001B[39;00m\n\u001B[0;32m    669\u001B[0m     \u001B[38;5;66;03m# the engine, so this will usually not be set\u001B[39;00m\n\u001B[0;32m    670\u001B[0m     \u001B[38;5;28;01mif\u001B[39;00m pool\u001B[38;5;241m.\u001B[39mdispatch\u001B[38;5;241m.\u001B[39mfirst_connect:\n",
      "File \u001B[1;32mc:\\users\\wkdwoo\\appdata\\local\\programs\\python\\python38\\lib\\site-packages\\sqlalchemy\\util\\langhelpers.py:70\u001B[0m, in \u001B[0;36msafe_reraise.__exit__\u001B[1;34m(self, type_, value, traceback)\u001B[0m\n\u001B[0;32m     68\u001B[0m     \u001B[38;5;28mself\u001B[39m\u001B[38;5;241m.\u001B[39m_exc_info \u001B[38;5;241m=\u001B[39m \u001B[38;5;28;01mNone\u001B[39;00m  \u001B[38;5;66;03m# remove potential circular references\u001B[39;00m\n\u001B[0;32m     69\u001B[0m     \u001B[38;5;28;01mif\u001B[39;00m \u001B[38;5;129;01mnot\u001B[39;00m \u001B[38;5;28mself\u001B[39m\u001B[38;5;241m.\u001B[39mwarn_only:\n\u001B[1;32m---> 70\u001B[0m         \u001B[43mcompat\u001B[49m\u001B[38;5;241;43m.\u001B[39;49m\u001B[43mraise_\u001B[49m\u001B[43m(\u001B[49m\n\u001B[0;32m     71\u001B[0m \u001B[43m            \u001B[49m\u001B[43mexc_value\u001B[49m\u001B[43m,\u001B[49m\n\u001B[0;32m     72\u001B[0m \u001B[43m            \u001B[49m\u001B[43mwith_traceback\u001B[49m\u001B[38;5;241;43m=\u001B[39;49m\u001B[43mexc_tb\u001B[49m\u001B[43m,\u001B[49m\n\u001B[0;32m     73\u001B[0m \u001B[43m        \u001B[49m\u001B[43m)\u001B[49m\n\u001B[0;32m     74\u001B[0m \u001B[38;5;28;01melse\u001B[39;00m:\n\u001B[0;32m     75\u001B[0m     \u001B[38;5;28;01mif\u001B[39;00m \u001B[38;5;129;01mnot\u001B[39;00m compat\u001B[38;5;241m.\u001B[39mpy3k \u001B[38;5;129;01mand\u001B[39;00m \u001B[38;5;28mself\u001B[39m\u001B[38;5;241m.\u001B[39m_exc_info \u001B[38;5;129;01mand\u001B[39;00m \u001B[38;5;28mself\u001B[39m\u001B[38;5;241m.\u001B[39m_exc_info[\u001B[38;5;241m1\u001B[39m]:\n\u001B[0;32m     76\u001B[0m         \u001B[38;5;66;03m# emulate Py3K's behavior of telling us when an exception\u001B[39;00m\n\u001B[0;32m     77\u001B[0m         \u001B[38;5;66;03m# occurs in an exception handler.\u001B[39;00m\n",
      "File \u001B[1;32mc:\\users\\wkdwoo\\appdata\\local\\programs\\python\\python38\\lib\\site-packages\\sqlalchemy\\util\\compat.py:207\u001B[0m, in \u001B[0;36mraise_\u001B[1;34m(***failed resolving arguments***)\u001B[0m\n\u001B[0;32m    204\u001B[0m     exception\u001B[38;5;241m.\u001B[39m__cause__ \u001B[38;5;241m=\u001B[39m replace_context\n\u001B[0;32m    206\u001B[0m \u001B[38;5;28;01mtry\u001B[39;00m:\n\u001B[1;32m--> 207\u001B[0m     \u001B[38;5;28;01mraise\u001B[39;00m exception\n\u001B[0;32m    208\u001B[0m \u001B[38;5;28;01mfinally\u001B[39;00m:\n\u001B[0;32m    209\u001B[0m     \u001B[38;5;66;03m# credit to\u001B[39;00m\n\u001B[0;32m    210\u001B[0m     \u001B[38;5;66;03m# https://cosmicpercolator.com/2016/01/13/exception-leaks-in-python-2-and-3/\u001B[39;00m\n\u001B[0;32m    211\u001B[0m     \u001B[38;5;66;03m# as the __traceback__ object creates a cycle\u001B[39;00m\n\u001B[0;32m    212\u001B[0m     \u001B[38;5;28;01mdel\u001B[39;00m exception, replace_context, from_, with_traceback\n",
      "File \u001B[1;32mc:\\users\\wkdwoo\\appdata\\local\\programs\\python\\python38\\lib\\site-packages\\sqlalchemy\\pool\\base.py:661\u001B[0m, in \u001B[0;36m_ConnectionRecord.__connect\u001B[1;34m(self)\u001B[0m\n\u001B[0;32m    659\u001B[0m \u001B[38;5;28;01mtry\u001B[39;00m:\n\u001B[0;32m    660\u001B[0m     \u001B[38;5;28mself\u001B[39m\u001B[38;5;241m.\u001B[39mstarttime \u001B[38;5;241m=\u001B[39m time\u001B[38;5;241m.\u001B[39mtime()\n\u001B[1;32m--> 661\u001B[0m     \u001B[38;5;28mself\u001B[39m\u001B[38;5;241m.\u001B[39mdbapi_connection \u001B[38;5;241m=\u001B[39m connection \u001B[38;5;241m=\u001B[39m \u001B[43mpool\u001B[49m\u001B[38;5;241;43m.\u001B[39;49m\u001B[43m_invoke_creator\u001B[49m\u001B[43m(\u001B[49m\u001B[38;5;28;43mself\u001B[39;49m\u001B[43m)\u001B[49m\n\u001B[0;32m    662\u001B[0m     pool\u001B[38;5;241m.\u001B[39mlogger\u001B[38;5;241m.\u001B[39mdebug(\u001B[38;5;124m\"\u001B[39m\u001B[38;5;124mCreated new connection \u001B[39m\u001B[38;5;132;01m%r\u001B[39;00m\u001B[38;5;124m\"\u001B[39m, connection)\n\u001B[0;32m    663\u001B[0m     \u001B[38;5;28mself\u001B[39m\u001B[38;5;241m.\u001B[39mfresh \u001B[38;5;241m=\u001B[39m \u001B[38;5;28;01mTrue\u001B[39;00m\n",
      "File \u001B[1;32mc:\\users\\wkdwoo\\appdata\\local\\programs\\python\\python38\\lib\\site-packages\\sqlalchemy\\engine\\create.py:590\u001B[0m, in \u001B[0;36mcreate_engine.<locals>.connect\u001B[1;34m(connection_record)\u001B[0m\n\u001B[0;32m    588\u001B[0m         \u001B[38;5;28;01mif\u001B[39;00m connection \u001B[38;5;129;01mis\u001B[39;00m \u001B[38;5;129;01mnot\u001B[39;00m \u001B[38;5;28;01mNone\u001B[39;00m:\n\u001B[0;32m    589\u001B[0m             \u001B[38;5;28;01mreturn\u001B[39;00m connection\n\u001B[1;32m--> 590\u001B[0m \u001B[38;5;28;01mreturn\u001B[39;00m \u001B[43mdialect\u001B[49m\u001B[38;5;241;43m.\u001B[39;49m\u001B[43mconnect\u001B[49m\u001B[43m(\u001B[49m\u001B[38;5;241;43m*\u001B[39;49m\u001B[43mcargs\u001B[49m\u001B[43m,\u001B[49m\u001B[43m \u001B[49m\u001B[38;5;241;43m*\u001B[39;49m\u001B[38;5;241;43m*\u001B[39;49m\u001B[43mcparams\u001B[49m\u001B[43m)\u001B[49m\n",
      "File \u001B[1;32mc:\\users\\wkdwoo\\appdata\\local\\programs\\python\\python38\\lib\\site-packages\\sqlalchemy\\engine\\default.py:597\u001B[0m, in \u001B[0;36mDefaultDialect.connect\u001B[1;34m(self, *cargs, **cparams)\u001B[0m\n\u001B[0;32m    595\u001B[0m \u001B[38;5;28;01mdef\u001B[39;00m \u001B[38;5;21mconnect\u001B[39m(\u001B[38;5;28mself\u001B[39m, \u001B[38;5;241m*\u001B[39mcargs, \u001B[38;5;241m*\u001B[39m\u001B[38;5;241m*\u001B[39mcparams):\n\u001B[0;32m    596\u001B[0m     \u001B[38;5;66;03m# inherits the docstring from interfaces.Dialect.connect\u001B[39;00m\n\u001B[1;32m--> 597\u001B[0m     \u001B[38;5;28;01mreturn\u001B[39;00m \u001B[38;5;28;43mself\u001B[39;49m\u001B[38;5;241;43m.\u001B[39;49m\u001B[43mdbapi\u001B[49m\u001B[38;5;241;43m.\u001B[39;49m\u001B[43mconnect\u001B[49m\u001B[43m(\u001B[49m\u001B[38;5;241;43m*\u001B[39;49m\u001B[43mcargs\u001B[49m\u001B[43m,\u001B[49m\u001B[43m \u001B[49m\u001B[38;5;241;43m*\u001B[39;49m\u001B[38;5;241;43m*\u001B[39;49m\u001B[43mcparams\u001B[49m\u001B[43m)\u001B[49m\n",
      "File \u001B[1;32mc:\\users\\wkdwoo\\appdata\\local\\programs\\python\\python38\\lib\\site-packages\\pymysql\\connections.py:353\u001B[0m, in \u001B[0;36mConnection.__init__\u001B[1;34m(self, user, password, host, database, unix_socket, port, charset, sql_mode, read_default_file, conv, use_unicode, client_flag, cursorclass, init_command, connect_timeout, read_default_group, autocommit, local_infile, max_allowed_packet, defer_connect, auth_plugin_map, read_timeout, write_timeout, bind_address, binary_prefix, program_name, server_public_key, ssl, ssl_ca, ssl_cert, ssl_disabled, ssl_key, ssl_verify_cert, ssl_verify_identity, compress, named_pipe, passwd, db)\u001B[0m\n\u001B[0;32m    351\u001B[0m     \u001B[38;5;28mself\u001B[39m\u001B[38;5;241m.\u001B[39m_sock \u001B[38;5;241m=\u001B[39m \u001B[38;5;28;01mNone\u001B[39;00m\n\u001B[0;32m    352\u001B[0m \u001B[38;5;28;01melse\u001B[39;00m:\n\u001B[1;32m--> 353\u001B[0m     \u001B[38;5;28;43mself\u001B[39;49m\u001B[38;5;241;43m.\u001B[39;49m\u001B[43mconnect\u001B[49m\u001B[43m(\u001B[49m\u001B[43m)\u001B[49m\n",
      "File \u001B[1;32mc:\\users\\wkdwoo\\appdata\\local\\programs\\python\\python38\\lib\\site-packages\\pymysql\\connections.py:664\u001B[0m, in \u001B[0;36mConnection.connect\u001B[1;34m(self, sock)\u001B[0m\n\u001B[0;32m    662\u001B[0m     \u001B[38;5;28;01mif\u001B[39;00m DEBUG:\n\u001B[0;32m    663\u001B[0m         \u001B[38;5;28mprint\u001B[39m(exc\u001B[38;5;241m.\u001B[39mtraceback)\n\u001B[1;32m--> 664\u001B[0m     \u001B[38;5;28;01mraise\u001B[39;00m exc\n\u001B[0;32m    666\u001B[0m \u001B[38;5;66;03m# If e is neither DatabaseError or IOError, It's a bug.\u001B[39;00m\n\u001B[0;32m    667\u001B[0m \u001B[38;5;66;03m# But raising AssertionError hides original error.\u001B[39;00m\n\u001B[0;32m    668\u001B[0m \u001B[38;5;66;03m# So just reraise it.\u001B[39;00m\n\u001B[0;32m    669\u001B[0m \u001B[38;5;28;01mraise\u001B[39;00m\n",
      "\u001B[1;31mOperationalError\u001B[0m: (pymysql.err.OperationalError) (2003, \"Can't connect to MySQL server on 'host address' ([Errno 11001] getaddrinfo failed)\")\n(Background on this error at: https://sqlalche.me/e/14/e3q8)"
     ]
    }
   ],
   "source": [
    "db_connection_str = 'mysql+pymysql://[db유저이름]:[db password]@[host address]/[db name]'\n",
    "db_connection = create_engine(db_connection_str)\n",
    "conn = db_connection.connect()"
   ],
   "metadata": {
    "collapsed": false,
    "pycharm": {
     "name": "#%%\n"
    }
   }
  },
  {
   "cell_type": "code",
   "execution_count": 9,
   "outputs": [],
   "source": [
    "dart = OpenDartReader(api_key)"
   ],
   "metadata": {
    "collapsed": false,
    "pycharm": {
     "name": "#%%\n"
    }
   }
  },
  {
   "cell_type": "code",
   "execution_count": 10,
   "outputs": [],
   "source": [
    "symbols = fdr.StockListing(\"KRX\")\n",
    "symbols = list(symbols['Symbol'])"
   ],
   "metadata": {
    "collapsed": false,
    "pycharm": {
     "name": "#%%\n"
    }
   }
  },
  {
   "cell_type": "code",
   "execution_count": 11,
   "outputs": [
    {
     "data": {
      "text/plain": "['060310', '095570', '006840']"
     },
     "execution_count": 11,
     "metadata": {},
     "output_type": "execute_result"
    }
   ],
   "source": [
    "symbols[:3]"
   ],
   "metadata": {
    "collapsed": false,
    "pycharm": {
     "name": "#%%\n"
    }
   }
  },
  {
   "cell_type": "code",
   "execution_count": 12,
   "outputs": [],
   "source": [
    "# '11013' = 1분기보고서, '11012' = 반기보고서, '11014' = 3분기보고서, '11011' = 사업보고서\n",
    "reprt_code = ['11013', '11012', '11014', '11011']"
   ],
   "metadata": {
    "collapsed": false,
    "pycharm": {
     "name": "#%%\n"
    }
   }
  },
  {
   "cell_type": "code",
   "execution_count": 3,
   "outputs": [
    {
     "ename": "AttributeError",
     "evalue": "'NoneType' object has no attribute 'sj_nm'",
     "output_type": "error",
     "traceback": [
      "\u001B[1;31m---------------------------------------------------------------------------\u001B[0m",
      "\u001B[1;31mAttributeError\u001B[0m                            Traceback (most recent call last)",
      "Input \u001B[1;32mIn [3]\u001B[0m, in \u001B[0;36m<module>\u001B[1;34m\u001B[0m\n\u001B[0;32m      1\u001B[0m temp \u001B[38;5;241m=\u001B[39m dart\u001B[38;5;241m.\u001B[39mfinstate_all(\u001B[38;5;124m'\u001B[39m\u001B[38;5;124m060310\u001B[39m\u001B[38;5;124m'\u001B[39m, \u001B[38;5;241m2021\u001B[39m)\n\u001B[0;32m      2\u001B[0m temp\n\u001B[1;32m----> 3\u001B[0m temp[\u001B[43mtemp\u001B[49m\u001B[38;5;241;43m.\u001B[39;49m\u001B[43msj_nm\u001B[49m \u001B[38;5;241m==\u001B[39m \u001B[38;5;124m'\u001B[39m\u001B[38;5;124m현금흐름표\u001B[39m\u001B[38;5;124m'\u001B[39m]\u001B[38;5;241m.\u001B[39miloc[\u001B[38;5;241m0\u001B[39m][\u001B[38;5;124m'\u001B[39m\u001B[38;5;124mthstrm_amount\u001B[39m\u001B[38;5;124m'\u001B[39m]\n",
      "\u001B[1;31mAttributeError\u001B[0m: 'NoneType' object has no attribute 'sj_nm'"
     ]
    }
   ],
   "source": [
    "temp = dart.finstate_all('060310', 2021)\n",
    "temp\n",
    "temp[temp.sj_nm == '현금흐름표'].iloc[0]['thstrm_amount']"
   ],
   "metadata": {
    "collapsed": false,
    "pycharm": {
     "name": "#%%\n"
    }
   }
  },
  {
   "cell_type": "code",
   "execution_count": 48,
   "outputs": [
    {
     "data": {
      "text/plain": "'17725957273'"
     },
     "execution_count": 48,
     "metadata": {},
     "output_type": "execute_result"
    }
   ],
   "source": [
    "temp = dart.finstate_all('095570', 2021)\n",
    "temp\n",
    "temp[(temp.sj_nm == '현금흐름표') & (\n",
    "        (temp.account_nm == '영업활동으로 인한 현금흐름') | (temp.account_nm == '영업활동 현금흐름'))]"
   ],
   "metadata": {
    "collapsed": false,
    "pycharm": {
     "name": "#%%\n"
    }
   }
  },
  {
   "cell_type": "code",
   "execution_count": 42,
   "outputs": [
    {
     "ename": "AttributeError",
     "evalue": "'NoneType' object has no attribute 'sj_nm'",
     "output_type": "error",
     "traceback": [
      "\u001B[1;31m---------------------------------------------------------------------------\u001B[0m",
      "\u001B[1;31mAttributeError\u001B[0m                            Traceback (most recent call last)",
      "Input \u001B[1;32mIn [42]\u001B[0m, in \u001B[0;36m<module>\u001B[1;34m\u001B[0m\n\u001B[0;32m      1\u001B[0m temp \u001B[38;5;241m=\u001B[39m dart\u001B[38;5;241m.\u001B[39mfinstate_all(\u001B[38;5;124m'\u001B[39m\u001B[38;5;124m006840\u001B[39m\u001B[38;5;124m'\u001B[39m, \u001B[38;5;241m2021\u001B[39m)\n\u001B[0;32m      2\u001B[0m temp\n\u001B[1;32m----> 3\u001B[0m temp[\u001B[43mtemp\u001B[49m\u001B[38;5;241;43m.\u001B[39;49m\u001B[43msj_nm\u001B[49m \u001B[38;5;241m==\u001B[39m \u001B[38;5;124m'\u001B[39m\u001B[38;5;124m현금흐름표\u001B[39m\u001B[38;5;124m'\u001B[39m]\u001B[38;5;241m.\u001B[39miloc[\u001B[38;5;241m0\u001B[39m][\u001B[38;5;124m'\u001B[39m\u001B[38;5;124mthstrm_amount\u001B[39m\u001B[38;5;124m'\u001B[39m]\n",
      "\u001B[1;31mAttributeError\u001B[0m: 'NoneType' object has no attribute 'sj_nm'"
     ]
    }
   ],
   "source": [
    "temp = dart.finstate_all('006840', 2021)\n",
    "temp\n",
    "temp[temp.sj_nm == '현금흐름표'].iloc[0]['thstrm_amount']"
   ],
   "metadata": {
    "collapsed": false,
    "pycharm": {
     "name": "#%%\n"
    }
   }
  },
  {
   "cell_type": "code",
   "execution_count": 62,
   "outputs": [
    {
     "data": {
      "text/plain": "\"<class 'NoneType'>\""
     },
     "execution_count": 62,
     "metadata": {},
     "output_type": "execute_result"
    }
   ],
   "source": [
    "str(type(dart.finstate_all('006840', 2015, reprt_code='11014', fs_div='CFS')))"
   ],
   "metadata": {
    "collapsed": false,
    "pycharm": {
     "name": "#%%\n"
    }
   }
  },
  {
   "cell_type": "code",
   "execution_count": 28,
   "outputs": [
    {
     "data": {
      "text/plain": "\"<class 'NoneType'>\""
     },
     "execution_count": 28,
     "metadata": {},
     "output_type": "execute_result"
    }
   ],
   "source": [
    "str(type(temp))"
   ],
   "metadata": {
    "collapsed": false,
    "pycharm": {
     "name": "#%%\n"
    }
   }
  },
  {
   "cell_type": "code",
   "execution_count": 13,
   "outputs": [],
   "source": [
    "sample = symbols[1]"
   ],
   "metadata": {
    "collapsed": false,
    "pycharm": {
     "name": "#%%\n"
    }
   }
  },
  {
   "cell_type": "code",
   "execution_count": 14,
   "outputs": [
    {
     "data": {
      "text/plain": "str"
     },
     "execution_count": 14,
     "metadata": {},
     "output_type": "execute_result"
    }
   ],
   "source": [
    "type(sample)"
   ],
   "metadata": {
    "collapsed": false,
    "pycharm": {
     "name": "#%%\n"
    }
   }
  },
  {
   "cell_type": "code",
   "execution_count": 15,
   "outputs": [],
   "source": [
    "test = pd.DataFrame(columns=['종목코드', '유동자산', '부채총계', '자본총계', '매출액', '매출총이익', '영업이익',\n",
    "                            '당기순이익', '영업활동현금흐름', '잉여현금흐름'], index=['1900-01-01'])"
   ],
   "metadata": {
    "collapsed": false,
    "pycharm": {
     "name": "#%%\n"
    }
   }
  },
  {
   "cell_type": "code",
   "execution_count": 16,
   "outputs": [
    {
     "name": "stdout",
     "output_type": "stream",
     "text": [
      "              종목코드         유동자산         부채총계         자본총계          매출액  \\\n",
      "1900-01-01     NaN          NaN          NaN          NaN          NaN   \n",
      "2015-12-30  060310  16069077218  29420163240  37939808456  23210541648   \n",
      "\n",
      "                 매출총이익         영업이익        당기순이익 영업활동현금흐름 잉여현금흐름  \n",
      "1900-01-01         NaN          NaN          NaN      NaN    NaN  \n",
      "2015-12-30  1635010587  -4157989321  -5599032927        0      0  \n",
      "              종목코드         유동자산         부채총계         자본총계          매출액  \\\n",
      "1900-01-01     NaN          NaN          NaN          NaN          NaN   \n",
      "2015-12-30  060310  16069077218  29420163240  37939808456  23210541648   \n",
      "2016-06-30  060310  13582609176  21382562181  34888339748   6534629920   \n",
      "2016-09-30  060310  17985342311  24678327990  35061777226   7357350855   \n",
      "2016-12-30  060310  13426668881  23142629825  34603759371   9850440880   \n",
      "\n",
      "                 매출총이익         영업이익        당기순이익 영업활동현금흐름 잉여현금흐름  \n",
      "1900-01-01         NaN          NaN          NaN      NaN    NaN  \n",
      "2015-12-30  1635010587  -4157989321  -5599032927        0      0  \n",
      "2016-06-30   164655511  -1222253624  -1840069164        0      0  \n",
      "2016-09-30    63868668   -766080221   -489723045        0      0  \n",
      "2016-12-30  3690977278   3164869768  -1073645607        0      0  \n",
      "              종목코드         유동자산         부채총계         자본총계          매출액  \\\n",
      "1900-01-01     NaN          NaN          NaN          NaN          NaN   \n",
      "2015-12-30  060310  16069077218  29420163240  37939808456  23210541648   \n",
      "2016-06-30  060310  13582609176  21382562181  34888339748   6534629920   \n",
      "2016-09-30  060310  17985342311  24678327990  35061777226   7357350855   \n",
      "2016-12-30  060310  13426668881  23142629825  34603759371   9850440880   \n",
      "2017-06-30  060310  12963850356  22170000793  27854998694   7192915640   \n",
      "2017-09-30  060310  15427768735  23885585514  28208080133   9225760158   \n",
      "2017-12-30  060310  16712868726  24527236916  29179666781  10067612120   \n",
      "\n",
      "                 매출총이익         영업이익        당기순이익    영업활동현금흐름       잉여현금흐름  \n",
      "1900-01-01         NaN          NaN          NaN         NaN          NaN  \n",
      "2015-12-30  1635010587  -4157989321  -5599032927           0            0  \n",
      "2016-06-30   164655511  -1222253624  -1840069164           0            0  \n",
      "2016-09-30    63868668   -766080221   -489723045           0            0  \n",
      "2016-12-30  3690977278   3164869768  -1073645607           0            0  \n",
      "2017-06-30   245618550            0            0  2717232068   2717232068  \n",
      "2017-09-30  1955538245   1171768022    386279038  4812661467   4812661467  \n",
      "2017-12-30   -89289451  -3592992891  -9190089121           0  -7529893535  \n",
      "              종목코드         유동자산         부채총계         자본총계          매출액  \\\n",
      "1900-01-01     NaN          NaN          NaN          NaN          NaN   \n",
      "2015-12-30  060310  16069077218  29420163240  37939808456  23210541648   \n",
      "2016-06-30  060310  13582609176  21382562181  34888339748   6534629920   \n",
      "2016-09-30  060310  17985342311  24678327990  35061777226   7357350855   \n",
      "2016-12-30  060310  13426668881  23142629825  34603759371   9850440880   \n",
      "2017-06-30  060310  12963850356  22170000793  27854998694   7192915640   \n",
      "2017-09-30  060310  15427768735  23885585514  28208080133   9225760158   \n",
      "2017-12-30  060310  16712868726  24527236916  29179666781  10067612120   \n",
      "2018-03-31  060310  11992121662  16870572704  31463895532   7536828503   \n",
      "2018-06-30  060310  13293539593  18258139949  30965674005   6743873607   \n",
      "2018-09-30  060310  20026810511  24238513809  32178657324   8861182901   \n",
      "2018-12-30  060310  12801669723  18768660365  30752338694   8404285174   \n",
      "\n",
      "                 매출총이익         영업이익        당기순이익     영업활동현금흐름       잉여현금흐름  \n",
      "1900-01-01         NaN          NaN          NaN          NaN          NaN  \n",
      "2015-12-30  1635010587  -4157989321  -5599032927            0            0  \n",
      "2016-06-30   164655511  -1222253624  -1840069164            0            0  \n",
      "2016-09-30    63868668   -766080221   -489723045            0            0  \n",
      "2016-12-30  3690977278   3164869768  -1073645607            0            0  \n",
      "2017-06-30   245618550            0            0   2717232068   2717232068  \n",
      "2017-09-30  1955538245   1171768022    386279038   4812661467   4812661467  \n",
      "2017-12-30   -89289451  -3592992891  -9190089121            0  -7529893535  \n",
      "2018-03-31           0  -1225498458  -1173541435  -1103668799  -1008845466  \n",
      "2018-06-30   717263634   -227421546   -462794588   -201948660    -21906922  \n",
      "2018-09-30  2067403778   1273481246   1208046379    177599383    621504942  \n",
      "2018-12-30   514560222    512749375    428289644   4555587479   4964834925  \n",
      "              종목코드         유동자산         부채총계         자본총계          매출액  \\\n",
      "1900-01-01     NaN          NaN          NaN          NaN          NaN   \n",
      "2015-12-30  060310  16069077218  29420163240  37939808456  23210541648   \n",
      "2016-06-30  060310  13582609176  21382562181  34888339748   6534629920   \n",
      "2016-09-30  060310  17985342311  24678327990  35061777226   7357350855   \n",
      "2016-12-30  060310  13426668881  23142629825  34603759371   9850440880   \n",
      "2017-06-30  060310  12963850356  22170000793  27854998694   7192915640   \n",
      "2017-09-30  060310  15427768735  23885585514  28208080133   9225760158   \n",
      "2017-12-30  060310  16712868726  24527236916  29179666781  10067612120   \n",
      "2018-03-31  060310  11992121662  16870572704  31463895532   7536828503   \n",
      "2018-06-30  060310  13293539593  18258139949  30965674005   6743873607   \n",
      "2018-09-30  060310  20026810511  24238513809  32178657324   8861182901   \n",
      "2018-12-30  060310  12801669723  18768660365  30752338694   8404285174   \n",
      "2019-03-31  060310  17545667958  17607619485  35150349276   7468642401   \n",
      "2019-06-30  060310  17092745843  16747140443  34870441401   4942146133   \n",
      "2019-09-30  060310  17721049522  17128368773  35193485505   5180003764   \n",
      "2019-12-30  060310  18079335574  18957538831  34371682381  18161147186   \n",
      "\n",
      "                 매출총이익         영업이익        당기순이익     영업활동현금흐름       잉여현금흐름  \n",
      "1900-01-01         NaN          NaN          NaN          NaN          NaN  \n",
      "2015-12-30  1635010587  -4157989321  -5599032927            0            0  \n",
      "2016-06-30   164655511  -1222253624  -1840069164            0            0  \n",
      "2016-09-30    63868668   -766080221   -489723045            0            0  \n",
      "2016-12-30  3690977278   3164869768  -1073645607            0            0  \n",
      "2017-06-30   245618550            0            0   2717232068   2717232068  \n",
      "2017-09-30  1955538245   1171768022    386279038   4812661467   4812661467  \n",
      "2017-12-30   -89289451  -3592992891  -9190089121            0  -7529893535  \n",
      "2018-03-31           0  -1225498458  -1173541435  -1103668799  -1008845466  \n",
      "2018-06-30   717263634   -227421546   -462794588   -201948660    -21906922  \n",
      "2018-09-30  2067403778   1273481246   1208046379    177599383    621504942  \n",
      "2018-12-30   514560222    512749375    428289644   4555587479   4964834925  \n",
      "2019-03-31  1613092045    849268758    791843063            0            0  \n",
      "2019-06-30   828253576   -171652102   -284512972   3166387093   3177739087  \n",
      "2019-09-30  1108228931    510950298    337100507   1962180045   2499226305  \n",
      "2019-12-30  1764144724    473578684    566650467   2854514902  -2825071262  \n",
      "              종목코드         유동자산         부채총계         자본총계          매출액  \\\n",
      "1900-01-01     NaN          NaN          NaN          NaN          NaN   \n",
      "2015-12-30  060310  16069077218  29420163240  37939808456  23210541648   \n",
      "2016-06-30  060310  13582609176  21382562181  34888339748   6534629920   \n",
      "2016-09-30  060310  17985342311  24678327990  35061777226   7357350855   \n",
      "2016-12-30  060310  13426668881  23142629825  34603759371   9850440880   \n",
      "2017-06-30  060310  12963850356  22170000793  27854998694   7192915640   \n",
      "2017-09-30  060310  15427768735  23885585514  28208080133   9225760158   \n",
      "2017-12-30  060310  16712868726  24527236916  29179666781  10067612120   \n",
      "2018-03-31  060310  11992121662  16870572704  31463895532   7536828503   \n",
      "2018-06-30  060310  13293539593  18258139949  30965674005   6743873607   \n",
      "2018-09-30  060310  20026810511  24238513809  32178657324   8861182901   \n",
      "2018-12-30  060310  12801669723  18768660365  30752338694   8404285174   \n",
      "2019-03-31  060310  17545667958  17607619485  35150349276   7468642401   \n",
      "2019-06-30  060310  17092745843  16747140443  34870441401   4942146133   \n",
      "2019-09-30  060310  17721049522  17128368773  35193485505   5180003764   \n",
      "2019-12-30  060310  18079335574  18957538831  34371682381  18161147186   \n",
      "2020-03-31  060310  15466570449  15959504632  32883255312   4265511667   \n",
      "2020-06-30  060310  19335345751  18355509592  32177687794   6705135143   \n",
      "2020-09-30  060310  18893316416  19813437483  32350170290   8764498346   \n",
      "2020-12-30  060310  16100334467  16293352322  33365022299   2856870062   \n",
      "\n",
      "                 매출총이익         영업이익        당기순이익     영업활동현금흐름       잉여현금흐름  \n",
      "1900-01-01         NaN          NaN          NaN          NaN          NaN  \n",
      "2015-12-30  1635010587  -4157989321  -5599032927            0            0  \n",
      "2016-06-30   164655511  -1222253624  -1840069164            0            0  \n",
      "2016-09-30    63868668   -766080221   -489723045            0            0  \n",
      "2016-12-30  3690977278   3164869768  -1073645607            0            0  \n",
      "2017-06-30   245618550            0            0   2717232068   2717232068  \n",
      "2017-09-30  1955538245   1171768022    386279038   4812661467   4812661467  \n",
      "2017-12-30   -89289451  -3592992891  -9190089121            0  -7529893535  \n",
      "2018-03-31           0  -1225498458  -1173541435  -1103668799  -1008845466  \n",
      "2018-06-30   717263634   -227421546   -462794588   -201948660    -21906922  \n",
      "2018-09-30  2067403778   1273481246   1208046379    177599383    621504942  \n",
      "2018-12-30   514560222    512749375    428289644   4555587479   4964834925  \n",
      "2019-03-31  1613092045    849268758    791843063            0            0  \n",
      "2019-06-30   828253576   -171652102   -284512972   3166387093   3177739087  \n",
      "2019-09-30  1108228931    510950298    337100507   1962180045   2499226305  \n",
      "2019-12-30  1764144724    473578684    566650467   2854514902  -2825071262  \n",
      "2020-03-31   450420030   -349996738   -467299923            0            0  \n",
      "2020-06-30   575888395   -453931676   -714274255  -1612113294   -243192325  \n",
      "2020-09-30   776717816    137258073    194700019   -201219534   3486684278  \n",
      "2020-12-30  1910525901   1133851414    -93484160   1188555065  -1033712308  \n",
      "              종목코드         유동자산         부채총계         자본총계          매출액  \\\n",
      "1900-01-01     NaN          NaN          NaN          NaN          NaN   \n",
      "2015-12-30  060310  16069077218  29420163240  37939808456  23210541648   \n",
      "2016-06-30  060310  13582609176  21382562181  34888339748   6534629920   \n",
      "2016-09-30  060310  17985342311  24678327990  35061777226   7357350855   \n",
      "2016-12-30  060310  13426668881  23142629825  34603759371   9850440880   \n",
      "2017-06-30  060310  12963850356  22170000793  27854998694   7192915640   \n",
      "2017-09-30  060310  15427768735  23885585514  28208080133   9225760158   \n",
      "2017-12-30  060310  16712868726  24527236916  29179666781  10067612120   \n",
      "2018-03-31  060310  11992121662  16870572704  31463895532   7536828503   \n",
      "2018-06-30  060310  13293539593  18258139949  30965674005   6743873607   \n",
      "2018-09-30  060310  20026810511  24238513809  32178657324   8861182901   \n",
      "2018-12-30  060310  12801669723  18768660365  30752338694   8404285174   \n",
      "2019-03-31  060310  17545667958  17607619485  35150349276   7468642401   \n",
      "2019-06-30  060310  17092745843  16747140443  34870441401   4942146133   \n",
      "2019-09-30  060310  17721049522  17128368773  35193485505   5180003764   \n",
      "2019-12-30  060310  18079335574  18957538831  34371682381  18161147186   \n",
      "2020-03-31  060310  15466570449  15959504632  32883255312   4265511667   \n",
      "2020-06-30  060310  19335345751  18355509592  32177687794   6705135143   \n",
      "2020-09-30  060310  18893316416  19813437483  32350170290   8764498346   \n",
      "2020-12-30  060310  16100334467  16293352322  33365022299   2856870062   \n",
      "2021-03-31  060310  19475037181  20507257700  37025096733   3775878119   \n",
      "2021-06-30  060310  23161861807  22382842218  38562631695   7644208574   \n",
      "2021-09-30  060310  28475453922  26090156538  39604250285   6642030087   \n",
      "2021-12-30  060310  18070667851  18068427911  36546324438   5415791603   \n",
      "\n",
      "                  매출총이익         영업이익        당기순이익     영업활동현금흐름       잉여현금흐름  \n",
      "1900-01-01          NaN          NaN          NaN          NaN          NaN  \n",
      "2015-12-30   1635010587  -4157989321  -5599032927            0            0  \n",
      "2016-06-30    164655511  -1222253624  -1840069164            0            0  \n",
      "2016-09-30     63868668   -766080221   -489723045            0            0  \n",
      "2016-12-30   3690977278   3164869768  -1073645607            0            0  \n",
      "2017-06-30    245618550            0            0   2717232068   2717232068  \n",
      "2017-09-30   1955538245   1171768022    386279038   4812661467   4812661467  \n",
      "2017-12-30    -89289451  -3592992891  -9190089121            0  -7529893535  \n",
      "2018-03-31            0  -1225498458  -1173541435  -1103668799  -1008845466  \n",
      "2018-06-30    717263634   -227421546   -462794588   -201948660    -21906922  \n",
      "2018-09-30   2067403778   1273481246   1208046379    177599383    621504942  \n",
      "2018-12-30    514560222    512749375    428289644   4555587479   4964834925  \n",
      "2019-03-31   1613092045    849268758    791843063            0            0  \n",
      "2019-06-30    828253576   -171652102   -284512972   3166387093   3177739087  \n",
      "2019-09-30   1108228931    510950298    337100507   1962180045   2499226305  \n",
      "2019-12-30   1764144724    473578684    566650467   2854514902  -2825071262  \n",
      "2020-03-31    450420030   -349996738   -467299923            0            0  \n",
      "2020-06-30    575888395   -453931676   -714274255  -1612113294   -243192325  \n",
      "2020-09-30    776717816    137258073    194700019   -201219534   3486684278  \n",
      "2020-12-30   1910525901   1133851414    -93484160   1188555065  -1033712308  \n",
      "2021-03-31    509620804   -281517202   -362882021            0            0  \n",
      "2021-06-30   2068686162   1338141374   1482705017   -317040239   1298059518  \n",
      "2021-09-30   1762335713    965504290   1022087537   4568417303   8637011676  \n",
      "2021-12-30  -2865156741  -3430394412  -1446575650    871088551  -7250311033  \n",
      "              종목코드          유동자산           부채총계 자본총계  매출액 매출총이익         영업이익  \\\n",
      "1900-01-01     NaN           NaN            NaN  NaN  NaN   NaN          NaN   \n",
      "2015-12-30  095570  252774438116  1327188368579    0    0     0  74258957322   \n",
      "\n",
      "                  당기순이익 영업활동현금흐름 잉여현금흐름  \n",
      "1900-01-01          NaN      NaN    NaN  \n",
      "2015-12-30  28991066418        0      0  \n",
      "              종목코드          유동자산           부채총계 자본총계  매출액 매출총이익         영업이익  \\\n",
      "1900-01-01     NaN           NaN            NaN  NaN  NaN   NaN          NaN   \n",
      "2015-12-30  095570  252774438116  1327188368579    0    0     0  74258957322   \n",
      "2016-03-31  095570             0  1398491336539    0    0     0            0   \n",
      "2016-06-30  095570             0  1516245571201    0    0     0            0   \n",
      "2016-09-30  095570             0  1562642599514    0    0     0            0   \n",
      "2016-12-30  095570             0  1653831151606    0    0     0            0   \n",
      "\n",
      "                   당기순이익 영업활동현금흐름 잉여현금흐름  \n",
      "1900-01-01           NaN      NaN    NaN  \n",
      "2015-12-30   28991066418        0      0  \n",
      "2016-03-31    6047831835        0      0  \n",
      "2016-06-30    6572797036        0      0  \n",
      "2016-09-30             0        0      0  \n",
      "2016-12-30  -12620628871        0      0  \n",
      "              종목코드          유동자산           부채총계          자본총계  매출액 매출총이익  \\\n",
      "1900-01-01     NaN           NaN            NaN           NaN  NaN   NaN   \n",
      "2015-12-30  095570  252774438116  1327188368579             0    0     0   \n",
      "2016-03-31  095570             0  1398491336539             0    0     0   \n",
      "2016-06-30  095570             0  1516245571201             0    0     0   \n",
      "2016-09-30  095570             0  1562642599514             0    0     0   \n",
      "2016-12-30  095570             0  1653831151606             0    0     0   \n",
      "2017-03-31  095570             0  1695393307678             0    0     0   \n",
      "2017-06-30  095570             0  1757596715794             0    0     0   \n",
      "2017-09-30  095570  297507805803  1810556839044  446025426853    0     0   \n",
      "2017-12-30  095570  318877073839  1907060853223  447172881277    0     0   \n",
      "\n",
      "                   영업이익         당기순이익       영업활동현금흐름 잉여현금흐름  \n",
      "1900-01-01          NaN           NaN            NaN    NaN  \n",
      "2015-12-30  74258957322   28991066418              0      0  \n",
      "2016-03-31            0    6047831835              0      0  \n",
      "2016-06-30            0    6572797036              0      0  \n",
      "2016-09-30            0             0              0      0  \n",
      "2016-12-30            0  -12620628871              0      0  \n",
      "2017-03-31            0             0              0      0  \n",
      "2017-06-30            0             0              0      0  \n",
      "2017-09-30  20838746277    8304847844              0      0  \n",
      "2017-12-30  56382841063   12342332059  -148475141851      0  \n",
      "              종목코드           유동자산           부채총계          자본총계  매출액 매출총이익  \\\n",
      "1900-01-01     NaN            NaN            NaN           NaN  NaN   NaN   \n",
      "2015-12-30  095570   252774438116  1327188368579             0    0     0   \n",
      "2016-03-31  095570              0  1398491336539             0    0     0   \n",
      "2016-06-30  095570              0  1516245571201             0    0     0   \n",
      "2016-09-30  095570              0  1562642599514             0    0     0   \n",
      "2016-12-30  095570              0  1653831151606             0    0     0   \n",
      "2017-03-31  095570              0  1695393307678             0    0     0   \n",
      "2017-06-30  095570              0  1757596715794             0    0     0   \n",
      "2017-09-30  095570   297507805803  1810556839044  446025426853    0     0   \n",
      "2017-12-30  095570   318877073839  1907060853223  447172881277    0     0   \n",
      "2018-03-31  095570   424606444866  1970612745657  453500699141    0     0   \n",
      "2018-06-30  095570   421843519163  1964390105338  504029598566    0     0   \n",
      "2018-09-30  095570  1603558758217  2105387063154  517594103409    0     0   \n",
      "2018-12-30  095570  1511355997808  2083331488612  491807972747    0     0   \n",
      "\n",
      "                    영업이익         당기순이익       영업활동현금흐름 잉여현금흐름  \n",
      "1900-01-01           NaN           NaN            NaN    NaN  \n",
      "2015-12-30   74258957322   28991066418              0      0  \n",
      "2016-03-31             0    6047831835              0      0  \n",
      "2016-06-30             0    6572797036              0      0  \n",
      "2016-09-30             0             0              0      0  \n",
      "2016-12-30             0  -12620628871              0      0  \n",
      "2017-03-31             0             0              0      0  \n",
      "2017-06-30             0             0              0      0  \n",
      "2017-09-30   20838746277    8304847844              0      0  \n",
      "2017-12-30   56382841063   12342332059  -148475141851      0  \n",
      "2018-03-31   13986434145    9982225625   -23469830203      0  \n",
      "2018-06-30   11681483620   -4738628954   -93722942464      0  \n",
      "2018-09-30    9299628964    4897453512  -138199040191      0  \n",
      "2018-12-30  -56249233579   27127792255   -74845911546      0  \n"
     ]
    },
    {
     "ename": "ConnectionError",
     "evalue": "('Connection aborted.', RemoteDisconnected('Remote end closed connection without response'))",
     "output_type": "error",
     "traceback": [
      "\u001B[1;31m---------------------------------------------------------------------------\u001B[0m",
      "\u001B[1;31mRemoteDisconnected\u001B[0m                        Traceback (most recent call last)",
      "File \u001B[1;32mc:\\users\\wkdwoo\\appdata\\local\\programs\\python\\python38\\lib\\site-packages\\urllib3\\connectionpool.py:699\u001B[0m, in \u001B[0;36mHTTPConnectionPool.urlopen\u001B[1;34m(self, method, url, body, headers, retries, redirect, assert_same_host, timeout, pool_timeout, release_conn, chunked, body_pos, **response_kw)\u001B[0m\n\u001B[0;32m    698\u001B[0m \u001B[38;5;66;03m# Make the request on the httplib connection object.\u001B[39;00m\n\u001B[1;32m--> 699\u001B[0m httplib_response \u001B[38;5;241m=\u001B[39m \u001B[38;5;28;43mself\u001B[39;49m\u001B[38;5;241;43m.\u001B[39;49m\u001B[43m_make_request\u001B[49m\u001B[43m(\u001B[49m\n\u001B[0;32m    700\u001B[0m \u001B[43m    \u001B[49m\u001B[43mconn\u001B[49m\u001B[43m,\u001B[49m\n\u001B[0;32m    701\u001B[0m \u001B[43m    \u001B[49m\u001B[43mmethod\u001B[49m\u001B[43m,\u001B[49m\n\u001B[0;32m    702\u001B[0m \u001B[43m    \u001B[49m\u001B[43murl\u001B[49m\u001B[43m,\u001B[49m\n\u001B[0;32m    703\u001B[0m \u001B[43m    \u001B[49m\u001B[43mtimeout\u001B[49m\u001B[38;5;241;43m=\u001B[39;49m\u001B[43mtimeout_obj\u001B[49m\u001B[43m,\u001B[49m\n\u001B[0;32m    704\u001B[0m \u001B[43m    \u001B[49m\u001B[43mbody\u001B[49m\u001B[38;5;241;43m=\u001B[39;49m\u001B[43mbody\u001B[49m\u001B[43m,\u001B[49m\n\u001B[0;32m    705\u001B[0m \u001B[43m    \u001B[49m\u001B[43mheaders\u001B[49m\u001B[38;5;241;43m=\u001B[39;49m\u001B[43mheaders\u001B[49m\u001B[43m,\u001B[49m\n\u001B[0;32m    706\u001B[0m \u001B[43m    \u001B[49m\u001B[43mchunked\u001B[49m\u001B[38;5;241;43m=\u001B[39;49m\u001B[43mchunked\u001B[49m\u001B[43m,\u001B[49m\n\u001B[0;32m    707\u001B[0m \u001B[43m\u001B[49m\u001B[43m)\u001B[49m\n\u001B[0;32m    709\u001B[0m \u001B[38;5;66;03m# If we're going to release the connection in ``finally:``, then\u001B[39;00m\n\u001B[0;32m    710\u001B[0m \u001B[38;5;66;03m# the response doesn't need to know about the connection. Otherwise\u001B[39;00m\n\u001B[0;32m    711\u001B[0m \u001B[38;5;66;03m# it will also try to release it and we'll have a double-release\u001B[39;00m\n\u001B[0;32m    712\u001B[0m \u001B[38;5;66;03m# mess.\u001B[39;00m\n",
      "File \u001B[1;32mc:\\users\\wkdwoo\\appdata\\local\\programs\\python\\python38\\lib\\site-packages\\urllib3\\connectionpool.py:445\u001B[0m, in \u001B[0;36mHTTPConnectionPool._make_request\u001B[1;34m(self, conn, method, url, timeout, chunked, **httplib_request_kw)\u001B[0m\n\u001B[0;32m    441\u001B[0m         \u001B[38;5;28;01mexcept\u001B[39;00m \u001B[38;5;167;01mBaseException\u001B[39;00m \u001B[38;5;28;01mas\u001B[39;00m e:\n\u001B[0;32m    442\u001B[0m             \u001B[38;5;66;03m# Remove the TypeError from the exception chain in\u001B[39;00m\n\u001B[0;32m    443\u001B[0m             \u001B[38;5;66;03m# Python 3 (including for exceptions like SystemExit).\u001B[39;00m\n\u001B[0;32m    444\u001B[0m             \u001B[38;5;66;03m# Otherwise it looks like a bug in the code.\u001B[39;00m\n\u001B[1;32m--> 445\u001B[0m             \u001B[43msix\u001B[49m\u001B[38;5;241;43m.\u001B[39;49m\u001B[43mraise_from\u001B[49m\u001B[43m(\u001B[49m\u001B[43me\u001B[49m\u001B[43m,\u001B[49m\u001B[43m \u001B[49m\u001B[38;5;28;43;01mNone\u001B[39;49;00m\u001B[43m)\u001B[49m\n\u001B[0;32m    446\u001B[0m \u001B[38;5;28;01mexcept\u001B[39;00m (SocketTimeout, BaseSSLError, SocketError) \u001B[38;5;28;01mas\u001B[39;00m e:\n",
      "File \u001B[1;32m<string>:3\u001B[0m, in \u001B[0;36mraise_from\u001B[1;34m(value, from_value)\u001B[0m\n",
      "File \u001B[1;32mc:\\users\\wkdwoo\\appdata\\local\\programs\\python\\python38\\lib\\site-packages\\urllib3\\connectionpool.py:440\u001B[0m, in \u001B[0;36mHTTPConnectionPool._make_request\u001B[1;34m(self, conn, method, url, timeout, chunked, **httplib_request_kw)\u001B[0m\n\u001B[0;32m    439\u001B[0m \u001B[38;5;28;01mtry\u001B[39;00m:\n\u001B[1;32m--> 440\u001B[0m     httplib_response \u001B[38;5;241m=\u001B[39m \u001B[43mconn\u001B[49m\u001B[38;5;241;43m.\u001B[39;49m\u001B[43mgetresponse\u001B[49m\u001B[43m(\u001B[49m\u001B[43m)\u001B[49m\n\u001B[0;32m    441\u001B[0m \u001B[38;5;28;01mexcept\u001B[39;00m \u001B[38;5;167;01mBaseException\u001B[39;00m \u001B[38;5;28;01mas\u001B[39;00m e:\n\u001B[0;32m    442\u001B[0m     \u001B[38;5;66;03m# Remove the TypeError from the exception chain in\u001B[39;00m\n\u001B[0;32m    443\u001B[0m     \u001B[38;5;66;03m# Python 3 (including for exceptions like SystemExit).\u001B[39;00m\n\u001B[0;32m    444\u001B[0m     \u001B[38;5;66;03m# Otherwise it looks like a bug in the code.\u001B[39;00m\n",
      "File \u001B[1;32mc:\\users\\wkdwoo\\appdata\\local\\programs\\python\\python38\\lib\\http\\client.py:1347\u001B[0m, in \u001B[0;36mHTTPConnection.getresponse\u001B[1;34m(self)\u001B[0m\n\u001B[0;32m   1346\u001B[0m \u001B[38;5;28;01mtry\u001B[39;00m:\n\u001B[1;32m-> 1347\u001B[0m     \u001B[43mresponse\u001B[49m\u001B[38;5;241;43m.\u001B[39;49m\u001B[43mbegin\u001B[49m\u001B[43m(\u001B[49m\u001B[43m)\u001B[49m\n\u001B[0;32m   1348\u001B[0m \u001B[38;5;28;01mexcept\u001B[39;00m \u001B[38;5;167;01mConnectionError\u001B[39;00m:\n",
      "File \u001B[1;32mc:\\users\\wkdwoo\\appdata\\local\\programs\\python\\python38\\lib\\http\\client.py:307\u001B[0m, in \u001B[0;36mHTTPResponse.begin\u001B[1;34m(self)\u001B[0m\n\u001B[0;32m    306\u001B[0m \u001B[38;5;28;01mwhile\u001B[39;00m \u001B[38;5;28;01mTrue\u001B[39;00m:\n\u001B[1;32m--> 307\u001B[0m     version, status, reason \u001B[38;5;241m=\u001B[39m \u001B[38;5;28;43mself\u001B[39;49m\u001B[38;5;241;43m.\u001B[39;49m\u001B[43m_read_status\u001B[49m\u001B[43m(\u001B[49m\u001B[43m)\u001B[49m\n\u001B[0;32m    308\u001B[0m     \u001B[38;5;28;01mif\u001B[39;00m status \u001B[38;5;241m!=\u001B[39m CONTINUE:\n",
      "File \u001B[1;32mc:\\users\\wkdwoo\\appdata\\local\\programs\\python\\python38\\lib\\http\\client.py:276\u001B[0m, in \u001B[0;36mHTTPResponse._read_status\u001B[1;34m(self)\u001B[0m\n\u001B[0;32m    273\u001B[0m \u001B[38;5;28;01mif\u001B[39;00m \u001B[38;5;129;01mnot\u001B[39;00m line:\n\u001B[0;32m    274\u001B[0m     \u001B[38;5;66;03m# Presumably, the server closed the connection before\u001B[39;00m\n\u001B[0;32m    275\u001B[0m     \u001B[38;5;66;03m# sending a valid response.\u001B[39;00m\n\u001B[1;32m--> 276\u001B[0m     \u001B[38;5;28;01mraise\u001B[39;00m RemoteDisconnected(\u001B[38;5;124m\"\u001B[39m\u001B[38;5;124mRemote end closed connection without\u001B[39m\u001B[38;5;124m\"\u001B[39m\n\u001B[0;32m    277\u001B[0m                              \u001B[38;5;124m\"\u001B[39m\u001B[38;5;124m response\u001B[39m\u001B[38;5;124m\"\u001B[39m)\n\u001B[0;32m    278\u001B[0m \u001B[38;5;28;01mtry\u001B[39;00m:\n",
      "\u001B[1;31mRemoteDisconnected\u001B[0m: Remote end closed connection without response",
      "\nDuring handling of the above exception, another exception occurred:\n",
      "\u001B[1;31mProtocolError\u001B[0m                             Traceback (most recent call last)",
      "File \u001B[1;32mc:\\users\\wkdwoo\\appdata\\local\\programs\\python\\python38\\lib\\site-packages\\requests\\adapters.py:439\u001B[0m, in \u001B[0;36mHTTPAdapter.send\u001B[1;34m(self, request, stream, timeout, verify, cert, proxies)\u001B[0m\n\u001B[0;32m    438\u001B[0m \u001B[38;5;28;01mif\u001B[39;00m \u001B[38;5;129;01mnot\u001B[39;00m chunked:\n\u001B[1;32m--> 439\u001B[0m     resp \u001B[38;5;241m=\u001B[39m \u001B[43mconn\u001B[49m\u001B[38;5;241;43m.\u001B[39;49m\u001B[43murlopen\u001B[49m\u001B[43m(\u001B[49m\n\u001B[0;32m    440\u001B[0m \u001B[43m        \u001B[49m\u001B[43mmethod\u001B[49m\u001B[38;5;241;43m=\u001B[39;49m\u001B[43mrequest\u001B[49m\u001B[38;5;241;43m.\u001B[39;49m\u001B[43mmethod\u001B[49m\u001B[43m,\u001B[49m\n\u001B[0;32m    441\u001B[0m \u001B[43m        \u001B[49m\u001B[43murl\u001B[49m\u001B[38;5;241;43m=\u001B[39;49m\u001B[43murl\u001B[49m\u001B[43m,\u001B[49m\n\u001B[0;32m    442\u001B[0m \u001B[43m        \u001B[49m\u001B[43mbody\u001B[49m\u001B[38;5;241;43m=\u001B[39;49m\u001B[43mrequest\u001B[49m\u001B[38;5;241;43m.\u001B[39;49m\u001B[43mbody\u001B[49m\u001B[43m,\u001B[49m\n\u001B[0;32m    443\u001B[0m \u001B[43m        \u001B[49m\u001B[43mheaders\u001B[49m\u001B[38;5;241;43m=\u001B[39;49m\u001B[43mrequest\u001B[49m\u001B[38;5;241;43m.\u001B[39;49m\u001B[43mheaders\u001B[49m\u001B[43m,\u001B[49m\n\u001B[0;32m    444\u001B[0m \u001B[43m        \u001B[49m\u001B[43mredirect\u001B[49m\u001B[38;5;241;43m=\u001B[39;49m\u001B[38;5;28;43;01mFalse\u001B[39;49;00m\u001B[43m,\u001B[49m\n\u001B[0;32m    445\u001B[0m \u001B[43m        \u001B[49m\u001B[43massert_same_host\u001B[49m\u001B[38;5;241;43m=\u001B[39;49m\u001B[38;5;28;43;01mFalse\u001B[39;49;00m\u001B[43m,\u001B[49m\n\u001B[0;32m    446\u001B[0m \u001B[43m        \u001B[49m\u001B[43mpreload_content\u001B[49m\u001B[38;5;241;43m=\u001B[39;49m\u001B[38;5;28;43;01mFalse\u001B[39;49;00m\u001B[43m,\u001B[49m\n\u001B[0;32m    447\u001B[0m \u001B[43m        \u001B[49m\u001B[43mdecode_content\u001B[49m\u001B[38;5;241;43m=\u001B[39;49m\u001B[38;5;28;43;01mFalse\u001B[39;49;00m\u001B[43m,\u001B[49m\n\u001B[0;32m    448\u001B[0m \u001B[43m        \u001B[49m\u001B[43mretries\u001B[49m\u001B[38;5;241;43m=\u001B[39;49m\u001B[38;5;28;43mself\u001B[39;49m\u001B[38;5;241;43m.\u001B[39;49m\u001B[43mmax_retries\u001B[49m\u001B[43m,\u001B[49m\n\u001B[0;32m    449\u001B[0m \u001B[43m        \u001B[49m\u001B[43mtimeout\u001B[49m\u001B[38;5;241;43m=\u001B[39;49m\u001B[43mtimeout\u001B[49m\n\u001B[0;32m    450\u001B[0m \u001B[43m    \u001B[49m\u001B[43m)\u001B[49m\n\u001B[0;32m    452\u001B[0m \u001B[38;5;66;03m# Send the request.\u001B[39;00m\n\u001B[0;32m    453\u001B[0m \u001B[38;5;28;01melse\u001B[39;00m:\n",
      "File \u001B[1;32mc:\\users\\wkdwoo\\appdata\\local\\programs\\python\\python38\\lib\\site-packages\\urllib3\\connectionpool.py:755\u001B[0m, in \u001B[0;36mHTTPConnectionPool.urlopen\u001B[1;34m(self, method, url, body, headers, retries, redirect, assert_same_host, timeout, pool_timeout, release_conn, chunked, body_pos, **response_kw)\u001B[0m\n\u001B[0;32m    753\u001B[0m     e \u001B[38;5;241m=\u001B[39m ProtocolError(\u001B[38;5;124m\"\u001B[39m\u001B[38;5;124mConnection aborted.\u001B[39m\u001B[38;5;124m\"\u001B[39m, e)\n\u001B[1;32m--> 755\u001B[0m retries \u001B[38;5;241m=\u001B[39m \u001B[43mretries\u001B[49m\u001B[38;5;241;43m.\u001B[39;49m\u001B[43mincrement\u001B[49m\u001B[43m(\u001B[49m\n\u001B[0;32m    756\u001B[0m \u001B[43m    \u001B[49m\u001B[43mmethod\u001B[49m\u001B[43m,\u001B[49m\u001B[43m \u001B[49m\u001B[43murl\u001B[49m\u001B[43m,\u001B[49m\u001B[43m \u001B[49m\u001B[43merror\u001B[49m\u001B[38;5;241;43m=\u001B[39;49m\u001B[43me\u001B[49m\u001B[43m,\u001B[49m\u001B[43m \u001B[49m\u001B[43m_pool\u001B[49m\u001B[38;5;241;43m=\u001B[39;49m\u001B[38;5;28;43mself\u001B[39;49m\u001B[43m,\u001B[49m\u001B[43m \u001B[49m\u001B[43m_stacktrace\u001B[49m\u001B[38;5;241;43m=\u001B[39;49m\u001B[43msys\u001B[49m\u001B[38;5;241;43m.\u001B[39;49m\u001B[43mexc_info\u001B[49m\u001B[43m(\u001B[49m\u001B[43m)\u001B[49m\u001B[43m[\u001B[49m\u001B[38;5;241;43m2\u001B[39;49m\u001B[43m]\u001B[49m\n\u001B[0;32m    757\u001B[0m \u001B[43m\u001B[49m\u001B[43m)\u001B[49m\n\u001B[0;32m    758\u001B[0m retries\u001B[38;5;241m.\u001B[39msleep()\n",
      "File \u001B[1;32mc:\\users\\wkdwoo\\appdata\\local\\programs\\python\\python38\\lib\\site-packages\\urllib3\\util\\retry.py:531\u001B[0m, in \u001B[0;36mRetry.increment\u001B[1;34m(self, method, url, response, error, _pool, _stacktrace)\u001B[0m\n\u001B[0;32m    530\u001B[0m \u001B[38;5;28;01mif\u001B[39;00m read \u001B[38;5;129;01mis\u001B[39;00m \u001B[38;5;28;01mFalse\u001B[39;00m \u001B[38;5;129;01mor\u001B[39;00m \u001B[38;5;129;01mnot\u001B[39;00m \u001B[38;5;28mself\u001B[39m\u001B[38;5;241m.\u001B[39m_is_method_retryable(method):\n\u001B[1;32m--> 531\u001B[0m     \u001B[38;5;28;01mraise\u001B[39;00m \u001B[43msix\u001B[49m\u001B[38;5;241;43m.\u001B[39;49m\u001B[43mreraise\u001B[49m\u001B[43m(\u001B[49m\u001B[38;5;28;43mtype\u001B[39;49m\u001B[43m(\u001B[49m\u001B[43merror\u001B[49m\u001B[43m)\u001B[49m\u001B[43m,\u001B[49m\u001B[43m \u001B[49m\u001B[43merror\u001B[49m\u001B[43m,\u001B[49m\u001B[43m \u001B[49m\u001B[43m_stacktrace\u001B[49m\u001B[43m)\u001B[49m\n\u001B[0;32m    532\u001B[0m \u001B[38;5;28;01melif\u001B[39;00m read \u001B[38;5;129;01mis\u001B[39;00m \u001B[38;5;129;01mnot\u001B[39;00m \u001B[38;5;28;01mNone\u001B[39;00m:\n",
      "File \u001B[1;32mc:\\users\\wkdwoo\\appdata\\local\\programs\\python\\python38\\lib\\site-packages\\urllib3\\packages\\six.py:734\u001B[0m, in \u001B[0;36mreraise\u001B[1;34m(tp, value, tb)\u001B[0m\n\u001B[0;32m    733\u001B[0m \u001B[38;5;28;01mif\u001B[39;00m value\u001B[38;5;241m.\u001B[39m__traceback__ \u001B[38;5;129;01mis\u001B[39;00m \u001B[38;5;129;01mnot\u001B[39;00m tb:\n\u001B[1;32m--> 734\u001B[0m     \u001B[38;5;28;01mraise\u001B[39;00m value\u001B[38;5;241m.\u001B[39mwith_traceback(tb)\n\u001B[0;32m    735\u001B[0m \u001B[38;5;28;01mraise\u001B[39;00m value\n",
      "File \u001B[1;32mc:\\users\\wkdwoo\\appdata\\local\\programs\\python\\python38\\lib\\site-packages\\urllib3\\connectionpool.py:699\u001B[0m, in \u001B[0;36mHTTPConnectionPool.urlopen\u001B[1;34m(self, method, url, body, headers, retries, redirect, assert_same_host, timeout, pool_timeout, release_conn, chunked, body_pos, **response_kw)\u001B[0m\n\u001B[0;32m    698\u001B[0m \u001B[38;5;66;03m# Make the request on the httplib connection object.\u001B[39;00m\n\u001B[1;32m--> 699\u001B[0m httplib_response \u001B[38;5;241m=\u001B[39m \u001B[38;5;28;43mself\u001B[39;49m\u001B[38;5;241;43m.\u001B[39;49m\u001B[43m_make_request\u001B[49m\u001B[43m(\u001B[49m\n\u001B[0;32m    700\u001B[0m \u001B[43m    \u001B[49m\u001B[43mconn\u001B[49m\u001B[43m,\u001B[49m\n\u001B[0;32m    701\u001B[0m \u001B[43m    \u001B[49m\u001B[43mmethod\u001B[49m\u001B[43m,\u001B[49m\n\u001B[0;32m    702\u001B[0m \u001B[43m    \u001B[49m\u001B[43murl\u001B[49m\u001B[43m,\u001B[49m\n\u001B[0;32m    703\u001B[0m \u001B[43m    \u001B[49m\u001B[43mtimeout\u001B[49m\u001B[38;5;241;43m=\u001B[39;49m\u001B[43mtimeout_obj\u001B[49m\u001B[43m,\u001B[49m\n\u001B[0;32m    704\u001B[0m \u001B[43m    \u001B[49m\u001B[43mbody\u001B[49m\u001B[38;5;241;43m=\u001B[39;49m\u001B[43mbody\u001B[49m\u001B[43m,\u001B[49m\n\u001B[0;32m    705\u001B[0m \u001B[43m    \u001B[49m\u001B[43mheaders\u001B[49m\u001B[38;5;241;43m=\u001B[39;49m\u001B[43mheaders\u001B[49m\u001B[43m,\u001B[49m\n\u001B[0;32m    706\u001B[0m \u001B[43m    \u001B[49m\u001B[43mchunked\u001B[49m\u001B[38;5;241;43m=\u001B[39;49m\u001B[43mchunked\u001B[49m\u001B[43m,\u001B[49m\n\u001B[0;32m    707\u001B[0m \u001B[43m\u001B[49m\u001B[43m)\u001B[49m\n\u001B[0;32m    709\u001B[0m \u001B[38;5;66;03m# If we're going to release the connection in ``finally:``, then\u001B[39;00m\n\u001B[0;32m    710\u001B[0m \u001B[38;5;66;03m# the response doesn't need to know about the connection. Otherwise\u001B[39;00m\n\u001B[0;32m    711\u001B[0m \u001B[38;5;66;03m# it will also try to release it and we'll have a double-release\u001B[39;00m\n\u001B[0;32m    712\u001B[0m \u001B[38;5;66;03m# mess.\u001B[39;00m\n",
      "File \u001B[1;32mc:\\users\\wkdwoo\\appdata\\local\\programs\\python\\python38\\lib\\site-packages\\urllib3\\connectionpool.py:445\u001B[0m, in \u001B[0;36mHTTPConnectionPool._make_request\u001B[1;34m(self, conn, method, url, timeout, chunked, **httplib_request_kw)\u001B[0m\n\u001B[0;32m    441\u001B[0m         \u001B[38;5;28;01mexcept\u001B[39;00m \u001B[38;5;167;01mBaseException\u001B[39;00m \u001B[38;5;28;01mas\u001B[39;00m e:\n\u001B[0;32m    442\u001B[0m             \u001B[38;5;66;03m# Remove the TypeError from the exception chain in\u001B[39;00m\n\u001B[0;32m    443\u001B[0m             \u001B[38;5;66;03m# Python 3 (including for exceptions like SystemExit).\u001B[39;00m\n\u001B[0;32m    444\u001B[0m             \u001B[38;5;66;03m# Otherwise it looks like a bug in the code.\u001B[39;00m\n\u001B[1;32m--> 445\u001B[0m             \u001B[43msix\u001B[49m\u001B[38;5;241;43m.\u001B[39;49m\u001B[43mraise_from\u001B[49m\u001B[43m(\u001B[49m\u001B[43me\u001B[49m\u001B[43m,\u001B[49m\u001B[43m \u001B[49m\u001B[38;5;28;43;01mNone\u001B[39;49;00m\u001B[43m)\u001B[49m\n\u001B[0;32m    446\u001B[0m \u001B[38;5;28;01mexcept\u001B[39;00m (SocketTimeout, BaseSSLError, SocketError) \u001B[38;5;28;01mas\u001B[39;00m e:\n",
      "File \u001B[1;32m<string>:3\u001B[0m, in \u001B[0;36mraise_from\u001B[1;34m(value, from_value)\u001B[0m\n",
      "File \u001B[1;32mc:\\users\\wkdwoo\\appdata\\local\\programs\\python\\python38\\lib\\site-packages\\urllib3\\connectionpool.py:440\u001B[0m, in \u001B[0;36mHTTPConnectionPool._make_request\u001B[1;34m(self, conn, method, url, timeout, chunked, **httplib_request_kw)\u001B[0m\n\u001B[0;32m    439\u001B[0m \u001B[38;5;28;01mtry\u001B[39;00m:\n\u001B[1;32m--> 440\u001B[0m     httplib_response \u001B[38;5;241m=\u001B[39m \u001B[43mconn\u001B[49m\u001B[38;5;241;43m.\u001B[39;49m\u001B[43mgetresponse\u001B[49m\u001B[43m(\u001B[49m\u001B[43m)\u001B[49m\n\u001B[0;32m    441\u001B[0m \u001B[38;5;28;01mexcept\u001B[39;00m \u001B[38;5;167;01mBaseException\u001B[39;00m \u001B[38;5;28;01mas\u001B[39;00m e:\n\u001B[0;32m    442\u001B[0m     \u001B[38;5;66;03m# Remove the TypeError from the exception chain in\u001B[39;00m\n\u001B[0;32m    443\u001B[0m     \u001B[38;5;66;03m# Python 3 (including for exceptions like SystemExit).\u001B[39;00m\n\u001B[0;32m    444\u001B[0m     \u001B[38;5;66;03m# Otherwise it looks like a bug in the code.\u001B[39;00m\n",
      "File \u001B[1;32mc:\\users\\wkdwoo\\appdata\\local\\programs\\python\\python38\\lib\\http\\client.py:1347\u001B[0m, in \u001B[0;36mHTTPConnection.getresponse\u001B[1;34m(self)\u001B[0m\n\u001B[0;32m   1346\u001B[0m \u001B[38;5;28;01mtry\u001B[39;00m:\n\u001B[1;32m-> 1347\u001B[0m     \u001B[43mresponse\u001B[49m\u001B[38;5;241;43m.\u001B[39;49m\u001B[43mbegin\u001B[49m\u001B[43m(\u001B[49m\u001B[43m)\u001B[49m\n\u001B[0;32m   1348\u001B[0m \u001B[38;5;28;01mexcept\u001B[39;00m \u001B[38;5;167;01mConnectionError\u001B[39;00m:\n",
      "File \u001B[1;32mc:\\users\\wkdwoo\\appdata\\local\\programs\\python\\python38\\lib\\http\\client.py:307\u001B[0m, in \u001B[0;36mHTTPResponse.begin\u001B[1;34m(self)\u001B[0m\n\u001B[0;32m    306\u001B[0m \u001B[38;5;28;01mwhile\u001B[39;00m \u001B[38;5;28;01mTrue\u001B[39;00m:\n\u001B[1;32m--> 307\u001B[0m     version, status, reason \u001B[38;5;241m=\u001B[39m \u001B[38;5;28;43mself\u001B[39;49m\u001B[38;5;241;43m.\u001B[39;49m\u001B[43m_read_status\u001B[49m\u001B[43m(\u001B[49m\u001B[43m)\u001B[49m\n\u001B[0;32m    308\u001B[0m     \u001B[38;5;28;01mif\u001B[39;00m status \u001B[38;5;241m!=\u001B[39m CONTINUE:\n",
      "File \u001B[1;32mc:\\users\\wkdwoo\\appdata\\local\\programs\\python\\python38\\lib\\http\\client.py:276\u001B[0m, in \u001B[0;36mHTTPResponse._read_status\u001B[1;34m(self)\u001B[0m\n\u001B[0;32m    273\u001B[0m \u001B[38;5;28;01mif\u001B[39;00m \u001B[38;5;129;01mnot\u001B[39;00m line:\n\u001B[0;32m    274\u001B[0m     \u001B[38;5;66;03m# Presumably, the server closed the connection before\u001B[39;00m\n\u001B[0;32m    275\u001B[0m     \u001B[38;5;66;03m# sending a valid response.\u001B[39;00m\n\u001B[1;32m--> 276\u001B[0m     \u001B[38;5;28;01mraise\u001B[39;00m RemoteDisconnected(\u001B[38;5;124m\"\u001B[39m\u001B[38;5;124mRemote end closed connection without\u001B[39m\u001B[38;5;124m\"\u001B[39m\n\u001B[0;32m    277\u001B[0m                              \u001B[38;5;124m\"\u001B[39m\u001B[38;5;124m response\u001B[39m\u001B[38;5;124m\"\u001B[39m)\n\u001B[0;32m    278\u001B[0m \u001B[38;5;28;01mtry\u001B[39;00m:\n",
      "\u001B[1;31mProtocolError\u001B[0m: ('Connection aborted.', RemoteDisconnected('Remote end closed connection without response'))",
      "\nDuring handling of the above exception, another exception occurred:\n",
      "\u001B[1;31mConnectionError\u001B[0m                           Traceback (most recent call last)",
      "Input \u001B[1;32mIn [16]\u001B[0m, in \u001B[0;36m<module>\u001B[1;34m\u001B[0m\n\u001B[0;32m     33\u001B[0m \u001B[38;5;66;03m# 타입이 NoneType 이 아니면 읽어온다.\u001B[39;00m\n\u001B[0;32m     34\u001B[0m \u001B[38;5;28;01mif\u001B[39;00m \u001B[38;5;28mstr\u001B[39m(\u001B[38;5;28mtype\u001B[39m(dart\u001B[38;5;241m.\u001B[39mfinstate_all(symbol, i, reprt_code\u001B[38;5;241m=\u001B[39mk, fs_div\u001B[38;5;241m=\u001B[39m\u001B[38;5;124m'\u001B[39m\u001B[38;5;124mCFS\u001B[39m\u001B[38;5;124m'\u001B[39m))) \u001B[38;5;241m!=\u001B[39m \u001B[38;5;124m\"\u001B[39m\u001B[38;5;124m<class \u001B[39m\u001B[38;5;124m'\u001B[39m\u001B[38;5;124mNoneType\u001B[39m\u001B[38;5;124m'\u001B[39m\u001B[38;5;124m>\u001B[39m\u001B[38;5;124m\"\u001B[39m:\n\u001B[1;32m---> 35\u001B[0m     df1 \u001B[38;5;241m=\u001B[39m df1\u001B[38;5;241m.\u001B[39mappend(\u001B[43mdart\u001B[49m\u001B[38;5;241;43m.\u001B[39;49m\u001B[43mfinstate_all\u001B[49m\u001B[43m(\u001B[49m\u001B[43msymbol\u001B[49m\u001B[43m,\u001B[49m\u001B[43m \u001B[49m\u001B[43mi\u001B[49m\u001B[43m,\u001B[49m\u001B[43m \u001B[49m\u001B[43mreprt_code\u001B[49m\u001B[38;5;241;43m=\u001B[39;49m\u001B[43mk\u001B[49m\u001B[43m,\u001B[49m\u001B[43m \u001B[49m\u001B[43mfs_div\u001B[49m\u001B[38;5;241;43m=\u001B[39;49m\u001B[38;5;124;43m'\u001B[39;49m\u001B[38;5;124;43mCFS\u001B[39;49m\u001B[38;5;124;43m'\u001B[39;49m\u001B[43m)\u001B[49m)\n\u001B[0;32m     36\u001B[0m     \u001B[38;5;66;03m# 재무상태표 부분\u001B[39;00m\n\u001B[0;32m     37\u001B[0m     condition_1 \u001B[38;5;241m=\u001B[39m (df1\u001B[38;5;241m.\u001B[39msj_nm \u001B[38;5;241m==\u001B[39m \u001B[38;5;124m'\u001B[39m\u001B[38;5;124m재무상태표\u001B[39m\u001B[38;5;124m'\u001B[39m) \u001B[38;5;241m&\u001B[39m (df1\u001B[38;5;241m.\u001B[39maccount_nm \u001B[38;5;241m==\u001B[39m \u001B[38;5;124m'\u001B[39m\u001B[38;5;124m유동자산\u001B[39m\u001B[38;5;124m'\u001B[39m)  \u001B[38;5;66;03m# 유동자산\u001B[39;00m\n",
      "File \u001B[1;32mC:\\workspace\\capstone-finance\\finance-data\\OpenDartReader\\dart.py:115\u001B[0m, in \u001B[0;36mOpenDartReader.finstate_all\u001B[1;34m(self, corp, bsns_year, reprt_code, fs_div)\u001B[0m\n\u001B[0;32m    113\u001B[0m \u001B[38;5;28;01mdef\u001B[39;00m \u001B[38;5;21mfinstate_all\u001B[39m(\u001B[38;5;28mself\u001B[39m, corp, bsns_year, reprt_code\u001B[38;5;241m=\u001B[39m\u001B[38;5;124m'\u001B[39m\u001B[38;5;124m11011\u001B[39m\u001B[38;5;124m'\u001B[39m, fs_div\u001B[38;5;241m=\u001B[39m\u001B[38;5;124m'\u001B[39m\u001B[38;5;124mCFS\u001B[39m\u001B[38;5;124m'\u001B[39m):\n\u001B[0;32m    114\u001B[0m     corp_code \u001B[38;5;241m=\u001B[39m \u001B[38;5;28mself\u001B[39m\u001B[38;5;241m.\u001B[39mfind_corp_code(corp)\n\u001B[1;32m--> 115\u001B[0m     \u001B[38;5;28;01mreturn\u001B[39;00m \u001B[43mdart_finstate\u001B[49m\u001B[38;5;241;43m.\u001B[39;49m\u001B[43mfinstate_all\u001B[49m\u001B[43m(\u001B[49m\u001B[38;5;28;43mself\u001B[39;49m\u001B[38;5;241;43m.\u001B[39;49m\u001B[43mapi_key\u001B[49m\u001B[43m,\u001B[49m\u001B[43m \u001B[49m\u001B[43mcorp_code\u001B[49m\u001B[43m,\u001B[49m\u001B[43m \u001B[49m\u001B[43mbsns_year\u001B[49m\u001B[43m,\u001B[49m\u001B[43m \u001B[49m\u001B[43mreprt_code\u001B[49m\u001B[38;5;241;43m=\u001B[39;49m\u001B[43mreprt_code\u001B[49m\u001B[43m,\u001B[49m\u001B[43m \u001B[49m\u001B[43mfs_div\u001B[49m\u001B[38;5;241;43m=\u001B[39;49m\u001B[43mfs_div\u001B[49m\u001B[43m)\u001B[49m\n",
      "File \u001B[1;32mC:\\workspace\\capstone-finance\\finance-data\\OpenDartReader\\dart_finstate.py:72\u001B[0m, in \u001B[0;36mfinstate_all\u001B[1;34m(api_key, corp_code, bsns_year, reprt_code, fs_div)\u001B[0m\n\u001B[0;32m     63\u001B[0m url \u001B[38;5;241m=\u001B[39m \u001B[38;5;124m'\u001B[39m\u001B[38;5;124mhttps://opendart.fss.or.kr/api/fnlttSinglAcntAll.json\u001B[39m\u001B[38;5;124m'\u001B[39m\n\u001B[0;32m     64\u001B[0m params \u001B[38;5;241m=\u001B[39m {\n\u001B[0;32m     65\u001B[0m     \u001B[38;5;124m'\u001B[39m\u001B[38;5;124mcrtfc_key\u001B[39m\u001B[38;5;124m'\u001B[39m: api_key,\n\u001B[0;32m     66\u001B[0m     \u001B[38;5;124m'\u001B[39m\u001B[38;5;124mcorp_code\u001B[39m\u001B[38;5;124m'\u001B[39m: corp_code,\n\u001B[1;32m   (...)\u001B[0m\n\u001B[0;32m     69\u001B[0m     \u001B[38;5;124m'\u001B[39m\u001B[38;5;124mfs_div\u001B[39m\u001B[38;5;124m'\u001B[39m: fs_div,  \u001B[38;5;66;03m# \"CFS\":연결재무제표, \"OFS\":재무제표\u001B[39;00m\n\u001B[0;32m     70\u001B[0m }\n\u001B[1;32m---> 72\u001B[0m r \u001B[38;5;241m=\u001B[39m \u001B[43mrequests\u001B[49m\u001B[38;5;241;43m.\u001B[39;49m\u001B[43mget\u001B[49m\u001B[43m(\u001B[49m\u001B[43murl\u001B[49m\u001B[43m,\u001B[49m\u001B[43m \u001B[49m\u001B[43mparams\u001B[49m\u001B[38;5;241;43m=\u001B[39;49m\u001B[43mparams\u001B[49m\u001B[43m)\u001B[49m\n\u001B[0;32m     73\u001B[0m jo \u001B[38;5;241m=\u001B[39m json\u001B[38;5;241m.\u001B[39mloads(r\u001B[38;5;241m.\u001B[39mtext)\n\u001B[0;32m     74\u001B[0m \u001B[38;5;28;01mif\u001B[39;00m \u001B[38;5;124m'\u001B[39m\u001B[38;5;124mlist\u001B[39m\u001B[38;5;124m'\u001B[39m \u001B[38;5;129;01mnot\u001B[39;00m \u001B[38;5;129;01min\u001B[39;00m jo:\n",
      "File \u001B[1;32mc:\\users\\wkdwoo\\appdata\\local\\programs\\python\\python38\\lib\\site-packages\\requests\\api.py:76\u001B[0m, in \u001B[0;36mget\u001B[1;34m(url, params, **kwargs)\u001B[0m\n\u001B[0;32m     65\u001B[0m \u001B[38;5;124mr\u001B[39m\u001B[38;5;124;03m\"\"\"Sends a GET request.\u001B[39;00m\n\u001B[0;32m     66\u001B[0m \n\u001B[0;32m     67\u001B[0m \u001B[38;5;124;03m:param url: URL for the new :class:`Request` object.\u001B[39;00m\n\u001B[1;32m   (...)\u001B[0m\n\u001B[0;32m     72\u001B[0m \u001B[38;5;124;03m:rtype: requests.Response\u001B[39;00m\n\u001B[0;32m     73\u001B[0m \u001B[38;5;124;03m\"\"\"\u001B[39;00m\n\u001B[0;32m     75\u001B[0m kwargs\u001B[38;5;241m.\u001B[39msetdefault(\u001B[38;5;124m'\u001B[39m\u001B[38;5;124mallow_redirects\u001B[39m\u001B[38;5;124m'\u001B[39m, \u001B[38;5;28;01mTrue\u001B[39;00m)\n\u001B[1;32m---> 76\u001B[0m \u001B[38;5;28;01mreturn\u001B[39;00m \u001B[43mrequest\u001B[49m\u001B[43m(\u001B[49m\u001B[38;5;124;43m'\u001B[39;49m\u001B[38;5;124;43mget\u001B[39;49m\u001B[38;5;124;43m'\u001B[39;49m\u001B[43m,\u001B[49m\u001B[43m \u001B[49m\u001B[43murl\u001B[49m\u001B[43m,\u001B[49m\u001B[43m \u001B[49m\u001B[43mparams\u001B[49m\u001B[38;5;241;43m=\u001B[39;49m\u001B[43mparams\u001B[49m\u001B[43m,\u001B[49m\u001B[43m \u001B[49m\u001B[38;5;241;43m*\u001B[39;49m\u001B[38;5;241;43m*\u001B[39;49m\u001B[43mkwargs\u001B[49m\u001B[43m)\u001B[49m\n",
      "File \u001B[1;32mc:\\users\\wkdwoo\\appdata\\local\\programs\\python\\python38\\lib\\site-packages\\requests\\api.py:61\u001B[0m, in \u001B[0;36mrequest\u001B[1;34m(method, url, **kwargs)\u001B[0m\n\u001B[0;32m     57\u001B[0m \u001B[38;5;66;03m# By using the 'with' statement we are sure the session is closed, thus we\u001B[39;00m\n\u001B[0;32m     58\u001B[0m \u001B[38;5;66;03m# avoid leaving sockets open which can trigger a ResourceWarning in some\u001B[39;00m\n\u001B[0;32m     59\u001B[0m \u001B[38;5;66;03m# cases, and look like a memory leak in others.\u001B[39;00m\n\u001B[0;32m     60\u001B[0m \u001B[38;5;28;01mwith\u001B[39;00m sessions\u001B[38;5;241m.\u001B[39mSession() \u001B[38;5;28;01mas\u001B[39;00m session:\n\u001B[1;32m---> 61\u001B[0m     \u001B[38;5;28;01mreturn\u001B[39;00m \u001B[43msession\u001B[49m\u001B[38;5;241;43m.\u001B[39;49m\u001B[43mrequest\u001B[49m\u001B[43m(\u001B[49m\u001B[43mmethod\u001B[49m\u001B[38;5;241;43m=\u001B[39;49m\u001B[43mmethod\u001B[49m\u001B[43m,\u001B[49m\u001B[43m \u001B[49m\u001B[43murl\u001B[49m\u001B[38;5;241;43m=\u001B[39;49m\u001B[43murl\u001B[49m\u001B[43m,\u001B[49m\u001B[43m \u001B[49m\u001B[38;5;241;43m*\u001B[39;49m\u001B[38;5;241;43m*\u001B[39;49m\u001B[43mkwargs\u001B[49m\u001B[43m)\u001B[49m\n",
      "File \u001B[1;32mc:\\users\\wkdwoo\\appdata\\local\\programs\\python\\python38\\lib\\site-packages\\requests\\sessions.py:542\u001B[0m, in \u001B[0;36mSession.request\u001B[1;34m(self, method, url, params, data, headers, cookies, files, auth, timeout, allow_redirects, proxies, hooks, stream, verify, cert, json)\u001B[0m\n\u001B[0;32m    537\u001B[0m send_kwargs \u001B[38;5;241m=\u001B[39m {\n\u001B[0;32m    538\u001B[0m     \u001B[38;5;124m'\u001B[39m\u001B[38;5;124mtimeout\u001B[39m\u001B[38;5;124m'\u001B[39m: timeout,\n\u001B[0;32m    539\u001B[0m     \u001B[38;5;124m'\u001B[39m\u001B[38;5;124mallow_redirects\u001B[39m\u001B[38;5;124m'\u001B[39m: allow_redirects,\n\u001B[0;32m    540\u001B[0m }\n\u001B[0;32m    541\u001B[0m send_kwargs\u001B[38;5;241m.\u001B[39mupdate(settings)\n\u001B[1;32m--> 542\u001B[0m resp \u001B[38;5;241m=\u001B[39m \u001B[38;5;28;43mself\u001B[39;49m\u001B[38;5;241;43m.\u001B[39;49m\u001B[43msend\u001B[49m\u001B[43m(\u001B[49m\u001B[43mprep\u001B[49m\u001B[43m,\u001B[49m\u001B[43m \u001B[49m\u001B[38;5;241;43m*\u001B[39;49m\u001B[38;5;241;43m*\u001B[39;49m\u001B[43msend_kwargs\u001B[49m\u001B[43m)\u001B[49m\n\u001B[0;32m    544\u001B[0m \u001B[38;5;28;01mreturn\u001B[39;00m resp\n",
      "File \u001B[1;32mc:\\users\\wkdwoo\\appdata\\local\\programs\\python\\python38\\lib\\site-packages\\requests\\sessions.py:655\u001B[0m, in \u001B[0;36mSession.send\u001B[1;34m(self, request, **kwargs)\u001B[0m\n\u001B[0;32m    652\u001B[0m start \u001B[38;5;241m=\u001B[39m preferred_clock()\n\u001B[0;32m    654\u001B[0m \u001B[38;5;66;03m# Send the request\u001B[39;00m\n\u001B[1;32m--> 655\u001B[0m r \u001B[38;5;241m=\u001B[39m \u001B[43madapter\u001B[49m\u001B[38;5;241;43m.\u001B[39;49m\u001B[43msend\u001B[49m\u001B[43m(\u001B[49m\u001B[43mrequest\u001B[49m\u001B[43m,\u001B[49m\u001B[43m \u001B[49m\u001B[38;5;241;43m*\u001B[39;49m\u001B[38;5;241;43m*\u001B[39;49m\u001B[43mkwargs\u001B[49m\u001B[43m)\u001B[49m\n\u001B[0;32m    657\u001B[0m \u001B[38;5;66;03m# Total elapsed time of the request (approximately)\u001B[39;00m\n\u001B[0;32m    658\u001B[0m elapsed \u001B[38;5;241m=\u001B[39m preferred_clock() \u001B[38;5;241m-\u001B[39m start\n",
      "File \u001B[1;32mc:\\users\\wkdwoo\\appdata\\local\\programs\\python\\python38\\lib\\site-packages\\requests\\adapters.py:498\u001B[0m, in \u001B[0;36mHTTPAdapter.send\u001B[1;34m(self, request, stream, timeout, verify, cert, proxies)\u001B[0m\n\u001B[0;32m    495\u001B[0m             \u001B[38;5;28;01mraise\u001B[39;00m\n\u001B[0;32m    497\u001B[0m \u001B[38;5;28;01mexcept\u001B[39;00m (ProtocolError, socket\u001B[38;5;241m.\u001B[39merror) \u001B[38;5;28;01mas\u001B[39;00m err:\n\u001B[1;32m--> 498\u001B[0m     \u001B[38;5;28;01mraise\u001B[39;00m \u001B[38;5;167;01mConnectionError\u001B[39;00m(err, request\u001B[38;5;241m=\u001B[39mrequest)\n\u001B[0;32m    500\u001B[0m \u001B[38;5;28;01mexcept\u001B[39;00m MaxRetryError \u001B[38;5;28;01mas\u001B[39;00m e:\n\u001B[0;32m    501\u001B[0m     \u001B[38;5;28;01mif\u001B[39;00m \u001B[38;5;28misinstance\u001B[39m(e\u001B[38;5;241m.\u001B[39mreason, ConnectTimeoutError):\n\u001B[0;32m    502\u001B[0m         \u001B[38;5;66;03m# TODO: Remove this in 3.0.0: see #2811\u001B[39;00m\n",
      "\u001B[1;31mConnectionError\u001B[0m: ('Connection aborted.', RemoteDisconnected('Remote end closed connection without response'))"
     ]
    }
   ],
   "source": [
    "# 데이터를 얻기위한 반복문 시작\n",
    "for symbol in symbols[:3]:\n",
    "    all_finance_statements = pd.DataFrame(columns=['종목코드', '유동자산', '부채총계', '자본총계', '매출액', '매출총이익', '영업이익',\n",
    "                            '당기순이익', '영업활동현금흐름', '잉여현금흐름'], index=['1900-01-01'])\n",
    "    # 데이터 초기화. 정리된 데이터를 모으는 곳이며 얻고자 하는 데이터 이름을\n",
    "    # column 화 시킴.  빈 index 를 넣으면 추가가 안되므로 임으로 하나 넣자.\n",
    "\n",
    "    # 정리 완료된 파일 저장하기 위한 경로 및 이름. result_종목이름.xlsx 형태로 저장된다.\n",
    "    filePath = 'C:/workspace/capstone-finance/finance-data/data/'\n",
    "    Path(filePath).mkdir(exist_ok=True)\n",
    "    fileName = f'2022_1_KRX.csv'\n",
    "    symbol = str(symbol)\n",
    "    finance_statement = pd.DataFrame(columns=['종목코드', '유동자산', '부채총계', '자본총계', '매출액', '매출총이익', '영업이익',\n",
    "                            '당기순이익', '영업활동현금흐름', '잉여현금흐름'], index=['1900-01-01'])\n",
    "\n",
    "    for i in range(2015, 2022):  # OpenDart는 2015년부터 정보를 제공한다.\n",
    "\n",
    "        # 더미 리스트 초기화. 1 ~ 4 분기 데이터를 합할 예정이므로 4 크기 만큼의 리스트 선언.\n",
    "        current_assets = [0, 0, 0, 0]  # 유동자산\n",
    "        liabilities = [0, 0, 0, 0]  # 부채총계\n",
    "        equity = [0, 0, 0, 0]  # 자본총계\n",
    "        revenue = [0, 0, 0, 0]  # 매출액\n",
    "        gross_marin = [0, 0, 0, 0]  # 매출총이익 #grossMargin\n",
    "        EBIT = [0, 0, 0, 0]  # 영업이익 #EBIT\n",
    "        net_income = [0, 0, 0, 0]  # 당기순이익\n",
    "        cfo = [0, 0, 0, 0]  # 영업활동현금흐름\n",
    "        cfi = [0, 0, 0, 0]  # 투자활동현금흐름\n",
    "        fcf = [0, 0, 0, 0]  # 잉여현금흐름 : 편의상 영업활동 - 투자활동 현금흐름으로 계산\n",
    "\n",
    "        for j, k in enumerate(reprt_code):\n",
    "            df1 = pd.DataFrame()  # Raw Data\n",
    "\n",
    "            # 타입이 NoneType 이 아니면 읽어온다.\n",
    "            if str(type(dart.finstate_all(symbol, i, reprt_code=k, fs_div='CFS'))) != \"<class 'NoneType'>\":\n",
    "                df1 = df1.append(dart.finstate_all(symbol, i, reprt_code=k, fs_div='CFS'))\n",
    "                # 재무상태표 부분\n",
    "                condition_1 = (df1.sj_nm == '재무상태표') & (df1.account_nm == '유동자산')  # 유동자산\n",
    "                condition_2 = (df1.sj_nm == '재무상태표') & (df1.account_nm == '부채총계')  # 부채총계\n",
    "                condition_3 = (df1.sj_nm == '재무상태표') & ((df1.account_nm == '자본총계') | (df1.account_nm == '반기말자본') | (\n",
    "                        df1.account_nm == '3분기말자본') | (df1.account_nm == '분기말자본') | (\n",
    "                                                                df1.account_nm == '1분기말자본'))  #자본총계\n",
    "                # 손익계산서 부분\n",
    "                condition_4 = ((df1.sj_nm == '손익계산서') | (df1.sj_nm == '포괄손익계산서')) & (\n",
    "                        (df1.account_nm == '매출액') | (df1.account_nm == '수익(매출액)'))\n",
    "                condition_5 = ((df1.sj_nm == '손익계산서') | (df1.sj_nm == '포괄손익계산서')) & (df1.account_nm == '매출총이익')\n",
    "                condition_6 = ((df1.sj_nm == '손익계산서') | (df1.sj_nm == '포괄손익계산서')) & (\n",
    "                        (df1.account_nm == '영업이익(손실)') | (df1.account_nm == '영업이익'))\n",
    "                condition_7 = ((df1.sj_nm == '손익계산서') | (df1.sj_nm == '포괄손익계산서')) & (\n",
    "                        (df1.account_nm == '당기순이익(손실)') | (df1.account_nm == '당기순이익') |\n",
    "                        (df1.account_nm == '분기순이익') | (df1.account_nm == '분기순이익(손실)') | (\n",
    "                                df1.account_nm == '반기순이익') | (df1.account_nm == '반기순이익(손실)') |\n",
    "                        (df1.account_nm == '연결분기순이익') | (df1.account_nm == '연결반기순이익') | (\n",
    "                                df1.account_nm == '연결당기순이익') | (df1.account_nm == '연결분기(당기)순이익') | (\n",
    "                                df1.account_nm == '연결반기(당기)순이익') |\n",
    "                        (df1.account_nm == '연결분기순이익(손실)'))\n",
    "                # 현금흐름표 부분\n",
    "                condition_8 = (df1.sj_nm == '현금흐름표') & (\n",
    "                        (df1.account_nm == '영업활동으로 인한 현금흐름') | (df1.account_nm == '영업활동 현금흐름'))\n",
    "\n",
    "                condition_9 = (df1.sj_nm == '현금흐름표') & (\n",
    "                        (df1.account_nm == '투자활동으로 인한 현금흐름') | (df1.account_nm == '영업활동 현금흐름'))\n",
    "\n",
    "                conditions = [condition_1, condition_2, condition_3, condition_4, condition_5, condition_6, condition_7,\n",
    "                              condition_8]\n",
    "\n",
    "                stock_code = str(symbol)\n",
    "                current_assets[j] = 0\n",
    "                liabilities[j] = 0\n",
    "                equity[j] = 0\n",
    "                revenue[j] = 0\n",
    "                gross_marin[j] = 0\n",
    "                EBIT[j] = 0\n",
    "                net_income[j] = 0\n",
    "                cfo[j] = 0\n",
    "                cfi[j] = 0\n",
    "\n",
    "                #for condition in conditions:\n",
    "                 #   if len(df1[condition]) != 0:\n",
    "                  #      print(1)\n",
    "\n",
    "\n",
    "                if len(df1[condition_1]) != 0:\n",
    "                    current_assets[j] = int(df1.loc[condition_1].iloc[0]['thstrm_amount'])\n",
    "                if len(df1[condition_2]) != 0:\n",
    "                    liabilities[j] = int(df1.loc[condition_2].iloc[0]['thstrm_amount'])\n",
    "                if len(df1[condition_3]) != 0:\n",
    "                    equity[j] = int(df1.loc[condition_3].iloc[0]['thstrm_amount'])\n",
    "                if len(df1[condition_4]) != 0:\n",
    "                    revenue[j] = int(df1.loc[condition_4].iloc[0]['thstrm_amount'])\n",
    "                if len(df1[condition_5]) != 0:\n",
    "                    gross_marin[j] = int(df1.loc[condition_5].iloc[0]['thstrm_amount'])\n",
    "                if len(df1[condition_6]) != 0:\n",
    "                    EBIT[j] = int(df1.loc[condition_6].iloc[0]['thstrm_amount'])\n",
    "                if len(df1[condition_7]) != 0:\n",
    "                    net_income[j] = int(df1.loc[condition_7].iloc[0]['thstrm_amount'])\n",
    "                if len(df1[condition_8]) != 0:\n",
    "                    cfo[j] = int(df1[condition_8].iloc[0]['thstrm_amount'])\n",
    "                if len(df1[condition_9]) != 0:\n",
    "                    cfi[j] = int(df1[condition_9].iloc[0]['thstrm_amount'])\n",
    "\n",
    "                fcf[j] = (cfo[j] - cfi[j])\n",
    "\n",
    "                if k == '11013':  # 1분기.\n",
    "                    path_string = str(i) + '-03-31'\n",
    "                elif k == '11012':  # 2분기\n",
    "                    path_string = str(i) + '-06-30'\n",
    "                elif k == '11014':  # 3분기\n",
    "                    path_string = str(i) + '-09-30'\n",
    "                else:  # 4분기. 1 ~ 3분기 데이터를 더한다음 사업보고서에서 빼야 함\n",
    "                    path_string = str(i) + '-12-30'\n",
    "                    revenue[j] = revenue[j] - (revenue[0] + revenue[1] + revenue[2])\n",
    "                    gross_marin[j] = gross_marin[j] - (gross_marin[0] + gross_marin[1] + gross_marin[2])\n",
    "                    EBIT[j] = EBIT[j] - (EBIT[0] + EBIT[1] + EBIT[2])\n",
    "                    net_income[j] = net_income[j] - (net_income[0] + net_income[1] + net_income[2])\n",
    "                    fcf[j] = fcf[j] - (fcf[0] + fcf[1] + fcf[2])\n",
    "\n",
    "                # 데이터프레임에 저장하는 부분\n",
    "                finance_statement.loc[path_string] = [str(stock_code), current_assets[j], liabilities[j], equity[j],\n",
    "                                        revenue[j], gross_marin[j], EBIT[j], net_income[j], cfo[j], fcf[j]]\n",
    "\n",
    "                finance_statement.tail()  # 데이터프레임 끝에 저장한다.\n",
    "                # 너무 잦은 요청이 있을 경우 OpenDart API 측에서 IP 를 차단하니 텀을 둔다.\n",
    "                time.sleep(0.1)\n",
    "            else:\n",
    "                pass\n",
    "        print(finance_statement)\n",
    "    all_finance_statements = pd.concat([all_finance_statements, finance_statement[1:]],)\n",
    "    test.append(all_finance_statements)\n",
    "\n",
    "\n",
    "    # 원본 dataframe 에도 영향을 끼치게끔 (inplace=True) 첫 행 drop.\n",
    "    # df2.drop(['1900-01-01'], inplace=True) # 첫 행 drop\n",
    "test\n",
    "# 파일 저장. fileName 에 명시된 경로에 각 종목코드별로 다른 이름으로 저장\n",
    "#all_finance_statements.to_csv(filePath + fileName)"
   ],
   "metadata": {
    "collapsed": false,
    "pycharm": {
     "name": "#%%\n"
    }
   }
  },
  {
   "cell_type": "code",
   "execution_count": 104,
   "outputs": [
    {
     "data": {
      "text/plain": "              종목코드         유동자산         부채총계         자본총계          매출액  \\\n1900-01-01     NaN          NaN          NaN          NaN          NaN   \n2015-12-30  060310  16069077218  29420163240  37939808456  23210541648   \n2016-06-30  060310  13582609176  21382562181  34888339748   6534629920   \n2016-09-30  060310  17985342311  24678327990  35061777226   7357350855   \n\n                 매출총이익         영업이익        당기순이익 영업활동현금흐름 잉여현금흐름  \n1900-01-01         NaN          NaN          NaN      NaN    NaN  \n2015-12-30  1635010587  -4157989321  -5599032927        0      0  \n2016-06-30   164655511  -1222253624  -1840069164        0      0  \n2016-09-30    63868668   -766080221   -489723045        0      0  ",
      "text/html": "<div>\n<style scoped>\n    .dataframe tbody tr th:only-of-type {\n        vertical-align: middle;\n    }\n\n    .dataframe tbody tr th {\n        vertical-align: top;\n    }\n\n    .dataframe thead th {\n        text-align: right;\n    }\n</style>\n<table border=\"1\" class=\"dataframe\">\n  <thead>\n    <tr style=\"text-align: right;\">\n      <th></th>\n      <th>종목코드</th>\n      <th>유동자산</th>\n      <th>부채총계</th>\n      <th>자본총계</th>\n      <th>매출액</th>\n      <th>매출총이익</th>\n      <th>영업이익</th>\n      <th>당기순이익</th>\n      <th>영업활동현금흐름</th>\n      <th>잉여현금흐름</th>\n    </tr>\n  </thead>\n  <tbody>\n    <tr>\n      <th>1900-01-01</th>\n      <td>NaN</td>\n      <td>NaN</td>\n      <td>NaN</td>\n      <td>NaN</td>\n      <td>NaN</td>\n      <td>NaN</td>\n      <td>NaN</td>\n      <td>NaN</td>\n      <td>NaN</td>\n      <td>NaN</td>\n    </tr>\n    <tr>\n      <th>2015-12-30</th>\n      <td>060310</td>\n      <td>16069077218</td>\n      <td>29420163240</td>\n      <td>37939808456</td>\n      <td>23210541648</td>\n      <td>1635010587</td>\n      <td>-4157989321</td>\n      <td>-5599032927</td>\n      <td>0</td>\n      <td>0</td>\n    </tr>\n    <tr>\n      <th>2016-06-30</th>\n      <td>060310</td>\n      <td>13582609176</td>\n      <td>21382562181</td>\n      <td>34888339748</td>\n      <td>6534629920</td>\n      <td>164655511</td>\n      <td>-1222253624</td>\n      <td>-1840069164</td>\n      <td>0</td>\n      <td>0</td>\n    </tr>\n    <tr>\n      <th>2016-09-30</th>\n      <td>060310</td>\n      <td>17985342311</td>\n      <td>24678327990</td>\n      <td>35061777226</td>\n      <td>7357350855</td>\n      <td>63868668</td>\n      <td>-766080221</td>\n      <td>-489723045</td>\n      <td>0</td>\n      <td>0</td>\n    </tr>\n  </tbody>\n</table>\n</div>"
     },
     "execution_count": 104,
     "metadata": {},
     "output_type": "execute_result"
    }
   ],
   "source": [
    "a = pd.concat([all_finance_statements, finance_statement[1:]],)\n",
    "#all_finance_statements\n",
    "a"
   ],
   "metadata": {
    "collapsed": false,
    "pycharm": {
     "name": "#%%\n"
    }
   }
  },
  {
   "cell_type": "code",
   "execution_count": 94,
   "outputs": [
    {
     "data": {
      "text/plain": "              종목코드           유동자산           부채총계           자본총계  \\\n1900-01-01     NaN            NaN            NaN            NaN   \n2015-12-30  006840   969178973579  1593921533934   901593458808   \n2016-03-31  006840   988631258591  1583122119182   923480507913   \n2016-06-30  006840   983783832774  1561978780722   957297865893   \n2016-09-30  006840  1026368189738  1582981704199  1000523063990   \n2016-12-30  006840  1179857738221  1730525757838  1011420744775   \n2017-03-31  006840  1156717911454  1751152521875  1024648091822   \n2017-06-30  006840  1142676494202  1710653032430  1059493940990   \n2017-09-30  006840  1202890814676  1766738408262  1135115218167   \n2017-12-30  006840  1218481945179  1792720288489  1152064058157   \n2018-03-31  006840  1338828316585  1822882670514  1335602610671   \n2018-06-30  006840  1313575015634  1799539185091  1403299289044   \n2018-09-30  006840  1378893205452  1901870879942  1464421805061   \n2018-12-30  006840  1306700266118  1924033597965  1473897641463   \n2019-03-31  006840  1383348552436  2807567807261  1505659344090   \n2019-06-30  006840  1309891410324  2761930364070  1507603842783   \n2019-09-30  006840  1253975479135  2789258393254  1472905471502   \n2019-12-30  006840  1327786611907  2898025666994  1429938888091   \n2020-03-31  006840  1186728978712  2857050634235  1309457852240   \n2020-06-30  006840  1150208706839  2933515889111  1206103541915   \n2020-09-30  006840  1165200580562  2888639311047  1230807257297   \n2020-12-30  006840  1185254991117  2908596226989  1243495382075   \n2021-03-31  006840  1221150561894  3015052766615  1182369259191   \n2021-06-30  006840  1235450581897  3151413655020  1154189193996   \n2021-09-30  006840  1316985793598  3279560893370  1082120917820   \n\n                      매출액         매출총이익          영업이익          당기순이익 영업활동현금흐름  \\\n1900-01-01            NaN           NaN           NaN            NaN      NaN   \n2015-12-30  2807147867285  837072464777  106316161081   -37443062232        0   \n2016-03-31   674546018889  227004863303   54380571530    39242842322        0   \n2016-06-30   703651872826  210205795074   41925130198    33435136319        0   \n2016-09-30   756067500602  248200163586   72467279677    45853481018        0   \n2016-12-30   787565671300  234627061621   44896723153    14790881151        0   \n2017-03-31   820740707452  250862150870   66723415561    43407295013        0   \n2017-06-30   795495426569  235212592980   54142066193    38874109446        0   \n2017-09-30   865566647573  276364282433   88833747924    77002602585        0   \n2017-12-30   910651828911  301839931936   55942037393    26130010299        0   \n2018-03-31   916581626996  284991225037   97492598230    70614284027        0   \n2018-06-30   893620123297  249016311846   56118566278    53698267040        0   \n2018-09-30  1021335507670  276116880665   80043191099    62068479333        0   \n2018-12-30   879645844788  235490341813   36063540448    20239368531        0   \n2019-03-31   996841859461  291016808463   97400377205    69738517601        0   \n2019-06-30   890728177941  205470030019   10064393168     2974840356        0   \n2019-09-30   972828925751  224807413102   26936663972     2865552179        0   \n2019-12-30   899143099357  205767582236   -3064542486   -18201077559        0   \n2020-03-31   793899394494  151172101794  -34580511432   -84173432426        0   \n2020-06-30   537602420708   92680385137  -69374826124  -103052779699        0   \n2020-09-30   644766854810  131053928947  -31870706975   -52944613989        0   \n2020-12-30   643708548233   88028821532  -85728772736   -25604231921        0   \n2021-03-31   682857038600  121309726732  -39499619893   -48953174578        0   \n2021-06-30   839391120730  155240898946  -17355129930   -21527541547        0   \n2021-09-30   832394999551  106762359458  -64696959257   -76964276131        0   \n\n                   잉여현금흐름  \n1900-01-01            NaN  \n2015-12-30              0  \n2016-03-31              0  \n2016-06-30              0  \n2016-09-30              0  \n2016-12-30              0  \n2017-03-31              0  \n2017-06-30              0  \n2017-09-30   262361994205  \n2017-12-30    30150579342  \n2018-03-31   298666948619  \n2018-06-30   342226425964  \n2018-09-30   405647308402  \n2018-12-30  -821938870469  \n2019-03-31   269125818371  \n2019-06-30   338391581541  \n2019-09-30   290565250262  \n2019-12-30  -678758328578  \n2020-03-31   -44410909434  \n2020-06-30   -43130159634  \n2020-09-30   -88284325968  \n2020-12-30   194392640235  \n2021-03-31    12299397078  \n2021-06-30    19080199411  \n2021-09-30    19456388828  ",
      "text/html": "<div>\n<style scoped>\n    .dataframe tbody tr th:only-of-type {\n        vertical-align: middle;\n    }\n\n    .dataframe tbody tr th {\n        vertical-align: top;\n    }\n\n    .dataframe thead th {\n        text-align: right;\n    }\n</style>\n<table border=\"1\" class=\"dataframe\">\n  <thead>\n    <tr style=\"text-align: right;\">\n      <th></th>\n      <th>종목코드</th>\n      <th>유동자산</th>\n      <th>부채총계</th>\n      <th>자본총계</th>\n      <th>매출액</th>\n      <th>매출총이익</th>\n      <th>영업이익</th>\n      <th>당기순이익</th>\n      <th>영업활동현금흐름</th>\n      <th>잉여현금흐름</th>\n    </tr>\n  </thead>\n  <tbody>\n    <tr>\n      <th>1900-01-01</th>\n      <td>NaN</td>\n      <td>NaN</td>\n      <td>NaN</td>\n      <td>NaN</td>\n      <td>NaN</td>\n      <td>NaN</td>\n      <td>NaN</td>\n      <td>NaN</td>\n      <td>NaN</td>\n      <td>NaN</td>\n    </tr>\n    <tr>\n      <th>2015-12-30</th>\n      <td>006840</td>\n      <td>969178973579</td>\n      <td>1593921533934</td>\n      <td>901593458808</td>\n      <td>2807147867285</td>\n      <td>837072464777</td>\n      <td>106316161081</td>\n      <td>-37443062232</td>\n      <td>0</td>\n      <td>0</td>\n    </tr>\n    <tr>\n      <th>2016-03-31</th>\n      <td>006840</td>\n      <td>988631258591</td>\n      <td>1583122119182</td>\n      <td>923480507913</td>\n      <td>674546018889</td>\n      <td>227004863303</td>\n      <td>54380571530</td>\n      <td>39242842322</td>\n      <td>0</td>\n      <td>0</td>\n    </tr>\n    <tr>\n      <th>2016-06-30</th>\n      <td>006840</td>\n      <td>983783832774</td>\n      <td>1561978780722</td>\n      <td>957297865893</td>\n      <td>703651872826</td>\n      <td>210205795074</td>\n      <td>41925130198</td>\n      <td>33435136319</td>\n      <td>0</td>\n      <td>0</td>\n    </tr>\n    <tr>\n      <th>2016-09-30</th>\n      <td>006840</td>\n      <td>1026368189738</td>\n      <td>1582981704199</td>\n      <td>1000523063990</td>\n      <td>756067500602</td>\n      <td>248200163586</td>\n      <td>72467279677</td>\n      <td>45853481018</td>\n      <td>0</td>\n      <td>0</td>\n    </tr>\n    <tr>\n      <th>2016-12-30</th>\n      <td>006840</td>\n      <td>1179857738221</td>\n      <td>1730525757838</td>\n      <td>1011420744775</td>\n      <td>787565671300</td>\n      <td>234627061621</td>\n      <td>44896723153</td>\n      <td>14790881151</td>\n      <td>0</td>\n      <td>0</td>\n    </tr>\n    <tr>\n      <th>2017-03-31</th>\n      <td>006840</td>\n      <td>1156717911454</td>\n      <td>1751152521875</td>\n      <td>1024648091822</td>\n      <td>820740707452</td>\n      <td>250862150870</td>\n      <td>66723415561</td>\n      <td>43407295013</td>\n      <td>0</td>\n      <td>0</td>\n    </tr>\n    <tr>\n      <th>2017-06-30</th>\n      <td>006840</td>\n      <td>1142676494202</td>\n      <td>1710653032430</td>\n      <td>1059493940990</td>\n      <td>795495426569</td>\n      <td>235212592980</td>\n      <td>54142066193</td>\n      <td>38874109446</td>\n      <td>0</td>\n      <td>0</td>\n    </tr>\n    <tr>\n      <th>2017-09-30</th>\n      <td>006840</td>\n      <td>1202890814676</td>\n      <td>1766738408262</td>\n      <td>1135115218167</td>\n      <td>865566647573</td>\n      <td>276364282433</td>\n      <td>88833747924</td>\n      <td>77002602585</td>\n      <td>0</td>\n      <td>262361994205</td>\n    </tr>\n    <tr>\n      <th>2017-12-30</th>\n      <td>006840</td>\n      <td>1218481945179</td>\n      <td>1792720288489</td>\n      <td>1152064058157</td>\n      <td>910651828911</td>\n      <td>301839931936</td>\n      <td>55942037393</td>\n      <td>26130010299</td>\n      <td>0</td>\n      <td>30150579342</td>\n    </tr>\n    <tr>\n      <th>2018-03-31</th>\n      <td>006840</td>\n      <td>1338828316585</td>\n      <td>1822882670514</td>\n      <td>1335602610671</td>\n      <td>916581626996</td>\n      <td>284991225037</td>\n      <td>97492598230</td>\n      <td>70614284027</td>\n      <td>0</td>\n      <td>298666948619</td>\n    </tr>\n    <tr>\n      <th>2018-06-30</th>\n      <td>006840</td>\n      <td>1313575015634</td>\n      <td>1799539185091</td>\n      <td>1403299289044</td>\n      <td>893620123297</td>\n      <td>249016311846</td>\n      <td>56118566278</td>\n      <td>53698267040</td>\n      <td>0</td>\n      <td>342226425964</td>\n    </tr>\n    <tr>\n      <th>2018-09-30</th>\n      <td>006840</td>\n      <td>1378893205452</td>\n      <td>1901870879942</td>\n      <td>1464421805061</td>\n      <td>1021335507670</td>\n      <td>276116880665</td>\n      <td>80043191099</td>\n      <td>62068479333</td>\n      <td>0</td>\n      <td>405647308402</td>\n    </tr>\n    <tr>\n      <th>2018-12-30</th>\n      <td>006840</td>\n      <td>1306700266118</td>\n      <td>1924033597965</td>\n      <td>1473897641463</td>\n      <td>879645844788</td>\n      <td>235490341813</td>\n      <td>36063540448</td>\n      <td>20239368531</td>\n      <td>0</td>\n      <td>-821938870469</td>\n    </tr>\n    <tr>\n      <th>2019-03-31</th>\n      <td>006840</td>\n      <td>1383348552436</td>\n      <td>2807567807261</td>\n      <td>1505659344090</td>\n      <td>996841859461</td>\n      <td>291016808463</td>\n      <td>97400377205</td>\n      <td>69738517601</td>\n      <td>0</td>\n      <td>269125818371</td>\n    </tr>\n    <tr>\n      <th>2019-06-30</th>\n      <td>006840</td>\n      <td>1309891410324</td>\n      <td>2761930364070</td>\n      <td>1507603842783</td>\n      <td>890728177941</td>\n      <td>205470030019</td>\n      <td>10064393168</td>\n      <td>2974840356</td>\n      <td>0</td>\n      <td>338391581541</td>\n    </tr>\n    <tr>\n      <th>2019-09-30</th>\n      <td>006840</td>\n      <td>1253975479135</td>\n      <td>2789258393254</td>\n      <td>1472905471502</td>\n      <td>972828925751</td>\n      <td>224807413102</td>\n      <td>26936663972</td>\n      <td>2865552179</td>\n      <td>0</td>\n      <td>290565250262</td>\n    </tr>\n    <tr>\n      <th>2019-12-30</th>\n      <td>006840</td>\n      <td>1327786611907</td>\n      <td>2898025666994</td>\n      <td>1429938888091</td>\n      <td>899143099357</td>\n      <td>205767582236</td>\n      <td>-3064542486</td>\n      <td>-18201077559</td>\n      <td>0</td>\n      <td>-678758328578</td>\n    </tr>\n    <tr>\n      <th>2020-03-31</th>\n      <td>006840</td>\n      <td>1186728978712</td>\n      <td>2857050634235</td>\n      <td>1309457852240</td>\n      <td>793899394494</td>\n      <td>151172101794</td>\n      <td>-34580511432</td>\n      <td>-84173432426</td>\n      <td>0</td>\n      <td>-44410909434</td>\n    </tr>\n    <tr>\n      <th>2020-06-30</th>\n      <td>006840</td>\n      <td>1150208706839</td>\n      <td>2933515889111</td>\n      <td>1206103541915</td>\n      <td>537602420708</td>\n      <td>92680385137</td>\n      <td>-69374826124</td>\n      <td>-103052779699</td>\n      <td>0</td>\n      <td>-43130159634</td>\n    </tr>\n    <tr>\n      <th>2020-09-30</th>\n      <td>006840</td>\n      <td>1165200580562</td>\n      <td>2888639311047</td>\n      <td>1230807257297</td>\n      <td>644766854810</td>\n      <td>131053928947</td>\n      <td>-31870706975</td>\n      <td>-52944613989</td>\n      <td>0</td>\n      <td>-88284325968</td>\n    </tr>\n    <tr>\n      <th>2020-12-30</th>\n      <td>006840</td>\n      <td>1185254991117</td>\n      <td>2908596226989</td>\n      <td>1243495382075</td>\n      <td>643708548233</td>\n      <td>88028821532</td>\n      <td>-85728772736</td>\n      <td>-25604231921</td>\n      <td>0</td>\n      <td>194392640235</td>\n    </tr>\n    <tr>\n      <th>2021-03-31</th>\n      <td>006840</td>\n      <td>1221150561894</td>\n      <td>3015052766615</td>\n      <td>1182369259191</td>\n      <td>682857038600</td>\n      <td>121309726732</td>\n      <td>-39499619893</td>\n      <td>-48953174578</td>\n      <td>0</td>\n      <td>12299397078</td>\n    </tr>\n    <tr>\n      <th>2021-06-30</th>\n      <td>006840</td>\n      <td>1235450581897</td>\n      <td>3151413655020</td>\n      <td>1154189193996</td>\n      <td>839391120730</td>\n      <td>155240898946</td>\n      <td>-17355129930</td>\n      <td>-21527541547</td>\n      <td>0</td>\n      <td>19080199411</td>\n    </tr>\n    <tr>\n      <th>2021-09-30</th>\n      <td>006840</td>\n      <td>1316985793598</td>\n      <td>3279560893370</td>\n      <td>1082120917820</td>\n      <td>832394999551</td>\n      <td>106762359458</td>\n      <td>-64696959257</td>\n      <td>-76964276131</td>\n      <td>0</td>\n      <td>19456388828</td>\n    </tr>\n  </tbody>\n</table>\n</div>"
     },
     "execution_count": 94,
     "metadata": {},
     "output_type": "execute_result"
    }
   ],
   "source": [
    "finance_statement"
   ],
   "metadata": {
    "collapsed": false,
    "pycharm": {
     "name": "#%%\n"
    }
   }
  },
  {
   "cell_type": "code",
   "execution_count": 78,
   "outputs": [
    {
     "name": "stdout",
     "output_type": "stream",
     "text": [
      "['060310', '095570', '006840', '054620', '265520', '211270', '152100', '295820', '253150', '253160', '395750', '395760', '278420', '292750', '309210', '333940', '333950', '333960', '333970', '333980', '269530', '251590', '161510', '251600', '289670', '298340', '189400', '419650', '415920', '278620', '269540', '287180', '213630', '332610', '332620', '195970', '238670', '195980', '373530', '256450', '239660', '280920', '266550', '301400', '301410', '227830', '122090', '328370', '301440', '376250', '027410', '282330', '032790', '138930', '001460', '001465', '013720', '001040', '079160', '035760', '311690', '00104K', '000120', '011150', '011155', '001045', '097950', '097955', '051500', '058820', '023460', '056730', '056000', '065770', '083660', '000590', '012030', '404950', '367340', '367360', '016610', '005830', '000990', '000995', '139130', '001530', '000210', '001880', '000215', '375500', '37550K', '068790', '004840', '241520', '155660', '069730', '017940', '245620', '037370', '278990', '079190', '365550', '050120', '383220', '007700', '285690', '292730', '402520', '214270', '73501BB4', '73502BB4', '73503BB4', '73501BA2', '73502BA2', '73503BA2', '130500', '114090', '900290', '078930', '083450', '006360', '001250', '007070', '078935', '293180', '407310', '332930', '304780', '306520', '395290', '395280', '368190', '402460', '395270', '367740', '407300', '381560', '381570', '346000', '304760', '404470', '332940', '322400', '322410', '354350', '401590', '314700', '390950', '419170', '304770', '306530', '375760', '297890', '078150', '012630', '039570', '089470', '294870', '097230', '215620', '391670', '391680', '195940', '028300', '067630', '047920', '115450', '011200', '036640', '082740', '75801BB4', '75802BB4', '335870', '351340', '388790', '405350', '003560', '095340', '099520', '175330', '950170', '234080', '067290', '001060', '001067', '001065', '096760', '035900', '580011', '580030', '580028', '580013', '580010', '580025', '580024', '580016', '580032', '580022', '580015', '580026', '580018', '71901B96', '71902B96', '71903B96', '580017', '580033', '580023', '580014', '580027', '580019', '580031', '580029', '580021', '580020', '58GD31', '58GD32', '58GD33', '58GD34', '58GD92', '58GE43', '58GE86', '58GE87', '58GE88', '58GE89', '58GE90', '58GG37', '58GG38', '58GG39', '58GG40', '58GG41', '58GG42', '58GG43', '58GG44', '58GG45', '58GG46', '58GG47', '58GG48', '58GG49', '58GG50', '58GG51', '58GG52', '58GG54', '58GG55', '58GG56', '58GG57', '58GG58', '58GG59', '58GG60', '58GG61', '58GG62', '58GG63', '58GJ63', '58GJ64', '58GJ66', '58GJ67', '58GJ68', '58GJ69', '58GJ70', '58GJ71', '58GJ72', '58GJ74', '58GJ75', '58GJ76', '58GJ77', '58GJ78', '58GJ79', '58GJ80', '58GJ81', '58GJ82', '58GJ83', '58GJ84', '58GJ85', '58GJ86', '58GJ87', '58GJ88', '58GJ89', '58GJ90', '58GJ91', '58GJ92', '58GJ93', '58GJ94', '58GJ95', '58GJ96', '58GJ97', '58GJ98', '58GJ99', '58GK00', '58GK01', '58GK02', '58GK04', '58GK05', '58GK06', '58GK07', '58GK08', '58GK09', '58GK51', '58GK52', '58GK53', '58GK54', '58GK55', '58GK56', '58GK57', '58GK58', '58GK59', '58GK60', '58GK61', '58GK62', '58GK63', '58GK64', '58GK65', '58GP45', '58GP51', '58GP53', '58GP54', '58GP55', '58GP60', '58GP65', '58GP67', '58GP71', '58GP72', '58GP74', '58GP78', '58GP80', '58GP81', '58GP83', '58GP84', '58GP86', '58GP87', '58GP89', '58GP90', '58GP91', '58GP92', '58GP93', '58GP94', '58GP95', '58GP96', '58GP97', '58GP98', '58GP99', '58GQ00', '58GQ01', '58GQ02', '58GQ03', '58GQ05', '58GQ06', '58GQ07', '58GQ08', '58GQ09', '58GQ10', '58GQ11', '58GQ12', '58GQ13', '58GQ14', '58GQ15', '58GQ16', '58GQ17', '58GQ19', '58GQ20', '58GQ21', '58GQ22', '58GQ24', '58GQ25', '58GQ27', '58GQ28', '58GQ29', '58GQ30', '58GQ31', '58GQ33', '58GQ34', '58GQ35', '58GQ36', '58GQ37', '58GQ38', '58GQ39', '58GQ40', '58GQ41', '58GQ42', '58GQ43', '58GQ44', '58GQ45', '58GQ77', '58GQ78', '58GQ79', '58GQ80', '58GQ81', '58GQ82', '58GQ83', '58GQ84', '58GQ85', '58GQ86', '58GQ87', '58GQ88', '58GQ89', '58GQ90', '58GQ91', '58GQ92', '58GQ93', '58GQ94', '58GQ95', '58GQ96', '58GQ97', '58GQ98', '58GQ99', '58GR00', '58GR01', '58GR02', '58GR03', '58GR04', '58GR05', '58GR06', '58GR07', '58GR08', '58GR09', '58GR10', '58GR11', '58GR12', '58GR13', '58GR14', '58GR15', '58GR16', '58GR17', '58GR18', '58GR19', '58GR20', '58GR21', '58GR22', '58GR23', '58GR24', '58GR25', '58GR26', '58GR27', '58GR28', '58GR29', '58GR30', '58GR31', '58GR32', '58GR33', '58GR34', '58GR35', '58GR36', '58GR37', '58GR38', '58GR39', '58GR40', '58GR41', '58GR42', '58GR43', '58GR44', '58GR45', '58GR46', '58GR47', '58GR48', '58GR49', '58GR50', '58GR51', '58GR52', '58GR53', '58GR54', '58GR55', '58GR56', '58GR57', '58GR58', '58GR59', '58GR60', '58GR61', '58GR62', '58GR63', '58GR64', '58GR65', '58GR66', '58GR67', '58GR68', '58GR69', '58GR70', '58GR72', '58GR73', '58GR74', '58GR75', '58GR76', '58GR77', '58GR78', '58GR79', '58GR80', '58GR81', '58GR82', '58GR83', '58GR84', '58GR85', '58GR86', '58GR87', '58GR88', '58GR89', '58GR90', '58GR91', '58GR92', '58GR93', '58GR94', '58GR95', '58GR96', '58GR97', '58GR98', '58GR99', '58GS00', '58GS02', '58GS03', '58GS05', '58GS06', '58GS07', '58GS09', '58GS10', '58GS11', '58GS12', '58GS13', '58GS14', '58GS15', '58GS16', '58GS17', '58GS18', '58GS19', '58GS20', '58GS21', '58GS22', '58GS23', '58GS24', '58GS25', '58GS26', '58GS27', '58GS28', '58GS29', '58GS30', '58GS31', '58GS32', '58GS33', '58GS34', '58GS35', '58GS37', '58GS38', '58GS39', '58GS40', '58GS41', '58GS42', '58GS43', '58GS44', '58GS45', '58GS46', '58GS47', '58GS48', '58GS49', '58GS50', '58GS51', '58GS52', '58GS53', '58GS54', '58GS55', '58GS56', '58GS57', '58GS58', '58GS59', '58GS60', '58GS61', '58GS62', '58GS63', '58GS64', '58GS65', '58GS66', '58GS67', '58GS68', '58GS69', '58GS70', '58GS71', '58GS72', '58GS73', '58GS74', '58GS76', '58GS77', '58GS78', '58GS79', '58GS80', '58GS81', '58GS82', '58GS83', '58GS84', '58GS85', '58GS86', '58GS87', '58GS88', '58GS89', '58GS90', '58GS91', '58GS92', '58GS93', '58GS94', '58GS95', '58GS96', '58GS97', '58GS98', '58GS99', '58GT00', '58GT01', '58GT02', '58GT03', '58GT04', '58GT05', '58GT06', '58GT07', '58GT08', '58GT09', '58GT10', '58GT11', '58GT12', '58GT13', '58GT14', '58GT15', '58GT16', '58GT17', '58GT18', '58GT19', '58GT20', '58GT21', '58GT22', '58GT23', '58GT24', '58GT25', '58GT26', '58GT27', '58GT28', '58GT29', '58GT30', '58GT31', '58GT32', '58GT33', '58GT34', '58GT35', '58GT36', '58GT37', '58GT38', '58GT39', '58GT40', '58GT41', '58GT42', '58GT43', '58GT44', '58GT45', '58GT46', '58GT47', '58GT48', '58GT49', '58GT50', '58GT51', '58GT52', '58GT53', '58GT54', '58GT55', '58GT56', '58GT57', '58GT58', '58GT59', '58GT60', '58GT61', '58GT62', '58GT63', '58GT64', '58GT65', '58GT66', '58GT67', '58GT69', '58GT70', '58GT72', '58GT73', '58GT74', '58GT75', '58GT76', '58GT77', '58GT78', '58GT79', '58GT80', '58GT82', '58GT84', '58GT85', '58GT86', '58GT87', '58GT88', '58GT89', '58GT90', '58GT91', '58GT92', '58GT93', '58GT94', '58GT95', '58GT96', '58GT98', '58GT99', '58GV00', '58GV02', '58GV04', '58GV05', '58GV07', '58GV08', '58GV09', '58GV10', '58GV11', '58GV12', '58GV13', '58GV14', '58GV15', '58GV16', '58GV17', '58GV18', '58GV19', '58GV20', '58GV21', '58GV22', '58GV23', '58GV24', '58GV25', '58GV26', '58GV27', '58GV28', '58GV30', '58GV31', '58GV32', '58GV33', '58GV35', '58GV36', '58GV37', '58GV38', '58GV39', '58GV40', '58GV41', '58GV42', '58GV43', '58GV44', '58GV45', '58GV47', '58GV48', '58GV49', '58GV50', '58GV51', '58GV52', '58GV54', '58GV55', '58GV56', '58GV57', '58GV58', '58GV60', '58GV61', '58GV62', '58GV63', '58GV64', '58GV65', '58GV67', '58GV69', '58GV70', '58GV72', '58GV73', '58GV74', '58GV75', '58GV76', '58GV77', '58GV78', '58GV79', '58GV80', '58GV81', '58GV82', '58GV83', '58GV84', '58GV85', '58GV86', '58GV87', '58GV88', '58GV89', '58GV90', '58GV91', '58GV92', '58GV93', '58GV94', '58GV95', '58GV96', '58GV97', '58GV98', '58GV99', '58GW00', '58GW01', '58GW02', '58GW03', '58GW04', '58GW05', '58GW06', '58GW07', '58GW08', '58GW09', '58GW10', '58GW11', '58GW12', '58GW13', '58GW14', '58GW15', '58GW16', '58GW17', '58GW18', '58GW19', '58GW20', '58GW21', '58GW22', '58GW23', '58GW24', '58GW25', '58GW26', '58GW27', '58GW29', '58GW30', '58GW31', '58GW32', '58GW33', '58GW34', '58GW35', '58GW36', '58GW37', '58GW38', '58GW39', '58GW40', '58GW41', '58GW42', '58GW43', '58GW44', '58GW45', '58GW46', '58GW47', '58GW48', '58GW49', '58GW50', '58GW51', '58GW52', '58GW53', '58GW54', '58GW55', '58GW56', '58GW57', '58GW58', '58GW59', '58GW60', '58GW61', '58GW62', '58GW72', '58GW73', '58GW74', '58GW75', '58GW76', '58GW77', '58GW78', '58GW79', '58GW80', '58GW81', '58GW82', '58GW83', '58GW84', '58GW85', '58GW86', '58GW87', '58GW88', '58GW89', '58H001', '58H002', '58H003', '58H004', '58H005', '58H006', '58H007', '58H008', '58H009', '58H010', '58H011', '58H012', '58H013', '58H014', '58H015', '58H016', '58H017', '58H018', '58H019', '58H020', '58H021', '58H022', '58H023', '58H024', '58H025', '58H026', '58H027', '58H028', '58H029', '58H030', '58H031', '58H032', '58H033', '58H034', '58H035', '58H036', '58H037', '58H038', '58H039', '58H040', '58H041', '58H042', '58H052', '58H053', '58H054', '58H055', '58H056', '58H057', '58H058', '58H059', '58H060', '58H061', '58H062', '58H063', '58H064', '58H065', '58H066', '58H067', '58H068', '58H069', '58H070', '58H071', '58H072', '58H073', '58H074', '58H075', '58H076', '58H077', '58H078', '58H079', '58H080', '58H081', '58H082', '58H083', '58H084', '58H085', '58H086', '58H087', '58H088', '58H089', '58H090', '58H091', '58H092', '58H093', '58H094', '58H095', '58H096', '58H097', '58H098', '58H106', '58H107', '58H108', '58H109', '58H110', '58H111', '58H112', '58H113', '58H114', '58H115', '58H116', '58H117', '58H118', '58H119', '58H120', '58H121', '58H122', '58H123', '58H124', '58H125', '58H126', '58H127', '58H128', '58H129', '58H130', '58H131', '58H132', '58H133', '58H134', '58H135', '58H138', '58H139', '58H140', '58H141', '58H142', '58H143', '58H144', '58H145', '58H146', '58H147', '58H148', '58H149', '58H150', '58H151', '58H152', '58H153', '58H154', '58H155', '58H156', '58H157', '58H160', '58H161', '58H162', '58H163', '58H164', '58H165', '58H166', '58H167', '58H168', '58H169', '58H172', '58H173', '58H174', '58H175', '58H176', '58H177', '58H178', '58H179', '58H180', '58H181', '58H182', '58H183', '58H184', '58H185', '58H186', '58H187', '58H188', '58H189', '58H190', '58H191', '58H192', '58H193', '58H194', '58H195', '58H196', '58H197', '58H198', '58H199', '58H200', '58H201', '58H202', '58H203', '58H204', '58H205', '58H206', '58H207', '58H208', '58H209', '58H210', '58H211', '58H212', '58H213', '58H214', '58H215', '58H216', '58H217', '58H218', '58H219', '58H220', '58H221', '58H222', '58H223', '58H224', '58H225', '58H226', '58H227', '58H228', '58H229', '58H230', '58H231', '58H232', '58H233', '58H234', '58H235', '58H236', '58H237', '58H238', '58H239', '58H240', '58H241', '58H242', '58H243', '58H244', '58H245', '58H246', '58H247', '58H248', '58H249', '58H250', '58H251', '58H252', '58H253', '58H254', '58H255', '58H256', '58H257', '58H258', '58H259', '58H260', '58H261', '58H262', '58H263', '58H264', '58H265', '58H266', '58H267', '58H268', '58H269', '58H270', '58H271', '58H272', '58H273', '58H274', '58H275', '58H276', '58H277', '58H278', '58H279', '58H280', '58H281', '58H282', '58H283', '58H284', '58H285', '58H286', '58H287', '58H288', '58H289', '58H290', '58H291', '58H292', '58H293', '58H294', '58H295', '58H296', '58H297', '58H298', '58H299', '58H300', '58H301', '58H302', '58H303', '58H304', '58H305', '58H306', '58H307', '58H308', '58H309', '58H310', '58H311', '58H312', '58H313', '58H314', '58H315', '58H316', '58H317', '58H318', '58H319', '58H320', '58H321', '58H322', '58H323', '58H324', '58H325', '58H326', '58H327', '58H328', '58H329', '58H330', '58H331', '58H332', '58H333', '58H334', '58H335', '58H336', '58H337', '58H338', '58H339', '58H340', '58H341', '58H342', '58H343', '58H344', '58H345', '58H346', '58H347', '58H348', '58H349', '58H350', '58H351', '58H352', '58H353', '58H354', '58H355', '58H356', '58H357', '58H358', '58H359', '58H360', '58H361', '58H362', '58H363', '58H364', '58H365', '58H366', '58H367', '58H368', '58H369', '58H370', '58H371', '58H372', '58H373', '58H374', '58H375', '58H376', '58H377', '58H378', '58H379', '58H380', '58H381', '58H382', '58H383', '58H384', '58H385', '58H386', '58H387', '58H388', '58H389', '58H390', '58H391', '58H392', '58H393', '58H394', '58H395', '58H396', '58H397', '58H398', '58H399', '58H400', '58H401', '58H402', '58H403', '58H404', '58H405', '58H406', '58H407', '58H408', '58H409', '58H410', '58H411', '58H412', '58H413', '58H414', '58H415', '58H416', '58H417', '58H418', '58H419', '58H420', '58H421', '58H422', '58H423', '58H424', '58H425', '58H426', '58H427', '58H428', '58H429', '58H430', '58H431', '58H432', '58H433', '58H434', '58H435', '58H436', '58H437', '58H438', '58H439', '58H440', '58H441', '58H442', '58H443', '58H444', '58H445', '58H446', '58H447', '58H448', '58H449', '58H450', '58H451', '58H452', '58H453', '58H454', '58H455', '58H456', '58H457', '58H458', '58H459', '58H460', '58H461', '58H462', '58H463', '58H464', '58H465', '58H466', '58H467', '58H468', '58H469', '58H470', '58H471', '58H472', '58H473', '58H474', '58H475', '58H476', '58H477', '58H478', '58H479', '58H480', '58H481', '58H482', '58H483', '58H484', '58H485', '58H486', '58H487', '58H488', '58H489', '58H490', '58H491', '58H492', '58H493', '58H494', '58H495', '58H496', '58H497', '58H498', '58H499', '58H500', '58H501', '58H502', '58H503', '58H504', '58H505', '58H506', '58H507', '58H508', '58H509', '58H510', '58H511', '58H512', '58H513', '58H514', '58H515', '58H516', '024840', '148020', '285000', '361580', '287300', '287310', '290080', '284980', '287320', '287330', '252400', '252410', '252420', '284990', '285010', '285020', '315480', '105780', '290130', '368200', '367760', '367770', '388280', '326240', '385560', '385550', '385540', '270800', '292050', '307010', '319870', '403990', '234310', '241390', '401170', '300640', '266160', '114100', '282000', '295000', '295020', '397420', '397410', '276650', '375270', '411720', '417450', '399580', '336160', '326230', '272560', '196230', '315960', '252730', '252720', '379780', '219390', '354240', '368590', '267440', '267490', '267450', '267500', '388420', '140570', '140580', '379790', '183710', '310080', '174360', '136340', '281990', '272570', '250730', '291680', '371150', '183700', '270810', '278240', '275750', '302450', '361590', '334690', '334700', '253280', '253290', '71901BB4', '105560', '024120', '71901B92', '71903B92', '71902B92', '71901B9B', '71902B9B', '002380', '021320', '344820', '036670', '009070', '009440', '112190', '119650', '044180', '092220', '151860', '016380', '016385', '046440', '035600', '001390', '226360', '111870', '033180', '060720', '75901BB7', '105190', '332500', '368470', '380340', '226380', '414270', '356540', '411060', '277540', '225130', '365780', '114460', '299070', '299080', '190620', '265690', '152500', '291130', '342140', '280320', '360200', '309230', '402970', '367380', '181480', '391590', '391600', '143460', '245710', '371130', '131890', '108450', '322130', '272220', '272230', '322120', '322150', '316300', '256440', '145670', '238720', '196030', '205720', '416090', '168580', '219900', '272910', '371870', '251890', '354500', '305050', '261920', '001940', '122450', '052900', '058400', '069500', '226980', '337160', '363580', '278530', '337150', '223190', '252650', '360140', '284430', '252670', '305720', '271060', '368680', '395170', '337120', '325010', '395160', '395150', '266370', '401470', '385520', '385510', '373490', '292190', '306950', '404260', '229720', '291890', '289040', '156080', '278540', '275280', '275290', '275300', '269420', '329650', '329660', '329670', '352540', '315930', '261220', '271050', '117700', '300950', '266390', '279530', '132030', '280940', '138910', '114260', '152380', '176950', '292770', '276990', '102960', '352560', '273140', '153130', '214980', '122630', '321410', '244620', '314250', '379800', '219480', '276970', '185680', '200030', '218420', '379810', '409820', '304940', '409810', '261240', '261250', '261270', '261260', '280930', '411420', '390390', '390400', '308620', '304660', '304670', '266360', '244580', '091160', '325020', '211900', '237370', '244670', '140700', '102780', '213610', '251350', '117460', '140710', '400570', '144600', '091170', '114800', '101280', '091180', '363570', '273130', '102970', '169950', '283580', '099140', '204450', '415340', '256750', '372330', '117680', '279540', '229200', '233740', '360150', '251340', '226490', '237350', '359210', '337140', '138920', '244660', '375770', '266410', '298770', '266420', '364690', '069660', '294400', '253250', '253240', '253230', '331910', '100910', '104530', '148070', '167860', '114470', '130730', '411860', '394340', '394350', '138230', '225800', '139660', '230480', '373790', '104520', '200250', '316670', '291630', '291620', '153270', '122260', '114450', '025000', '092230', '000040', '00004217', '044450', '030200', '033780', '030210', '168300', '058850', '058860', '060370', '093050', '003550', '034220', '051900', '051905', '373220', '003555', '032640', '011070', '066570', '066575', '037560', '051910', '051915', '079550', '006260', '010120', '000680', '229640', '108320', '001120', '108670', '108675', '383800', '38380K', '407170', '407160', '023150', '035420', '160550', '053290', '55G856', '55G857', '55G859', '55G860', '55G861', '55G862', '55G863', '55G864', '55G865', '55G866', '55G867', '55G868', '55G869', '55G870', '55G871', '55G872', '55G873', '55G874', '55G875', '55G876', '55G877', '55G878', '55G879', '55G882', '55G883', '55G884', '55G885', '55G886', '55G887', '55G888', '55G889', '55G890', '55G891', '55G895', '55G896', '55G897', '55G898', '55G899', '55G906', '55G908', '55G910', '55G911', '55G913', '55G916', '55G917', '55G920', '55G922', '55G923', '55G924', '55G925', '55G926', '55G927', '55G929', '55G933', '55G934', '55G936', '55G937', '55G939', '55G941', '55G943', '181710', '104200', '060250', '400760', '005940', '005945', '338100', '034310', '030190', '008260', '004250', '004255', '010060', '178920', '024940', '005490', '550060', '550066', '550059', '550044', '550042', '550069', '550062', '550064', '550041', '550045', '550043', '550070', '550063', '550065', '550061', '550068', '550067', '550057', '218410', '327260', '091340', '010950', '010955', '019550', '950110', '034120', '046140', '036120', '099220', '036540', '255220', '040610', '049470', '184230', '005090', '016250', '001380', '004060', '001770', '002360', '009160', '123700', '025530', '034730', '337450', '340350', '011790', '018670', '001740', '001745', '006120', '006125', '210980', '068400', '395400', '302440', '326030', '402340', '361610', '03473K', '096770', '096775', '001510', '001515', '285130', '28513K', '017670', '000660', '048550', '063440', '950180', '064960', '100840', '003570', '036530', '411540', '295040', '363510', '292500', '404650', '400590', '399110', '208470', '400580', '220130', '415760', '413220', '005610', '011810', '077970', '071970', '002820', '289080', '084870', '002710', '089230', '161570', '192410', '102110', '139260', '139220', '139290', '139270', '227550', '227560', '139250', '139230', '139240', '227540', '243880', '310960', '252000', '267770', '252710', '243890', '315270', '166400', '289480', '305540', '365040', '357870', '400970', '396500', '377990', '417630', '341850', '364960', '412560', '364980', '412570', '292160', '364990', '404540', '364970', '365000', '228820', '300610', '138530', '289260', '289250', '310970', '269370', '248270', '292150', '217790', '139280', '237440', '319640', '160580', '114820', '275980', '387270', '394670', '412770', '418670', '276000', '394660', '371450', '139310', '139320', '137610', '182490', '272580', '157450', '105010', '123320', '174350', '147970', '182480', '360750', '225040', '143850', '225030', '133690', '418660', '203780', '245340', '329750', '261110', '261120', '305080', '381170', '381180', '228810', '091230', '098560', '211560', '329200', '138520', '157490', '228800', '227570', '261140', '130680', '217770', '195930', '225050', '245350', '091220', '307510', '225060', '236350', '123310', '195920', '248260', '241180', '292560', '150460', '302190', '157500', '307520', '192090', '204480', '217780', '245360', '414780', '371470', '396520', '371460', '396510', '117690', '371160', '232080', '233160', '261060', '261070', '250780', '277630', '210780', '277640', '277650', '376410', '387280', '143860', '138540', '228790', '385710', '385720', '410870', '404120', '032540', '048770', '108590', '145850', '570047', '570074', '570050', '570049', '570071', '570055', '570051', '570031', '570022', '570072', '570059', '570043', '570065', '570054', '570061', '570045', '570063', '570048', '570057', '570032', '570023', '570073', '570060', '570044', '570066', '570027', '570062', '570046', '570028', '570056', '570042', '570064', '570025', '570058', '570053', '570068', '570067', '570029', '570019', '570052', '246690', '317240', '002900', '038340', '073570', '024070', '413930', '057030', '037270', '040300', '051390', '052220', '079940', '078890', '000500', '036620', '000860', '217730', '035250', '114190', '094480', '011420', '039240', '053950', '0539501C', '002100', '009450', '267290', '012320', '011040', '000050', '214390', '012610', '009140', '024910', '013580', '012200', '012205', '002140', '198440', '049720', '010130', '002240', '014570', '348150', '098460', '035290', '038530', '900280', '215000', '121440', '183410', '076340', '009290', '014200', '017040', '017900', '037710', '026910', '355150', '397880', '331520', '030610', '339770', '053270', '007690', '005320', '00532219', '001140', '066620', '043650', '006050', '060480', '078130', '307750', '002720', '243870', '204020', '083420', '186230', '014530', '900070', '204620', '019660', '014280', '014285', '053260', '008870', '001570', '002990', '002995', '011780', '011785', '214330', '21433218', '001210', '00121218', '073240', '036190', '049080', '035460', '092440', '000270', '024110', '013700', '308100', '004540', '004545', '187790', '286750', '151910', '121600', '247660', '039860', '091970', '244880', '288490', '051490', '137080', '190510', '242040', '089600', '293580', '257990', '138610', '130580', '036800', '267320', '72501773', '72502773', '001260', '008350', '008355', '004270', '003920', '003925', '025860', '111710', '091590', '168330', '385590', '411050', '385600', '094860', '253590', '212560', '095660', '042420', '950220', '311390', '085910', '092730', '290660', '306620', '153460', '007390', '086220', '033640', '330860', '005720', '005725', '002350', '002355', '089140', '065170', '003580', '137940', '348210', '041140', '217270', '225570', '251270', '317860', '104620', '090350', '090355', '000320', '000325', '194700', '285490', '229500', '106520', '278650', '006280', '142280', '234690', '005250', '005257', '065560', '004370', '072710', '054050', '069140', '040160', '126870', '060260', '012340', '214870', '270870', '144960', '085670', '119860', '064260', '093640', '340360', '039560', '058730', '023590', '032190', '323350', '068240', '145210', '271850', '343090', '019680', '019685', '006370', '008060', '00806K', '353200', '35320K', '000490', '178600', '020400', '008830', '048470', '008110', '004780', '005750', '017650', '006570', '007720', '317850', '290670', '078140', '001680', '001685', '084690', '084695', '036480', '128820', '117580', '025440', '027830', '104040', '016710', '510007', '510005', '510017', '510001', '510011', '510003', '510015', '510002', '510014', '510010', '510006', '510004', '510018', '510019', '510009', '510016', '510008', '70901B95', '70902B95', '70903B95', '387310', '397500', '332290', '336570', '020180', '003540', '003547', '003545', '045390', '009190', '108380', '006580', '014160', '047040', '009320', '042660', '003090', '069620', '007680', '000430', '048910', '005710', '006340', '006345', '003220', '024890', '290380', '002880', '290120', '2901221A', '000300', '120240', '003310', '114920', '078600', '012800', '015230', '096350', '140520', '131220', '010170', '060900', '054670', '001070', '023910', '006650', '001440', '0014401C', '084010', '001790', '001795', '001130', '003490', '003495', '005880', '003830', '016090', '069460', '021040', '021045', '067080', '298540', '192080', '299170', '012510', '302920', '213420', '317330', '077360', '004830', '004835', '090410', '024900', '263600', '194480', '348840', '263800', '199150', '206560', '261200', '145720', '227420', '067990', '70101781', '002150', '006620', '100130', '005160', '075970', '001230', '086450', '023450', '004140', '099410', '007590', '005960', '005965', '026960', '002210', '102260', '033500', '025950', '000640', '170900', '088130', '028100', '282690', '041930', '001520', '001527', '001529', '084670', '082640', '060380', '001525', '079960', '008970', '228340', '092780', '088910', '094170', '049770', '013120', '018500', '006040', '030720', '014820', '014825', '163560', '109860', '032960', '004890', '002690', '023790', '005290', '025900', '000020', '000150', '000157', '241560', '000155', '034020', '03402217', '0340221B', '336260', '33626K', '33626L', '016740', '073190', '176750', '030350', '203650', '223250', '060570', '192650', '217620', '187870', '066670', '024090', '003160', '092200', '110990', '078590', '263690', '214680', '377190', '263720', '376300', '109740', '131030', '196490', '066900', '180400', '127120', '092070', '039840', '013570', '219550', '310870', '210540', '104460', '079810', '113810', '043360', '197140', '068930', '033130', '105740', '263020', '290550', '007340', '187220', '163430', '131180', '315640', '317120', '042510', '232680', '300120', '171120', '069540', '285770', '347700', '214260', '115390', '200350', '171010', '084650', '217500', '092590', '141080', '060300', '038390', '294140', '228670', '228850', '281740', '277810', '179720', '215100', '090360', '238500', '108490', '900260', '223220', '067730', '071280', '032350', '089860', '330590', '000400', '023530', '004000', '286940', '280360', '004990', '00499K', '005300', '005305', '011170', '002270', '071840', '038060', '162120', '253610', '085370', '08537M', '70102B96', '70103B96', '060240', '058470', '039980', '019570', '01957229', '016100', '012700', '302550', '377450', '029480', '277070', '042500', '219420', '027740', '195500', '137930', '403790', '222810', '305090', '098120', '147760', '292340', '159800', '377480', '038290', '204320', '001080', '220630', '267980', '005990', '127160', '093520', '377030', '088980', '094800', '74401777', '74401BAA', '74401769', '74401773', '100590', '067280', '072870', '215200', '133750', '235980', '200580', '041920', '233250', '014100', '236340', '054180', '086900', '078160', '065650', '610032', '610031', '610030', '610033', '610026', '610018', '610007', '610011', '610034', '610005', '610028', '610019', '610008', '610012', '610035', '610023', '610016', '610002', '610003', '610004', '610022', '610014', '610006', '610029', '610021', '610010', '610013', '610036', '610025', '610017', '610027', '610020', '610009', '610024', '610015', '610001', '138040', '74601669', '008560', '000060', '021880', '140410', '241770', '090370', '059210', '058110', '096640', '017180', '257370', '009900', '267060', '012690', '005360', '080420', '080160', '204210', '100030', '087260', '101330', '012860', '348030', '250060', '033200', '009680', '118990', '006920', '009580', '001810', '009200', '322970', '033920', '008420', '279600', '52G574', '52G601', '52G624', '52G811', '52G822', '52G837', '52G850', '52G852', '52G882', '52G892', '52G893', '52G904', '52G905', '52G931', '52G975', '52GA05', '52GA12', '52GB01', '52GB02', '52GB03', '52GB10', '52GB48', '52GB57', '52GB69', '52GB72', '52GB81', '52GB97', '52GC12', '52GC31', '52GD68', '52GD74', '52GD98', '52GE04', '52GE11', '52GE12', '52GE19', '52GE30', '52GE54', '52GE63', '52GE74', '52GE75', '52GE89', '52GF03', '52GF07', '52GG45', '52GG46', '52GG48', '52GG49', '52GG50', '52GG51', '52GG67', '52GG68', '52GG69', '52GG70', '52GG71', '52GG72', '52GG73', '52GG74', '52GG80', '52GG83', '52GG87', '52GG97', '52GG98', '52GG99', '52GH01', '52GH02', '52GH03', '52GH04', '52GH10', '52GH11', '52GH21', '52GH23', '52GH24', '52GH25', '52GH33', '52GH40', '52GH41', '52GH46', '52GH54', '52GH55', '52GH66', '52GH69', '52GH74', '52GH75', '52GH76', '52GH77', '52GH88', '52GH89', '52GH90', '52GJ04', '52GJ05', '52GJ13', '52GJ14', '52GJ15', '52GJ25', '52GJ26', '52GJ27', '52GJ33', '52GJ42', '52GJ53', '52GJ54', '52GJ58', '52GK72', '52GK73', '52GK74', '52GK75', '52GK76', '52GK78', '52GK81', '52GK86', '52GK87', '52GK88', '52GK89', '52GK92', '52GK98', '52GL03', '52GL05', '52GL06', '52GL07', '52GL08', '52GL09', '52GL15', '52GL17', '52GL18', '52GL21', '52GL22', '52GL23', '52GL28', '52GL32', '52GL34', '52GL40', '52GL41', '52GL47', '52GL48', '52GL49', '52GL54', '52GL56', '52GL57', '52GL58', '52GL61', '52GL62', '52GL63', '52GL64', '52GL67', '52GL69', '52GL70', '52GL73', '52GL80', '52GL82', '52GL83', '52GL84', '52GL87', '52GL88', '52GL89', '52GL93', '52GL99', '52GM00', '52GM01', '52GM07', '52GM09', '52GM14', '52GM17', '52GM18', '52GM20', '52GM23', '52GM59', '52GM60', '52GM61', '52GM62', '52GM63', '52GM64', '52GM65', '52GM66', '52GM67', '52GM68', '52GM69', '52GM70', '52GM71', '52GM72', '52GM73', '52GM74', '52GM75', '52GM76', '52GM77', '52GM78', '52GM79', '52GM80', '52GM81', '52GM82', '52GM83', '52GM84', '52GM85', '52GM86', '52GM87', '52GM88', '52GM89', '52GM90', '52GM91', '52GM92', '52GM93', '52GM94', '52GM95', '52GM96', '52GM97', '52GM98', '52GM99', '52GN00', '52GN01', '52GN02', '52GN03', '52GN04', '52GN05', '52GN06', '52GN07', '52GN08', '52GN09', '52GN10', '52GN11', '52GN12', '52GN13', '52GN17', '52GN18', '52GN19', '52GN20', '52GN21', '52GN22', '52GN23', '52GN24', '52GN25', '52GN26', '52GN31', '52GN35', '52GN41', '52GN42', '52GN46', '52GN48', '52GN52', '52GN53', '52GN54', '52GN58', '52GN59', '52GN60', '52GN61', '52GN62', '52GN63', '52GN64', '52GN68', '52GN69', '52GN70', '52GN73', '52GN74', '52GN75', '52GN76', '52GN78', '52GN82', '52GN83', '52GN84', '52GN85', '52GN86', '52GN90', '52GN93', '52GN95', '52GN96', '52GN98', '52GP00', '52GP03', '52GP07', '52GP08', '52GP10', '52GP11', '52GP12', '52GP14', '52GP15', '52GP20', '52GP21', '52GP24', '52GP25', '52GP26', '52GP27', '52GP31', '52GP32', '52GP33', '52GP36', '52GP37', '52GP38', '52GP40', '52GP43', '52GP44', '52GP46', '52GP48', '52GP49', '52GP50', '52GP52', '52GP53', '52GP54', '52GP55', '52GP58', '52GP59', '52GP60', '52GP62', '52GP64', '52GP65', '52GP66', '52GP68', '52GP70', '52GP71', '52GP72', '52GP74', '52GP77', '52GP97', '52GP98', '52GP99', '52GQ00', '52GQ01', '52GQ02', '52GQ03', '52GQ04', '52GQ05', '52GQ06', '52GQ07', '52GQ08', '52GQ09', '52GQ10', '52GQ11', '52GQ12', '52GQ13', '52GQ14', '52GQ15', '52GQ16', '52GQ17', '52GQ18', '52GQ19', '52GQ20', '52GQ21', '52GQ22', '52GQ23', '52GQ24', '52GQ25', '52GQ26', '52GQ27', '52GQ28', '52GQ29', '52GQ30', '52GQ31', '52GQ32', '52GQ33', '52GQ34', '52GQ35', '52GQ36', '52GQ37', '52GQ38', '52GQ39', '52GQ40', '52GQ41', '52GQ42', '52GQ43', '52GQ44', '52GQ45', '52GQ46', '52GQ47', '52GQ48', '52GQ49', '52GQ50', '52GQ51', '52GQ52', '52GQ53', '52GQ54', '52GQ55', '52GQ56', '52GQ57', '52GQ58', '52GQ59', '52GQ60', '52GQ65', '52GQ66', '52GQ67', '52GQ68', '52GQ69', '52GQ70', '52GQ71', '52GQ72', '52GQ73', '52GQ74', '52GQ75', '52GQ76', '52GQ78', '52GQ80', '52GQ83', '52GQ84', '52GQ85', '52GQ86', '52GQ90', '52GQ91', '52GQ93', '52GQ94', '52GQ98', '52GQ99', '52GR00', '52GR01', '52GR02', '52GR03', '52GR04', '52GR05', '52GR06', '52GR07', '52GR08', '52GR09', '52GR10', '52GR11', '52GR12', '52GR13', '52GR14', '52GR15', '52GR16', '52GR17', '52GR18', '52GR19', '52GR20', '52GR23', '52GR26', '52GR28', '52GR30', '52GR31', '52GR32', '52GR33', '52GR35', '52GR38', '52GR39', '52GR40', '52GR41', '52GR42', '52GR43', '52GR44', '52GR46', '52GR47', '52GR48', '52GR49', '52GR50', '52GR51', '52GR52', '52GR53', '52GR54', '52GR55', '52GR56', '52GR57', '52GR58', '52GR59', '52GR61', '52GR62', '52GR64', '52GR65', '52GR66', '52GR67', '52GR68', '52GR69', '52GR70', '52GR72', '52GR73', '52GR74', '52GR75', '52GR76', '52GR77', '52GR78', '52GR79', '52GR80', '52GR81', '52GR82', '52GR83', '52GR84', '52GR85', '52GR87', '52GR88', '52GR89', '52GR90', '52GR91', '52GR94', '52GR96', '52GR97', '52GR98', '52GS00', '52GS01', '52GS02', '52GS03', '52GS04', '52GS05', '52GS06', '52GS07', '52GS08', '52GS09', '52GS11', '52GS12', '52GS13', '52GS14', '52GS15', '52GS16', '52GS17', '52GS18', '52GS19', '52GS20', '52GS21', '52GS22', '52GS23', '52GS24', '52GS25', '52GS26', '52GS27', '52GS28', '52GS29', '52GS30', '52GS31', '52GS32', '52GS33', '52GS34', '52GS36', '52GS37', '52GS38', '52GS39', '52GS40', '52GS41', '52GS42', '52GS44', '52GS46', '52GS47', '52GS48', '52GS50', '52GS51', '52GS52', '52GS53', '52GS55', '52GS56', '52GS57', '52GS58', '52GS59', '52GS60', '52GS61', '52GS62', '52GS63', '52GS64', '52GS65', '52GS66', '52GS67', '52GS68', '52GS69', '52GS70', '52GS71', '52GS72', '52GS73', '52GS74', '52GS75', '52GS76', '52GS77', '52GS78', '52GS79', '52GS80', '52GS81', '52GS82', '52GS83', '52GS84', '52GS85', '52GS86', '52GS87', '52GS88', '52GS89', '52GS90', '52GS91', '52GS92', '52GS93', '52GS94', '52GS95', '52GS96', '52GS97', '52GS98', '52GS99', '52GT00', '52GT01', '52GT02', '52GT03', '52GT04', '52GT05', '52GT06', '52GT07', '52GT08', '52GT09', '52GT10', '52GT11', '52GT12', '52GT13', '52GT14', '52GT15', '52GT16', '52GT17', '52GT18', '52GT19', '52GT20', '52GT21', '52GT22', '52GT23', '52GT24', '52GT25', '52GT26', '52GT27', '52GT28', '52GT29', '52GT30', '52GT31', '52GT32', '52GT33', '52GT34', '52GT35', '52GT36', '52GT37', '52GT38', '52GT39', '52GT40', '52GT41', '52H001', '52H002', '52H003', '52H004', '52H005', '52H006', '52H007', '52H008', '52H009', '52H010', '52H012', '52H013', '52H014', '52H015', '52H016', '52H017', '52H018', '52H023', '52H025', '52H026', '52H029', '52H030', '52H031', '52H032', '52H033', '52H034', '52H035', '52H036', '52H037', '52H038', '52H039', '52H040', '52H041', '52H042', '52H043', '52H044', '52H045', '52H046', '52H047', '52H048', '52H049', '52H050', '52H051', '52H052', '52H053', '52H054', '52H055', '52H056', '52H057', '52H058', '52H059', '52H060', '52H061', '52H062', '52H063', '52H064', '52H065', '52H066', '52H067', '52H068', '52H069', '52H070', '52H071', '52H072', '52H073', '52H075', '52H077', '52H079', '52H081', '52H082', '52H083', '52H085', '52H086', '52H087', '52H088', '52H089', '52H090', '52H091', '52H092', '52H093', '52H094', '52H095', '52H096', '52H097', '52H098', '52H099', '52H100', '52H102', '52H103', '52H105', '52H106', '52H107', '52H108', '52H109', '52H110', '52H111', '52H112', '52H113', '52H114', '52H115', '52H116', '52H117', '52H119', '52H121', '52H122', '52H123', '52H124', '52H125', '52H126', '52H127', '52H128', '52H129', '52H130', '52H131', '52H132', '52H133', '52H134', '52H135', '52H136', '52H137', '52H138', '52H139', '52H140', '52H141', '52H142', '52H144', '52H145', '52H146', '52H147', '52H148', '52H149', '52H150', '52H151', '52H152', '52H153', '52H154', '52H155', '52H156', '52H157', '52H158', '52H159', '52H160', '52H161', '52H162', '52H164', '52H166', '52H167', '52H168', '52H169', '52H170', '52H171', '52H172', '52H174', '52H175', '52H178', '52H179', '52H181', '52H182', '52H183', '52H184', '52H185', '52H186', '52H187', '52H188', '52H189', '52H190', '52H192', '52H193', '52H195', '52H196', '52H197', '52H198', '52H199', '52H200', '52H201', '52H202', '52H203', '52H204', '52H205', '52H206', '52H207', '52H208', '52H209', '52H210', '52H211', '52H212', '52H213', '52H214', '52H215', '52H216', '52H217', '52H218', '52H219', '52H220', '52H221', '52H222', '52H223', '52H224', '52H225', '52H226', '52H227', '52H228', '52H229', '52H230', '52H231', '52H232', '52H233', '52H234', '52H235', '52H236', '52H237', '52H238', '52H239', '52H240', '52H241', '52H242', '52H243', '52H244', '52H245', '52H246', '52H247', '52H248', '52H249', '52H250', '52H251', '52H252', '52H253', '52H254', '52H255', '52H256', '52H257', '52H258', '52H259', '52H260', '52H261', '52H262', '52H263', '52H264', '52H265', '52H266', '52H267', '52H268', '52H269', '52H270', '52H271', '52H272', '52H273', '52H274', '52H275', '52H276', '52H277', '52H278', '52H279', '52H280', '52H281', '52H282', '52H283', '52H284', '52H285', '52H286', '52H287', '52H288', '52H289', '52H290', '52H291', '52H292', '52H293', '52H294', '52H295', '52H296', '52H297', '52H298', '52H299', '52H300', '52H301', '52H302', '52H303', '52H304', '52H305', '52H306', '52H307', '52H308', '52H309', '52H310', '52H641', '52H642', '52H643', '52H644', '52H645', '52H646', '52H647', '52H648', '52H649', '52H650', '52H651', '52H652', '52H653', '52H654', '52H655', '52H656', '52H657', '52H658', '52H659', '52H660', '52H661', '52H662', '52H663', '52H664', '52H665', '52H666', '52H667', '52H668', '52H669', '52H670', '52H671', '52H672', '52H673', '52H674', '52H675', '52H676', '52H677', '52H678', '52H679', '52H680', '52H681', '52H682', '52H683', '52H684', '52H685', '52H686', '52H687', '52H688', '52H689', '52H690', '52H691', '52H692', '52H693', '52H694', '52H695', '52H696', '52H697', '52H698', '52H699', '52H700', '52H701', '52H702', '52H703', '52H704', '52H705', '52H706', '52H707', '52H708', '52H709', '52H710', '52H711', '52H712', '52H713', '52H714', '52H715', '52H716', '52H717', '52H718', '52H719', '52H720', '52H721', '52H722', '52H723', '52H724', '52H725', '52H726', '52H727', '52H728', '52H729', '52H730', '52H731', '52H732', '52H733', '52H734', '52H735', '52H736', '52H737', '52H738', '52H739', '52H740', '52H741', '52H742', '52H743', '52H744', '52H745', '52H746', '52H747', '52H748', '52H749', '52H750', '52H751', '52H752', '52H753', '52H754', '52H755', '52H756', '52H757', '52H758', '52H759', '52H760', '52H761', '52H762', '52H763', '52H764', '52H765', '52H766', '52H767', '52H768', '52H769', '52H770', '52H771', '52H772', '52H773', '52H774', '52H775', '52H776', '52H777', '52H778', '52H779', '52H780', '52H781', '52H782', '52H783', '52H784', '52H785', '52H786', '52H787', '52H788', '52H789', '52H790', '52H791', '52H792', '52H793', '52H794', '52H795', '52H796', '52H797', '52H798', '52H799', '52H800', '52H801', '52H802', '52H803', '52H804', '52H805', '52H806', '52H807', '52H808', '52H809', '52H810', '52H811', '52H812', '52H813', '52H814', '52H815', '52H816', '52H817', '52H818', '52H819', '52H820', '52H821', '52H822', '52H823', '52H824', '52H825', '52H826', '52H827', '52H828', '52H829', '52H830', '52H831', '52H832', '52H833', '52H834', '52H835', '52H836', '52H837', '52H838', '52H839', '52H840', '52H841', '52H842', '52H843', '52H844', '52H845', '52H846', '52H847', '52H848', '52H849', '52H850', '52H851', '52H852', '52H853', '52H854', '52H855', '52H856', '52H857', '52H858', '52H859', '52H860', '52H861', '52H862', '52H863', '52H864', '52H865', '52H866', '52H867', '52H868', '52H869', '52H870', '52H871', '52H872', '52H873', '52H874', '52H875', '52H876', '52H877', '52H878', '52H879', '52H880', '52H881', '52H882', '52H883', '52H884', '52H885', '52H886', '52H887', '52H888', '52H889', '52H890', '52H891', '52H892', '52H893', '52H894', '52H895', '52H896', '52H897', '52H898', '52H899', '52H900', '52H901', '52H902', '52H903', '52H904', '52H905', '52H906', '52H907', '52H908', '52H909', '52H910', '52H911', '52H912', '52H913', '52H914', '52H915', '52H916', '52H917', '52H918', '52H919', '52H920', '52H921', '52H922', '52H923', '52H924', '52H925', '52H926', '52H927', '52H928', '52H929', '52H930', '52H931', '52H932', '52H933', '52H934', '52H935', '52H936', '52H937', '52H938', '52H939', '52H940', '52H941', '52H942', '52H943', '52H944', '52H945', '52H946', '52H947', '52H948', '52H949', '52H950', '52H951', '52H952', '52H953', '52H954', '52H955', '52H956', '52H957', '52H958', '52H959', '52H960', '52H961', '52H962', '52H963', '52H964', '52H965', '52H966', '52H967', '52H968', '52H969', '52H970', '095500', '025560', '218150', '007120', '520048', '520032', '520045', '520036', '520035', '520030', '520013', '520043', '520046', '520009', '520033', '520014', '520006', '520010', '520003', '520047', '520034', '520015', '520007', '520011', '520005', '520040', '520038', '520004', '590018', '520049', '520042', '520039', '520026', '520037', '396690', '353490', '328380', '357250', '100790', '085620', '006800', '00680K', '006805', '208890', '049950', '207760', '225850', '002840', '268280', '107590', '134380', '003650', '059090', '214610', '201490', '950190', '214180', '70101B95', '155900', '206640', '018700', '035620', '064520', '053030', '301300', '064550', '314930', '208710', '142760', '086820', '038460', '281310', '251120', '266470', '086040', '199290', '099430', '032980', '222160', '308080', '043150', '323990', '003610', '267790', '001340', '046310', '035150', '066410', '002410', '206400', '019010', '322190', '177350', '299910', '096300', '70101B96', '70101786', '70102786', '007210', '225530', '250000', '002760', '003850', '006910', '000890', '226340', '206950', '003000', '001270', '001275', '026940', '014470', '011390', '005030', '008470', '338220', '100120', '337930', '099390', '064480', '288330', '365900', '251630', '018290', '044480', '033560', '191600', '369370', '126340', '121800', '148140', '082800', '08280218', '318410', '002070', '100220', '200780', '141000', '090460', '083650', '215050', '086670', '335890', '138580', '082920', '054220', '042370', '030790', '307870', '357880', '032850', '148780', '238200', '093190', '065450', '210120', '005180', '072950', '266170', '143240', '003960', '008040', '007160', '014710', '006090', '100090', '122350', '014970', '018310', '053700', '009620', '023600', '001470', '530014', '530073', '530087', '530085', '530067', '530072', '530095', '530083', '530077', '530023', '530075', '530088', '530086', '530031', '530063', '530055', '530070', '530061', '530068', '530081', '530020', '530016', '530019', '530015', '530089', '530076', '530036', '530064', '530056', '530071', '530062', '530069', '530082', '530002', '530074', '530096', '530084', '530078', '530090', '530094', '530092', '530080', '530093', '530091', '530060', '530066', '530053', '530079', '006400', '006405', '006660', '380320', '028260', '02826K', '207940', '032830', '377630', '018260', '028050', '009150', '009155', '005930', '005935', '001360', '010140', '010145', '016360', '068290', '029780', '000810', '000815', '006110', '009300', '145990', '145995', '003230', '225190', '002170', '272550', '000070', '000075', '002810', '361670', '054540', '065570', '005680', '003720', '023000', '004380', '002450', '032280', '002290', '004440', '000520', '009770', '037460', '032750', '054090', '005500', '000250', '004690', '024950', '038500', '017480', '010960', '046390', '004450', '009470', '011230', '001820', '000390', '027580', '038540', '329560', '101000', '001290', '041650', '091580', '263810', '089980', '042940', '042600', '075180', '252990', '263540', '007540', '248170', '294630', '038070', '006730', '079650', '100660', '007860', '200880', '019770', '017390', '043710', '0437121A', '092190', '046890', '004410', '004415', '063170', '027040', '018680', '021050', '093920', '189860', '178320', '122690', '140070', '011370', '065710', '008490', '035890', '357550', '003100', '123420', '007610', '067370', '171090', '136490', '086710', '014620', '037350', '014910', '014915', '003080', '004980', '004985', '011300', '081580', '045300', '015750', '000180', '080470', '043260', '148150', '002420', '053060', '340440', '017510', '004360', '004365', '004490', '011560', '001430', '306200', '003030', '019440', '058650', '052190', '013000', '100700', '234100', '024830', '091090', '021820', '067830', '033530', '258830', '036630', '039310', '075580', '067770', '053450', '234340', '027970', '252500', '347000', '308170', '012600', '331920', '049180', '299660', '268600', '108860', '208370', '258250', '068270', '068760', '091990', '290690', '053110', '950200', '032680', '032685', '258790', '066910', '043100', '336370', '33637K', '33637L', '154040', '248070', '035610', '357780', '036830', '304100', '004430', '086980', '050960', '017550', '084180', '253840', '185190', '236200', '317770', '094840', '192440', '099440', '053210', '033790', '131100', '276040', '159910', '115570', '258540', '253450', '204630', '026890', '013810', '039670', '049830', '020710', '033170', '260870', '048870', '025320', '134790', '269620', '2696221B', '131090', '232830', '139050', '016590', '290520', '029530', '004970', '001000', '025870', '215600', '065350', '011930', '005390', '004170', '035510', '034300', '031430', '031440', '006880', '002800', '323280', '344050', '005800', '001720', '001725', '009270', '009275', '017000', '002700', '012790', '138070', '226330', '019170', '019175', '002870', '500059', '500001', '500058', '500002', '500015', '500018', '500016', '500009', '500011', '500056', '500050', '500019', '500040', '500037', '500020', '500035', '500029', '500053', '500004', '500013', '500017', '500057', '500051', '500027', '500041', '500038', '500028', '500036', '500030', '500054', '500032', '500055', '500003', '500008', '500006', '500010', '500012', '500005', '500014', '500007', '500063', '500061', '500024', '500062', '500060', '500023', '50G141', '50G142', '50G143', '50G144', '50G145', '50G146', '50G151', '50G152', '50G155', '50G158', '50G161', '50G162', '50G163', '50G164', '50G165', '50G166', '50G167', '50G168', '50G172', '50G175', '50G176', '50G178', '50G182', '50G183', '50G184', '50G187', '50G189', '50G190', '50G191', '50G192', '50G193', '50G194', '50G195', '50G196', '50G197', '50G198', '50G199', '50G200', '50G201', '50G202', '50G203', '50G204', '50G205', '50G208', '50G209', '50G210', '50G211', '50G212', '50G213', '50G214', '50G218', '50G219', '50G220', '50G221', '50G222', '50G223', '50G224', '50G225', '50G227', '50G228', '50G229', '50G230', '50G235', '50G236', '50G237', '50G238', '50G239', '50G241', '50G242', '50G243', '50G244', '50G245', '50G246', '50G249', '50G250', '50G251', '50G252', '50G253', '50G254', '50G255', '50H001', '50H002', '50H003', '50H004', '50H005', '50H006', '50H007', '50H008', '50H009', '50H010', '50H011', '50H012', '50H013', '50H014', '50H015', '50H016', '50H017', '50H018', '50H019', '50H020', '50H021', '50H022', '50H023', '50H024', '50H025', '50H026', '50H027', '50H028', '50H029', '50H030', '50H031', '50H032', '50H033', '50H034', '50H035', '50H036', '50H037', '50H038', '50H039', '50H040', '50H041', '50H042', '50H043', '50H044', '50H045', '50H046', '50H047', '50H048', '50H049', '50H050', '50H051', '50H052', '50H053', '50H054', '50H055', '50H056', '50H057', '50H058', '50H059', '50H060', '50H061', '50H062', '50H063', '50H064', '50H065', '50H066', '50H067', '50H068', '50H069', '50H070', '50H071', '50H072', '50H073', '50H074', '50H075', '50H076', '50H077', '50H078', '50H079', '50H080', '50H081', '50H082', '50H083', '50H084', '50H085', '50H086', '50H087', '50H088', '50H089', '50H090', '50H091', '50H092', '50H093', '50H094', '50H095', '50H096', '50H097', '50H098', '50H099', '50H100', '72501BB4', '72502BB4', '404990', '72501BA2', '72502BA2', '293940', '333050', '366330', '393360', '055550', '056700', '187270', '004080', '243840', '257720', '222800', '036710', '160980', '356890', '217330', '102280', '003410', '010280', '003620', '004770', '217320', '208640', '222420', '037760', '099320', '015540', '049960', '050890', '066790', '06679217', '222080', '004920', '236030', '103660', '352480', '245450', '264660', '352700', '297090', '112610', '359090', '286000', '115530', '225330', '115480', '376290', '189330', '096530', '900120', '101240', '060590', '260930', '013990', '123860', '025980', '008700', '050320', '058220', '125210', '002790', '00279K', '002795', '090430', '090435', '357580', '052710', '074430', '092040', '083930', '149950', '036010', '002030', '183190', '002310', '050860', '012170', '136410', '246720', '067390', '0673921C', '0673921B', '159010', '127710', '267850', '020560', '154030', '227610', '143160', '054800', '332370', '122900', '339950', '099190', '289010', '214430', '040910', '068940', '052860', '010780', '069920', '038880', '307180', '101390', '078860', '114810', '090150', '031310', '185490', '059100', '149010', '262840', '175250', '052460', '119830', '052770', '124500', '372800', '084850', '114840', '027360', '139990', '032080', '013310', '059120', '158430', '149300', '067160', '001540', '053800', '251280', '065660', '297570', '001780', '260660', '361570', '131370', '140670', '096610', '061040', '148250', '347860', '196170', '123750', '085810', '117670', '291650', '293780', '267810', '018250', '161000', '196300', '310200', '179530', '900100', '205500', '052790', '290740', '238090', '092600', '129890', '174900', '255440', '060230', '030960', '102120', '238120', '224810', '019990', '011090', '136510', '270660', '407830', '407820', '038680', '137310', '217480', '121890', '097780', '042110', '298060', '065420', '270210', '103230', '260970', '101490', '095910', '275630', '031330', '060540', '351320', '056190', '080000', '086460', '005850', '214310', '246250', '041510', '299670', '007820', '109610', '012750', '306040', '217910', '224020', '096630', '069510', '041910', '234300', '039440', '098660', '052020', '237690', '050760', '288620', '317830', '058610', '043340', '023960', '298690', '187660', '054630', '200710', '096690', '140910', '078520', '298380', '203400', '195990', '003800', '088800', '241840', '312610', '015260', '234070', '072990', '227100', '044990', '176440', '043220', '239610', '353070', '353060', '044780', '357230', '071670', '045660', '224110', '230980', '021080', '089530', '200470', '207490', '262260', '109960', '007460', '003060', '00306217', '244920', '089970', '230240', '230360', '038870', '128540', '086520', '247540', '383310', '038110', '073540', '064850', '064090', '036810', '173940', '083500', '054940', '950130', '205100', '070300', '092870', '317870', '067570', '236810', '140610', '333620', '101400', '036570', '217820', '138250', '031860', '238170', '224760', '365590', '380440', '391060', '391710', '396770', '265740', '354200', '093510', '208860', '183490', '085310', '182400', '348370', '069410', '227950', '291230', '198080', '048830', '096870', '276240', '900140', '376190', '061970', '138690', '290650', '066970', '156100', '311060', '073110', '083310', '037950', '170920', '058630', '058970', '019590', '169330', '097520', '179290', '225860', '009780', '123040', '323230', '033160', '347890', '033310', '259630', '065150', '115960', '090740', '060850', '014440', '007530', '143540', '111770', '009970', '003520', '000670', '036560', '006740', '012280', '265560', '012160', '036000', '250930', '053280', '015360', '122640', '403360', '900300', '045060', '080520', '007310', '039830', '322310', '046120', '014940', '002630', '065500', '271560', '001800', '010470', '352910', '053980', '052420', '05242217', '241790', '329020', '039200', '226400', '031510', '048260', '138080', '080580', '067170', '353590', '173130', '049480', '309930', '244460', '226950', '057540', '082210', '109080', '153710', '321820', '122990', '232140', '065530', '067900', '155650', '273640', '251370', '066430', '193250', '273060', '019210', '122870', '011690', '332570', '079000', '070960', '316140', '032820', '041190', '115440', '118000', '046970', '082850', '215360', '072470', '073560', '153490', '037400', '010050', '101170', '006980', '066590', '017370', '103840', '046940', '215380', '065680', '105840', '018620', '010400', '049800', '016880', '095720', '005820', '307280', '053080', '032940', '240810', '074600', '104830', '014190', '131390', '030530', '012620', '382840', '216280', '376980', '122830', '008370', '008290', '101160', '095270', '010600', '065950', '076080', '196700', '069080', '053580', '071460', '044340', '330350', '348350', '112040', '101730', '065370', '140660', '038620', '299900', '036090', '136540', '320000', '097800', '192390', '313760', '008600', '900340', '75601BA2', '75602BA2', '033270', '064510', '014830', '036200', '018000', '000910', '047400', '203450', '011330', '077500', '011320', '086390', '241690', '142210', '121060', '048430', '206650', '089850', '084440', '032620', '264450', '078070', '002920', '024800', '000700', '054930', '069330', '049520', '336060', '367460', '367480', '003470', '003475', '056090', '263770', '337840', '072130', '000220', '000225', '000227', '340930', '023410', '056080', '373340', '388800', '084370', '001200', '178780', '221800', '179900', '263050', '000100', '000105', '003460', '003465', '191410', '008730', '072770', '008250', '039020', '025820', '067920', '044960', '303530', '302430', '279060', '214320', '073490', '215790', '344860', '246960', '088390', '272290', '053350', '258610', '041520', '264850', '054210', '164060', '065440', '088260', '139480', '115610', '349720', '078020', '131400', '208850', '351330', '080010', '379390', '086890', '007660', '005950', '015020', '047560', '900110', '270020', '067010', '093230', '341310', '101360', '102710', '066980', '074610', '063760', '123570', '083470', '095190', '091120', '232530', '102460', '039030', '294090', '088290', '084680', '181340', '353810', '74701789', '74701B8A', '74702B8A', '74701B9A', '74701B97', '350520', '74702786', '74703B96', '74702B96', '74704B96', '334890', '74701776', '74702776', '099750', '377330', '035810', '160600', '092130', '096040', '134060', '001840', '000760', '024810', '014990', '041830', '352940', '101140', '216400', '079950', '277410', '060150', '033230', '006490', '037330', '023800', '034590', '211050', '083640', '216050', '049070', '119610', '017250', '129260', '240340', '035080', '051370', '064290', '189300', '150840', '048530', '023810', '175140', '115310', '039290', '071200', '016670', '101930', '249420', '000230', '013360', '003120', '333430', '068330', '003200', '007110', '058450', '007570', '007575', '008500', '019540', '081000', '020760', '020150', '103590', '094820', '271940', '015860', '226320', '950140', '049550', '254120', '043910', '234920', '289220', '317400', '033240', '174880', '049630', '04963229', '000950', '110020', '208140', '022220', '040420', '045510', '217190', '095700', '072520', '122310', '361390', '066830', '187420', '225220', '123330', '159580', '147830', '033100', '079370', '054950', '090470', '287410', '137950', '033320', '348950', '204270', '194370', '026040', '126880', '322510', '254160', '033050', '094970', '058420', '025620', '036420', '089790', '030000', '052670', '271980', '001560', '199820', '023440', '0234421A', '038010', '002620', '276730', '080220', '006220', '089590', '216080', '229000', '248020', '082270', '064800', '041590', '044060', '004910', '004700', '001550', '000480', '120030', '034940', '067000', '018470', '002600', '185750', '063160', '001630', '033340', '036930', '044380', '239340', '051980', '072020', '000440', '078650', '228760', '314130', '013890', '389030', '043610', '263860', '303030', '036180', '208350', '144510', '382480', '382800', '299480', '051160', '053050', '119850', '270520', '065060', '204840', '013870', '071320', '135160', '311320', '010580', '035000', '219750', '088790', '018120', '109820', '086060', '036890', '363250', '003780', '007370', '010640', '100250', '051630', '272450', '011000', '250030', '002780', '002787', '002785', '233990', '085660', '261780', '009310', '158310', '094850', '004650', '278280', '000650', '140290', '096240', '066360', '0663621A', '033250', '047820', '052300', '094360', '016920', '284620', '035720', '293490', '323410', '377300', '042000', '006380', '317530', '071850', '050110', '223310', '109070', '900310', '078340', '063080', '307930', '263700', '327970', '214370', '221980', '001620', '330990', '342550', '192250', '029460', '115500', '281820', '089150', '025880', '093320', '073010', '105330', '272110', '039420', '083550', '032500', '225430', '102370', '381970', '145270', '298870', '036030', '064820', '347140', '256940', '024880', '042040', '04204217', '054410', '274090', '402420', '217600', '089010', '220260', '052400', '046070', '047770', '078940', '080530', '224060', '357120', '104540', '027050', '290510', '007815', '007810', '00781K', '190650', '101670', '123410', '003690', '036690', '049430', '183300', '041960', '089890', '009730', '189350', '082660', '192820', '044820', '222040', '241710', '005070', '005420', '069110', '169670', '071950', '166480', '045970', '196450', '029960', '002020', '003070', '003075', '102940', '002025', '120110', '120115', '950160', '138490', '021240', '033290', '056360', '282880', '121850', '015710', '052330', '322780', '126600', '200130', '031820', '294570', '192400', '284740', '317690', '365270', '060280', '015590', '040350', '051780', '115180', '182360', '066310', '136660', '016600', '264900', '26490K', '005740', '005745', '259960', '215570', '043590', '114120', '110790', '900250', '083790', '045520', '036170', '214150', '352770', '237880', '139670', '020120', '039490', '71201B97', '71201B98', '71202B98', '71203B98', '71204B98', '71205B98', '71206B98', '71207B98', '71208B98', '054780', '336040', '219130', '318660', '180060', '065130', '134580', '014580', '015890', '006890', '023160', '003240', '011280', '053620', '004100', '004105', '116100', '009410', '009415', '044490', '124560', '001420', '007980', '191420', '073640', '182690', '066700', '095610', '131970', '055490', '308700', '089030', '258050', '054450', '091440', '078000', '200230', '214420', '393210', '215480', '051360', '045340', '108230', '079970', '199800', '105550', '1055521A', '290090', '026150', '322180', '117730', '033830', '057680', '064760', '246710', '340570', '277880', '131290', '019180', '356860', '062860', '363280', '36328K', '321550', '091810', '004870', '0048721A', '104480', '309900', '081150', '130740', '217880', '084730', '046210', '058530', '034230', '033540', '043200', '214450', '217950', '208340', '005690', '177830', '037070', '150900', '152870', '192720', '176710', '140950', '037030', '047310', '266870', '170790', '049120', '038950', '106240', '131760', '065690', '140860', '091700', '202960', '032800', '318010', '036580', '027710', '004720', '225590', '054300', '0543021A', '068050', '028670', '222110', '010820', '016800', '263750', '251970', '001020', '327610', '087010', '090080', '010770', '119500', '022100', '058430', '009520', '047050', '003670', '189690', '318020', '256630', '331380', '141020', '041020', '114630', '123010', '290720', '005670', '094940', '007330', '017810', '093380', '023900', '103140', '005810', '370090', '220100', '035200', '334970', '950210', '203690', '321260', '303360', '053610', '377220', '335810', '053160', '367000', '075130', '222670', '009810', '237820', '023770', '300080', '150440', '032580', '051380', '241820', '237750', '024850', '319660', '031980', '002230', '057880', '043370', '242350', '239890', '347740', '137400', '128660', '006140', '376180', '304840', '062970', '087600', '161580', '347770', '163730', '700003', '700002', '700004', '700009', '700011', '700013', '700010', '700012', '700014', '700008', '700007', '700001', '332710', '341160', '343510', '363260', '388220', '400560', '086790', '299030', '74201773', '7420177B', '7420277B', '74201BAA', '74202BAA', '74202B98', '74204B98', '74203B98', '74201B98', '067310', '372290', '166090', '293480', '039130', '136480', '003380', '153360', '149980', '013030', '352820', '126700', '106080', '071090', '340120', '377400', '400840', '221840', '106190', '019490', '000080', '000087', '000140', '000145', '373200', '066130', '368770', '152550', '57GAAA', '57GAAB', '57GAAC', '57GAAD', '57GAAE', '57GAAF', '57GAAG', '57GAAH', '57GAAJ', '57GAAK', '57GAAL', '57GAAM', '57GAAN', '57GAAP', '57GAAQ', '57GAAR', '57GAAS', '57GAAV', '57GAAW', '57GAAX', '57GAAY', '57GAAZ', '57GABC', '57GABD', '57GABE', '57GABF', '57GABG', '57GABH', '57GABJ', '57GABK', '57GABL', '57GABM', '57GABN', '57GABP', '57GABQ', '57GABR', '57GABS', '57GABT', '57GABV', '57GABW', '57GABX', '57GABZ', '57GACA', '57GACB', '57GACC', '57GACD', '57GACE', '57GACF', '57GACG', '57GACH', '57GACJ', '57GACK', '57GACL', '57GACM', '57GACN', '57GACP', '57GACQ', '57GACR', '57GACS', '57GACV', '57GACX', '57GACY', '57GACZ', '57GADA', '57GADB', '57GADC', '57GADF', '57GADG', '57GADH', '57GADK', '57GADL', '57GADM', '57GADN', '57GADP', '57GADS', '57GADT', '57GADV', '57GADW', '57GADX', '57GADY', '57GADZ', '57GAEA', '57GAEB', '57GAEC', '57GAED', '57GAEE', '57GAEF', '57GAEG', '57GAEH', '57GAEJ', '57GAEK', '57GAEL', '57GAEM', '57GAEN', '57GAEP', '57GAEQ', '57GAER', '57GAES', '57GAET', '57GAEV', '57GAEW', '57GAEX', '57GAEY', '57GAEZ', '57GAFA', '57GAFB', '57GAFC', '57GAFD', '57GAFE', '57GAFF', '57GAFG', '57GAFJ', '57GAFK', '57GAFL', '57GAFM', '57GAFN', '57GAFP', '57GAFQ', '57GAFR', '57GAFS', '57GAFT', '57GAFV', '57GAFW', '57GAFX', '57GAFZ', '57GAGA', '57GAGC', '57GAGD', '57GAGE', '57GAGF', '57GAGG', '57GAGH', '57GAGJ', '57GAGK', '57GAGL', '57GAGM', '57GAGN', '57GAGP', '57GAGQ', '57GAGR', '57GAGS', '57GAGT', '57GAGV', '57GAGW', '57GAGX', '57GAGY', '57GAGZ', '57GAHA', '57GAHB', '57GAHC', '57GAHD', '57GAHE', '57GAHF', '57GAHG', '57GAHH', '57GAHJ', '57GAHK', '57GAHL', '57GAHM', '57GAHN', '57GAHP', '57GAHQ', '57GAHR', '57GAHS', '57GAHT', '57GAHV', '57GAHX', '57GAHY', '57GAHZ', '57GAJC', '57GAJD', '57GAJE', '57GAJF', '57GAJG', '57GAJH', '57GAJJ', '57GAJK', '57GAJL', '57GAJM', '57GAJN', '57GAJP', '57GAJQ', '57GAJR', '57GAJS', '57GAJT', '57GAJV', '57GAJW', '57GAJX', '57GAJY', '57GAJZ', '57GAKA', '57GAKB', '57GAKC', '57GAKD', '57GAKE', '57GAKF', '57GAKG', '57GAKH', '57GAKJ', '57GAKK', '57GAKL', '57GAKN', '57GAKP', '57GAKQ', '57GAKR', '57GAKS', '57GAKT', '57GAKV', '57GAKW', '57GAKX', '57GAKY', '57GAKZ', '57GALA', '57GALB', '57GALC', '57GALD', '57GALE', '57GALF', '57GALG', '57GALH', '57GALJ', '57GALK', '57GALL', '57GALM', '57GALN', '57GALP', '57GALQ', '57GALR', '57GALS', '57GALT', '57GALV', '57GALW', '57GALX', '57GALY', '57GALZ', '57GAMA', '57GAMB', '57GAMC', '57GAMD', '57GAME', '57GAMF', '57GAMG', '57GAMH', '57GAMJ', '57GAMK', '57GAML', '57GAMM', '57GAMN', '57GAMP', '57GAMQ', '57GAMR', '57GAMS', '57GAMT', '57GAMV', '57GAMW', '57GAMX', '57GAMY', '57GAMZ', '57GANA', '57GANB', '57GANC', '57GAND', '57GANE', '57GANF', '57GANG', '57GANH', '57GANJ', '57GANK', '57GANL', '57GANM', '57GANN', '57GANP', '57GANQ', '57GANR', '57GANS', '57GANT', '57GANV', '57GANW', '57GANX', '57GANY', '57GANZ', '57GAPA', '57GAPB', '57GAPC', '57GAPD', '57GAPE', '57GAPF', '57GAPG', '57GAPH', '57GAPJ', '57GAPK', '57GAPL', '57GAPM', '57GAPN', '57GAPP', '57GAPQ', '57GAPR', '57GAPS', '57GAPT', '57GAPV', '57GAPW', '57GAPX', '57GAPY', '57GAPZ', '57GAQA', '57GAQB', '57GAQC', '57GAQD', '57GAQE', '57GAQF', '57GAQG', '57GAQH', '57GAQJ', '57GAQK', '57GAQL', '57GAQM', '57GAQN', '57GAQP', '57GAQQ', '57GAQR', '57GAQS', '57GAQT', '57GAQV', '57GAQW', '57GAQX', '57GAQY', '57GAQZ', '57GARA', '57GARB', '57GARC', '57GARD', '57GARE', '57GARF', '57GARG', '57GARH', '57GARJ', '57GARK', '57GARL', '57GARM', '57GARN', '57GARP', '57GARQ', '57GARR', '57GARS', '57GART', '57GARV', '57GARW', '57GARX', '57GARY', '57GARZ', '57GASA', '57GASB', '57GASC', '57GASD', '57GASE', '57GASF', '57GASG', '57GASH', '57GASJ', '57GASK', '57GASL', '57GASM', '57GASN', '57GASP', '57GASQ', '57GASR', '57GASS', '57GAST', '57GASV', '57GASW', '57GASX', '57GASY', '57GASZ', '57GATA', '57GATB', '57GATC', '57GATD', '57GATE', '57GATF', '57GATG', '57GATH', '57GATJ', '57GATK', '57GATL', '57GATM', '57GATN', '57GATP', '57GATQ', '57GATR', '57GATS', '57GATT', '57GATV', '57GATW', '57GATX', '57GATY', '57GATZ', '57GAVA', '57GAVB', '57GAVC', '57GAVD', '57GAVE', '57GAVF', '57GAVG', '57GAVH', '57GF00', '57GF01', '57GF02', '57GF03', '57GF04', '57GF05', '57GF06', '57GF07', '57GF08', '57GF09', '57GF10', '57GF11', '57GF12', '57GF13', '57GF14', '57GF15', '57GF16', '57GF17', '57GF18', '57GF19', '57GF20', '57GF21', '57GF22', '57GF23', '57GF24', '57GF25', '57GF26', '57GF27', '57GF28', '57GF29', '57GF30', '57GF31', '57GF32', '57GF33', '57GF34', '57GF35', '57GH86', '57GH87', '57GH88', '57GH89', '57GH90', '57GH91', '57GH92', '57GH93', '57GJ46', '57GK14', '57GK23', '57GL60', '57GL61', '57GL84', '57GL85', '57GL86', '57GL87', '57GL99', '57GM40', '57GM41', '57GM48', '57GM73', '57GN88', '57GN89', '57GN90', '57GN91', '57GN92', '57GN93', '57GN94', '57GN95', '57GN96', '57GN97', '57GN98', '57GN99', '57GP00', '57GP01', '57GP02', '57GP03', '57GP04', '57GP05', '57GP06', '57GP07', '57GP08', '57GP09', '57GP10', '57GP11', '57GP12', '57GP13', '57GP14', '57GP15', '57GP16', '57GP17', '57GP18', '57GP19', '57GP20', '57GP21', '57GP22', '57GP23', '57GP24', '57GP25', '57GP26', '57GP27', '57GP28', '57GP29', '57GP30', '57GP31', '57GP32', '57GP33', '57GP34', '57GP35', '57GP36', '57GP37', '57GP38', '57GP39', '57GP40', '57GP41', '57GP42', '57GP43', '57GP44', '57GP45', '57GP46', '57GP47', '57GP48', '57GP49', '57GP50', '57GP51', '57GP52', '57GP53', '57GP54', '57GP55', '57GP56', '57GP57', '57GP58', '57GP59', '57GP60', '57GP61', '57GP62', '57GP63', '57GP64', '57GP65', '57GP66', '57GP67', '57GP68', '57GP69', '57GP70', '57GP71', '57GP72', '57GP73', '57GP74', '57GP75', '57GP76', '57GP77', '57GP78', '57GP79', '57GP80', '57GP81', '57GP82', '57GP83', '57GP84', '57GP85', '57GP86', '57GP87', '57GP88', '57GP89', '57GP90', '57GP91', '57GP92', '57GP93', '57GP94', '57GP95', '57GP96', '57GP97', '57GP98', '57GP99', '57GQ00', '57GQ01', '57GQ02', '57GQ03', '57GQ04', '57GQ05', '57GQ06', '57GQ07', '57GQ08', '57GQ09', '57GQ10', '57GQ12', '57GQ16', '57GQ23', '57GQ39', '57GQ42', '57GQ43', '57GQ49', '57GQ50', '57GQ59', '57GQ62', '57GQ68', '57GQ72', '57GR10', '57GR13', '57GR18', '57GR19', '57GR31', '57GR37', '57GR47', '57GR59', '57GR72', '57GR74', '57GR83', '57GS55', '57GS56', '57GS57', '57GS58', '57GS59', '57GS60', '57GS61', '57GS62', '57GS63', '57GS64', '57GS65', '57GS66', '57GS67', '57GS68', '57GS69', '57GS70', '57GS71', '57GS72', '57GS73', '57GS76', '57GS80', '57GS81', '57GS93', '57GS96', '57GT10', '57GT12', '57GT13', '57GT14', '57GT16', '57GT24', '57GT31', '57GT34', '57GT37', '57GT46', '57GT52', '57GT53', '57GT56', '57GT57', '57GT64', '57GT67', '57GT71', '57GT72', '57GT73', '57GT78', '57GT84', '57GT85', '57GT88', '57GT94', '57GT95', '57GT96', '57GV12', '57GV17', '57GV18', '57GV23', '57GV27', '57GV28', '57GV29', '57GV30', '57GV31', '57GV32', '57GV33', '57GW02', '57GW03', '57GW04', '57GW05', '57GW06', '57GW07', '57GW08', '57GW09', '57GW10', '57GW11', '57GW12', '57GW13', '57GW14', '57GW15', '57GW16', '57GW17', '57GW75', '57GW76', '57GW77', '57GW78', '57GW79', '57GW80', '57GW81', '57GW82', '57GW83', '57GW84', '57GW85', '57GW86', '57GW87', '57GW88', '57GW89', '57GW90', '57GW91', '57GW92', '57GW93', '57GW94', '57GW95', '57GW96', '57GW97', '57GW98', '57GW99', '57GX00', '57GX01', '57GX02', '57GX03', '57GX04', '57GX05', '57GX06', '57GX07', '57GX08', '57GX09', '57GX10', '57GX11', '57GX12', '57GX13', '57GX14', '57GX15', '57GX16', '57GX17', '57GX18', '57GX19', '57GX20', '57GX21', '57GX22', '57GX23', '57GX24', '57GX25', '57GX26', '57GX27', '57GX28', '57GX29', '57GX30', '57GX31', '57GX32', '57GX33', '57GX34', '57GX35', '57GX36', '57GX37', '57GX38', '57GX39', '57GX40', '57GX41', '57GX42', '57GX43', '57GX44', '57GX45', '57GX46', '57GX47', '57GX48', '57GX49', '57GX50', '57GX51', '57GX52', '57GX53', '57GX54', '57GX55', '57GX56', '57GX57', '57GX58', '57GX59', '57GX60', '57GX61', '57GX62', '57GX63', '57GX65', '57GX68', '57GX69', '57GX70', '57GX71', '57GX73', '57GX74', '57GX75', '57GX76', '57GX77', '57GX78', '57GX80', '57GX81', '57GX82', '57GX83', '57GX85', '57GX87', '57GX88', '57GX89', '57GX90', '57GX92', '57GX93', '57GX94', '57GX95', '57GX97', '57GX98', '57GY01', '57GY02', '57GY04', '57GY06', '57GY08', '57GY09', '57GY10', '57GY11', '57GY12', '57GY14', '57GY16', '57GY17', '57GY18', '57GY19', '57GY20', '57GY21', '57GY23', '57GY24', '57GY25', '57GY27', '57GY28', '57GY29', '57GY31', '57GY32', '57GY33', '57GY35', '57GY36', '57GY37', '57GY38', '57GY40', '57GY41', '57GY42', '57GY43', '57GY46', '57GY83', '57GY84', '57GY85', '57GY86', '57GY87', '57GY88', '57GY89', '57GY90', '57GY91', '57GY92', '57GY93', '57GY94', '57GY95', '57GY96', '57GY97', '57GY98', '57GY99', '57GZ00', '57GZ01', '57GZ02', '57GZ03', '57GZ06', '57GZ07', '57GZ10', '57GZ12', '57GZ13', '57GZ14', '57GZ15', '57GZ16', '57GZ17', '57GZ18', '57GZ19', '57GZ21', '57GZ22', '57GZ23', '57GZ24', '57GZ25', '57GZ29', '57GZ30', '57GZ31', '57GZ35', '57GZ36', '57GZ37', '57GZ39', '57GZ40', '57GZ41', '57GZ44', '57GZ45', '57GZ46', '57GZ47', '57GZ49', '57GZ50', '57GZ52', '57GZ54', '57GZ56', '57GZ57', '57GZ59', '57GZ60', '57GZ62', '57GZ63', '57GZ66', '57GZ67', '57GZ68', '57GZ72', '57GZ83', '57GZ84', '57GZ85', '57GZ86', '57GZ87', '57GZ88', '57GZ89', '57GZ90', '57GZ91', '57GZ92', '57GZ93', '57GZ94', '57GZ95', '57GZ96', '57GZ97', '57GZ98', '57GZ99', '57H001', '57H002', '57H003', '57H004', '57H005', '57H006', '57H007', '57H008', '57H009', '57H010', '57H011', '57H012', '57H013', '57H014', '57H015', '57H016', '57H017', '57H018', '57H019', '57H020', '57H021', '57H022', '57H023', '57H024', '57H025', '57H026', '57H027', '57H028', '57H029', '57H030', '57H031', '57H032', '57H033', '57H034', '57H035', '57H036', '57H037', '57H038', '57H039', '57H040', '57H041', '57H042', '57H043', '57H044', '57H045', '57H046', '57H047', '57H049', '57H050', '57H052', '57H054', '57H055', '57H056', '57H057', '57H058', '57H059', '57H060', '57H062', '57H063', '57H064', '57H065', '57H066', '57H067', '57H069', '57H070', '57H071', '57H072', '57H073', '57H074', '57H075', '57H076', '57H077', '57H078', '57H079', '57H080', '57H081', '57H082', '57H083', '57H084', '57H085', '57H086', '57H087', '57H088', '57H089', '57H090', '57H091', '57H092', '57H093', '57H094', '57H095', '57H096', '57H097', '57H098', '57H099', '57H100', '57H103', '57H104', '57H105', '57H106', '57H107', '57H108', '57H109', '57H110', '57H111', '57H112', '57H113', '57H114', '57H115', '57H116', '57H117', '57H119', '57H120', '57H121', '57H122', '57H123', '57H124', '57H125', '57H126', '57H127', '57H128', '57H129', '57H130', '57H131', '57H132', '57H133', '57H134', '57H135', '57H136', '57H137', '57H138', '57H139', '57H141', '57H143', '57H145', '57H147', '57H148', '57H149', '57H151', '57H152', '57H153', '57H154', '57H155', '57H156', '57H157', '57H158', '57H159', '57H160', '57H161', '57H162', '57H163', '57H164', '57H165', '57H166', '57H167', '57H168', '57H169', '57H170', '57H171', '57H172', '57H173', '57H174', '57H175', '57H176', '57H177', '57H178', '57H179', '57H180', '57H181', '57H182', '57H183', '57H184', '57H185', '57H186', '57H187', '57H188', '57H189', '57H190', '57H191', '57H192', '57H193', '57H194', '57H195', '57H196', '57H197', '57H198', '57H199', '57H200', '57H201', '57H202', '57H203', '57H204', '57H205', '57H206', '57H207', '57H208', '57H209', '57H210', '57H211', '57H212', '57H213', '57H214', '57H215', '57H216', '57H217', '57H218', '57H219', '57H220', '57H221', '57H222', '57H223', '57H224', '57H225', '57H226', '57H227', '57H228', '57H229', '57H230', '57H231', '57H232', '57H233', '57H234', '57H235', '57H236', '57H237', '57H238', '57H239', '57H240', '57H241', '57H242', '57H243', '57H244', '57H245', '57H246', '57H247', '57H248', '57H249', '57H250', '57H251', '57H252', '57H253', '57H254', '57H255', '57H256', '57H257', '57H258', '57H259', '57H260', '57H261', '57H262', '57H263', '57H264', '57H265', '57H266', '57H267', '57H268', '57H269', '57H270', '57H271', '57H272', '57H273', '57H274', '57H275', '57H276', '57H277', '57H278', '57H279', '57H280', '57H281', '57H282', '57H283', '57H284', '57H285', '57H286', '57H287', '57H288', '57H289', '57H290', '57H291', '57H292', '57H293', '57H294', '57H295', '57H296', '57H297', '57H298', '57H299', '57H300', '57H301', '57H302', '57H303', '57H304', '57H305', '57H306', '57H307', '57H308', '57H309', '57H310', '57H311', '57H312', '57H313', '57H314', '57H315', '57H316', '57H317', '57H318', '57H319', '57H320', '57H321', '57H322', '57H323', '57H324', '57H325', '57H326', '57H327', '57H328', '57H329', '57H330', '57H331', '57H332', '57H333', '57H334', '57H335', '57H336', '57H337', '57H338', '57H339', '57H340', '57H341', '57H342', '57H343', '57H344', '57H345', '57H346', '57H347', '57H348', '57H349', '57H350', '57H351', '57H352', '57H353', '57H354', '57H355', '57H356', '57H357', '57H358', '57H359', '57H360', '57H361', '57H362', '57H363', '57H364', '57H365', '57H366', '57H367', '57H368', '57H369', '57H370', '57H371', '57H372', '57H373', '57H374', '57H375', '57H376', '57H377', '57H378', '57H379', '57H380', '57H381', '57H382', '57H383', '57H384', '57H385', '57H386', '57H387', '57H388', '57H389', '57H390', '57H391', '57H392', '57H393', '57H394', '57H395', '57H396', '57H397', '57H398', '57H399', '57H400', '57H401', '57H402', '57H403', '57H404', '57H405', '57H406', '57H407', '57H408', '57H409', '57H410', '57H411', '57H412', '57H413', '57H414', '57H415', '57H416', '57H417', '57H418', '57H419', '57H420', '57H421', '57H422', '57H423', '57H424', '57H425', '57H426', '57H427', '57H428', '57H429', '57H430', '57H431', '57H432', '57H433', '57H434', '57H435', '57H436', '57H437', '57H438', '57H439', '57H440', '57H441', '57H442', '57H443', '57H444', '57H445', '57H446', '57H447', '57H448', '57H449', '57H450', '57H451', '57H452', '57H453', '57H454', '57H455', '57H456', '57H457', '57H458', '57H459', '57H460', '57H461', '57H462', '57H463', '57H464', '57H465', '57H466', '57H467', '57H468', '57H469', '57H470', '57H471', '57H472', '57H473', '57H474', '57H475', '57H476', '57H477', '57H478', '57H479', '57H480', '57H481', '57H482', '57H483', '57H484', '57H485', '57H486', '57H487', '57H488', '57H489', '57H490', '57H491', '57H492', '57H493', '57H494', '57H495', '57H496', '57H497', '57H498', '57H499', '57H500', '57H501', '57H502', '57H503', '57H504', '57H505', '57H506', '57H507', '57H508', '57H509', '57H510', '57H511', '57H512', '57H513', '57H514', '57H515', '57H516', '57H517', '57H518', '57H519', '57H520', '57H521', '57H522', '57H523', '57H524', '57H525', '57H526', '57H527', '57H528', '57H529', '57H530', '57H531', '57H532', '57H533', '57H534', '57H535', '57H536', '57H537', '57H538', '57H539', '57H540', '57H541', '57H542', '57H543', '57H544', '57H545', '57H546', '57H547', '57H548', '57H549', '57H550', '57H551', '57H552', '57H553', '57H554', '57H555', '57H556', '57H557', '57H558', '57H559', '57H560', '57H561', '57H562', '57H563', '57H564', '57H565', '57H566', '57H567', '57H568', '57H569', '57H570', '57H571', '57H572', '57H573', '57H574', '57H575', '57H576', '57H577', '57H578', '57H579', '57H580', '57H581', '57H582', '57H583', '57H584', '57H585', '57H586', '57H587', '57H588', '57H589', '57H590', '57H591', '57H592', '57H593', '57H594', '57H595', '57H596', '57H597', '57H598', '57H599', '57H600', '57H601', '57H602', '57H603', '57H604', '57H605', '57H606', '57H607', '57H608', '57H609', '57H610', '57H611', '57H612', '57H613', '57H614', '57H615', '57H616', '57H617', '57H618', '57H619', '57H620', '57H621', '57H622', '57H623', '57H624', '57H625', '57H626', '57H627', '57H628', '57H629', '57H630', '57H631', '57H632', '57H633', '57H634', '57H635', '57H636', '57H637', '57H638', '57H639', '57H640', '57H641', '57H642', '57H643', '57H644', '57H645', '57H646', '57H647', '57H648', '57H649', '57H650', '57H651', '57H652', '57H653', '57H654', '57H655', '57H656', '57H657', '57H658', '57H659', '57H660', '57H661', '57H662', '57H663', '57H664', '57H665', '57H666', '57H667', '57H668', '57H669', '57H670', '57H671', '57H672', '57H673', '57H674', '57H675', '57H676', '57H677', '57H678', '57H679', '57H680', '57H681', '57H682', '57H683', '57H684', '57H685', '57H686', '57H687', '57H688', '57H689', '57H690', '57H691', '57H692', '57H693', '57H694', '57H695', '57H696', '57H697', '57H698', '57H699', '57H700', '57H701', '57H702', '57H703', '57H704', '57H705', '57H706', '57H707', '57H708', '57H709', '57H710', '57H711', '57H712', '57H713', '57H714', '57H715', '57H716', '57H717', '57H718', '57H719', '57H720', '57H721', '57H722', '57H723', '57H724', '57H725', '57H726', '57H727', '57H728', '57H729', '57H730', '57H731', '57H732', '57H733', '57H734', '57H735', '57H736', '57H737', '57H738', '57H739', '57H740', '57H741', '57H742', '57H743', '57H744', '57H745', '57H746', '57H747', '57H748', '57H749', '57H750', '57H751', '57H752', '57H753', '57H754', '57H755', '57H756', '57H757', '57H758', '57H759', '57H760', '57H761', '57H762', '57H763', '57H764', '57H765', '57H766', '57H767', '57H768', '57H769', '57H770', '57H771', '57H772', '57H773', '57H774', '57H775', '57H776', '57H777', '57H778', '57H779', '57H780', '57H781', '57H782', '57H783', '57H784', '57H785', '57H786', '57H787', '57H788', '57H789', '57H790', '57H791', '57H792', '57H793', '57H794', '57H795', '57H796', '57H797', '57H798', '57H799', '57H800', '57H801', '57H802', '57H803', '57H804', '57H805', '57H806', '57H807', '57H808', '57H809', '57H810', '57H811', '57H812', '57H813', '57H814', '57H815', '57H816', '57H817', '57H818', '57H819', '57H820', '57H821', '57H822', '57H823', '57H824', '57H825', '57H826', '57H827', '57H828', '57H829', '57H830', '57H831', '57H832', '57H833', '004590', '036460', '039340', '005430', '071050', '071055', '034950', '010040', '025540', '222980', '331660', '318000', '256840', '004090', '025550', '002200', '002960', '017890', '000240', '080720', '123890', '015760', '063570', '041460', '006200', '101680', '039740', '053300', '025770', '409570', '009540', '023350', '025890', '000970', '104700', '017960', '023760', '054040', '050540', '161890', '024720', '021650', '161390', '053590', '034830', '70101B9A', '70101BA7', '70101B99', '70101BB1', '007280', '032300', '168490', '037230', '010100', '047810', '123690', '003350', '030520', '052600', '011500', '002390', '256150', '014790', '092460', '060980', '053690', '042700', '008930', '128940', '047080', '009240', '020000', '003680', '105630', '069640', '016450', '010420', '009180', '070590', '213500', '014680', '004710', '004150', '025750', '226440', '042520', '004960', '011700', '078350', '045100', '001750', '001755', '018880', '009420', '014130', '046110', '024740', '005860', '300720', '123840', '002220', '006390', '003300', '007770', '051600', '052690', '130660', '107640', '002320', '003480', '180640', '1806421A', '18064K', '005110', '043090', '079170', '009460', '086960', '372910', '054920', '002680', '70101BA2', '70102BA2', '066110', '000880', '00088K', '72801BB4', '72802BB4', '088350', '000370', '009830', '009835', '272210', '012450', '000885', '003530', '003535', '386580', '195870', '034810', '03481K', '076610', '07661219', '059270', '101530', '220180', '143210', '900270', '084990', '000720', '267270', '000725', '170030', '005440', '086280', '042670', '04267217', '064350', '079430', '012330', '319400', '010620', '048410', '052260', '069960', '004560', '004565', '016790', '004310', '322000', '041440', '039010', '017800', '307950', '011210', '75701B93', '75702B93', '75701BA7', '75702BA7', '090850', '267260', '004020', '329180', '267250', '005380', '005387', '005389', '005385', '001500', '011760', '227840', '126560', '001450', '057050', '092300', '053660', '138360', '011080', '0110821B', '093240', '003010', '111110', '008770', '008775', '060560', '064240', '039610', '002460', '378850', '241590', '006060', '013520', '010690', '126640', '133820', '061250', '010660', '000850', '016580', '032560', '004800', '094280', '097870', '298040', '298050', '298020', '298000', '093370', '050090', '081660', '290270', '005870', '353190', '090710', '205470', '115160', '028080', '032860', '200670', '212310', '079980', '065510', '215090', '005010', '243070', '084110', '263920', '145020', '069260', '024060', '010240', '189980', '000540', '000547', '000545', '003280', '037440', '238490']\n"
     ]
    }
   ],
   "source": [
    "print(symbols)"
   ],
   "metadata": {
    "collapsed": false,
    "pycharm": {
     "name": "#%%\n"
    }
   }
  },
  {
   "cell_type": "code",
   "execution_count": 65,
   "outputs": [
    {
     "name": "stdout",
     "output_type": "stream",
     "text": [
      "Empty DataFrame\n",
      "Columns: [rcept_no, reprt_code, bsns_year, corp_code, sj_div, sj_nm, account_id, account_nm, account_detail, thstrm_nm, thstrm_amount, frmtrm_nm, frmtrm_amount, bfefrmtrm_nm, bfefrmtrm_amount, ord, thstrm_add_amount]\n",
      "Index: [] 2015\n"
     ]
    }
   ],
   "source": [
    "print(df1[condition_8], i)"
   ],
   "metadata": {
    "collapsed": false,
    "pycharm": {
     "name": "#%%\n"
    }
   }
  },
  {
   "cell_type": "code",
   "execution_count": 66,
   "outputs": [
    {
     "data": {
      "text/plain": "0"
     },
     "execution_count": 66,
     "metadata": {},
     "output_type": "execute_result"
    }
   ],
   "source": [
    "len(df1[condition_8])"
   ],
   "metadata": {
    "collapsed": false,
    "pycharm": {
     "name": "#%%\n"
    }
   }
  },
  {
   "cell_type": "code",
   "execution_count": 69,
   "outputs": [],
   "source": [
    "conditions = [condition_1, condition_2, condition_3, condition_4, condition_5, condition_6, condition_7,\n",
    "                              condition_8]"
   ],
   "metadata": {
    "collapsed": false,
    "pycharm": {
     "name": "#%%\n"
    }
   }
  },
  {
   "cell_type": "code",
   "execution_count": 70,
   "outputs": [
    {
     "name": "stdout",
     "output_type": "stream",
     "text": [
      "1\n",
      "1\n",
      "1\n",
      "1\n"
     ]
    }
   ],
   "source": [
    "for condition in conditions:\n",
    "                    if len(df1[condition]) != 0:\n",
    "                        print(1)"
   ],
   "metadata": {
    "collapsed": false,
    "pycharm": {
     "name": "#%%\n"
    }
   }
  },
  {
   "cell_type": "code",
   "execution_count": 93,
   "outputs": [
    {
     "data": {
      "text/plain": "           종목코드 유동자산 부채총계 자본총계  매출액 매출총이익 영업이익 당기순이익 영업활동현금흐름 잉여현금흐름\n1900-01-01  NaN  NaN  NaN  NaN  NaN   NaN  NaN   NaN      NaN    NaN",
      "text/html": "<div>\n<style scoped>\n    .dataframe tbody tr th:only-of-type {\n        vertical-align: middle;\n    }\n\n    .dataframe tbody tr th {\n        vertical-align: top;\n    }\n\n    .dataframe thead th {\n        text-align: right;\n    }\n</style>\n<table border=\"1\" class=\"dataframe\">\n  <thead>\n    <tr style=\"text-align: right;\">\n      <th></th>\n      <th>종목코드</th>\n      <th>유동자산</th>\n      <th>부채총계</th>\n      <th>자본총계</th>\n      <th>매출액</th>\n      <th>매출총이익</th>\n      <th>영업이익</th>\n      <th>당기순이익</th>\n      <th>영업활동현금흐름</th>\n      <th>잉여현금흐름</th>\n    </tr>\n  </thead>\n  <tbody>\n    <tr>\n      <th>1900-01-01</th>\n      <td>NaN</td>\n      <td>NaN</td>\n      <td>NaN</td>\n      <td>NaN</td>\n      <td>NaN</td>\n      <td>NaN</td>\n      <td>NaN</td>\n      <td>NaN</td>\n      <td>NaN</td>\n      <td>NaN</td>\n    </tr>\n  </tbody>\n</table>\n</div>"
     },
     "execution_count": 93,
     "metadata": {},
     "output_type": "execute_result"
    }
   ],
   "source": [
    "all_finance_statements"
   ],
   "metadata": {
    "collapsed": false,
    "pycharm": {
     "name": "#%%\n"
    }
   }
  },
  {
   "cell_type": "code",
   "execution_count": 7,
   "outputs": [
    {
     "data": {
      "text/plain": "187"
     },
     "execution_count": 7,
     "metadata": {},
     "output_type": "execute_result"
    }
   ],
   "source": [
    "symbols.index('035900')\n",
    "\n"
   ],
   "metadata": {
    "collapsed": false,
    "pycharm": {
     "name": "#%%\n"
    }
   }
  },
  {
   "cell_type": "code",
   "execution_count": null,
   "outputs": [],
   "source": [],
   "metadata": {
    "collapsed": false,
    "pycharm": {
     "name": "#%%\n"
    }
   }
  }
 ],
 "metadata": {
  "kernelspec": {
   "display_name": "Python 3",
   "language": "python",
   "name": "python3"
  },
  "language_info": {
   "codemirror_mode": {
    "name": "ipython",
    "version": 2
   },
   "file_extension": ".py",
   "mimetype": "text/x-python",
   "name": "python",
   "nbconvert_exporter": "python",
   "pygments_lexer": "ipython2",
   "version": "2.7.6"
  }
 },
 "nbformat": 4,
 "nbformat_minor": 0
}