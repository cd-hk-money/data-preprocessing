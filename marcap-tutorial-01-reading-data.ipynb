{
 "nbformat": 4,
 "nbformat_minor": 0,
 "metadata": {
  "colab": {
   "name": "marcap-tutorial.ipynb",
   "provenance": [],
   "collapsed_sections": []
  },
  "kernelspec": {
   "display_name": "Python 3",
   "language": "python",
   "name": "python3"
  },
  "language_info": {
   "codemirror_mode": {
    "name": "ipython",
    "version": 3
   },
   "file_extension": ".py",
   "mimetype": "text/x-python",
   "name": "python",
   "nbconvert_exporter": "python",
   "pygments_lexer": "ipython3",
   "version": "3.7.4"
  }
 },
 "cells": [
  {
   "cell_type": "markdown",
   "metadata": {
    "id": "nm-lmCy_p50f"
   },
   "source": [
    "# 데이터셋 - 시가총액 데이터셋 튜토리얼\n",
    "\n",
    "* 한국거래소(KRX)에서 일자별 시가총액 순위 데이터\n",
    "* 1995-05-02 ~ 2020-12-31 (26년간), 1천만건 이상\n",
    "\n",
    "#### 2018 - 2021 [FinanceData.KR]()"
   ]
  },
  {
   "cell_type": "markdown",
   "metadata": {
    "id": "HUJyyZiAU5qo"
   },
   "source": [
    "## 시가총액(marcap) 데이터셋의 구성\n",
    "\n",
    "시가총액(marcap) 데이터셋은 1995-05-02 ~ 2020-12-31 (25년간)일자별, 18개 컬럼, 1천만건 데이터 입니다. 압축하지 않은 상태에서  약 '1.6G' 분량 입니다.\n",
    "\n",
    "** github 저장소에 현재 날짜 데이터까지 매일 자동 업데이트 됩니다.**\n",
    "따라서 git 저장소를 clone 하시면 매일 전종목 가격 데이터를 업데이트 하실 수 있습니다. \n",
    "\n",
    "https://github.com/FinanceData/marcap\n",
    "\n",
    "* 컬럼: 18개\n",
    "* 건수: 10,810,340 건(row)\n",
    "* 크기: 1.6G\n",
    "\n",
    "\n",
    "#### 컬럼 구성(18개)\n",
    "Date (날짜)를 인덱스(DatetimeIndex)로 포함하고 있으며, 컬럼 구성은 다음과 같습니다.\n",
    "\n",
    "* Date : 날짜 (DatetimeIndex)\n",
    "* Rank: 시가총액 순위 (당일)\n",
    "* Code : 종목코드\n",
    "* Name : 종명이름 \n",
    "* Open : 시가\n",
    "* High : 고가\n",
    "* Low : 저가\n",
    "* Close : 종가\n",
    "* Volume : 거래량\n",
    "* Amount : 거래대금\n",
    "* Changes : 전일대비\n",
    "* ChangeCode: 등락 기호\n",
    "* ChagesRatio : 전일대비 등락률\n",
    "* Marcap : 시가총액(백만원)\n",
    "* Stocks : 상장주식수\n",
    "* MarketId : 시장기호\t\n",
    "* Market : 시장\n",
    "* Dept : 부서(한국거래소)\n"
   ]
  },
  {
   "cell_type": "markdown",
   "metadata": {
    "id": "SMo2CjS9PQ-P"
   },
   "source": [
    "## 시가총액 데이터셋(marcap) 가져오기\n",
    "다음과 같이 단 한 줄의 명령으로 데이터를 가져올 수 있습니다.\n",
    "\n",
    "git 명령으로 깃허브의 저장소를 복제(clone)합니다. 데이터와 데이터를 읽는데 도움이 되는 간단한 파이썬 유틸리티 함수가 포함되어 있습니다.\n",
    " "
   ]
  },
  {
   "cell_type": "code",
   "metadata": {
    "id": "eQkz1AT2PCa8",
    "colab": {
     "base_uri": "https://localhost:8080/"
    },
    "executionInfo": {
     "status": "ok",
     "timestamp": 1611436978030,
     "user_tz": -540,
     "elapsed": 55329,
     "user": {
      "displayName": "Sean-June Lee",
      "photoUrl": "https://lh3.googleusercontent.com/a-/AOh14Gj6rvtcx9Gy8VOzzw2LH1hYtnxIuHBDw8qnYK9SAuY=s64",
      "userId": "12576390002043678893"
     }
    },
    "outputId": "76c6757c-b9ca-4cff-8999-d42958408450"
   },
   "source": [
    "!git clone \"https://github.com/FinanceData/marcap.git\" marcap"
   ],
   "execution_count": 2,
   "outputs": [
    {
     "output_type": "stream",
     "text": [
      "Cloning into 'marcap'...\n",
      "remote: Enumerating objects: 48, done.\u001B[K\n",
      "remote: Counting objects: 100% (48/48), done.\u001B[K\n",
      "remote: Compressing objects: 100% (32/32), done.\u001B[K\n",
      "remote: Total 350 (delta 30), reused 31 (delta 16), pack-reused 302\u001B[K\n",
      "Receiving objects: 100% (350/350), 1.96 GiB | 39.51 MiB/s, done.\n",
      "Resolving deltas: 100% (126/126), done.\n",
      "Checking out files: 100% (34/34), done.\n"
     ],
     "name": "stdout"
    }
   ]
  },
  {
   "cell_type": "markdown",
   "metadata": {
    "id": "UAW7lX6ihzyZ"
   },
   "source": [
    "#### git 설치 참고 (윈도우+아나콘다를 사용하는 경우)\n",
    "만일 git 이 설치되어 있지 않다면,  다음과 같이 `아나콘다 프롬프트`에서 간단하게 git을 설치할 수 있습니다.\n",
    "\n",
    "```bash\n",
    "C:\\Users\\plusjune>conda install git\n",
    "```\n",
    "\n"
   ]
  },
  {
   "cell_type": "markdown",
   "metadata": {
    "id": "p9VUvig4h_M5"
   },
   "source": [
    "## 데이터 파일 구성 살펴보기\n",
    "\n",
    "데이터는 ./marcap/data 디렉토리에 있으며 년도별 CSV 파일로 구성되어 있습니다. 개별 파일은 .gz으로 압축되어 있습니다."
   ]
  },
  {
   "cell_type": "code",
   "metadata": {
    "colab": {
     "base_uri": "https://localhost:8080/"
    },
    "id": "2Pe28CWBh_M6",
    "executionInfo": {
     "status": "ok",
     "timestamp": 1611436978455,
     "user_tz": -540,
     "elapsed": 55744,
     "user": {
      "displayName": "Sean-June Lee",
      "photoUrl": "https://lh3.googleusercontent.com/a-/AOh14Gj6rvtcx9Gy8VOzzw2LH1hYtnxIuHBDw8qnYK9SAuY=s64",
      "userId": "12576390002043678893"
     }
    },
    "outputId": "66c86919-e902-44a8-8b9e-de53d4160645"
   },
   "source": [
    "!ls -lh marcap/data"
   ],
   "execution_count": 3,
   "outputs": [
    {
     "output_type": "stream",
     "text": [
      "total 505M\n",
      "-rw-r--r-- 1 root root 6.8M Jan 23 21:22 marcap-1995.csv.gz\n",
      "-rw-r--r-- 1 root root  11M Jan 23 21:22 marcap-1996.csv.gz\n",
      "-rw-r--r-- 1 root root  12M Jan 23 21:22 marcap-1997.csv.gz\n",
      "-rw-r--r-- 1 root root  12M Jan 23 21:22 marcap-1998.csv.gz\n",
      "-rw-r--r-- 1 root root  12M Jan 23 21:22 marcap-1999.csv.gz\n",
      "-rw-r--r-- 1 root root  15M Jan 23 21:22 marcap-2000.csv.gz\n",
      "-rw-r--r-- 1 root root  16M Jan 23 21:22 marcap-2001.csv.gz\n",
      "-rw-r--r-- 1 root root  18M Jan 23 21:22 marcap-2002.csv.gz\n",
      "-rw-r--r-- 1 root root  18M Jan 23 21:22 marcap-2003.csv.gz\n",
      "-rw-r--r-- 1 root root  18M Jan 23 21:22 marcap-2004.csv.gz\n",
      "-rw-r--r-- 1 root root  19M Jan 23 21:22 marcap-2005.csv.gz\n",
      "-rw-r--r-- 1 root root  20M Jan 23 21:22 marcap-2006.csv.gz\n",
      "-rw-r--r-- 1 root root  21M Jan 23 21:22 marcap-2007.csv.gz\n",
      "-rw-r--r-- 1 root root  22M Jan 23 21:22 marcap-2008.csv.gz\n",
      "-rw-r--r-- 1 root root  22M Jan 23 21:22 marcap-2009.csv.gz\n",
      "-rw-r--r-- 1 root root  22M Jan 23 21:22 marcap-2010.csv.gz\n",
      "-rw-r--r-- 1 root root  23M Jan 23 21:22 marcap-2011.csv.gz\n",
      "-rw-r--r-- 1 root root  23M Jan 23 21:22 marcap-2012.csv.gz\n",
      "-rw-r--r-- 1 root root  22M Jan 23 21:22 marcap-2013.csv.gz\n",
      "-rw-r--r-- 1 root root  22M Jan 23 21:22 marcap-2014.csv.gz\n",
      "-rw-r--r-- 1 root root  24M Jan 23 21:22 marcap-2015.csv.gz\n",
      "-rw-r--r-- 1 root root  25M Jan 23 21:22 marcap-2016.csv.gz\n",
      "-rw-r--r-- 1 root root  26M Jan 23 21:22 marcap-2017.csv.gz\n",
      "-rw-r--r-- 1 root root  27M Jan 23 21:22 marcap-2018.csv.gz\n",
      "-rw-r--r-- 1 root root  28M Jan 23 21:22 marcap-2019.csv.gz\n",
      "-rw-r--r-- 1 root root  29M Jan 23 21:22 marcap-2020.csv.gz\n",
      "-rw-r--r-- 1 root root 1.7M Jan 23 21:22 marcap-2021.csv.gz\n"
     ],
     "name": "stdout"
    }
   ]
  },
  {
   "cell_type": "markdown",
   "metadata": {
    "id": "z4KJlYRrhlV5"
   },
   "source": [
    "##  1년치 데이터 읽어오기\n",
    "\n",
    "pandas에서 CSV 파일을 직접 지정하여 1년치 데이터를 한번에 읽어 올 수 있습니다.\n",
    "\n",
    "`Code`(종목코드)는 숫자로만 구성되어 있고 0으로 시작할 수 있으므로 명시적으로 str 타입으로 지정해 주는 것이 좋습니다. 또한, `Date`(날짜)는 날짜시간 타입으로 파싱하도록 지정합니다. "
   ]
  },
  {
   "cell_type": "code",
   "execution_count": 1,
   "outputs": [
    {
     "name": "stdout",
     "output_type": "stream",
     "text": [
      "6\n"
     ]
    }
   ],
   "source": [
    "print(1+2+3)"
   ],
   "metadata": {
    "collapsed": false,
    "pycharm": {
     "name": "#%%\n"
    }
   }
  },
  {
   "cell_type": "code",
   "metadata": {
    "colab": {
     "base_uri": "https://localhost:8080/",
     "height": 358
    },
    "id": "OPwnXPnqMjhp",
    "executionInfo": {
     "status": "ok",
     "timestamp": 1611436978457,
     "user_tz": -540,
     "elapsed": 55738,
     "user": {
      "displayName": "Sean-June Lee",
      "photoUrl": "https://lh3.googleusercontent.com/a-/AOh14Gj6rvtcx9Gy8VOzzw2LH1hYtnxIuHBDw8qnYK9SAuY=s64",
      "userId": "12576390002043678893"
     }
    },
    "outputId": "9138eaea-3639-4420-8461-ea19eb8dfe68"
   },
   "source": [
    "import pandas as pd\n",
    "\n",
    "df = pd.read_csv('marcap/data/marcap-2021.csv.gz', dtype={'Code':str}, parse_dates=['Date'])\n",
    "df.head(10)"
   ],
   "execution_count": 23,
   "outputs": [
    {
     "data": {
      "text/plain": "     Code      Name Market Dept     Close  ChangeCode  Changes  ChagesRatio  \\\n0  005930      삼성전자  KOSPI  NaN   83000.0           1   2000.0         2.47   \n1  000660    SK하이닉스  KOSPI  NaN  126000.0           1   7500.0         6.33   \n2  051910      LG화학  KOSPI  NaN  889000.0           1  65000.0         7.89   \n3  005935     삼성전자우  KOSPI  NaN   74400.0           1    800.0         1.09   \n4  207940  삼성바이오로직스  KOSPI  NaN  829000.0           1   3000.0         0.36   \n5  035420     NAVER  KOSPI  NaN  293000.0           1    500.0         0.17   \n6  068270      셀트리온  KOSPI  NaN  347500.0           2 -11500.0        -3.20   \n7  006400     삼성SDI  KOSPI  NaN  671000.0           1  43000.0         6.85   \n8  005380       현대차  KOSPI  NaN  207500.0           1  15500.0         8.07   \n9  035720       카카오  KOSPI  NaN  396000.0           1   6500.0         1.67   \n\n       Open      High       Low      Volume        Amount        Marcap  \\\n0   81000.0   84400.0   80200.0  38655276.0  3.185357e+12  4.954920e+14   \n1  124500.0  128000.0  120500.0   7995016.0  9.942765e+11  9.172830e+13   \n2  849000.0  900000.0  835000.0    858451.0  7.479297e+11  6.275659e+13   \n3   73700.0   75300.0   73600.0   5455139.0  4.056852e+11  6.122277e+13   \n4  819000.0  838000.0  804000.0    182864.0  1.498895e+11  5.485078e+13   \n5  291500.0  294000.0  285500.0    947178.0  2.746358e+11  4.812917e+13   \n6  351500.0  354500.0  343000.0   2006483.0  6.982387e+11  4.691174e+13   \n7  660000.0  682000.0  640000.0    694737.0  4.605973e+11  4.614100e+13   \n8  194000.0  211000.0  193500.0   5651695.0  1.162238e+12  4.433615e+13   \n9  392000.0  396500.0  385500.0    853740.0  3.353581e+11  3.502088e+13   \n\n       Stocks MarketId  Rank       Date  \n0  5969782550      STK     1 2021-01-04  \n1   728002365      STK     2 2021-01-04  \n2    70592343      STK     3 2021-01-04  \n3   822886700      STK     4 2021-01-04  \n4    66165000      STK     5 2021-01-04  \n5   164263395      STK     6 2021-01-04  \n6   134997805      STK     7 2021-01-04  \n7    68764530      STK     8 2021-01-04  \n8   213668187      STK     9 2021-01-04  \n9    88436556      STK    10 2021-01-04  ",
      "text/html": "<div>\n<style scoped>\n    .dataframe tbody tr th:only-of-type {\n        vertical-align: middle;\n    }\n\n    .dataframe tbody tr th {\n        vertical-align: top;\n    }\n\n    .dataframe thead th {\n        text-align: right;\n    }\n</style>\n<table border=\"1\" class=\"dataframe\">\n  <thead>\n    <tr style=\"text-align: right;\">\n      <th></th>\n      <th>Code</th>\n      <th>Name</th>\n      <th>Market</th>\n      <th>Dept</th>\n      <th>Close</th>\n      <th>ChangeCode</th>\n      <th>Changes</th>\n      <th>ChagesRatio</th>\n      <th>Open</th>\n      <th>High</th>\n      <th>Low</th>\n      <th>Volume</th>\n      <th>Amount</th>\n      <th>Marcap</th>\n      <th>Stocks</th>\n      <th>MarketId</th>\n      <th>Rank</th>\n      <th>Date</th>\n    </tr>\n  </thead>\n  <tbody>\n    <tr>\n      <th>0</th>\n      <td>005930</td>\n      <td>삼성전자</td>\n      <td>KOSPI</td>\n      <td>NaN</td>\n      <td>83000.0</td>\n      <td>1</td>\n      <td>2000.0</td>\n      <td>2.47</td>\n      <td>81000.0</td>\n      <td>84400.0</td>\n      <td>80200.0</td>\n      <td>38655276.0</td>\n      <td>3.185357e+12</td>\n      <td>4.954920e+14</td>\n      <td>5969782550</td>\n      <td>STK</td>\n      <td>1</td>\n      <td>2021-01-04</td>\n    </tr>\n    <tr>\n      <th>1</th>\n      <td>000660</td>\n      <td>SK하이닉스</td>\n      <td>KOSPI</td>\n      <td>NaN</td>\n      <td>126000.0</td>\n      <td>1</td>\n      <td>7500.0</td>\n      <td>6.33</td>\n      <td>124500.0</td>\n      <td>128000.0</td>\n      <td>120500.0</td>\n      <td>7995016.0</td>\n      <td>9.942765e+11</td>\n      <td>9.172830e+13</td>\n      <td>728002365</td>\n      <td>STK</td>\n      <td>2</td>\n      <td>2021-01-04</td>\n    </tr>\n    <tr>\n      <th>2</th>\n      <td>051910</td>\n      <td>LG화학</td>\n      <td>KOSPI</td>\n      <td>NaN</td>\n      <td>889000.0</td>\n      <td>1</td>\n      <td>65000.0</td>\n      <td>7.89</td>\n      <td>849000.0</td>\n      <td>900000.0</td>\n      <td>835000.0</td>\n      <td>858451.0</td>\n      <td>7.479297e+11</td>\n      <td>6.275659e+13</td>\n      <td>70592343</td>\n      <td>STK</td>\n      <td>3</td>\n      <td>2021-01-04</td>\n    </tr>\n    <tr>\n      <th>3</th>\n      <td>005935</td>\n      <td>삼성전자우</td>\n      <td>KOSPI</td>\n      <td>NaN</td>\n      <td>74400.0</td>\n      <td>1</td>\n      <td>800.0</td>\n      <td>1.09</td>\n      <td>73700.0</td>\n      <td>75300.0</td>\n      <td>73600.0</td>\n      <td>5455139.0</td>\n      <td>4.056852e+11</td>\n      <td>6.122277e+13</td>\n      <td>822886700</td>\n      <td>STK</td>\n      <td>4</td>\n      <td>2021-01-04</td>\n    </tr>\n    <tr>\n      <th>4</th>\n      <td>207940</td>\n      <td>삼성바이오로직스</td>\n      <td>KOSPI</td>\n      <td>NaN</td>\n      <td>829000.0</td>\n      <td>1</td>\n      <td>3000.0</td>\n      <td>0.36</td>\n      <td>819000.0</td>\n      <td>838000.0</td>\n      <td>804000.0</td>\n      <td>182864.0</td>\n      <td>1.498895e+11</td>\n      <td>5.485078e+13</td>\n      <td>66165000</td>\n      <td>STK</td>\n      <td>5</td>\n      <td>2021-01-04</td>\n    </tr>\n    <tr>\n      <th>5</th>\n      <td>035420</td>\n      <td>NAVER</td>\n      <td>KOSPI</td>\n      <td>NaN</td>\n      <td>293000.0</td>\n      <td>1</td>\n      <td>500.0</td>\n      <td>0.17</td>\n      <td>291500.0</td>\n      <td>294000.0</td>\n      <td>285500.0</td>\n      <td>947178.0</td>\n      <td>2.746358e+11</td>\n      <td>4.812917e+13</td>\n      <td>164263395</td>\n      <td>STK</td>\n      <td>6</td>\n      <td>2021-01-04</td>\n    </tr>\n    <tr>\n      <th>6</th>\n      <td>068270</td>\n      <td>셀트리온</td>\n      <td>KOSPI</td>\n      <td>NaN</td>\n      <td>347500.0</td>\n      <td>2</td>\n      <td>-11500.0</td>\n      <td>-3.20</td>\n      <td>351500.0</td>\n      <td>354500.0</td>\n      <td>343000.0</td>\n      <td>2006483.0</td>\n      <td>6.982387e+11</td>\n      <td>4.691174e+13</td>\n      <td>134997805</td>\n      <td>STK</td>\n      <td>7</td>\n      <td>2021-01-04</td>\n    </tr>\n    <tr>\n      <th>7</th>\n      <td>006400</td>\n      <td>삼성SDI</td>\n      <td>KOSPI</td>\n      <td>NaN</td>\n      <td>671000.0</td>\n      <td>1</td>\n      <td>43000.0</td>\n      <td>6.85</td>\n      <td>660000.0</td>\n      <td>682000.0</td>\n      <td>640000.0</td>\n      <td>694737.0</td>\n      <td>4.605973e+11</td>\n      <td>4.614100e+13</td>\n      <td>68764530</td>\n      <td>STK</td>\n      <td>8</td>\n      <td>2021-01-04</td>\n    </tr>\n    <tr>\n      <th>8</th>\n      <td>005380</td>\n      <td>현대차</td>\n      <td>KOSPI</td>\n      <td>NaN</td>\n      <td>207500.0</td>\n      <td>1</td>\n      <td>15500.0</td>\n      <td>8.07</td>\n      <td>194000.0</td>\n      <td>211000.0</td>\n      <td>193500.0</td>\n      <td>5651695.0</td>\n      <td>1.162238e+12</td>\n      <td>4.433615e+13</td>\n      <td>213668187</td>\n      <td>STK</td>\n      <td>9</td>\n      <td>2021-01-04</td>\n    </tr>\n    <tr>\n      <th>9</th>\n      <td>035720</td>\n      <td>카카오</td>\n      <td>KOSPI</td>\n      <td>NaN</td>\n      <td>396000.0</td>\n      <td>1</td>\n      <td>6500.0</td>\n      <td>1.67</td>\n      <td>392000.0</td>\n      <td>396500.0</td>\n      <td>385500.0</td>\n      <td>853740.0</td>\n      <td>3.353581e+11</td>\n      <td>3.502088e+13</td>\n      <td>88436556</td>\n      <td>STK</td>\n      <td>10</td>\n      <td>2021-01-04</td>\n    </tr>\n  </tbody>\n</table>\n</div>"
     },
     "execution_count": 23,
     "metadata": {},
     "output_type": "execute_result"
    }
   ]
  },
  {
   "cell_type": "code",
   "metadata": {
    "colab": {
     "base_uri": "https://localhost:8080/",
     "height": 358
    },
    "id": "oS2rjvYoiLYR",
    "executionInfo": {
     "status": "ok",
     "timestamp": 1611436980974,
     "user_tz": -540,
     "elapsed": 58248,
     "user": {
      "displayName": "Sean-June Lee",
      "photoUrl": "https://lh3.googleusercontent.com/a-/AOh14Gj6rvtcx9Gy8VOzzw2LH1hYtnxIuHBDw8qnYK9SAuY=s64",
      "userId": "12576390002043678893"
     }
    },
    "outputId": "62396aac-3e99-4754-ca5d-83c3f65321b0"
   },
   "source": [
    "# 2020년 데이터 CSV 읽기\n",
    "import pandas as pd\n",
    "\n",
    "df = pd.read_csv('marcap/data/marcap-2020.csv.gz', dtype={'Code':str}, parse_dates=['Date'])\n",
    "df.head(10)"
   ],
   "execution_count": 3,
   "outputs": [
    {
     "data": {
      "text/plain": "     Code      Name Market Dept     Close  ChangeCode  Changes  ChagesRatio  \\\n0  005930      삼성전자  KOSPI  NaN   55200.0           2   -600.0        -1.08   \n1  000660    SK하이닉스  KOSPI  NaN   94700.0           1    600.0         0.64   \n2  005935     삼성전자우  KOSPI  NaN   45600.0           1    200.0         0.44   \n3  035420     NAVER  KOSPI  NaN  182500.0           2  -4000.0        -2.14   \n4  207940  삼성바이오로직스  KOSPI  NaN  428500.0           2  -4500.0        -1.04   \n5  005380       현대차  KOSPI  NaN  118000.0           2  -2500.0        -2.07   \n6  012330     현대모비스  KOSPI  NaN  247500.0           2  -8500.0        -3.32   \n7  068270      셀트리온  KOSPI  NaN  180000.0           2  -1000.0        -0.55   \n8  051910      LG화학  KOSPI  NaN  314000.0           2  -3500.0        -1.10   \n9  005490     POSCO  KOSPI  NaN  236000.0           2   -500.0        -0.21   \n\n       Open      High       Low      Volume        Amount        Marcap  \\\n0   55500.0   56000.0   55000.0  12993228.0  7.196632e+11  3.295320e+14   \n1   96000.0   96200.0   94100.0   2342070.0  2.228414e+11  6.894182e+13   \n2   45750.0   45950.0   45150.0   1512362.0  6.894333e+10  3.752363e+13   \n3  187500.0  188000.0  182000.0    300640.0  5.530956e+10  3.007844e+13   \n4  433000.0  439500.0  425500.0    108281.0  4.647975e+10  2.835170e+13   \n5  121000.0  121000.0  118000.0    556532.0  6.620498e+10  2.521285e+13   \n6  254500.0  256000.0  247500.0    214585.0  5.362298e+10  2.358841e+13   \n7  181000.0  183000.0  176000.0    621826.0  1.113250e+11  2.310081e+13   \n8  321000.0  321000.0  313500.0    139496.0  4.418112e+10  2.216600e+13   \n9  236000.0  240000.0  234500.0    213578.0  5.061737e+10  2.057609e+13   \n\n       Stocks MarketId  Rank       Date  \n0  5969782550      STK     1 2020-01-02  \n1   728002365      STK     2 2020-01-02  \n2   822886700      STK     3 2020-01-02  \n3   164813395      STK     4 2020-01-02  \n4    66165000      STK     5 2020-01-02  \n5   213668187      STK     6 2020-01-02  \n6    95306694      STK     7 2020-01-02  \n7   128337853      STK     8 2020-01-02  \n8    70592343      STK     9 2020-01-02  \n9    87186835      STK    10 2020-01-02  ",
      "text/html": "<div>\n<style scoped>\n    .dataframe tbody tr th:only-of-type {\n        vertical-align: middle;\n    }\n\n    .dataframe tbody tr th {\n        vertical-align: top;\n    }\n\n    .dataframe thead th {\n        text-align: right;\n    }\n</style>\n<table border=\"1\" class=\"dataframe\">\n  <thead>\n    <tr style=\"text-align: right;\">\n      <th></th>\n      <th>Code</th>\n      <th>Name</th>\n      <th>Market</th>\n      <th>Dept</th>\n      <th>Close</th>\n      <th>ChangeCode</th>\n      <th>Changes</th>\n      <th>ChagesRatio</th>\n      <th>Open</th>\n      <th>High</th>\n      <th>Low</th>\n      <th>Volume</th>\n      <th>Amount</th>\n      <th>Marcap</th>\n      <th>Stocks</th>\n      <th>MarketId</th>\n      <th>Rank</th>\n      <th>Date</th>\n    </tr>\n  </thead>\n  <tbody>\n    <tr>\n      <th>0</th>\n      <td>005930</td>\n      <td>삼성전자</td>\n      <td>KOSPI</td>\n      <td>NaN</td>\n      <td>55200.0</td>\n      <td>2</td>\n      <td>-600.0</td>\n      <td>-1.08</td>\n      <td>55500.0</td>\n      <td>56000.0</td>\n      <td>55000.0</td>\n      <td>12993228.0</td>\n      <td>7.196632e+11</td>\n      <td>3.295320e+14</td>\n      <td>5969782550</td>\n      <td>STK</td>\n      <td>1</td>\n      <td>2020-01-02</td>\n    </tr>\n    <tr>\n      <th>1</th>\n      <td>000660</td>\n      <td>SK하이닉스</td>\n      <td>KOSPI</td>\n      <td>NaN</td>\n      <td>94700.0</td>\n      <td>1</td>\n      <td>600.0</td>\n      <td>0.64</td>\n      <td>96000.0</td>\n      <td>96200.0</td>\n      <td>94100.0</td>\n      <td>2342070.0</td>\n      <td>2.228414e+11</td>\n      <td>6.894182e+13</td>\n      <td>728002365</td>\n      <td>STK</td>\n      <td>2</td>\n      <td>2020-01-02</td>\n    </tr>\n    <tr>\n      <th>2</th>\n      <td>005935</td>\n      <td>삼성전자우</td>\n      <td>KOSPI</td>\n      <td>NaN</td>\n      <td>45600.0</td>\n      <td>1</td>\n      <td>200.0</td>\n      <td>0.44</td>\n      <td>45750.0</td>\n      <td>45950.0</td>\n      <td>45150.0</td>\n      <td>1512362.0</td>\n      <td>6.894333e+10</td>\n      <td>3.752363e+13</td>\n      <td>822886700</td>\n      <td>STK</td>\n      <td>3</td>\n      <td>2020-01-02</td>\n    </tr>\n    <tr>\n      <th>3</th>\n      <td>035420</td>\n      <td>NAVER</td>\n      <td>KOSPI</td>\n      <td>NaN</td>\n      <td>182500.0</td>\n      <td>2</td>\n      <td>-4000.0</td>\n      <td>-2.14</td>\n      <td>187500.0</td>\n      <td>188000.0</td>\n      <td>182000.0</td>\n      <td>300640.0</td>\n      <td>5.530956e+10</td>\n      <td>3.007844e+13</td>\n      <td>164813395</td>\n      <td>STK</td>\n      <td>4</td>\n      <td>2020-01-02</td>\n    </tr>\n    <tr>\n      <th>4</th>\n      <td>207940</td>\n      <td>삼성바이오로직스</td>\n      <td>KOSPI</td>\n      <td>NaN</td>\n      <td>428500.0</td>\n      <td>2</td>\n      <td>-4500.0</td>\n      <td>-1.04</td>\n      <td>433000.0</td>\n      <td>439500.0</td>\n      <td>425500.0</td>\n      <td>108281.0</td>\n      <td>4.647975e+10</td>\n      <td>2.835170e+13</td>\n      <td>66165000</td>\n      <td>STK</td>\n      <td>5</td>\n      <td>2020-01-02</td>\n    </tr>\n    <tr>\n      <th>5</th>\n      <td>005380</td>\n      <td>현대차</td>\n      <td>KOSPI</td>\n      <td>NaN</td>\n      <td>118000.0</td>\n      <td>2</td>\n      <td>-2500.0</td>\n      <td>-2.07</td>\n      <td>121000.0</td>\n      <td>121000.0</td>\n      <td>118000.0</td>\n      <td>556532.0</td>\n      <td>6.620498e+10</td>\n      <td>2.521285e+13</td>\n      <td>213668187</td>\n      <td>STK</td>\n      <td>6</td>\n      <td>2020-01-02</td>\n    </tr>\n    <tr>\n      <th>6</th>\n      <td>012330</td>\n      <td>현대모비스</td>\n      <td>KOSPI</td>\n      <td>NaN</td>\n      <td>247500.0</td>\n      <td>2</td>\n      <td>-8500.0</td>\n      <td>-3.32</td>\n      <td>254500.0</td>\n      <td>256000.0</td>\n      <td>247500.0</td>\n      <td>214585.0</td>\n      <td>5.362298e+10</td>\n      <td>2.358841e+13</td>\n      <td>95306694</td>\n      <td>STK</td>\n      <td>7</td>\n      <td>2020-01-02</td>\n    </tr>\n    <tr>\n      <th>7</th>\n      <td>068270</td>\n      <td>셀트리온</td>\n      <td>KOSPI</td>\n      <td>NaN</td>\n      <td>180000.0</td>\n      <td>2</td>\n      <td>-1000.0</td>\n      <td>-0.55</td>\n      <td>181000.0</td>\n      <td>183000.0</td>\n      <td>176000.0</td>\n      <td>621826.0</td>\n      <td>1.113250e+11</td>\n      <td>2.310081e+13</td>\n      <td>128337853</td>\n      <td>STK</td>\n      <td>8</td>\n      <td>2020-01-02</td>\n    </tr>\n    <tr>\n      <th>8</th>\n      <td>051910</td>\n      <td>LG화학</td>\n      <td>KOSPI</td>\n      <td>NaN</td>\n      <td>314000.0</td>\n      <td>2</td>\n      <td>-3500.0</td>\n      <td>-1.10</td>\n      <td>321000.0</td>\n      <td>321000.0</td>\n      <td>313500.0</td>\n      <td>139496.0</td>\n      <td>4.418112e+10</td>\n      <td>2.216600e+13</td>\n      <td>70592343</td>\n      <td>STK</td>\n      <td>9</td>\n      <td>2020-01-02</td>\n    </tr>\n    <tr>\n      <th>9</th>\n      <td>005490</td>\n      <td>POSCO</td>\n      <td>KOSPI</td>\n      <td>NaN</td>\n      <td>236000.0</td>\n      <td>2</td>\n      <td>-500.0</td>\n      <td>-0.21</td>\n      <td>236000.0</td>\n      <td>240000.0</td>\n      <td>234500.0</td>\n      <td>213578.0</td>\n      <td>5.061737e+10</td>\n      <td>2.057609e+13</td>\n      <td>87186835</td>\n      <td>STK</td>\n      <td>10</td>\n      <td>2020-01-02</td>\n    </tr>\n  </tbody>\n</table>\n</div>"
     },
     "execution_count": 3,
     "metadata": {},
     "output_type": "execute_result"
    }
   ]
  },
  {
   "cell_type": "markdown",
   "metadata": {
    "id": "gC_C4G1hiNrR"
   },
   "source": [
    "2020년 1년치 데이터의 전체 건수는 다음과 같습니다"
   ]
  },
  {
   "cell_type": "code",
   "metadata": {
    "colab": {
     "base_uri": "https://localhost:8080/"
    },
    "id": "bXoKMt0qiPFR",
    "executionInfo": {
     "status": "ok",
     "timestamp": 1611436980974,
     "user_tz": -540,
     "elapsed": 58243,
     "user": {
      "displayName": "Sean-June Lee",
      "photoUrl": "https://lh3.googleusercontent.com/a-/AOh14Gj6rvtcx9Gy8VOzzw2LH1hYtnxIuHBDw8qnYK9SAuY=s64",
      "userId": "12576390002043678893"
     }
    },
    "outputId": "cf05f4d8-4c76-48cd-8a3b-746248666abd"
   },
   "source": [
    "len(df)"
   ],
   "execution_count": 24,
   "outputs": [
    {
     "data": {
      "text/plain": "637536"
     },
     "execution_count": 24,
     "metadata": {},
     "output_type": "execute_result"
    }
   ]
  },
  {
   "cell_type": "markdown",
   "metadata": {
    "id": "k2qVeYOsiZgO"
   },
   "source": [
    "## 유틸리티 함수\n",
    "\n",
    "marcap 시가총액 데이터셋에는 데이터를 날짜별로 혹은 기간과 특정 종목을 지정하여 손쉽게 읽기 위한 유틸함수가 있습니다. <br>\n",
    "\n",
    "### marcap_data(start, end=None, code=None)\n",
    "지정한 기간 데이터 읽어옵니다. 종목코드(code)를 지정하면 해당 종목에 대한 데이터를 지정한 기간만큼 읽어 옵니다. 거래량(volume)이 0인 행(row)는 제거하고 반환합니다."
   ]
  },
  {
   "cell_type": "markdown",
   "metadata": {
    "id": "gaFt2Ikz3CVw"
   },
   "source": [
    "다음과 같이 import 하여 사용합니다.\n",
    "\n"
   ]
  },
  {
   "cell_type": "code",
   "metadata": {
    "id": "Rv_Fc6bM3DyO",
    "executionInfo": {
     "status": "ok",
     "timestamp": 1611436980975,
     "user_tz": -540,
     "elapsed": 58240,
     "user": {
      "displayName": "Sean-June Lee",
      "photoUrl": "https://lh3.googleusercontent.com/a-/AOh14Gj6rvtcx9Gy8VOzzw2LH1hYtnxIuHBDw8qnYK9SAuY=s64",
      "userId": "12576390002043678893"
     }
    }
   },
   "source": [
    "from marcap import marcap_data"
   ],
   "execution_count": 25,
   "outputs": []
  },
  {
   "cell_type": "markdown",
   "metadata": {
    "id": "J-0dA1rc27TD"
   },
   "source": [
    "### 특정 날짜를 지정하여 읽기"
   ]
  },
  {
   "cell_type": "code",
   "metadata": {
    "colab": {
     "base_uri": "https://localhost:8080/"
    },
    "id": "P6gCP-7LiZgQ",
    "executionInfo": {
     "status": "ok",
     "timestamp": 1611436981300,
     "user_tz": -540,
     "elapsed": 58561,
     "user": {
      "displayName": "Sean-June Lee",
      "photoUrl": "https://lh3.googleusercontent.com/a-/AOh14Gj6rvtcx9Gy8VOzzw2LH1hYtnxIuHBDw8qnYK9SAuY=s64",
      "userId": "12576390002043678893"
     }
    },
    "outputId": "0ac350bd-ef60-4400-d9c8-3bfb1233f3cf"
   },
   "source": [
    "df = marcap_data('2021-01-21')\n",
    "len(df)"
   ],
   "execution_count": 26,
   "outputs": [
    {
     "data": {
      "text/plain": "2420"
     },
     "execution_count": 26,
     "metadata": {},
     "output_type": "execute_result"
    }
   ]
  },
  {
   "cell_type": "code",
   "metadata": {
    "colab": {
     "base_uri": "https://localhost:8080/",
     "height": 234
    },
    "id": "1gDU6lSDiZgZ",
    "executionInfo": {
     "status": "ok",
     "timestamp": 1611436981301,
     "user_tz": -540,
     "elapsed": 58558,
     "user": {
      "displayName": "Sean-June Lee",
      "photoUrl": "https://lh3.googleusercontent.com/a-/AOh14Gj6rvtcx9Gy8VOzzw2LH1hYtnxIuHBDw8qnYK9SAuY=s64",
      "userId": "12576390002043678893"
     }
    },
    "outputId": "a254ab0c-2d7d-4e59-978a-99a6b6eac8bc"
   },
   "source": [
    "df.head()"
   ],
   "execution_count": 7,
   "outputs": [
    {
     "data": {
      "text/plain": "              Code    Name Market Dept   Close ChangeCode  Changes  \\\nDate                                                                 \n2021-01-21  005930    삼성전자  KOSPI  NaN   88100          1      900   \n2021-01-21  000660  SK하이닉스  KOSPI  NaN  131500          1     1000   \n2021-01-21  051910    LG화학  KOSPI  NaN  988000          2   -12000   \n2021-01-21  005935   삼성전자우  KOSPI  NaN   77600          1      800   \n2021-01-21  005380     현대차  KOSPI  NaN  264500          1     5500   \n\n            ChagesRatio     Open     High     Low    Volume         Amount  \\\nDate                                                                         \n2021-01-21         1.03    87500    88600   86500  25318011  2211209788500   \n2021-01-21         0.77   131500   133000  130000   3067677   402667707500   \n2021-01-21        -1.20  1011000  1019000  988000    364628   363389190000   \n2021-01-21         1.04    77500    77800   76800   2512634   194360911300   \n2021-01-21         2.12   264000   266500  259500   2593509   682782686000   \n\n                     Marcap      Stocks MarketId  Rank  \nDate                                                    \n2021-01-21  525937842655000  5969782550      STK     1  \n2021-01-21   95732310997500   728002365      STK     2  \n2021-01-21   69745234884000    70592343      STK     3  \n2021-01-21   63856007920000   822886700      STK     4  \n2021-01-21   56515235461500   213668187      STK     5  ",
      "text/html": "<div>\n<style scoped>\n    .dataframe tbody tr th:only-of-type {\n        vertical-align: middle;\n    }\n\n    .dataframe tbody tr th {\n        vertical-align: top;\n    }\n\n    .dataframe thead th {\n        text-align: right;\n    }\n</style>\n<table border=\"1\" class=\"dataframe\">\n  <thead>\n    <tr style=\"text-align: right;\">\n      <th></th>\n      <th>Code</th>\n      <th>Name</th>\n      <th>Market</th>\n      <th>Dept</th>\n      <th>Close</th>\n      <th>ChangeCode</th>\n      <th>Changes</th>\n      <th>ChagesRatio</th>\n      <th>Open</th>\n      <th>High</th>\n      <th>Low</th>\n      <th>Volume</th>\n      <th>Amount</th>\n      <th>Marcap</th>\n      <th>Stocks</th>\n      <th>MarketId</th>\n      <th>Rank</th>\n    </tr>\n    <tr>\n      <th>Date</th>\n      <th></th>\n      <th></th>\n      <th></th>\n      <th></th>\n      <th></th>\n      <th></th>\n      <th></th>\n      <th></th>\n      <th></th>\n      <th></th>\n      <th></th>\n      <th></th>\n      <th></th>\n      <th></th>\n      <th></th>\n      <th></th>\n      <th></th>\n    </tr>\n  </thead>\n  <tbody>\n    <tr>\n      <th>2021-01-21</th>\n      <td>005930</td>\n      <td>삼성전자</td>\n      <td>KOSPI</td>\n      <td>NaN</td>\n      <td>88100</td>\n      <td>1</td>\n      <td>900</td>\n      <td>1.03</td>\n      <td>87500</td>\n      <td>88600</td>\n      <td>86500</td>\n      <td>25318011</td>\n      <td>2211209788500</td>\n      <td>525937842655000</td>\n      <td>5969782550</td>\n      <td>STK</td>\n      <td>1</td>\n    </tr>\n    <tr>\n      <th>2021-01-21</th>\n      <td>000660</td>\n      <td>SK하이닉스</td>\n      <td>KOSPI</td>\n      <td>NaN</td>\n      <td>131500</td>\n      <td>1</td>\n      <td>1000</td>\n      <td>0.77</td>\n      <td>131500</td>\n      <td>133000</td>\n      <td>130000</td>\n      <td>3067677</td>\n      <td>402667707500</td>\n      <td>95732310997500</td>\n      <td>728002365</td>\n      <td>STK</td>\n      <td>2</td>\n    </tr>\n    <tr>\n      <th>2021-01-21</th>\n      <td>051910</td>\n      <td>LG화학</td>\n      <td>KOSPI</td>\n      <td>NaN</td>\n      <td>988000</td>\n      <td>2</td>\n      <td>-12000</td>\n      <td>-1.20</td>\n      <td>1011000</td>\n      <td>1019000</td>\n      <td>988000</td>\n      <td>364628</td>\n      <td>363389190000</td>\n      <td>69745234884000</td>\n      <td>70592343</td>\n      <td>STK</td>\n      <td>3</td>\n    </tr>\n    <tr>\n      <th>2021-01-21</th>\n      <td>005935</td>\n      <td>삼성전자우</td>\n      <td>KOSPI</td>\n      <td>NaN</td>\n      <td>77600</td>\n      <td>1</td>\n      <td>800</td>\n      <td>1.04</td>\n      <td>77500</td>\n      <td>77800</td>\n      <td>76800</td>\n      <td>2512634</td>\n      <td>194360911300</td>\n      <td>63856007920000</td>\n      <td>822886700</td>\n      <td>STK</td>\n      <td>4</td>\n    </tr>\n    <tr>\n      <th>2021-01-21</th>\n      <td>005380</td>\n      <td>현대차</td>\n      <td>KOSPI</td>\n      <td>NaN</td>\n      <td>264500</td>\n      <td>1</td>\n      <td>5500</td>\n      <td>2.12</td>\n      <td>264000</td>\n      <td>266500</td>\n      <td>259500</td>\n      <td>2593509</td>\n      <td>682782686000</td>\n      <td>56515235461500</td>\n      <td>213668187</td>\n      <td>STK</td>\n      <td>5</td>\n    </tr>\n  </tbody>\n</table>\n</div>"
     },
     "execution_count": 7,
     "metadata": {},
     "output_type": "execute_result"
    }
   ]
  },
  {
   "cell_type": "code",
   "execution_count": null,
   "outputs": [],
   "source": [
    "df = marcap_data('2022-01-21')"
   ],
   "metadata": {
    "collapsed": false,
    "pycharm": {
     "name": "#%%\n"
    }
   }
  },
  {
   "cell_type": "markdown",
   "metadata": {
    "id": "TCtt4pUriZgf"
   },
   "source": [
    "### 기간을 지정하여 읽기 (2020년 1년간 전종목)"
   ]
  },
  {
   "cell_type": "code",
   "metadata": {
    "colab": {
     "base_uri": "https://localhost:8080/",
     "height": 448
    },
    "id": "2po6qc_O3I4U",
    "executionInfo": {
     "status": "ok",
     "timestamp": 1611436984235,
     "user_tz": -540,
     "elapsed": 61487,
     "user": {
      "displayName": "Sean-June Lee",
      "photoUrl": "https://lh3.googleusercontent.com/a-/AOh14Gj6rvtcx9Gy8VOzzw2LH1hYtnxIuHBDw8qnYK9SAuY=s64",
      "userId": "12576390002043678893"
     }
    },
    "outputId": "4f03c6db-77b2-492e-a3db-e4f150837c2c"
   },
   "source": [
    "df = marcap_data('2020-01-01', '2020-12-31')\n",
    "df"
   ],
   "execution_count": 8,
   "outputs": [
    {
     "data": {
      "text/plain": "              Code      Name Market   Dept   Close ChangeCode  Changes  \\\nDate                                                                     \n2020-01-02  005930      삼성전자  KOSPI    NaN   55200          2     -600   \n2020-01-02  000660    SK하이닉스  KOSPI    NaN   94700          1      600   \n2020-01-02  005935     삼성전자우  KOSPI    NaN   45600          1      200   \n2020-01-02  035420     NAVER  KOSPI    NaN  182500          2    -4000   \n2020-01-02  207940  삼성바이오로직스  KOSPI    NaN  428500          2    -4500   \n...            ...       ...    ...    ...     ...        ...      ...   \n2020-12-30  240340      인터코스  KONEX  일반기업부     750          3        0   \n2020-12-30  242350   피엔아이컴퍼니  KONEX  일반기업부     414          2      -35   \n2020-12-30  224020   에스케이씨에스  KONEX  일반기업부     680          1       80   \n2020-12-30  179720      옐로페이  KONEX  일반기업부    2430          4      315   \n2020-12-30  225860   엠앤씨생명과학  KONEX  일반기업부     144          1        2   \n\n            ChagesRatio    Open    High     Low    Volume        Amount  \\\nDate                                                                      \n2020-01-02        -1.08   55500   56000   55000  12993228  719663194492   \n2020-01-02         0.64   96000   96200   94100   2342070  222841408700   \n2020-01-02         0.44   45750   45950   45150   1512362   68943333400   \n2020-01-02        -2.14  187500  188000  182000    300640   55309555500   \n2020-01-02        -1.04  433000  439500  425500    108281   46479752500   \n...                 ...     ...     ...     ...       ...           ...   \n2020-12-30         0.00     750     750     750         1           750   \n2020-12-30        -7.80     445     445     397     12793       5202747   \n2020-12-30        13.33     680     680     680       430        292400   \n2020-12-30        14.89    2400    2430    2400       300        728850   \n2020-12-30         1.41     128     154     128      3329        475447   \n\n                     Marcap      Stocks MarketId  Rank  \nDate                                                    \n2020-01-02  329531996760000  5969782550      STK     1  \n2020-01-02   68941823965500   728002365      STK     2  \n2020-01-02   37523633520000   822886700      STK     3  \n2020-01-02   30078444587500   164813395      STK     4  \n2020-01-02   28351702500000    66165000      STK     5  \n...                     ...         ...      ...   ...  \n2020-12-30       2509742250     3346323      KNX  2525  \n2020-12-30       1971269280     4761520      KNX  2527  \n2020-12-30       1836000000     2700000      KNX  2529  \n2020-12-30       1796985000      739500      KNX  2530  \n2020-12-30       1635565248    11358092      KNX  2531  \n\n[585456 rows x 17 columns]",
      "text/html": "<div>\n<style scoped>\n    .dataframe tbody tr th:only-of-type {\n        vertical-align: middle;\n    }\n\n    .dataframe tbody tr th {\n        vertical-align: top;\n    }\n\n    .dataframe thead th {\n        text-align: right;\n    }\n</style>\n<table border=\"1\" class=\"dataframe\">\n  <thead>\n    <tr style=\"text-align: right;\">\n      <th></th>\n      <th>Code</th>\n      <th>Name</th>\n      <th>Market</th>\n      <th>Dept</th>\n      <th>Close</th>\n      <th>ChangeCode</th>\n      <th>Changes</th>\n      <th>ChagesRatio</th>\n      <th>Open</th>\n      <th>High</th>\n      <th>Low</th>\n      <th>Volume</th>\n      <th>Amount</th>\n      <th>Marcap</th>\n      <th>Stocks</th>\n      <th>MarketId</th>\n      <th>Rank</th>\n    </tr>\n    <tr>\n      <th>Date</th>\n      <th></th>\n      <th></th>\n      <th></th>\n      <th></th>\n      <th></th>\n      <th></th>\n      <th></th>\n      <th></th>\n      <th></th>\n      <th></th>\n      <th></th>\n      <th></th>\n      <th></th>\n      <th></th>\n      <th></th>\n      <th></th>\n      <th></th>\n    </tr>\n  </thead>\n  <tbody>\n    <tr>\n      <th>2020-01-02</th>\n      <td>005930</td>\n      <td>삼성전자</td>\n      <td>KOSPI</td>\n      <td>NaN</td>\n      <td>55200</td>\n      <td>2</td>\n      <td>-600</td>\n      <td>-1.08</td>\n      <td>55500</td>\n      <td>56000</td>\n      <td>55000</td>\n      <td>12993228</td>\n      <td>719663194492</td>\n      <td>329531996760000</td>\n      <td>5969782550</td>\n      <td>STK</td>\n      <td>1</td>\n    </tr>\n    <tr>\n      <th>2020-01-02</th>\n      <td>000660</td>\n      <td>SK하이닉스</td>\n      <td>KOSPI</td>\n      <td>NaN</td>\n      <td>94700</td>\n      <td>1</td>\n      <td>600</td>\n      <td>0.64</td>\n      <td>96000</td>\n      <td>96200</td>\n      <td>94100</td>\n      <td>2342070</td>\n      <td>222841408700</td>\n      <td>68941823965500</td>\n      <td>728002365</td>\n      <td>STK</td>\n      <td>2</td>\n    </tr>\n    <tr>\n      <th>2020-01-02</th>\n      <td>005935</td>\n      <td>삼성전자우</td>\n      <td>KOSPI</td>\n      <td>NaN</td>\n      <td>45600</td>\n      <td>1</td>\n      <td>200</td>\n      <td>0.44</td>\n      <td>45750</td>\n      <td>45950</td>\n      <td>45150</td>\n      <td>1512362</td>\n      <td>68943333400</td>\n      <td>37523633520000</td>\n      <td>822886700</td>\n      <td>STK</td>\n      <td>3</td>\n    </tr>\n    <tr>\n      <th>2020-01-02</th>\n      <td>035420</td>\n      <td>NAVER</td>\n      <td>KOSPI</td>\n      <td>NaN</td>\n      <td>182500</td>\n      <td>2</td>\n      <td>-4000</td>\n      <td>-2.14</td>\n      <td>187500</td>\n      <td>188000</td>\n      <td>182000</td>\n      <td>300640</td>\n      <td>55309555500</td>\n      <td>30078444587500</td>\n      <td>164813395</td>\n      <td>STK</td>\n      <td>4</td>\n    </tr>\n    <tr>\n      <th>2020-01-02</th>\n      <td>207940</td>\n      <td>삼성바이오로직스</td>\n      <td>KOSPI</td>\n      <td>NaN</td>\n      <td>428500</td>\n      <td>2</td>\n      <td>-4500</td>\n      <td>-1.04</td>\n      <td>433000</td>\n      <td>439500</td>\n      <td>425500</td>\n      <td>108281</td>\n      <td>46479752500</td>\n      <td>28351702500000</td>\n      <td>66165000</td>\n      <td>STK</td>\n      <td>5</td>\n    </tr>\n    <tr>\n      <th>...</th>\n      <td>...</td>\n      <td>...</td>\n      <td>...</td>\n      <td>...</td>\n      <td>...</td>\n      <td>...</td>\n      <td>...</td>\n      <td>...</td>\n      <td>...</td>\n      <td>...</td>\n      <td>...</td>\n      <td>...</td>\n      <td>...</td>\n      <td>...</td>\n      <td>...</td>\n      <td>...</td>\n      <td>...</td>\n    </tr>\n    <tr>\n      <th>2020-12-30</th>\n      <td>240340</td>\n      <td>인터코스</td>\n      <td>KONEX</td>\n      <td>일반기업부</td>\n      <td>750</td>\n      <td>3</td>\n      <td>0</td>\n      <td>0.00</td>\n      <td>750</td>\n      <td>750</td>\n      <td>750</td>\n      <td>1</td>\n      <td>750</td>\n      <td>2509742250</td>\n      <td>3346323</td>\n      <td>KNX</td>\n      <td>2525</td>\n    </tr>\n    <tr>\n      <th>2020-12-30</th>\n      <td>242350</td>\n      <td>피엔아이컴퍼니</td>\n      <td>KONEX</td>\n      <td>일반기업부</td>\n      <td>414</td>\n      <td>2</td>\n      <td>-35</td>\n      <td>-7.80</td>\n      <td>445</td>\n      <td>445</td>\n      <td>397</td>\n      <td>12793</td>\n      <td>5202747</td>\n      <td>1971269280</td>\n      <td>4761520</td>\n      <td>KNX</td>\n      <td>2527</td>\n    </tr>\n    <tr>\n      <th>2020-12-30</th>\n      <td>224020</td>\n      <td>에스케이씨에스</td>\n      <td>KONEX</td>\n      <td>일반기업부</td>\n      <td>680</td>\n      <td>1</td>\n      <td>80</td>\n      <td>13.33</td>\n      <td>680</td>\n      <td>680</td>\n      <td>680</td>\n      <td>430</td>\n      <td>292400</td>\n      <td>1836000000</td>\n      <td>2700000</td>\n      <td>KNX</td>\n      <td>2529</td>\n    </tr>\n    <tr>\n      <th>2020-12-30</th>\n      <td>179720</td>\n      <td>옐로페이</td>\n      <td>KONEX</td>\n      <td>일반기업부</td>\n      <td>2430</td>\n      <td>4</td>\n      <td>315</td>\n      <td>14.89</td>\n      <td>2400</td>\n      <td>2430</td>\n      <td>2400</td>\n      <td>300</td>\n      <td>728850</td>\n      <td>1796985000</td>\n      <td>739500</td>\n      <td>KNX</td>\n      <td>2530</td>\n    </tr>\n    <tr>\n      <th>2020-12-30</th>\n      <td>225860</td>\n      <td>엠앤씨생명과학</td>\n      <td>KONEX</td>\n      <td>일반기업부</td>\n      <td>144</td>\n      <td>1</td>\n      <td>2</td>\n      <td>1.41</td>\n      <td>128</td>\n      <td>154</td>\n      <td>128</td>\n      <td>3329</td>\n      <td>475447</td>\n      <td>1635565248</td>\n      <td>11358092</td>\n      <td>KNX</td>\n      <td>2531</td>\n    </tr>\n  </tbody>\n</table>\n<p>585456 rows × 17 columns</p>\n</div>"
     },
     "execution_count": 8,
     "metadata": {},
     "output_type": "execute_result"
    }
   ]
  },
  {
   "cell_type": "code",
   "metadata": {
    "colab": {
     "base_uri": "https://localhost:8080/",
     "height": 234
    },
    "id": "fmhq2wUY3Oke",
    "executionInfo": {
     "status": "ok",
     "timestamp": 1611436984236,
     "user_tz": -540,
     "elapsed": 61483,
     "user": {
      "displayName": "Sean-June Lee",
      "photoUrl": "https://lh3.googleusercontent.com/a-/AOh14Gj6rvtcx9Gy8VOzzw2LH1hYtnxIuHBDw8qnYK9SAuY=s64",
      "userId": "12576390002043678893"
     }
    },
    "outputId": "9a1afca3-0daf-4746-802f-2ad73c1ccd9a"
   },
   "source": [
    "df.head()"
   ],
   "execution_count": 9,
   "outputs": [
    {
     "data": {
      "text/plain": "              Code      Name Market Dept   Close ChangeCode  Changes  \\\nDate                                                                   \n2020-01-02  005930      삼성전자  KOSPI  NaN   55200          2     -600   \n2020-01-02  000660    SK하이닉스  KOSPI  NaN   94700          1      600   \n2020-01-02  005935     삼성전자우  KOSPI  NaN   45600          1      200   \n2020-01-02  035420     NAVER  KOSPI  NaN  182500          2    -4000   \n2020-01-02  207940  삼성바이오로직스  KOSPI  NaN  428500          2    -4500   \n\n            ChagesRatio    Open    High     Low    Volume        Amount  \\\nDate                                                                      \n2020-01-02        -1.08   55500   56000   55000  12993228  719663194492   \n2020-01-02         0.64   96000   96200   94100   2342070  222841408700   \n2020-01-02         0.44   45750   45950   45150   1512362   68943333400   \n2020-01-02        -2.14  187500  188000  182000    300640   55309555500   \n2020-01-02        -1.04  433000  439500  425500    108281   46479752500   \n\n                     Marcap      Stocks MarketId  Rank  \nDate                                                    \n2020-01-02  329531996760000  5969782550      STK     1  \n2020-01-02   68941823965500   728002365      STK     2  \n2020-01-02   37523633520000   822886700      STK     3  \n2020-01-02   30078444587500   164813395      STK     4  \n2020-01-02   28351702500000    66165000      STK     5  ",
      "text/html": "<div>\n<style scoped>\n    .dataframe tbody tr th:only-of-type {\n        vertical-align: middle;\n    }\n\n    .dataframe tbody tr th {\n        vertical-align: top;\n    }\n\n    .dataframe thead th {\n        text-align: right;\n    }\n</style>\n<table border=\"1\" class=\"dataframe\">\n  <thead>\n    <tr style=\"text-align: right;\">\n      <th></th>\n      <th>Code</th>\n      <th>Name</th>\n      <th>Market</th>\n      <th>Dept</th>\n      <th>Close</th>\n      <th>ChangeCode</th>\n      <th>Changes</th>\n      <th>ChagesRatio</th>\n      <th>Open</th>\n      <th>High</th>\n      <th>Low</th>\n      <th>Volume</th>\n      <th>Amount</th>\n      <th>Marcap</th>\n      <th>Stocks</th>\n      <th>MarketId</th>\n      <th>Rank</th>\n    </tr>\n    <tr>\n      <th>Date</th>\n      <th></th>\n      <th></th>\n      <th></th>\n      <th></th>\n      <th></th>\n      <th></th>\n      <th></th>\n      <th></th>\n      <th></th>\n      <th></th>\n      <th></th>\n      <th></th>\n      <th></th>\n      <th></th>\n      <th></th>\n      <th></th>\n      <th></th>\n    </tr>\n  </thead>\n  <tbody>\n    <tr>\n      <th>2020-01-02</th>\n      <td>005930</td>\n      <td>삼성전자</td>\n      <td>KOSPI</td>\n      <td>NaN</td>\n      <td>55200</td>\n      <td>2</td>\n      <td>-600</td>\n      <td>-1.08</td>\n      <td>55500</td>\n      <td>56000</td>\n      <td>55000</td>\n      <td>12993228</td>\n      <td>719663194492</td>\n      <td>329531996760000</td>\n      <td>5969782550</td>\n      <td>STK</td>\n      <td>1</td>\n    </tr>\n    <tr>\n      <th>2020-01-02</th>\n      <td>000660</td>\n      <td>SK하이닉스</td>\n      <td>KOSPI</td>\n      <td>NaN</td>\n      <td>94700</td>\n      <td>1</td>\n      <td>600</td>\n      <td>0.64</td>\n      <td>96000</td>\n      <td>96200</td>\n      <td>94100</td>\n      <td>2342070</td>\n      <td>222841408700</td>\n      <td>68941823965500</td>\n      <td>728002365</td>\n      <td>STK</td>\n      <td>2</td>\n    </tr>\n    <tr>\n      <th>2020-01-02</th>\n      <td>005935</td>\n      <td>삼성전자우</td>\n      <td>KOSPI</td>\n      <td>NaN</td>\n      <td>45600</td>\n      <td>1</td>\n      <td>200</td>\n      <td>0.44</td>\n      <td>45750</td>\n      <td>45950</td>\n      <td>45150</td>\n      <td>1512362</td>\n      <td>68943333400</td>\n      <td>37523633520000</td>\n      <td>822886700</td>\n      <td>STK</td>\n      <td>3</td>\n    </tr>\n    <tr>\n      <th>2020-01-02</th>\n      <td>035420</td>\n      <td>NAVER</td>\n      <td>KOSPI</td>\n      <td>NaN</td>\n      <td>182500</td>\n      <td>2</td>\n      <td>-4000</td>\n      <td>-2.14</td>\n      <td>187500</td>\n      <td>188000</td>\n      <td>182000</td>\n      <td>300640</td>\n      <td>55309555500</td>\n      <td>30078444587500</td>\n      <td>164813395</td>\n      <td>STK</td>\n      <td>4</td>\n    </tr>\n    <tr>\n      <th>2020-01-02</th>\n      <td>207940</td>\n      <td>삼성바이오로직스</td>\n      <td>KOSPI</td>\n      <td>NaN</td>\n      <td>428500</td>\n      <td>2</td>\n      <td>-4500</td>\n      <td>-1.04</td>\n      <td>433000</td>\n      <td>439500</td>\n      <td>425500</td>\n      <td>108281</td>\n      <td>46479752500</td>\n      <td>28351702500000</td>\n      <td>66165000</td>\n      <td>STK</td>\n      <td>5</td>\n    </tr>\n  </tbody>\n</table>\n</div>"
     },
     "execution_count": 9,
     "metadata": {},
     "output_type": "execute_result"
    }
   ]
  },
  {
   "cell_type": "code",
   "metadata": {
    "colab": {
     "base_uri": "https://localhost:8080/",
     "height": 234
    },
    "id": "EcsvtSUPpaFF",
    "executionInfo": {
     "status": "ok",
     "timestamp": 1611436984237,
     "user_tz": -540,
     "elapsed": 61480,
     "user": {
      "displayName": "Sean-June Lee",
      "photoUrl": "https://lh3.googleusercontent.com/a-/AOh14Gj6rvtcx9Gy8VOzzw2LH1hYtnxIuHBDw8qnYK9SAuY=s64",
      "userId": "12576390002043678893"
     }
    },
    "outputId": "2494a8da-c880-4aba-e958-9bc8187502f0"
   },
   "source": [
    "df.tail()"
   ],
   "execution_count": 10,
   "outputs": [
    {
     "data": {
      "text/plain": "              Code     Name Market   Dept  Close ChangeCode  Changes  \\\nDate                                                                   \n2020-12-30  240340     인터코스  KONEX  일반기업부    750          3        0   \n2020-12-30  242350  피엔아이컴퍼니  KONEX  일반기업부    414          2      -35   \n2020-12-30  224020  에스케이씨에스  KONEX  일반기업부    680          1       80   \n2020-12-30  179720     옐로페이  KONEX  일반기업부   2430          4      315   \n2020-12-30  225860  엠앤씨생명과학  KONEX  일반기업부    144          1        2   \n\n            ChagesRatio  Open  High   Low  Volume   Amount      Marcap  \\\nDate                                                                     \n2020-12-30         0.00   750   750   750       1      750  2509742250   \n2020-12-30        -7.80   445   445   397   12793  5202747  1971269280   \n2020-12-30        13.33   680   680   680     430   292400  1836000000   \n2020-12-30        14.89  2400  2430  2400     300   728850  1796985000   \n2020-12-30         1.41   128   154   128    3329   475447  1635565248   \n\n              Stocks MarketId  Rank  \nDate                                 \n2020-12-30   3346323      KNX  2525  \n2020-12-30   4761520      KNX  2527  \n2020-12-30   2700000      KNX  2529  \n2020-12-30    739500      KNX  2530  \n2020-12-30  11358092      KNX  2531  ",
      "text/html": "<div>\n<style scoped>\n    .dataframe tbody tr th:only-of-type {\n        vertical-align: middle;\n    }\n\n    .dataframe tbody tr th {\n        vertical-align: top;\n    }\n\n    .dataframe thead th {\n        text-align: right;\n    }\n</style>\n<table border=\"1\" class=\"dataframe\">\n  <thead>\n    <tr style=\"text-align: right;\">\n      <th></th>\n      <th>Code</th>\n      <th>Name</th>\n      <th>Market</th>\n      <th>Dept</th>\n      <th>Close</th>\n      <th>ChangeCode</th>\n      <th>Changes</th>\n      <th>ChagesRatio</th>\n      <th>Open</th>\n      <th>High</th>\n      <th>Low</th>\n      <th>Volume</th>\n      <th>Amount</th>\n      <th>Marcap</th>\n      <th>Stocks</th>\n      <th>MarketId</th>\n      <th>Rank</th>\n    </tr>\n    <tr>\n      <th>Date</th>\n      <th></th>\n      <th></th>\n      <th></th>\n      <th></th>\n      <th></th>\n      <th></th>\n      <th></th>\n      <th></th>\n      <th></th>\n      <th></th>\n      <th></th>\n      <th></th>\n      <th></th>\n      <th></th>\n      <th></th>\n      <th></th>\n      <th></th>\n    </tr>\n  </thead>\n  <tbody>\n    <tr>\n      <th>2020-12-30</th>\n      <td>240340</td>\n      <td>인터코스</td>\n      <td>KONEX</td>\n      <td>일반기업부</td>\n      <td>750</td>\n      <td>3</td>\n      <td>0</td>\n      <td>0.00</td>\n      <td>750</td>\n      <td>750</td>\n      <td>750</td>\n      <td>1</td>\n      <td>750</td>\n      <td>2509742250</td>\n      <td>3346323</td>\n      <td>KNX</td>\n      <td>2525</td>\n    </tr>\n    <tr>\n      <th>2020-12-30</th>\n      <td>242350</td>\n      <td>피엔아이컴퍼니</td>\n      <td>KONEX</td>\n      <td>일반기업부</td>\n      <td>414</td>\n      <td>2</td>\n      <td>-35</td>\n      <td>-7.80</td>\n      <td>445</td>\n      <td>445</td>\n      <td>397</td>\n      <td>12793</td>\n      <td>5202747</td>\n      <td>1971269280</td>\n      <td>4761520</td>\n      <td>KNX</td>\n      <td>2527</td>\n    </tr>\n    <tr>\n      <th>2020-12-30</th>\n      <td>224020</td>\n      <td>에스케이씨에스</td>\n      <td>KONEX</td>\n      <td>일반기업부</td>\n      <td>680</td>\n      <td>1</td>\n      <td>80</td>\n      <td>13.33</td>\n      <td>680</td>\n      <td>680</td>\n      <td>680</td>\n      <td>430</td>\n      <td>292400</td>\n      <td>1836000000</td>\n      <td>2700000</td>\n      <td>KNX</td>\n      <td>2529</td>\n    </tr>\n    <tr>\n      <th>2020-12-30</th>\n      <td>179720</td>\n      <td>옐로페이</td>\n      <td>KONEX</td>\n      <td>일반기업부</td>\n      <td>2430</td>\n      <td>4</td>\n      <td>315</td>\n      <td>14.89</td>\n      <td>2400</td>\n      <td>2430</td>\n      <td>2400</td>\n      <td>300</td>\n      <td>728850</td>\n      <td>1796985000</td>\n      <td>739500</td>\n      <td>KNX</td>\n      <td>2530</td>\n    </tr>\n    <tr>\n      <th>2020-12-30</th>\n      <td>225860</td>\n      <td>엠앤씨생명과학</td>\n      <td>KONEX</td>\n      <td>일반기업부</td>\n      <td>144</td>\n      <td>1</td>\n      <td>2</td>\n      <td>1.41</td>\n      <td>128</td>\n      <td>154</td>\n      <td>128</td>\n      <td>3329</td>\n      <td>475447</td>\n      <td>1635565248</td>\n      <td>11358092</td>\n      <td>KNX</td>\n      <td>2531</td>\n    </tr>\n  </tbody>\n</table>\n</div>"
     },
     "execution_count": 10,
     "metadata": {},
     "output_type": "execute_result"
    }
   ]
  },
  {
   "cell_type": "markdown",
   "metadata": {
    "id": "tBwIipW3iZgr"
   },
   "source": [
    "### 기간을 지정하여, 특정 종목 읽기 (2020년 1년간 특정 종목)\n"
   ]
  },
  {
   "cell_type": "code",
   "metadata": {
    "colab": {
     "base_uri": "https://localhost:8080/"
    },
    "id": "ugkBkqr-3NZO",
    "executionInfo": {
     "status": "ok",
     "timestamp": 1611436984238,
     "user_tz": -540,
     "elapsed": 61477,
     "user": {
      "displayName": "Sean-June Lee",
      "photoUrl": "https://lh3.googleusercontent.com/a-/AOh14Gj6rvtcx9Gy8VOzzw2LH1hYtnxIuHBDw8qnYK9SAuY=s64",
      "userId": "12576390002043678893"
     }
    },
    "outputId": "be777061-f4db-4e84-dea5-574a6028f162"
   },
   "source": [
    "df = marcap_data('2021-01-01', '2021-01-31', code='005930')\n",
    "len(df)"
   ],
   "execution_count": 11,
   "outputs": [
    {
     "data": {
      "text/plain": "20"
     },
     "execution_count": 11,
     "metadata": {},
     "output_type": "execute_result"
    }
   ]
  },
  {
   "cell_type": "code",
   "metadata": {
    "colab": {
     "base_uri": "https://localhost:8080/",
     "height": 389
    },
    "id": "wuVx71L2iZgx",
    "executionInfo": {
     "status": "ok",
     "timestamp": 1611436984536,
     "user_tz": -540,
     "elapsed": 61771,
     "user": {
      "displayName": "Sean-June Lee",
      "photoUrl": "https://lh3.googleusercontent.com/a-/AOh14Gj6rvtcx9Gy8VOzzw2LH1hYtnxIuHBDw8qnYK9SAuY=s64",
      "userId": "12576390002043678893"
     }
    },
    "outputId": "0bcee2ab-4409-479e-c8cb-49af83c1d7c6"
   },
   "source": [
    "df[['Code', 'Name', 'Close', 'Volume', 'Marcap', 'Stocks']].head(10)"
   ],
   "execution_count": 12,
   "outputs": [
    {
     "data": {
      "text/plain": "              Code  Name  Close    Volume           Marcap      Stocks\nDate                                                                  \n2021-01-04  005930  삼성전자  83000  38655276  495491951650000  5969782550\n2021-01-05  005930  삼성전자  83900  35335669  500864755945000  5969782550\n2021-01-06  005930  삼성전자  82200  42089013  490716125610000  5969782550\n2021-01-07  005930  삼성전자  82900  32644642  494894973395000  5969782550\n2021-01-08  005930  삼성전자  88800  59013307  530116690440000  5969782550\n2021-01-11  005930  삼성전자  91000  90306177  543250212050000  5969782550\n2021-01-12  005930  삼성전자  90600  48682416  540862299030000  5969782550\n2021-01-13  005930  삼성전자  89700  36068848  535489494735000  5969782550\n2021-01-14  005930  삼성전자  89700  26393970  535489494735000  5969782550\n2021-01-15  005930  삼성전자  88000  33431809  525340864400000  5969782550",
      "text/html": "<div>\n<style scoped>\n    .dataframe tbody tr th:only-of-type {\n        vertical-align: middle;\n    }\n\n    .dataframe tbody tr th {\n        vertical-align: top;\n    }\n\n    .dataframe thead th {\n        text-align: right;\n    }\n</style>\n<table border=\"1\" class=\"dataframe\">\n  <thead>\n    <tr style=\"text-align: right;\">\n      <th></th>\n      <th>Code</th>\n      <th>Name</th>\n      <th>Close</th>\n      <th>Volume</th>\n      <th>Marcap</th>\n      <th>Stocks</th>\n    </tr>\n    <tr>\n      <th>Date</th>\n      <th></th>\n      <th></th>\n      <th></th>\n      <th></th>\n      <th></th>\n      <th></th>\n    </tr>\n  </thead>\n  <tbody>\n    <tr>\n      <th>2021-01-04</th>\n      <td>005930</td>\n      <td>삼성전자</td>\n      <td>83000</td>\n      <td>38655276</td>\n      <td>495491951650000</td>\n      <td>5969782550</td>\n    </tr>\n    <tr>\n      <th>2021-01-05</th>\n      <td>005930</td>\n      <td>삼성전자</td>\n      <td>83900</td>\n      <td>35335669</td>\n      <td>500864755945000</td>\n      <td>5969782550</td>\n    </tr>\n    <tr>\n      <th>2021-01-06</th>\n      <td>005930</td>\n      <td>삼성전자</td>\n      <td>82200</td>\n      <td>42089013</td>\n      <td>490716125610000</td>\n      <td>5969782550</td>\n    </tr>\n    <tr>\n      <th>2021-01-07</th>\n      <td>005930</td>\n      <td>삼성전자</td>\n      <td>82900</td>\n      <td>32644642</td>\n      <td>494894973395000</td>\n      <td>5969782550</td>\n    </tr>\n    <tr>\n      <th>2021-01-08</th>\n      <td>005930</td>\n      <td>삼성전자</td>\n      <td>88800</td>\n      <td>59013307</td>\n      <td>530116690440000</td>\n      <td>5969782550</td>\n    </tr>\n    <tr>\n      <th>2021-01-11</th>\n      <td>005930</td>\n      <td>삼성전자</td>\n      <td>91000</td>\n      <td>90306177</td>\n      <td>543250212050000</td>\n      <td>5969782550</td>\n    </tr>\n    <tr>\n      <th>2021-01-12</th>\n      <td>005930</td>\n      <td>삼성전자</td>\n      <td>90600</td>\n      <td>48682416</td>\n      <td>540862299030000</td>\n      <td>5969782550</td>\n    </tr>\n    <tr>\n      <th>2021-01-13</th>\n      <td>005930</td>\n      <td>삼성전자</td>\n      <td>89700</td>\n      <td>36068848</td>\n      <td>535489494735000</td>\n      <td>5969782550</td>\n    </tr>\n    <tr>\n      <th>2021-01-14</th>\n      <td>005930</td>\n      <td>삼성전자</td>\n      <td>89700</td>\n      <td>26393970</td>\n      <td>535489494735000</td>\n      <td>5969782550</td>\n    </tr>\n    <tr>\n      <th>2021-01-15</th>\n      <td>005930</td>\n      <td>삼성전자</td>\n      <td>88000</td>\n      <td>33431809</td>\n      <td>525340864400000</td>\n      <td>5969782550</td>\n    </tr>\n  </tbody>\n</table>\n</div>"
     },
     "execution_count": 12,
     "metadata": {},
     "output_type": "execute_result"
    }
   ]
  },
  {
   "cell_type": "code",
   "metadata": {
    "colab": {
     "base_uri": "https://localhost:8080/",
     "height": 110
    },
    "id": "qabZnzXCOmxb",
    "executionInfo": {
     "status": "ok",
     "timestamp": 1611436984537,
     "user_tz": -540,
     "elapsed": 61768,
     "user": {
      "displayName": "Sean-June Lee",
      "photoUrl": "https://lh3.googleusercontent.com/a-/AOh14Gj6rvtcx9Gy8VOzzw2LH1hYtnxIuHBDw8qnYK9SAuY=s64",
      "userId": "12576390002043678893"
     }
    },
    "outputId": "2146f019-25fc-44b9-adc3-704834e894e6"
   },
   "source": [
    "# 특정일, 특정 종목 읽기\n",
    "marcap_data('2021-01-21', code='005930')"
   ],
   "execution_count": 13,
   "outputs": [
    {
     "data": {
      "text/plain": "              Code  Name Market Dept  Close ChangeCode  Changes  ChagesRatio  \\\nDate                                                                           \n2021-01-21  005930  삼성전자  KOSPI  NaN  88100          1      900         1.03   \n\n             Open   High    Low    Volume         Amount           Marcap  \\\nDate                                                                        \n2021-01-21  87500  88600  86500  25318011  2211209788500  525937842655000   \n\n                Stocks MarketId  Rank  \nDate                                   \n2021-01-21  5969782550      STK     1  ",
      "text/html": "<div>\n<style scoped>\n    .dataframe tbody tr th:only-of-type {\n        vertical-align: middle;\n    }\n\n    .dataframe tbody tr th {\n        vertical-align: top;\n    }\n\n    .dataframe thead th {\n        text-align: right;\n    }\n</style>\n<table border=\"1\" class=\"dataframe\">\n  <thead>\n    <tr style=\"text-align: right;\">\n      <th></th>\n      <th>Code</th>\n      <th>Name</th>\n      <th>Market</th>\n      <th>Dept</th>\n      <th>Close</th>\n      <th>ChangeCode</th>\n      <th>Changes</th>\n      <th>ChagesRatio</th>\n      <th>Open</th>\n      <th>High</th>\n      <th>Low</th>\n      <th>Volume</th>\n      <th>Amount</th>\n      <th>Marcap</th>\n      <th>Stocks</th>\n      <th>MarketId</th>\n      <th>Rank</th>\n    </tr>\n    <tr>\n      <th>Date</th>\n      <th></th>\n      <th></th>\n      <th></th>\n      <th></th>\n      <th></th>\n      <th></th>\n      <th></th>\n      <th></th>\n      <th></th>\n      <th></th>\n      <th></th>\n      <th></th>\n      <th></th>\n      <th></th>\n      <th></th>\n      <th></th>\n      <th></th>\n    </tr>\n  </thead>\n  <tbody>\n    <tr>\n      <th>2021-01-21</th>\n      <td>005930</td>\n      <td>삼성전자</td>\n      <td>KOSPI</td>\n      <td>NaN</td>\n      <td>88100</td>\n      <td>1</td>\n      <td>900</td>\n      <td>1.03</td>\n      <td>87500</td>\n      <td>88600</td>\n      <td>86500</td>\n      <td>25318011</td>\n      <td>2211209788500</td>\n      <td>525937842655000</td>\n      <td>5969782550</td>\n      <td>STK</td>\n      <td>1</td>\n    </tr>\n  </tbody>\n</table>\n</div>"
     },
     "execution_count": 13,
     "metadata": {},
     "output_type": "execute_result"
    }
   ]
  },
  {
   "cell_type": "markdown",
   "metadata": {
    "id": "iKUWlm4IiZhB"
   },
   "source": [
    "## 데이터 전체 읽기\n",
    "시가총액(marcap) 데이터셋은 1995-05-02 ~ 2021-01-15일까지 25년 데이터를 모두  읽어들이려면 다음과 같이 읽습니다.\n"
   ]
  },
  {
   "cell_type": "code",
   "metadata": {
    "colab": {
     "base_uri": "https://localhost:8080/",
     "height": 448
    },
    "id": "P9hrtHXgiZhC",
    "executionInfo": {
     "status": "ok",
     "timestamp": 1611437037706,
     "user_tz": -540,
     "elapsed": 114933,
     "user": {
      "displayName": "Sean-June Lee",
      "photoUrl": "https://lh3.googleusercontent.com/a-/AOh14Gj6rvtcx9Gy8VOzzw2LH1hYtnxIuHBDw8qnYK9SAuY=s64",
      "userId": "12576390002043678893"
     }
    },
    "outputId": "4413f33a-88dd-4654-9349-98e9d4d42a82"
   },
   "source": [
    "df_marcap = marcap_data('1995-05-02', '2022-02-03')\n",
    "df_marcap"
   ],
   "execution_count": 14,
   "outputs": [
    {
     "data": {
      "text/plain": "              Code     Name Market   Dept   Close ChangeCode  Changes  \\\nDate                                                                    \n1995-05-02  015760   한국전력공사  KOSPI    NaN   27400          2     -400   \n1995-05-02  005930     삼성전자  KOSPI    NaN  119500          2    -1000   \n1995-05-02  005490   포항종합제철  KOSPI    NaN   65500          2     -300   \n1995-05-02  000200    대우중공업  KOSPI    NaN    9800          1      300   \n1995-05-02  002610     엘지전자  KOSPI    NaN   31700          2     -300   \n...            ...      ...    ...    ...     ...        ...      ...   \n2022-01-28  308700      테크엔  KONEX  일반기업부     714          5     -126   \n2022-01-28  267060    명진홀딩스  KONEX  일반기업부     281          2      -22   \n2022-01-28  267810       앙츠  KONEX  일반기업부    1340          3        0   \n2022-01-28  215050  비엔디생활건강  KONEX  일반기업부    1100          1        5   \n2022-01-28  329020     오션스톤  KONEX  일반기업부    1995          1      175   \n\n            ChagesRatio    Open    High     Low  Volume       Amount  \\\nDate                                                                   \n1995-05-02        -1.44   27600   27800   27400  118190   3255694000   \n1995-05-02        -0.83  121000  121000  118500  139560  16676735000   \n1995-05-02        -0.46   65800   66200   65400   65970   4334472000   \n1995-05-02         3.16    9500    9840    9500  288380   2805133500   \n1995-05-02        -0.94   32000   32000   31700  171460   5452050000   \n...                 ...     ...     ...     ...     ...          ...   \n2022-01-28       -15.00     714     753     714      31        22173   \n2022-01-28        -7.26     339     339     271     687       192493   \n2022-01-28         0.00    1345    1345    1340     116       155940   \n2022-01-28         0.46    1250    1250    1005    1103      1149100   \n2022-01-28         9.62    1900    1995    1900      21        40945   \n\n                    Marcap     Stocks MarketId  Rank  \nDate                                                  \n1995-05-02  16872679291000  615791215      STK     1  \n1995-05-02   6497053077500   54368645      STK     2  \n1995-05-02   6150568555000   93901810      STK     3  \n1995-05-02   3500638978200  357208059      STK     4  \n1995-05-02   2521027012200   79527666      STK     5  \n...                    ...        ...      ...   ...  \n2022-01-28      2856000000    4000000      KNX  2605  \n2022-01-28      2568846924    9141804      KNX  2606  \n2022-01-28      2394580000    1787000      KNX  2607  \n2022-01-28      2333832600    2121666      KNX  2608  \n2022-01-28      1666128240     835152      KNX  2609  \n\n[11733281 rows x 17 columns]",
      "text/html": "<div>\n<style scoped>\n    .dataframe tbody tr th:only-of-type {\n        vertical-align: middle;\n    }\n\n    .dataframe tbody tr th {\n        vertical-align: top;\n    }\n\n    .dataframe thead th {\n        text-align: right;\n    }\n</style>\n<table border=\"1\" class=\"dataframe\">\n  <thead>\n    <tr style=\"text-align: right;\">\n      <th></th>\n      <th>Code</th>\n      <th>Name</th>\n      <th>Market</th>\n      <th>Dept</th>\n      <th>Close</th>\n      <th>ChangeCode</th>\n      <th>Changes</th>\n      <th>ChagesRatio</th>\n      <th>Open</th>\n      <th>High</th>\n      <th>Low</th>\n      <th>Volume</th>\n      <th>Amount</th>\n      <th>Marcap</th>\n      <th>Stocks</th>\n      <th>MarketId</th>\n      <th>Rank</th>\n    </tr>\n    <tr>\n      <th>Date</th>\n      <th></th>\n      <th></th>\n      <th></th>\n      <th></th>\n      <th></th>\n      <th></th>\n      <th></th>\n      <th></th>\n      <th></th>\n      <th></th>\n      <th></th>\n      <th></th>\n      <th></th>\n      <th></th>\n      <th></th>\n      <th></th>\n      <th></th>\n    </tr>\n  </thead>\n  <tbody>\n    <tr>\n      <th>1995-05-02</th>\n      <td>015760</td>\n      <td>한국전력공사</td>\n      <td>KOSPI</td>\n      <td>NaN</td>\n      <td>27400</td>\n      <td>2</td>\n      <td>-400</td>\n      <td>-1.44</td>\n      <td>27600</td>\n      <td>27800</td>\n      <td>27400</td>\n      <td>118190</td>\n      <td>3255694000</td>\n      <td>16872679291000</td>\n      <td>615791215</td>\n      <td>STK</td>\n      <td>1</td>\n    </tr>\n    <tr>\n      <th>1995-05-02</th>\n      <td>005930</td>\n      <td>삼성전자</td>\n      <td>KOSPI</td>\n      <td>NaN</td>\n      <td>119500</td>\n      <td>2</td>\n      <td>-1000</td>\n      <td>-0.83</td>\n      <td>121000</td>\n      <td>121000</td>\n      <td>118500</td>\n      <td>139560</td>\n      <td>16676735000</td>\n      <td>6497053077500</td>\n      <td>54368645</td>\n      <td>STK</td>\n      <td>2</td>\n    </tr>\n    <tr>\n      <th>1995-05-02</th>\n      <td>005490</td>\n      <td>포항종합제철</td>\n      <td>KOSPI</td>\n      <td>NaN</td>\n      <td>65500</td>\n      <td>2</td>\n      <td>-300</td>\n      <td>-0.46</td>\n      <td>65800</td>\n      <td>66200</td>\n      <td>65400</td>\n      <td>65970</td>\n      <td>4334472000</td>\n      <td>6150568555000</td>\n      <td>93901810</td>\n      <td>STK</td>\n      <td>3</td>\n    </tr>\n    <tr>\n      <th>1995-05-02</th>\n      <td>000200</td>\n      <td>대우중공업</td>\n      <td>KOSPI</td>\n      <td>NaN</td>\n      <td>9800</td>\n      <td>1</td>\n      <td>300</td>\n      <td>3.16</td>\n      <td>9500</td>\n      <td>9840</td>\n      <td>9500</td>\n      <td>288380</td>\n      <td>2805133500</td>\n      <td>3500638978200</td>\n      <td>357208059</td>\n      <td>STK</td>\n      <td>4</td>\n    </tr>\n    <tr>\n      <th>1995-05-02</th>\n      <td>002610</td>\n      <td>엘지전자</td>\n      <td>KOSPI</td>\n      <td>NaN</td>\n      <td>31700</td>\n      <td>2</td>\n      <td>-300</td>\n      <td>-0.94</td>\n      <td>32000</td>\n      <td>32000</td>\n      <td>31700</td>\n      <td>171460</td>\n      <td>5452050000</td>\n      <td>2521027012200</td>\n      <td>79527666</td>\n      <td>STK</td>\n      <td>5</td>\n    </tr>\n    <tr>\n      <th>...</th>\n      <td>...</td>\n      <td>...</td>\n      <td>...</td>\n      <td>...</td>\n      <td>...</td>\n      <td>...</td>\n      <td>...</td>\n      <td>...</td>\n      <td>...</td>\n      <td>...</td>\n      <td>...</td>\n      <td>...</td>\n      <td>...</td>\n      <td>...</td>\n      <td>...</td>\n      <td>...</td>\n      <td>...</td>\n    </tr>\n    <tr>\n      <th>2022-01-28</th>\n      <td>308700</td>\n      <td>테크엔</td>\n      <td>KONEX</td>\n      <td>일반기업부</td>\n      <td>714</td>\n      <td>5</td>\n      <td>-126</td>\n      <td>-15.00</td>\n      <td>714</td>\n      <td>753</td>\n      <td>714</td>\n      <td>31</td>\n      <td>22173</td>\n      <td>2856000000</td>\n      <td>4000000</td>\n      <td>KNX</td>\n      <td>2605</td>\n    </tr>\n    <tr>\n      <th>2022-01-28</th>\n      <td>267060</td>\n      <td>명진홀딩스</td>\n      <td>KONEX</td>\n      <td>일반기업부</td>\n      <td>281</td>\n      <td>2</td>\n      <td>-22</td>\n      <td>-7.26</td>\n      <td>339</td>\n      <td>339</td>\n      <td>271</td>\n      <td>687</td>\n      <td>192493</td>\n      <td>2568846924</td>\n      <td>9141804</td>\n      <td>KNX</td>\n      <td>2606</td>\n    </tr>\n    <tr>\n      <th>2022-01-28</th>\n      <td>267810</td>\n      <td>앙츠</td>\n      <td>KONEX</td>\n      <td>일반기업부</td>\n      <td>1340</td>\n      <td>3</td>\n      <td>0</td>\n      <td>0.00</td>\n      <td>1345</td>\n      <td>1345</td>\n      <td>1340</td>\n      <td>116</td>\n      <td>155940</td>\n      <td>2394580000</td>\n      <td>1787000</td>\n      <td>KNX</td>\n      <td>2607</td>\n    </tr>\n    <tr>\n      <th>2022-01-28</th>\n      <td>215050</td>\n      <td>비엔디생활건강</td>\n      <td>KONEX</td>\n      <td>일반기업부</td>\n      <td>1100</td>\n      <td>1</td>\n      <td>5</td>\n      <td>0.46</td>\n      <td>1250</td>\n      <td>1250</td>\n      <td>1005</td>\n      <td>1103</td>\n      <td>1149100</td>\n      <td>2333832600</td>\n      <td>2121666</td>\n      <td>KNX</td>\n      <td>2608</td>\n    </tr>\n    <tr>\n      <th>2022-01-28</th>\n      <td>329020</td>\n      <td>오션스톤</td>\n      <td>KONEX</td>\n      <td>일반기업부</td>\n      <td>1995</td>\n      <td>1</td>\n      <td>175</td>\n      <td>9.62</td>\n      <td>1900</td>\n      <td>1995</td>\n      <td>1900</td>\n      <td>21</td>\n      <td>40945</td>\n      <td>1666128240</td>\n      <td>835152</td>\n      <td>KNX</td>\n      <td>2609</td>\n    </tr>\n  </tbody>\n</table>\n<p>11733281 rows × 17 columns</p>\n</div>"
     },
     "execution_count": 14,
     "metadata": {},
     "output_type": "execute_result"
    }
   ]
  },
  {
   "cell_type": "markdown",
   "metadata": {
    "id": "tb9giRKVO65D"
   },
   "source": [
    "인덱스(DatetimeIndex)포함 18개의 컬럼을 가지고 있으며, 1천만건이 넘는 데이터 건수를 포함하고 있습니다. "
   ]
  },
  {
   "cell_type": "code",
   "metadata": {
    "colab": {
     "base_uri": "https://localhost:8080/"
    },
    "id": "Mq0ElBDQiZhD",
    "executionInfo": {
     "status": "ok",
     "timestamp": 1611437037707,
     "user_tz": -540,
     "elapsed": 114930,
     "user": {
      "displayName": "Sean-June Lee",
      "photoUrl": "https://lh3.googleusercontent.com/a-/AOh14Gj6rvtcx9Gy8VOzzw2LH1hYtnxIuHBDw8qnYK9SAuY=s64",
      "userId": "12576390002043678893"
     }
    },
    "outputId": "49b6d198-0bc0-4bb2-e03a-e289de6abce8"
   },
   "source": [
    "len(df_marcap)"
   ],
   "execution_count": 15,
   "outputs": [
    {
     "data": {
      "text/plain": "11733281"
     },
     "execution_count": 15,
     "metadata": {},
     "output_type": "execute_result"
    }
   ]
  },
  {
   "cell_type": "markdown",
   "metadata": {
    "id": "4I0H9Mdt3-zm"
   },
   "source": [
    "데이터프레임에 대한 전반적인 정보는 다음과 같습니다"
   ]
  },
  {
   "cell_type": "code",
   "metadata": {
    "colab": {
     "base_uri": "https://localhost:8080/"
    },
    "id": "7QurkS62iZhH",
    "executionInfo": {
     "status": "ok",
     "timestamp": 1611437037708,
     "user_tz": -540,
     "elapsed": 114928,
     "user": {
      "displayName": "Sean-June Lee",
      "photoUrl": "https://lh3.googleusercontent.com/a-/AOh14Gj6rvtcx9Gy8VOzzw2LH1hYtnxIuHBDw8qnYK9SAuY=s64",
      "userId": "12576390002043678893"
     }
    },
    "outputId": "c508b589-cad6-4747-9eb4-ed0fbc3b85d8"
   },
   "source": [
    "df_marcap.info()"
   ],
   "execution_count": 16,
   "outputs": [
    {
     "name": "stdout",
     "output_type": "stream",
     "text": [
      "<class 'pandas.core.frame.DataFrame'>\n",
      "DatetimeIndex: 11733281 entries, 1995-05-02 to 2022-01-28\n",
      "Data columns (total 17 columns):\n",
      " #   Column       Dtype  \n",
      "---  ------       -----  \n",
      " 0   Code         object \n",
      " 1   Name         object \n",
      " 2   Market       object \n",
      " 3   Dept         object \n",
      " 4   Close        int64  \n",
      " 5   ChangeCode   object \n",
      " 6   Changes      int64  \n",
      " 7   ChagesRatio  float64\n",
      " 8   Open         int64  \n",
      " 9   High         int64  \n",
      " 10  Low          int64  \n",
      " 11  Volume       int64  \n",
      " 12  Amount       int64  \n",
      " 13  Marcap       int64  \n",
      " 14  Stocks       int64  \n",
      " 15  MarketId     object \n",
      " 16  Rank         int64  \n",
      "dtypes: float64(1), int64(10), object(6)\n",
      "memory usage: 1.6+ GB\n"
     ]
    }
   ]
  },
  {
   "cell_type": "code",
   "execution_count": 17,
   "outputs": [
    {
     "data": {
      "text/plain": "              Code    Name Market Dept   Close ChangeCode  Changes  \\\nDate                                                                 \n1995-05-02  015760  한국전력공사  KOSPI  NaN   27400          2     -400   \n1995-05-02  005930    삼성전자  KOSPI  NaN  119500          2    -1000   \n1995-05-02  005490  포항종합제철  KOSPI  NaN   65500          2     -300   \n1995-05-02  000200   대우중공업  KOSPI  NaN    9800          1      300   \n1995-05-02  002610    엘지전자  KOSPI  NaN   31700          2     -300   \n\n            ChagesRatio    Open    High     Low  Volume       Amount  \\\nDate                                                                   \n1995-05-02        -1.44   27600   27800   27400  118190   3255694000   \n1995-05-02        -0.83  121000  121000  118500  139560  16676735000   \n1995-05-02        -0.46   65800   66200   65400   65970   4334472000   \n1995-05-02         3.16    9500    9840    9500  288380   2805133500   \n1995-05-02        -0.94   32000   32000   31700  171460   5452050000   \n\n                    Marcap     Stocks MarketId  Rank  \nDate                                                  \n1995-05-02  16872679291000  615791215      STK     1  \n1995-05-02   6497053077500   54368645      STK     2  \n1995-05-02   6150568555000   93901810      STK     3  \n1995-05-02   3500638978200  357208059      STK     4  \n1995-05-02   2521027012200   79527666      STK     5  ",
      "text/html": "<div>\n<style scoped>\n    .dataframe tbody tr th:only-of-type {\n        vertical-align: middle;\n    }\n\n    .dataframe tbody tr th {\n        vertical-align: top;\n    }\n\n    .dataframe thead th {\n        text-align: right;\n    }\n</style>\n<table border=\"1\" class=\"dataframe\">\n  <thead>\n    <tr style=\"text-align: right;\">\n      <th></th>\n      <th>Code</th>\n      <th>Name</th>\n      <th>Market</th>\n      <th>Dept</th>\n      <th>Close</th>\n      <th>ChangeCode</th>\n      <th>Changes</th>\n      <th>ChagesRatio</th>\n      <th>Open</th>\n      <th>High</th>\n      <th>Low</th>\n      <th>Volume</th>\n      <th>Amount</th>\n      <th>Marcap</th>\n      <th>Stocks</th>\n      <th>MarketId</th>\n      <th>Rank</th>\n    </tr>\n    <tr>\n      <th>Date</th>\n      <th></th>\n      <th></th>\n      <th></th>\n      <th></th>\n      <th></th>\n      <th></th>\n      <th></th>\n      <th></th>\n      <th></th>\n      <th></th>\n      <th></th>\n      <th></th>\n      <th></th>\n      <th></th>\n      <th></th>\n      <th></th>\n      <th></th>\n    </tr>\n  </thead>\n  <tbody>\n    <tr>\n      <th>1995-05-02</th>\n      <td>015760</td>\n      <td>한국전력공사</td>\n      <td>KOSPI</td>\n      <td>NaN</td>\n      <td>27400</td>\n      <td>2</td>\n      <td>-400</td>\n      <td>-1.44</td>\n      <td>27600</td>\n      <td>27800</td>\n      <td>27400</td>\n      <td>118190</td>\n      <td>3255694000</td>\n      <td>16872679291000</td>\n      <td>615791215</td>\n      <td>STK</td>\n      <td>1</td>\n    </tr>\n    <tr>\n      <th>1995-05-02</th>\n      <td>005930</td>\n      <td>삼성전자</td>\n      <td>KOSPI</td>\n      <td>NaN</td>\n      <td>119500</td>\n      <td>2</td>\n      <td>-1000</td>\n      <td>-0.83</td>\n      <td>121000</td>\n      <td>121000</td>\n      <td>118500</td>\n      <td>139560</td>\n      <td>16676735000</td>\n      <td>6497053077500</td>\n      <td>54368645</td>\n      <td>STK</td>\n      <td>2</td>\n    </tr>\n    <tr>\n      <th>1995-05-02</th>\n      <td>005490</td>\n      <td>포항종합제철</td>\n      <td>KOSPI</td>\n      <td>NaN</td>\n      <td>65500</td>\n      <td>2</td>\n      <td>-300</td>\n      <td>-0.46</td>\n      <td>65800</td>\n      <td>66200</td>\n      <td>65400</td>\n      <td>65970</td>\n      <td>4334472000</td>\n      <td>6150568555000</td>\n      <td>93901810</td>\n      <td>STK</td>\n      <td>3</td>\n    </tr>\n    <tr>\n      <th>1995-05-02</th>\n      <td>000200</td>\n      <td>대우중공업</td>\n      <td>KOSPI</td>\n      <td>NaN</td>\n      <td>9800</td>\n      <td>1</td>\n      <td>300</td>\n      <td>3.16</td>\n      <td>9500</td>\n      <td>9840</td>\n      <td>9500</td>\n      <td>288380</td>\n      <td>2805133500</td>\n      <td>3500638978200</td>\n      <td>357208059</td>\n      <td>STK</td>\n      <td>4</td>\n    </tr>\n    <tr>\n      <th>1995-05-02</th>\n      <td>002610</td>\n      <td>엘지전자</td>\n      <td>KOSPI</td>\n      <td>NaN</td>\n      <td>31700</td>\n      <td>2</td>\n      <td>-300</td>\n      <td>-0.94</td>\n      <td>32000</td>\n      <td>32000</td>\n      <td>31700</td>\n      <td>171460</td>\n      <td>5452050000</td>\n      <td>2521027012200</td>\n      <td>79527666</td>\n      <td>STK</td>\n      <td>5</td>\n    </tr>\n  </tbody>\n</table>\n</div>"
     },
     "execution_count": 17,
     "metadata": {},
     "output_type": "execute_result"
    }
   ],
   "source": [
    "df_marcap.head()"
   ],
   "metadata": {
    "collapsed": false,
    "pycharm": {
     "name": "#%%\n"
    }
   }
  },
  {
   "cell_type": "code",
   "execution_count": 18,
   "outputs": [
    {
     "data": {
      "text/plain": "              Code     Name Market   Dept  Close ChangeCode  Changes  \\\nDate                                                                   \n2022-01-28  308700      테크엔  KONEX  일반기업부    714          5     -126   \n2022-01-28  267060    명진홀딩스  KONEX  일반기업부    281          2      -22   \n2022-01-28  267810       앙츠  KONEX  일반기업부   1340          3        0   \n2022-01-28  215050  비엔디생활건강  KONEX  일반기업부   1100          1        5   \n2022-01-28  329020     오션스톤  KONEX  일반기업부   1995          1      175   \n\n            ChagesRatio  Open  High   Low  Volume   Amount      Marcap  \\\nDate                                                                     \n2022-01-28       -15.00   714   753   714      31    22173  2856000000   \n2022-01-28        -7.26   339   339   271     687   192493  2568846924   \n2022-01-28         0.00  1345  1345  1340     116   155940  2394580000   \n2022-01-28         0.46  1250  1250  1005    1103  1149100  2333832600   \n2022-01-28         9.62  1900  1995  1900      21    40945  1666128240   \n\n             Stocks MarketId  Rank  \nDate                                \n2022-01-28  4000000      KNX  2605  \n2022-01-28  9141804      KNX  2606  \n2022-01-28  1787000      KNX  2607  \n2022-01-28  2121666      KNX  2608  \n2022-01-28   835152      KNX  2609  ",
      "text/html": "<div>\n<style scoped>\n    .dataframe tbody tr th:only-of-type {\n        vertical-align: middle;\n    }\n\n    .dataframe tbody tr th {\n        vertical-align: top;\n    }\n\n    .dataframe thead th {\n        text-align: right;\n    }\n</style>\n<table border=\"1\" class=\"dataframe\">\n  <thead>\n    <tr style=\"text-align: right;\">\n      <th></th>\n      <th>Code</th>\n      <th>Name</th>\n      <th>Market</th>\n      <th>Dept</th>\n      <th>Close</th>\n      <th>ChangeCode</th>\n      <th>Changes</th>\n      <th>ChagesRatio</th>\n      <th>Open</th>\n      <th>High</th>\n      <th>Low</th>\n      <th>Volume</th>\n      <th>Amount</th>\n      <th>Marcap</th>\n      <th>Stocks</th>\n      <th>MarketId</th>\n      <th>Rank</th>\n    </tr>\n    <tr>\n      <th>Date</th>\n      <th></th>\n      <th></th>\n      <th></th>\n      <th></th>\n      <th></th>\n      <th></th>\n      <th></th>\n      <th></th>\n      <th></th>\n      <th></th>\n      <th></th>\n      <th></th>\n      <th></th>\n      <th></th>\n      <th></th>\n      <th></th>\n      <th></th>\n    </tr>\n  </thead>\n  <tbody>\n    <tr>\n      <th>2022-01-28</th>\n      <td>308700</td>\n      <td>테크엔</td>\n      <td>KONEX</td>\n      <td>일반기업부</td>\n      <td>714</td>\n      <td>5</td>\n      <td>-126</td>\n      <td>-15.00</td>\n      <td>714</td>\n      <td>753</td>\n      <td>714</td>\n      <td>31</td>\n      <td>22173</td>\n      <td>2856000000</td>\n      <td>4000000</td>\n      <td>KNX</td>\n      <td>2605</td>\n    </tr>\n    <tr>\n      <th>2022-01-28</th>\n      <td>267060</td>\n      <td>명진홀딩스</td>\n      <td>KONEX</td>\n      <td>일반기업부</td>\n      <td>281</td>\n      <td>2</td>\n      <td>-22</td>\n      <td>-7.26</td>\n      <td>339</td>\n      <td>339</td>\n      <td>271</td>\n      <td>687</td>\n      <td>192493</td>\n      <td>2568846924</td>\n      <td>9141804</td>\n      <td>KNX</td>\n      <td>2606</td>\n    </tr>\n    <tr>\n      <th>2022-01-28</th>\n      <td>267810</td>\n      <td>앙츠</td>\n      <td>KONEX</td>\n      <td>일반기업부</td>\n      <td>1340</td>\n      <td>3</td>\n      <td>0</td>\n      <td>0.00</td>\n      <td>1345</td>\n      <td>1345</td>\n      <td>1340</td>\n      <td>116</td>\n      <td>155940</td>\n      <td>2394580000</td>\n      <td>1787000</td>\n      <td>KNX</td>\n      <td>2607</td>\n    </tr>\n    <tr>\n      <th>2022-01-28</th>\n      <td>215050</td>\n      <td>비엔디생활건강</td>\n      <td>KONEX</td>\n      <td>일반기업부</td>\n      <td>1100</td>\n      <td>1</td>\n      <td>5</td>\n      <td>0.46</td>\n      <td>1250</td>\n      <td>1250</td>\n      <td>1005</td>\n      <td>1103</td>\n      <td>1149100</td>\n      <td>2333832600</td>\n      <td>2121666</td>\n      <td>KNX</td>\n      <td>2608</td>\n    </tr>\n    <tr>\n      <th>2022-01-28</th>\n      <td>329020</td>\n      <td>오션스톤</td>\n      <td>KONEX</td>\n      <td>일반기업부</td>\n      <td>1995</td>\n      <td>1</td>\n      <td>175</td>\n      <td>9.62</td>\n      <td>1900</td>\n      <td>1995</td>\n      <td>1900</td>\n      <td>21</td>\n      <td>40945</td>\n      <td>1666128240</td>\n      <td>835152</td>\n      <td>KNX</td>\n      <td>2609</td>\n    </tr>\n  </tbody>\n</table>\n</div>"
     },
     "execution_count": 18,
     "metadata": {},
     "output_type": "execute_result"
    }
   ],
   "source": [
    "df_marcap.tail()"
   ],
   "metadata": {
    "collapsed": false,
    "pycharm": {
     "name": "#%%\n"
    }
   }
  },
  {
   "cell_type": "markdown",
   "metadata": {
    "id": "caeoXBroO65E"
   },
   "source": [
    "## 필터링\n",
    "\n",
    "특정 종목에 대한 데이터만 추출하려면 다음과 같이 할 수 있습니다.\n",
    "\n",
    "종목코드가 '005930'(삼성전자)인 데이터 만 추출하려면 다음과 같이 합니다. "
   ]
  },
  {
   "cell_type": "code",
   "metadata": {
    "colab": {
     "base_uri": "https://localhost:8080/"
    },
    "id": "HWAaP9FdO65F",
    "executionInfo": {
     "status": "ok",
     "timestamp": 1611437038621,
     "user_tz": -540,
     "elapsed": 115837,
     "user": {
      "displayName": "Sean-June Lee",
      "photoUrl": "https://lh3.googleusercontent.com/a-/AOh14Gj6rvtcx9Gy8VOzzw2LH1hYtnxIuHBDw8qnYK9SAuY=s64",
      "userId": "12576390002043678893"
     }
    },
    "outputId": "191132da-5c1d-4786-e921-8c9731a1fd66"
   },
   "source": [
    "df = df_marcap[df_marcap['Code']=='005930']\n",
    "len(df)"
   ],
   "execution_count": 27,
   "outputs": [
    {
     "data": {
      "text/plain": "6772"
     },
     "execution_count": 27,
     "metadata": {},
     "output_type": "execute_result"
    }
   ]
  },
  {
   "cell_type": "markdown",
   "metadata": {
    "id": "lcueiZGzxB4k"
   },
   "source": [
    "다수의 종목을 다루고자 할 때 다양한 방법이 있겠으나 여기서는 딕셔너리를 사용해 봅니다.\n",
    "\n",
    "다음과 같이 대표적인 종목들로 관심 종목 목록을 딕셔너리로 구성합니다."
   ]
  },
  {
   "cell_type": "code",
   "metadata": {
    "id": "PWDLYx1nxBzy",
    "executionInfo": {
     "status": "ok",
     "timestamp": 1611437038622,
     "user_tz": -540,
     "elapsed": 115834,
     "user": {
      "displayName": "Sean-June Lee",
      "photoUrl": "https://lh3.googleusercontent.com/a-/AOh14Gj6rvtcx9Gy8VOzzw2LH1hYtnxIuHBDw8qnYK9SAuY=s64",
      "userId": "12576390002043678893"
     }
    }
   },
   "source": [
    "fav_stocks = {\n",
    "  '005930': '삼성전자', \n",
    "  '005380': '현대차', \n",
    "  '015760': '한국전력', \n",
    "  '005490': 'POSCO', \n",
    "  '105560': 'KB금융',\n",
    "}"
   ],
   "execution_count": 28,
   "outputs": []
  },
  {
   "cell_type": "markdown",
   "metadata": {
    "id": "h9GoVmZExlNX"
   },
   "source": [
    "종목코드와 종목명을 매핑하려면 딕셔너리를 그대로 사용할 수 있습니다.\n",
    "\n",
    "종목코드와 종목명을 매핑하는 딕셔너리이기 때문에 다양한 용도로 사용할 수 있습니다. 예를 들어, dict.key()를 사용하여 종목코드만 추출할 수 있죠."
   ]
  },
  {
   "cell_type": "code",
   "metadata": {
    "colab": {
     "base_uri": "https://localhost:8080/"
    },
    "id": "bIQN7B8UxE7R",
    "executionInfo": {
     "status": "ok",
     "timestamp": 1611437038622,
     "user_tz": -540,
     "elapsed": 115830,
     "user": {
      "displayName": "Sean-June Lee",
      "photoUrl": "https://lh3.googleusercontent.com/a-/AOh14Gj6rvtcx9Gy8VOzzw2LH1hYtnxIuHBDw8qnYK9SAuY=s64",
      "userId": "12576390002043678893"
     }
    },
    "outputId": "1beb05d3-9096-4cd3-b138-927f64f8d0d7"
   },
   "source": [
    "fav_stocks.keys()"
   ],
   "execution_count": 29,
   "outputs": [
    {
     "data": {
      "text/plain": "dict_keys(['005930', '005380', '015760', '005490', '105560'])"
     },
     "execution_count": 29,
     "metadata": {},
     "output_type": "execute_result"
    }
   ]
  },
  {
   "cell_type": "markdown",
   "metadata": {
    "id": "yYksvuAOO65I"
   },
   "source": [
    "시가종액 데이터셋에서 다수의 종목을 추출하려면 [Series.isin()](https://pandas.pydata.org/pandas-docs/stable/reference/api/pandas.Series.isin.html)을 활용하면 좋습니다."
   ]
  },
  {
   "cell_type": "code",
   "metadata": {
    "colab": {
     "base_uri": "https://localhost:8080/",
     "height": 234
    },
    "id": "XfSQ7hH4O65I",
    "executionInfo": {
     "status": "ok",
     "timestamp": 1611437039456,
     "user_tz": -540,
     "elapsed": 116660,
     "user": {
      "displayName": "Sean-June Lee",
      "photoUrl": "https://lh3.googleusercontent.com/a-/AOh14Gj6rvtcx9Gy8VOzzw2LH1hYtnxIuHBDw8qnYK9SAuY=s64",
      "userId": "12576390002043678893"
     }
    },
    "outputId": "8b1be972-4ce0-470f-aef6-50c8ddf91345"
   },
   "source": [
    "# 다수의 종목 필터링\n",
    "df_stocks = df_marcap[df_marcap['Code'].isin(fav_stocks.keys())]\n",
    "df_stocks.tail()"
   ],
   "execution_count": 30,
   "outputs": [
    {
     "data": {
      "text/plain": "              Code   Name Market Dept   Close ChangeCode  Changes  \\\nDate                                                                \n2022-01-28  005930   삼성전자  KOSPI  NaN   73300          1     2000   \n2022-01-28  005380    현대차  KOSPI  NaN  189500          1     3000   \n2022-01-28  105560   KB금융  KOSPI  NaN   59500          1     1500   \n2022-01-28  005490  POSCO  KOSPI  NaN  265000          1     7500   \n2022-01-28  015760   한국전력  KOSPI  NaN   20600          1      500   \n\n            ChagesRatio    Open    High     Low    Volume         Amount  \\\nDate                                                                       \n2022-01-28         2.81   71300   73700   71200  21367447  1552585967650   \n2022-01-28         1.61  186500  190500  180000   1415358   262933349000   \n2022-01-28         2.59   58500   59700   58000   1509299    89073739800   \n2022-01-28         2.91  260000  267000  256500    333753    87451733000   \n2022-01-28         2.49   20150   20600   20050   1193905    24346175800   \n\n                     Marcap      Stocks MarketId  Rank  \nDate                                                    \n2022-01-28  437585060915000  5969782550      STK     1  \n2022-01-28   40490121436500   213668187      STK     8  \n2022-01-28   24740571240000   415807920      STK    12  \n2022-01-28   23104511275000    87186835      STK    13  \n2022-01-28   13224459986200   641964077      STK    27  ",
      "text/html": "<div>\n<style scoped>\n    .dataframe tbody tr th:only-of-type {\n        vertical-align: middle;\n    }\n\n    .dataframe tbody tr th {\n        vertical-align: top;\n    }\n\n    .dataframe thead th {\n        text-align: right;\n    }\n</style>\n<table border=\"1\" class=\"dataframe\">\n  <thead>\n    <tr style=\"text-align: right;\">\n      <th></th>\n      <th>Code</th>\n      <th>Name</th>\n      <th>Market</th>\n      <th>Dept</th>\n      <th>Close</th>\n      <th>ChangeCode</th>\n      <th>Changes</th>\n      <th>ChagesRatio</th>\n      <th>Open</th>\n      <th>High</th>\n      <th>Low</th>\n      <th>Volume</th>\n      <th>Amount</th>\n      <th>Marcap</th>\n      <th>Stocks</th>\n      <th>MarketId</th>\n      <th>Rank</th>\n    </tr>\n    <tr>\n      <th>Date</th>\n      <th></th>\n      <th></th>\n      <th></th>\n      <th></th>\n      <th></th>\n      <th></th>\n      <th></th>\n      <th></th>\n      <th></th>\n      <th></th>\n      <th></th>\n      <th></th>\n      <th></th>\n      <th></th>\n      <th></th>\n      <th></th>\n      <th></th>\n    </tr>\n  </thead>\n  <tbody>\n    <tr>\n      <th>2022-01-28</th>\n      <td>005930</td>\n      <td>삼성전자</td>\n      <td>KOSPI</td>\n      <td>NaN</td>\n      <td>73300</td>\n      <td>1</td>\n      <td>2000</td>\n      <td>2.81</td>\n      <td>71300</td>\n      <td>73700</td>\n      <td>71200</td>\n      <td>21367447</td>\n      <td>1552585967650</td>\n      <td>437585060915000</td>\n      <td>5969782550</td>\n      <td>STK</td>\n      <td>1</td>\n    </tr>\n    <tr>\n      <th>2022-01-28</th>\n      <td>005380</td>\n      <td>현대차</td>\n      <td>KOSPI</td>\n      <td>NaN</td>\n      <td>189500</td>\n      <td>1</td>\n      <td>3000</td>\n      <td>1.61</td>\n      <td>186500</td>\n      <td>190500</td>\n      <td>180000</td>\n      <td>1415358</td>\n      <td>262933349000</td>\n      <td>40490121436500</td>\n      <td>213668187</td>\n      <td>STK</td>\n      <td>8</td>\n    </tr>\n    <tr>\n      <th>2022-01-28</th>\n      <td>105560</td>\n      <td>KB금융</td>\n      <td>KOSPI</td>\n      <td>NaN</td>\n      <td>59500</td>\n      <td>1</td>\n      <td>1500</td>\n      <td>2.59</td>\n      <td>58500</td>\n      <td>59700</td>\n      <td>58000</td>\n      <td>1509299</td>\n      <td>89073739800</td>\n      <td>24740571240000</td>\n      <td>415807920</td>\n      <td>STK</td>\n      <td>12</td>\n    </tr>\n    <tr>\n      <th>2022-01-28</th>\n      <td>005490</td>\n      <td>POSCO</td>\n      <td>KOSPI</td>\n      <td>NaN</td>\n      <td>265000</td>\n      <td>1</td>\n      <td>7500</td>\n      <td>2.91</td>\n      <td>260000</td>\n      <td>267000</td>\n      <td>256500</td>\n      <td>333753</td>\n      <td>87451733000</td>\n      <td>23104511275000</td>\n      <td>87186835</td>\n      <td>STK</td>\n      <td>13</td>\n    </tr>\n    <tr>\n      <th>2022-01-28</th>\n      <td>015760</td>\n      <td>한국전력</td>\n      <td>KOSPI</td>\n      <td>NaN</td>\n      <td>20600</td>\n      <td>1</td>\n      <td>500</td>\n      <td>2.49</td>\n      <td>20150</td>\n      <td>20600</td>\n      <td>20050</td>\n      <td>1193905</td>\n      <td>24346175800</td>\n      <td>13224459986200</td>\n      <td>641964077</td>\n      <td>STK</td>\n      <td>27</td>\n    </tr>\n  </tbody>\n</table>\n</div>"
     },
     "execution_count": 30,
     "metadata": {},
     "output_type": "execute_result"
    }
   ]
  },
  {
   "cell_type": "markdown",
   "metadata": {
    "id": "AS3KHB35PJc3"
   },
   "source": [
    "## 설정 - matplotlib 한글 (구글 Colab)\n",
    "\n",
    "구글 Colab (혹은 우분투 리눅스)의 경우 별도의 한글 폰트 설치가 필요합니다. matplotlib에서 모든 FFT(True Type Font)를 가져다 사용할 수 있습니다.\n",
    "\n",
    "여기서는 명령라인에서 폰트를 가져다 설치합니다.\n"
   ]
  },
  {
   "cell_type": "markdown",
   "metadata": {
    "id": "QCmX685Y7B-n"
   },
   "source": [
    "한글 폰트 설치\n",
    "\n",
    "아래 셀을 실행하고, 런타임 재시작 (메뉴의 \"런타임 / 런타임 다시 시작...\") 후\n",
    "다시 한번 아래 셀을 실행합니다.\n",
    "\n",
    "'한글 테스트' 가 표시되면 성공한 것입니다."
   ]
  },
  {
   "cell_type": "code",
   "metadata": {
    "colab": {
     "base_uri": "https://localhost:8080/",
     "height": 244
    },
    "id": "N-sbjZW8PIYB",
    "executionInfo": {
     "status": "ok",
     "timestamp": 1611437107773,
     "user_tz": -540,
     "elapsed": 3306,
     "user": {
      "displayName": "Sean-June Lee",
      "photoUrl": "https://lh3.googleusercontent.com/a-/AOh14Gj6rvtcx9Gy8VOzzw2LH1hYtnxIuHBDw8qnYK9SAuY=s64",
      "userId": "12576390002043678893"
     }
    },
    "outputId": "e8fa4b13-53d1-4490-b55e-47c692514199"
   },
   "source": [
    "# 한글 폰트 설치와 폰트 캐시 재설정\n",
    "!apt-get install -y -qq fonts-nanum\n",
    "!rm -rf ~/.cache/matplotlib/*\n",
    "\n",
    "# matplotlib 설정\n",
    "import matplotlib.pyplot as plt\n",
    "\n",
    "plt.rcParams[\"font.family\"] = 'NanumBarunGothic'\n",
    "plt.rcParams[\"axes.grid\"] = True\n",
    "plt.rcParams[\"figure.figsize\"] = (10,3)\n",
    "plt.rcParams[\"axes.formatter.useoffset\"] = False\n",
    "plt.rcParams['axes.unicode_minus'] = False\n",
    "plt.rcParams[\"axes.formatter.limits\"] = -10000, 10000\n",
    "\n",
    "plt.title('한글 테스트')"
   ],
   "execution_count": 31,
   "outputs": [
    {
     "name": "stderr",
     "output_type": "stream",
     "text": [
      "'apt-get'은(는) 내부 또는 외부 명령, 실행할 수 있는 프로그램, 또는\n",
      "배치 파일이 아닙니다.\n",
      "'rm'은(는) 내부 또는 외부 명령, 실행할 수 있는 프로그램, 또는\n",
      "배치 파일이 아닙니다.\n"
     ]
    },
    {
     "data": {
      "text/plain": "Text(0.5, 1.0, '한글 테스트')"
     },
     "execution_count": 31,
     "metadata": {},
     "output_type": "execute_result"
    },
    {
     "data": {
      "text/plain": "<Figure size 720x216 with 1 Axes>",
      "image/png": "[encoded data removed]"
     },
     "metadata": {
      "needs_background": "light"
     },
     "output_type": "display_data"
    }
   ]
  },
  {
   "cell_type": "code",
   "metadata": {
    "id": "yN8oacNOJV-m"
   },
   "source": [],
   "execution_count": null,
   "outputs": []
  },
  {
   "cell_type": "markdown",
   "metadata": {
    "id": "_EFQeFXl75o4"
   },
   "source": [
    "## 설정 - matplotlib 전역 환경 설정\n",
    "matplotlib 전역 환경을 파라미터들을 설정해 줍니다. 차트 이미지의 크기, 폰트, 라인 속성 등을 지정할 수 있습니다."
   ]
  },
  {
   "cell_type": "code",
   "metadata": {
    "id": "JYHg00nVU5qe",
    "executionInfo": {
     "status": "ok",
     "timestamp": 1611437137551,
     "user_tz": -540,
     "elapsed": 632,
     "user": {
      "displayName": "Sean-June Lee",
      "photoUrl": "https://lh3.googleusercontent.com/a-/AOh14Gj6rvtcx9Gy8VOzzw2LH1hYtnxIuHBDw8qnYK9SAuY=s64",
      "userId": "12576390002043678893"
     }
    }
   },
   "source": [
    "import matplotlib.pyplot as plt\n",
    "\n",
    "plt.style.use('default')\n",
    "\n",
    "plt.rcParams[\"font.family\"] = 'nanummyeongjo'\n",
    "plt.rcParams[\"figure.figsize\"] = (14,4)\n",
    "plt.rcParams['lines.linewidth'] = 1\n",
    "plt.rcParams[\"axes.grid\"] = True\n",
    "\n",
    "plt.rcParams[\"axes.formatter.useoffset\"] = False\n",
    "plt.rcParams[\"axes.formatter.limits\"] = -10000, 10000"
   ],
   "execution_count": 32,
   "outputs": []
  },
  {
   "cell_type": "markdown",
   "metadata": {
    "id": "12nPyJ8s7Mg5"
   },
   "source": [
    "## 설정 - 판다스 출력 자리수\n",
    "\n",
    "숫자가 커서 과학적 표기법(10의 승수로 표현)으로 표시되면 오히려 읽기 좋지 않은 경우가 있습니다.\n",
    "\n",
    "pandas에서 수치값을 출력할 때 과학적 표기법을 사용하지 않고, 소수점 이하 몇 자리 출력할 것인지를 정해줍니다."
   ]
  },
  {
   "cell_type": "code",
   "metadata": {
    "id": "iMdOn7B0O636",
    "executionInfo": {
     "status": "ok",
     "timestamp": 1611437135877,
     "user_tz": -540,
     "elapsed": 646,
     "user": {
      "displayName": "Sean-June Lee",
      "photoUrl": "https://lh3.googleusercontent.com/a-/AOh14Gj6rvtcx9Gy8VOzzw2LH1hYtnxIuHBDw8qnYK9SAuY=s64",
      "userId": "12576390002043678893"
     }
    }
   },
   "source": [
    "import pandas as pd\n",
    "pd.options.display.float_format = '{:.1f}'.format"
   ],
   "execution_count": 33,
   "outputs": []
  },
  {
   "cell_type": "markdown",
   "metadata": {
    "id": "BQ_UW24nO65T"
   },
   "source": [
    "## 시가총액 비중의 변화 살펴보기"
   ]
  },
  {
   "cell_type": "markdown",
   "metadata": {
    "id": "Fx5rG1mfO65U"
   },
   "source": [
    "시가총액은 말그대로 기업의 규모 자체 입니다. 시장 전체에서 차지하는 시가총액의 비중을 살펴본다면 기업이 우리나라 산업 전체에서 차지하는 비중을 살펴볼 수 있다는 뜻이 되죠. \n",
    "\n",
    "조금 더 넓은 기간에 걸쳐 기업의 시가총액 비중을 살펴보는 것으로 특정 기업의 성장과 쇠퇴를 살펴볼 수 있습니다."
   ]
  },
  {
   "cell_type": "code",
   "metadata": {
    "colab": {
     "base_uri": "https://localhost:8080/",
     "height": 448
    },
    "id": "3px5NNrutrvn",
    "executionInfo": {
     "status": "ok",
     "timestamp": 1611437053285,
     "user_tz": -540,
     "elapsed": 130472,
     "user": {
      "displayName": "Sean-June Lee",
      "photoUrl": "https://lh3.googleusercontent.com/a-/AOh14Gj6rvtcx9Gy8VOzzw2LH1hYtnxIuHBDw8qnYK9SAuY=s64",
      "userId": "12576390002043678893"
     }
    },
    "outputId": "be60ac60-9e56-4493-f204-a34089446a32"
   },
   "source": [
    "# 날짜별 상장종목수\n",
    "df_marcap.groupby('Date').count()"
   ],
   "execution_count": 34,
   "outputs": [
    {
     "data": {
      "text/plain": "            Code  Name  Market  Dept  Close  ChangeCode  Changes  ChagesRatio  \\\nDate                                                                            \n1995-05-02   855   855     855     0    855         855      855          855   \n1995-05-03   857   857     857     0    857         857      857          857   \n1995-05-04   860   860     860     0    860         860      860          860   \n1995-05-06   842   842     842     0    842         842      842          842   \n1995-05-08   854   854     854     0    854         854      854          854   \n...          ...   ...     ...   ...    ...         ...      ...          ...   \n2022-01-24  2501  2501    2501  1571   2501        2501     2501         2501   \n2022-01-25  2503  2503    2503  1573   2503        2503     2503         2503   \n2022-01-26  2505  2505    2505  1575   2505        2505     2505         2505   \n2022-01-27  2502  2502    2502  1571   2502        2502     2502         2502   \n2022-01-28  2505  2505    2505  1574   2505        2505     2505         2505   \n\n            Open  High   Low  Volume  Amount  Marcap  Stocks  MarketId  Rank  \nDate                                                                          \n1995-05-02   855   855   855     855     855     855     855       855   855  \n1995-05-03   857   857   857     857     857     857     857       857   857  \n1995-05-04   860   860   860     860     860     860     860       860   860  \n1995-05-06   842   842   842     842     842     842     842       842   842  \n1995-05-08   854   854   854     854     854     854     854       854   854  \n...          ...   ...   ...     ...     ...     ...     ...       ...   ...  \n2022-01-24  2501  2501  2501    2501    2501    2501    2501      2501  2501  \n2022-01-25  2503  2503  2503    2503    2503    2503    2503      2503  2503  \n2022-01-26  2505  2505  2505    2505    2505    2505    2505      2505  2505  \n2022-01-27  2502  2502  2502    2502    2502    2502    2502      2502  2502  \n2022-01-28  2505  2505  2505    2505    2505    2505    2505      2505  2505  \n\n[6775 rows x 17 columns]",
      "text/html": "<div>\n<style scoped>\n    .dataframe tbody tr th:only-of-type {\n        vertical-align: middle;\n    }\n\n    .dataframe tbody tr th {\n        vertical-align: top;\n    }\n\n    .dataframe thead th {\n        text-align: right;\n    }\n</style>\n<table border=\"1\" class=\"dataframe\">\n  <thead>\n    <tr style=\"text-align: right;\">\n      <th></th>\n      <th>Code</th>\n      <th>Name</th>\n      <th>Market</th>\n      <th>Dept</th>\n      <th>Close</th>\n      <th>ChangeCode</th>\n      <th>Changes</th>\n      <th>ChagesRatio</th>\n      <th>Open</th>\n      <th>High</th>\n      <th>Low</th>\n      <th>Volume</th>\n      <th>Amount</th>\n      <th>Marcap</th>\n      <th>Stocks</th>\n      <th>MarketId</th>\n      <th>Rank</th>\n    </tr>\n    <tr>\n      <th>Date</th>\n      <th></th>\n      <th></th>\n      <th></th>\n      <th></th>\n      <th></th>\n      <th></th>\n      <th></th>\n      <th></th>\n      <th></th>\n      <th></th>\n      <th></th>\n      <th></th>\n      <th></th>\n      <th></th>\n      <th></th>\n      <th></th>\n      <th></th>\n    </tr>\n  </thead>\n  <tbody>\n    <tr>\n      <th>1995-05-02</th>\n      <td>855</td>\n      <td>855</td>\n      <td>855</td>\n      <td>0</td>\n      <td>855</td>\n      <td>855</td>\n      <td>855</td>\n      <td>855</td>\n      <td>855</td>\n      <td>855</td>\n      <td>855</td>\n      <td>855</td>\n      <td>855</td>\n      <td>855</td>\n      <td>855</td>\n      <td>855</td>\n      <td>855</td>\n    </tr>\n    <tr>\n      <th>1995-05-03</th>\n      <td>857</td>\n      <td>857</td>\n      <td>857</td>\n      <td>0</td>\n      <td>857</td>\n      <td>857</td>\n      <td>857</td>\n      <td>857</td>\n      <td>857</td>\n      <td>857</td>\n      <td>857</td>\n      <td>857</td>\n      <td>857</td>\n      <td>857</td>\n      <td>857</td>\n      <td>857</td>\n      <td>857</td>\n    </tr>\n    <tr>\n      <th>1995-05-04</th>\n      <td>860</td>\n      <td>860</td>\n      <td>860</td>\n      <td>0</td>\n      <td>860</td>\n      <td>860</td>\n      <td>860</td>\n      <td>860</td>\n      <td>860</td>\n      <td>860</td>\n      <td>860</td>\n      <td>860</td>\n      <td>860</td>\n      <td>860</td>\n      <td>860</td>\n      <td>860</td>\n      <td>860</td>\n    </tr>\n    <tr>\n      <th>1995-05-06</th>\n      <td>842</td>\n      <td>842</td>\n      <td>842</td>\n      <td>0</td>\n      <td>842</td>\n      <td>842</td>\n      <td>842</td>\n      <td>842</td>\n      <td>842</td>\n      <td>842</td>\n      <td>842</td>\n      <td>842</td>\n      <td>842</td>\n      <td>842</td>\n      <td>842</td>\n      <td>842</td>\n      <td>842</td>\n    </tr>\n    <tr>\n      <th>1995-05-08</th>\n      <td>854</td>\n      <td>854</td>\n      <td>854</td>\n      <td>0</td>\n      <td>854</td>\n      <td>854</td>\n      <td>854</td>\n      <td>854</td>\n      <td>854</td>\n      <td>854</td>\n      <td>854</td>\n      <td>854</td>\n      <td>854</td>\n      <td>854</td>\n      <td>854</td>\n      <td>854</td>\n      <td>854</td>\n    </tr>\n    <tr>\n      <th>...</th>\n      <td>...</td>\n      <td>...</td>\n      <td>...</td>\n      <td>...</td>\n      <td>...</td>\n      <td>...</td>\n      <td>...</td>\n      <td>...</td>\n      <td>...</td>\n      <td>...</td>\n      <td>...</td>\n      <td>...</td>\n      <td>...</td>\n      <td>...</td>\n      <td>...</td>\n      <td>...</td>\n      <td>...</td>\n    </tr>\n    <tr>\n      <th>2022-01-24</th>\n      <td>2501</td>\n      <td>2501</td>\n      <td>2501</td>\n      <td>1571</td>\n      <td>2501</td>\n      <td>2501</td>\n      <td>2501</td>\n      <td>2501</td>\n      <td>2501</td>\n      <td>2501</td>\n      <td>2501</td>\n      <td>2501</td>\n      <td>2501</td>\n      <td>2501</td>\n      <td>2501</td>\n      <td>2501</td>\n      <td>2501</td>\n    </tr>\n    <tr>\n      <th>2022-01-25</th>\n      <td>2503</td>\n      <td>2503</td>\n      <td>2503</td>\n      <td>1573</td>\n      <td>2503</td>\n      <td>2503</td>\n      <td>2503</td>\n      <td>2503</td>\n      <td>2503</td>\n      <td>2503</td>\n      <td>2503</td>\n      <td>2503</td>\n      <td>2503</td>\n      <td>2503</td>\n      <td>2503</td>\n      <td>2503</td>\n      <td>2503</td>\n    </tr>\n    <tr>\n      <th>2022-01-26</th>\n      <td>2505</td>\n      <td>2505</td>\n      <td>2505</td>\n      <td>1575</td>\n      <td>2505</td>\n      <td>2505</td>\n      <td>2505</td>\n      <td>2505</td>\n      <td>2505</td>\n      <td>2505</td>\n      <td>2505</td>\n      <td>2505</td>\n      <td>2505</td>\n      <td>2505</td>\n      <td>2505</td>\n      <td>2505</td>\n      <td>2505</td>\n    </tr>\n    <tr>\n      <th>2022-01-27</th>\n      <td>2502</td>\n      <td>2502</td>\n      <td>2502</td>\n      <td>1571</td>\n      <td>2502</td>\n      <td>2502</td>\n      <td>2502</td>\n      <td>2502</td>\n      <td>2502</td>\n      <td>2502</td>\n      <td>2502</td>\n      <td>2502</td>\n      <td>2502</td>\n      <td>2502</td>\n      <td>2502</td>\n      <td>2502</td>\n      <td>2502</td>\n    </tr>\n    <tr>\n      <th>2022-01-28</th>\n      <td>2505</td>\n      <td>2505</td>\n      <td>2505</td>\n      <td>1574</td>\n      <td>2505</td>\n      <td>2505</td>\n      <td>2505</td>\n      <td>2505</td>\n      <td>2505</td>\n      <td>2505</td>\n      <td>2505</td>\n      <td>2505</td>\n      <td>2505</td>\n      <td>2505</td>\n      <td>2505</td>\n      <td>2505</td>\n      <td>2505</td>\n    </tr>\n  </tbody>\n</table>\n<p>6775 rows × 17 columns</p>\n</div>"
     },
     "execution_count": 34,
     "metadata": {},
     "output_type": "execute_result"
    }
   ]
  },
  {
   "cell_type": "code",
   "metadata": {
    "colab": {
     "base_uri": "https://localhost:8080/"
    },
    "id": "_2HxMEs-uN5v",
    "executionInfo": {
     "status": "ok",
     "timestamp": 1611437054018,
     "user_tz": -540,
     "elapsed": 131201,
     "user": {
      "displayName": "Sean-June Lee",
      "photoUrl": "https://lh3.googleusercontent.com/a-/AOh14Gj6rvtcx9Gy8VOzzw2LH1hYtnxIuHBDw8qnYK9SAuY=s64",
      "userId": "12576390002043678893"
     }
    },
    "outputId": "3cb9bd1b-adb0-459f-9073-ed3c29d2fedc"
   },
   "source": [
    "df_marcap.groupby('Date').sum()['Marcap'].tail(10)"
   ],
   "execution_count": 35,
   "outputs": [
    {
     "data": {
      "text/plain": "Date\n2022-01-17    2550027751602286\n2022-01-18    2526059085234465\n2022-01-19    2504920455475628\n2022-01-20    2530375120494049\n2022-01-21    2503465236776546\n2022-01-24    2459889689174772\n2022-01-25    2396586659628480\n2022-01-26    2384942487218680\n2022-01-27    2419786372563724\n2022-01-28    2468108766757173\nName: Marcap, dtype: int64"
     },
     "execution_count": 35,
     "metadata": {},
     "output_type": "execute_result"
    }
   ]
  },
  {
   "cell_type": "markdown",
   "metadata": {
    "id": "f9Tx-KoewBJF"
   },
   "source": [
    "2021-01-15 현재 상장주식시가총액은 2,508조 입니다"
   ]
  },
  {
   "cell_type": "code",
   "metadata": {
    "colab": {
     "base_uri": "https://localhost:8080/",
     "height": 385
    },
    "id": "j4VwUDTqstnY",
    "executionInfo": {
     "status": "ok",
     "timestamp": 1611437054967,
     "user_tz": -540,
     "elapsed": 132146,
     "user": {
      "displayName": "Sean-June Lee",
      "photoUrl": "https://lh3.googleusercontent.com/a-/AOh14Gj6rvtcx9Gy8VOzzw2LH1hYtnxIuHBDw8qnYK9SAuY=s64",
      "userId": "12576390002043678893"
     }
    },
    "outputId": "7b3950e8-7372-41cd-bdbf-619be064cd58"
   },
   "source": [
    "df_marcap.groupby('Date').sum()['Marcap'].plot()"
   ],
   "execution_count": 36,
   "outputs": [
    {
     "data": {
      "text/plain": "<AxesSubplot:xlabel='Date'>"
     },
     "execution_count": 36,
     "metadata": {},
     "output_type": "execute_result"
    },
    {
     "name": "stderr",
     "output_type": "stream",
     "text": [
      "findfont: Font family ['nanummyeongjo'] not found. Falling back to DejaVu Sans.\n"
     ]
    },
    {
     "data": {
      "text/plain": "<Figure size 1400x400 with 1 Axes>",
      "image/png": "[encoded data removed]"
     },
     "metadata": {},
     "output_type": "display_data"
    }
   ]
  },
  {
   "cell_type": "code",
   "metadata": {
    "colab": {
     "base_uri": "https://localhost:8080/",
     "height": 389
    },
    "id": "ORew-1eV0adj",
    "executionInfo": {
     "status": "ok",
     "timestamp": 1611437055578,
     "user_tz": -540,
     "elapsed": 132753,
     "user": {
      "displayName": "Sean-June Lee",
      "photoUrl": "https://lh3.googleusercontent.com/a-/AOh14Gj6rvtcx9Gy8VOzzw2LH1hYtnxIuHBDw8qnYK9SAuY=s64",
      "userId": "12576390002043678893"
     }
    },
    "outputId": "814b6fc4-1e94-49a8-a2ca-01bea31e3a79"
   },
   "source": [
    "df_stocks = df_marcap[df_marcap['Code'].isin(fav_stocks.keys())]\n",
    "m = df_stocks.pivot_table(index='Date', columns='Code', values='Marcap')\n",
    "m.rename(columns=fav_stocks, inplace=True)\n",
    "m.tail(10)"
   ],
   "execution_count": 37,
   "outputs": [
    {
     "data": {
      "text/plain": "Code                    현대차            POSCO              삼성전자  \\\nDate                                                             \n2022-01-17 43801978335000.0 25502149237500.0 462658147625000.0   \n2022-01-18 43267807867500.0 24935434810000.0 459673256350000.0   \n2022-01-19 42840471493500.0 24804654557500.0 455494408565000.0   \n2022-01-20 43160973774000.0 24935434810000.0 456688365075000.0   \n2022-01-21 42733637400000.0 24586687470000.0 451315560780000.0   \n2022-01-24 42092632839000.0 23932786207500.0 448330669505000.0   \n2022-01-25 41558462371500.0 23235291527500.0 441763908700000.0   \n2022-01-26 40596955530000.0 23496852032500.0 437585060915000.0   \n2022-01-27 39849116875500.0 22450610012500.0 425645495815000.0   \n2022-01-28 40490121436500.0 23104511275000.0 437585060915000.0   \n\nCode                   한국전력             KB금융  \nDate                                          \n2022-01-17 13673834840100.0 25447444704000.0  \n2022-01-18 13417049209300.0 25655348664000.0  \n2022-01-19 13449147413150.0 25738510248000.0  \n2022-01-20 13513343820850.0 24740571240000.0  \n2022-01-21 13641736636250.0 25073217576000.0  \n2022-01-24 13481245617000.0 24449505696000.0  \n2022-01-25 13256558190050.0 23742632232000.0  \n2022-01-26 13320754597750.0 24574248072000.0  \n2022-01-27 12903477947700.0 24116859360000.0  \n2022-01-28 13224459986200.0 24740571240000.0  ",
      "text/html": "<div>\n<style scoped>\n    .dataframe tbody tr th:only-of-type {\n        vertical-align: middle;\n    }\n\n    .dataframe tbody tr th {\n        vertical-align: top;\n    }\n\n    .dataframe thead th {\n        text-align: right;\n    }\n</style>\n<table border=\"1\" class=\"dataframe\">\n  <thead>\n    <tr style=\"text-align: right;\">\n      <th>Code</th>\n      <th>현대차</th>\n      <th>POSCO</th>\n      <th>삼성전자</th>\n      <th>한국전력</th>\n      <th>KB금융</th>\n    </tr>\n    <tr>\n      <th>Date</th>\n      <th></th>\n      <th></th>\n      <th></th>\n      <th></th>\n      <th></th>\n    </tr>\n  </thead>\n  <tbody>\n    <tr>\n      <th>2022-01-17</th>\n      <td>43801978335000.0</td>\n      <td>25502149237500.0</td>\n      <td>462658147625000.0</td>\n      <td>13673834840100.0</td>\n      <td>25447444704000.0</td>\n    </tr>\n    <tr>\n      <th>2022-01-18</th>\n      <td>43267807867500.0</td>\n      <td>24935434810000.0</td>\n      <td>459673256350000.0</td>\n      <td>13417049209300.0</td>\n      <td>25655348664000.0</td>\n    </tr>\n    <tr>\n      <th>2022-01-19</th>\n      <td>42840471493500.0</td>\n      <td>24804654557500.0</td>\n      <td>455494408565000.0</td>\n      <td>13449147413150.0</td>\n      <td>25738510248000.0</td>\n    </tr>\n    <tr>\n      <th>2022-01-20</th>\n      <td>43160973774000.0</td>\n      <td>24935434810000.0</td>\n      <td>456688365075000.0</td>\n      <td>13513343820850.0</td>\n      <td>24740571240000.0</td>\n    </tr>\n    <tr>\n      <th>2022-01-21</th>\n      <td>42733637400000.0</td>\n      <td>24586687470000.0</td>\n      <td>451315560780000.0</td>\n      <td>13641736636250.0</td>\n      <td>25073217576000.0</td>\n    </tr>\n    <tr>\n      <th>2022-01-24</th>\n      <td>42092632839000.0</td>\n      <td>23932786207500.0</td>\n      <td>448330669505000.0</td>\n      <td>13481245617000.0</td>\n      <td>24449505696000.0</td>\n    </tr>\n    <tr>\n      <th>2022-01-25</th>\n      <td>41558462371500.0</td>\n      <td>23235291527500.0</td>\n      <td>441763908700000.0</td>\n      <td>13256558190050.0</td>\n      <td>23742632232000.0</td>\n    </tr>\n    <tr>\n      <th>2022-01-26</th>\n      <td>40596955530000.0</td>\n      <td>23496852032500.0</td>\n      <td>437585060915000.0</td>\n      <td>13320754597750.0</td>\n      <td>24574248072000.0</td>\n    </tr>\n    <tr>\n      <th>2022-01-27</th>\n      <td>39849116875500.0</td>\n      <td>22450610012500.0</td>\n      <td>425645495815000.0</td>\n      <td>12903477947700.0</td>\n      <td>24116859360000.0</td>\n    </tr>\n    <tr>\n      <th>2022-01-28</th>\n      <td>40490121436500.0</td>\n      <td>23104511275000.0</td>\n      <td>437585060915000.0</td>\n      <td>13224459986200.0</td>\n      <td>24740571240000.0</td>\n    </tr>\n  </tbody>\n</table>\n</div>"
     },
     "execution_count": 37,
     "metadata": {},
     "output_type": "execute_result"
    }
   ]
  },
  {
   "cell_type": "code",
   "metadata": {
    "id": "pCkkT65z05lq",
    "executionInfo": {
     "status": "aborted",
     "timestamp": 1611437055896,
     "user_tz": -540,
     "elapsed": 133060,
     "user": {
      "displayName": "Sean-June Lee",
      "photoUrl": "https://lh3.googleusercontent.com/a-/AOh14Gj6rvtcx9Gy8VOzzw2LH1hYtnxIuHBDw8qnYK9SAuY=s64",
      "userId": "12576390002043678893"
     }
    }
   },
   "source": [
    "상장주식시가총액 = df_marcap.groupby('Date').sum()['Marcap']\n",
    "상장주식시가총액"
   ],
   "execution_count": 38,
   "outputs": [
    {
     "data": {
      "text/plain": "Date\n1995-05-02     134713479923960\n1995-05-03     137255450392250\n1995-05-04     137395277384830\n1995-05-06     137122266028070\n1995-05-08     136361070157380\n                    ...       \n2022-01-24    2459889689174772\n2022-01-25    2396586659628480\n2022-01-26    2384942487218680\n2022-01-27    2419786372563724\n2022-01-28    2468108766757173\nName: Marcap, Length: 6775, dtype: int64"
     },
     "execution_count": 38,
     "metadata": {},
     "output_type": "execute_result"
    }
   ]
  },
  {
   "cell_type": "code",
   "execution_count": 39,
   "outputs": [
    {
     "data": {
      "text/plain": "Code        현대차  POSCO  삼성전자  한국전력  KB금융\nDate                                    \n1995-05-02  0.0    0.0   0.0   0.1   NaN\n1995-05-03  0.0    0.0   0.0   0.1   NaN\n1995-05-04  0.0    0.0   0.0   0.1   NaN\n1995-05-06  0.0    0.0   0.0   0.1   NaN\n1995-05-08  0.0    0.0   0.0   0.1   NaN\n...         ...    ...   ...   ...   ...\n2022-01-24  0.0    0.0   0.2   0.0   0.0\n2022-01-25  0.0    0.0   0.2   0.0   0.0\n2022-01-26  0.0    0.0   0.2   0.0   0.0\n2022-01-27  0.0    0.0   0.2   0.0   0.0\n2022-01-28  0.0    0.0   0.2   0.0   0.0\n\n[6775 rows x 5 columns]",
      "text/html": "<div>\n<style scoped>\n    .dataframe tbody tr th:only-of-type {\n        vertical-align: middle;\n    }\n\n    .dataframe tbody tr th {\n        vertical-align: top;\n    }\n\n    .dataframe thead th {\n        text-align: right;\n    }\n</style>\n<table border=\"1\" class=\"dataframe\">\n  <thead>\n    <tr style=\"text-align: right;\">\n      <th>Code</th>\n      <th>현대차</th>\n      <th>POSCO</th>\n      <th>삼성전자</th>\n      <th>한국전력</th>\n      <th>KB금융</th>\n    </tr>\n    <tr>\n      <th>Date</th>\n      <th></th>\n      <th></th>\n      <th></th>\n      <th></th>\n      <th></th>\n    </tr>\n  </thead>\n  <tbody>\n    <tr>\n      <th>1995-05-02</th>\n      <td>0.0</td>\n      <td>0.0</td>\n      <td>0.0</td>\n      <td>0.1</td>\n      <td>NaN</td>\n    </tr>\n    <tr>\n      <th>1995-05-03</th>\n      <td>0.0</td>\n      <td>0.0</td>\n      <td>0.0</td>\n      <td>0.1</td>\n      <td>NaN</td>\n    </tr>\n    <tr>\n      <th>1995-05-04</th>\n      <td>0.0</td>\n      <td>0.0</td>\n      <td>0.0</td>\n      <td>0.1</td>\n      <td>NaN</td>\n    </tr>\n    <tr>\n      <th>1995-05-06</th>\n      <td>0.0</td>\n      <td>0.0</td>\n      <td>0.0</td>\n      <td>0.1</td>\n      <td>NaN</td>\n    </tr>\n    <tr>\n      <th>1995-05-08</th>\n      <td>0.0</td>\n      <td>0.0</td>\n      <td>0.0</td>\n      <td>0.1</td>\n      <td>NaN</td>\n    </tr>\n    <tr>\n      <th>...</th>\n      <td>...</td>\n      <td>...</td>\n      <td>...</td>\n      <td>...</td>\n      <td>...</td>\n    </tr>\n    <tr>\n      <th>2022-01-24</th>\n      <td>0.0</td>\n      <td>0.0</td>\n      <td>0.2</td>\n      <td>0.0</td>\n      <td>0.0</td>\n    </tr>\n    <tr>\n      <th>2022-01-25</th>\n      <td>0.0</td>\n      <td>0.0</td>\n      <td>0.2</td>\n      <td>0.0</td>\n      <td>0.0</td>\n    </tr>\n    <tr>\n      <th>2022-01-26</th>\n      <td>0.0</td>\n      <td>0.0</td>\n      <td>0.2</td>\n      <td>0.0</td>\n      <td>0.0</td>\n    </tr>\n    <tr>\n      <th>2022-01-27</th>\n      <td>0.0</td>\n      <td>0.0</td>\n      <td>0.2</td>\n      <td>0.0</td>\n      <td>0.0</td>\n    </tr>\n    <tr>\n      <th>2022-01-28</th>\n      <td>0.0</td>\n      <td>0.0</td>\n      <td>0.2</td>\n      <td>0.0</td>\n      <td>0.0</td>\n    </tr>\n  </tbody>\n</table>\n<p>6775 rows × 5 columns</p>\n</div>"
     },
     "execution_count": 39,
     "metadata": {},
     "output_type": "execute_result"
    }
   ],
   "source": [
    "m.divide(상장주식시가총액, axis=0)"
   ],
   "metadata": {
    "collapsed": false,
    "pycharm": {
     "name": "#%%\n"
    }
   }
  },
  {
   "cell_type": "code",
   "metadata": {
    "id": "TGuvYc_J2z2s",
    "executionInfo": {
     "status": "aborted",
     "timestamp": 1611437055902,
     "user_tz": -540,
     "elapsed": 133061,
     "user": {
      "displayName": "Sean-June Lee",
      "photoUrl": "https://lh3.googleusercontent.com/a-/AOh14Gj6rvtcx9Gy8VOzzw2LH1hYtnxIuHBDw8qnYK9SAuY=s64",
      "userId": "12576390002043678893"
     }
    }
   },
   "source": [
    "pd.options.display.float_format = '{:.4f}'.format"
   ],
   "execution_count": 40,
   "outputs": []
  },
  {
   "cell_type": "code",
   "metadata": {
    "id": "-jsvy1EZ2OqJ",
    "executionInfo": {
     "status": "aborted",
     "timestamp": 1611437055902,
     "user_tz": -540,
     "elapsed": 133055,
     "user": {
      "displayName": "Sean-June Lee",
      "photoUrl": "https://lh3.googleusercontent.com/a-/AOh14Gj6rvtcx9Gy8VOzzw2LH1hYtnxIuHBDw8qnYK9SAuY=s64",
      "userId": "12576390002043678893"
     }
    }
   },
   "source": [
    "m['삼성전자'].div(상장주식시가총액)"
   ],
   "execution_count": 41,
   "outputs": [
    {
     "data": {
      "text/plain": "Date\n1995-05-02   0.0482\n1995-05-03   0.0489\n1995-05-04   0.0485\n1995-05-06   0.0484\n1995-05-08   0.0482\n              ...  \n2022-01-24   0.1823\n2022-01-25   0.1843\n2022-01-26   0.1835\n2022-01-27   0.1759\n2022-01-28   0.1773\nLength: 6775, dtype: float64"
     },
     "execution_count": 41,
     "metadata": {},
     "output_type": "execute_result"
    }
   ]
  },
  {
   "cell_type": "code",
   "metadata": {
    "id": "nG8lSva205hf",
    "executionInfo": {
     "status": "aborted",
     "timestamp": 1611437055903,
     "user_tz": -540,
     "elapsed": 133051,
     "user": {
      "displayName": "Sean-June Lee",
      "photoUrl": "https://lh3.googleusercontent.com/a-/AOh14Gj6rvtcx9Gy8VOzzw2LH1hYtnxIuHBDw8qnYK9SAuY=s64",
      "userId": "12576390002043678893"
     }
    }
   },
   "source": [
    "marcap_ratio.div(df_marcap.groupby('Date').sum()['Marcap'], axis=1)"
   ],
   "execution_count": null,
   "outputs": []
  },
  {
   "cell_type": "code",
   "metadata": {
    "id": "V1TKmOWfO65Z",
    "executionInfo": {
     "status": "aborted",
     "timestamp": 1611437055903,
     "user_tz": -540,
     "elapsed": 133046,
     "user": {
      "displayName": "Sean-June Lee",
      "photoUrl": "https://lh3.googleusercontent.com/a-/AOh14Gj6rvtcx9Gy8VOzzw2LH1hYtnxIuHBDw8qnYK9SAuY=s64",
      "userId": "12576390002043678893"
     }
    }
   },
   "source": [
    "marcap_ratio.plot()"
   ],
   "execution_count": null,
   "outputs": []
  },
  {
   "cell_type": "markdown",
   "metadata": {
    "id": "mlWi0OTf3a1z"
   },
   "source": [
    "삼성전자가 다른 종목들에 비해 크게 나오기 때문에 나머지 종목간에 비교가 쉽지 않습니다.\n",
    "\n",
    "컬럼을 지정하여 차트를 그립니다. 여기서는 '삼성전자'를 제외한 나머지 종목들 ['현대차', 'POSCO', '한국전력', 'KB금융']을 지정하려 차트로 그립니다."
   ]
  },
  {
   "cell_type": "code",
   "metadata": {
    "id": "0yvRrz2N1xlW",
    "executionInfo": {
     "status": "aborted",
     "timestamp": 1611437055904,
     "user_tz": -540,
     "elapsed": 133042,
     "user": {
      "displayName": "Sean-June Lee",
      "photoUrl": "https://lh3.googleusercontent.com/a-/AOh14Gj6rvtcx9Gy8VOzzw2LH1hYtnxIuHBDw8qnYK9SAuY=s64",
      "userId": "12576390002043678893"
     }
    }
   },
   "source": [
    "cols = ['현대차', 'POSCO', '한국전력', 'KB금융']\n",
    "marcap_ratio[cols].plot()"
   ],
   "execution_count": null,
   "outputs": []
  },
  {
   "cell_type": "markdown",
   "metadata": {
    "id": "HeOSVjHy3z-9"
   },
   "source": [
    "2010년 이후 한국전력의 시총이 지속적으로 줄어들고 있다는 점과, 2010~2012년 동안 다른 종목들의 시총과 달리 현대차의 시총이 지속적으로 늘어나는 점이 눈에 띕니다.\n",
    "\n",
    "2002년~2013년까지 현대차와 POSCO가 역상관을 보여주는 것도 흥미롭습니다.\n",
    "\n"
   ]
  },
  {
   "cell_type": "markdown",
   "metadata": {
    "id": "OQpRcXb8Wd18"
   },
   "source": [
    "시가총액 비중 데이터에 대한 간략한 통계량을 다음과 같이 산출할 수 있습니다.\n",
    "\n"
   ]
  },
  {
   "cell_type": "code",
   "metadata": {
    "id": "KxYCM1Y7O65f",
    "executionInfo": {
     "status": "aborted",
     "timestamp": 1611437055905,
     "user_tz": -540,
     "elapsed": 133038,
     "user": {
      "displayName": "Sean-June Lee",
      "photoUrl": "https://lh3.googleusercontent.com/a-/AOh14Gj6rvtcx9Gy8VOzzw2LH1hYtnxIuHBDw8qnYK9SAuY=s64",
      "userId": "12576390002043678893"
     }
    }
   },
   "source": [
    "marcap_ratio.describe()"
   ],
   "execution_count": null,
   "outputs": []
  },
  {
   "cell_type": "markdown",
   "metadata": {
    "id": "fYxdGoDJO65i"
   },
   "source": [
    "삼성전자의 2001년 이후 6.8% ~ 20.8% (평균 13.9%)의 시가총액 비중을 유지하고 있습니다. \n",
    "\n",
    "시가총액 비중 데이터의 표준편차(std)값이 가장 큰 종목이 `삼성전자`, 가장 작은 종목이 `KB금융` 입니다. 즉, 시가총액 비중의 변화가 '삼성전자'가 가장 컸고, 'KB금융'이 가장 작았다는 것을 알 수 있죠."
   ]
  },
  {
   "cell_type": "markdown",
   "metadata": {
    "id": "X3inCWywO65i"
   },
   "source": [
    "## 수정주가(Adjust Price)\n",
    "\n",
    "수정주가(Adjust Price)란 총 발행 주식수의 변화를 반영한 가격을 말합니다. 액면분할, 액면병합, 유상증자, 무상증자와 같이 총 발행주식수의 변화가 발생하면 가격의 변화가 생깁니다. 예를 들어, 어떤 회사가 액면분할을 통해 1주를 2개로 쪼갠다고 하면, 주식수를 2배로 늘어나고 주식의 가격은 1/2로 낮아지며 시가총액은 동일하게 유지 됩니다.\n",
    "\n",
    "실제 예를 들어보죠.\n",
    "\n",
    "2018년 5월 4일, 삼성전자는 50:1로 액면분할을 합니다. 1주가 50주로 쪼개지는 것이죠. 이때 5000원인 삼성전자 주식 액면가는 액면분할 후 100원이 되었습니다. 액면분할 전에 주당 265만원(4월30일 기준)에서 5만3천원이 되었습니다.\n",
    "\n",
    "이 가격 데이터를 그대로 사용한다면 주가가 하루만에 1/50로 다시말해 -98% 하락한 것이 됩니다."
   ]
  },
  {
   "cell_type": "code",
   "metadata": {
    "id": "znEbCrYbO65k",
    "executionInfo": {
     "status": "aborted",
     "timestamp": 1611437055905,
     "user_tz": -540,
     "elapsed": 133032,
     "user": {
      "displayName": "Sean-June Lee",
      "photoUrl": "https://lh3.googleusercontent.com/a-/AOh14Gj6rvtcx9Gy8VOzzw2LH1hYtnxIuHBDw8qnYK9SAuY=s64",
      "userId": "12576390002043678893"
     }
    }
   },
   "source": [
    "code = '005930' # 삼성전자(005930)\n",
    "df_stock = marcap_date_range('2018-01-01', '2018-12-31', code)\n",
    "\n",
    "df_stock['Close'].plot()"
   ],
   "execution_count": null,
   "outputs": []
  },
  {
   "cell_type": "markdown",
   "metadata": {
    "id": "aAEOzXmIO65m"
   },
   "source": [
    "백테스트를 하기 위해서는 주식 가격 데이터의 연속성이 보장되어야 합니다. 삼성전자가 5월 4일에 -98% 하락한 것으로 계산하면 안되겠죠. \n",
    "\n",
    "발행 주식수가 변화하는 이벤트가 있는 경우 반드시 주식수를 변화를 함께 고려해야 합니다. 발행주식수의 변화를 반영한 가격을 수정주가(Adjusted Closing Price)라고 합니다. 백테스트를 위해서는 꼭 수정주가를 사용해야 합니다."
   ]
  },
  {
   "cell_type": "code",
   "metadata": {
    "id": "vkCBQ47zO65n",
    "executionInfo": {
     "status": "aborted",
     "timestamp": 1611437055906,
     "user_tz": -540,
     "elapsed": 133029,
     "user": {
      "displayName": "Sean-June Lee",
      "photoUrl": "https://lh3.googleusercontent.com/a-/AOh14Gj6rvtcx9Gy8VOzzw2LH1hYtnxIuHBDw8qnYK9SAuY=s64",
      "userId": "12576390002043678893"
     }
    }
   },
   "source": [
    "df_stock['2018-04-25':'2018-05-09']"
   ],
   "execution_count": null,
   "outputs": []
  },
  {
   "cell_type": "markdown",
   "metadata": {
    "id": "RQ4I1MhIO65r"
   },
   "source": [
    "액면분할을 위해 2018-04-30 부터 2018-05-03 까지 3일간 거래정지되고 2018-05-04 부터 액면분할된 가격으로 거래가 시작된 것을 확인할 수 있습니다. 2018-05-03일 총 주식수 128,386,494주에서 다음날 총 주식수는 6,419,324,700주 로 50배가 늘어났습니다. 즉 50:1로 액면분할을 한 것이죠."
   ]
  },
  {
   "cell_type": "markdown",
   "metadata": {
    "id": "CG4qNIINO65r"
   },
   "source": [
    "수정가격은 보통 오늘 가격과 총 주식수를 과거 데이터에 반영하여 구합니다. 혹은 특정 테스트 범위의 가장 마지막 날의 가격과 총 주식수를 기준으로 과거 가격들을 수정합니다.\n",
    "\n",
    "주가는 보통 종가(Close)를 기준으로 하기 때문에 수정주가로 가장 많이 쓰이는 것이 바로 수정 종가(Adjust Close Price) 입니다."
   ]
  },
  {
   "cell_type": "code",
   "metadata": {
    "id": "LdfhsF6QU5rT",
    "executionInfo": {
     "status": "aborted",
     "timestamp": 1611437055906,
     "user_tz": -540,
     "elapsed": 133024,
     "user": {
      "displayName": "Sean-June Lee",
      "photoUrl": "https://lh3.googleusercontent.com/a-/AOh14Gj6rvtcx9Gy8VOzzw2LH1hYtnxIuHBDw8qnYK9SAuY=s64",
      "userId": "12576390002043678893"
     }
    }
   },
   "source": [
    "# 삼성전자(005930), 수정종가\n",
    "code = '005930'\n",
    "df_stock = marcap_date_range('2018-01-01', '2018-12-31', code)\n",
    "\n",
    "latest_stocks = df_stock.iloc[-1]['Stocks'] # 범위 마지막날 주식수(기준)\n",
    "\n",
    "df_stock['Adj Close'] = df_stock['Close'] * (df_stock['Stocks'] / latest_stocks) # 수정종가\n",
    "df_stock['Adj Close'].plot()"
   ],
   "execution_count": null,
   "outputs": []
  },
  {
   "cell_type": "markdown",
   "metadata": {
    "id": "ZO2qlqAXO65w"
   },
   "source": [
    "다음과 같이 2018년 `종가`와 `수정 종가`를 같이 그려놓고 보면 더 확실하게 차이를 알 수 있습니다."
   ]
  },
  {
   "cell_type": "code",
   "metadata": {
    "id": "gHcHGN89O65y",
    "executionInfo": {
     "status": "aborted",
     "timestamp": 1611437055907,
     "user_tz": -540,
     "elapsed": 133021,
     "user": {
      "displayName": "Sean-June Lee",
      "photoUrl": "https://lh3.googleusercontent.com/a-/AOh14Gj6rvtcx9Gy8VOzzw2LH1hYtnxIuHBDw8qnYK9SAuY=s64",
      "userId": "12576390002043678893"
     }
    }
   },
   "source": [
    "df_stock[['Close', 'Adj Close']].plot(secondary_y=['Adj Close'])"
   ],
   "execution_count": null,
   "outputs": []
  },
  {
   "cell_type": "markdown",
   "metadata": {
    "id": "fDxCQmhrO651"
   },
   "source": [
    "특정 기간동안의 수익률을 정확하게 산정하기 위해서는 `수정 종가`로 계산해야 주식 가격의 연속성을 보장받을 수 있습니다."
   ]
  },
  {
   "cell_type": "markdown",
   "metadata": {
    "id": "vpDqOV0mO652"
   },
   "source": [
    "## 섹터 분석\n",
    "\n",
    "[FinanceDataReader](https://financedata.github.io/FinanceDataReader/)를 사용하면 간편하게 전체종목 코드와 섹터 데이터를 가져올 수 있습니다.\n",
    "\n",
    "\n",
    "[FinanceDataReader](https://financedata.github.io/FinanceDataReader/)는 다음과 같이 설치합니다."
   ]
  },
  {
   "cell_type": "code",
   "metadata": {
    "id": "wb2yiCIa8qQn",
    "executionInfo": {
     "status": "aborted",
     "timestamp": 1611437055907,
     "user_tz": -540,
     "elapsed": 133017,
     "user": {
      "displayName": "Sean-June Lee",
      "photoUrl": "https://lh3.googleusercontent.com/a-/AOh14Gj6rvtcx9Gy8VOzzw2LH1hYtnxIuHBDw8qnYK9SAuY=s64",
      "userId": "12576390002043678893"
     }
    }
   },
   "source": [
    "!pip install -q finance-datareader"
   ],
   "execution_count": null,
   "outputs": []
  },
  {
   "cell_type": "code",
   "metadata": {
    "id": "tWflH9OUO652",
    "executionInfo": {
     "status": "aborted",
     "timestamp": 1611437055908,
     "user_tz": -540,
     "elapsed": 133014,
     "user": {
      "displayName": "Sean-June Lee",
      "photoUrl": "https://lh3.googleusercontent.com/a-/AOh14Gj6rvtcx9Gy8VOzzw2LH1hYtnxIuHBDw8qnYK9SAuY=s64",
      "userId": "12576390002043678893"
     }
    }
   },
   "source": [
    "import FinanceDataReader as fdr\n",
    "\n",
    "df_master = fdr.StockListing('KRX')\n",
    "df_master.head(10)"
   ],
   "execution_count": null,
   "outputs": []
  },
  {
   "cell_type": "code",
   "metadata": {
    "id": "oyIboW2bXTN7",
    "executionInfo": {
     "status": "aborted",
     "timestamp": 1611437055908,
     "user_tz": -540,
     "elapsed": 133009,
     "user": {
      "displayName": "Sean-June Lee",
      "photoUrl": "https://lh3.googleusercontent.com/a-/AOh14Gj6rvtcx9Gy8VOzzw2LH1hYtnxIuHBDw8qnYK9SAuY=s64",
      "userId": "12576390002043678893"
     }
    }
   },
   "source": [
    "len(df_master)"
   ],
   "execution_count": null,
   "outputs": []
  },
  {
   "cell_type": "markdown",
   "metadata": {
    "id": "Uqq_VPmkO654"
   },
   "source": [
    "이 중에서 종목코드(Symbol)와 섹터(Sector) 데이터만 활용하려 합니다."
   ]
  },
  {
   "cell_type": "code",
   "metadata": {
    "id": "sHjPmGoqO655",
    "executionInfo": {
     "status": "aborted",
     "timestamp": 1611437055908,
     "user_tz": -540,
     "elapsed": 133005,
     "user": {
      "displayName": "Sean-June Lee",
      "photoUrl": "https://lh3.googleusercontent.com/a-/AOh14Gj6rvtcx9Gy8VOzzw2LH1hYtnxIuHBDw8qnYK9SAuY=s64",
      "userId": "12576390002043678893"
     }
    }
   },
   "source": [
    "df_master[['Symbol', 'Sector']].head(10)"
   ],
   "execution_count": null,
   "outputs": []
  },
  {
   "cell_type": "markdown",
   "metadata": {
    "id": "sVMgbKfQO658"
   },
   "source": [
    "특정한 일자의 시가총액 데이터를 가져옵니다."
   ]
  },
  {
   "cell_type": "code",
   "metadata": {
    "id": "nnabMoXTO659",
    "executionInfo": {
     "status": "aborted",
     "timestamp": 1611437055909,
     "user_tz": -540,
     "elapsed": 133001,
     "user": {
      "displayName": "Sean-June Lee",
      "photoUrl": "https://lh3.googleusercontent.com/a-/AOh14Gj6rvtcx9Gy8VOzzw2LH1hYtnxIuHBDw8qnYK9SAuY=s64",
      "userId": "12576390002043678893"
     }
    }
   },
   "source": [
    "# 시가총액 데이터 2019-04-30\n",
    "df_marcap = marcap_date('2019-04-30')\n",
    "\n",
    "df_marcap[['Code', 'Name', 'Marcap']].head(10)"
   ],
   "execution_count": null,
   "outputs": []
  },
  {
   "cell_type": "markdown",
   "metadata": {
    "id": "uC6dviANO65_"
   },
   "source": [
    "다음 두 데이터를 종목코드를 기준으로 병합합니다.\n",
    "\n",
    "* 전체종목코드(df_master): 종목코드(Symbol), 섹터(Sector)\n",
    "* 시가총액 데이터(df_marcap): 종목코드(Code), 종목명(Name), 시가총액(Marcap)\n"
   ]
  },
  {
   "cell_type": "code",
   "metadata": {
    "id": "F7IytD9MO66A",
    "executionInfo": {
     "status": "aborted",
     "timestamp": 1611437055909,
     "user_tz": -540,
     "elapsed": 132996,
     "user": {
      "displayName": "Sean-June Lee",
      "photoUrl": "https://lh3.googleusercontent.com/a-/AOh14Gj6rvtcx9Gy8VOzzw2LH1hYtnxIuHBDw8qnYK9SAuY=s64",
      "userId": "12576390002043678893"
     }
    }
   },
   "source": [
    "df_merge = pd.merge(df_marcap[['Code', 'Name', 'Marcap']], df_master[['Symbol', 'Sector']], left_on='Code', right_on=\"Symbol\")\n",
    "\n",
    "print('row count:', len(df_merge))\n",
    "df_merge.head(10)"
   ],
   "execution_count": null,
   "outputs": []
  },
  {
   "cell_type": "markdown",
   "metadata": {
    "id": "HoSeIpoMJPd1"
   },
   "source": [
    "섹터별 종목수 TOP 10을 산출합니다."
   ]
  },
  {
   "cell_type": "code",
   "metadata": {
    "id": "idCk3tLrO66D",
    "executionInfo": {
     "status": "aborted",
     "timestamp": 1611437055910,
     "user_tz": -540,
     "elapsed": 132993,
     "user": {
      "displayName": "Sean-June Lee",
      "photoUrl": "https://lh3.googleusercontent.com/a-/AOh14Gj6rvtcx9Gy8VOzzw2LH1hYtnxIuHBDw8qnYK9SAuY=s64",
      "userId": "12576390002043678893"
     }
    }
   },
   "source": [
    "df_sector_counts = df_merge['Sector'].value_counts()[:10]\n",
    "df_sector_counts"
   ],
   "execution_count": null,
   "outputs": []
  },
  {
   "cell_type": "markdown",
   "metadata": {
    "id": "6o3HV4OtI-17"
   },
   "source": [
    "종목수 기준으로 가장 많은 종목은 '특수 목적용 기계 제조업', '소프트웨어 개발 및 공급업', '전자부품 제조업' 순이네요.\n",
    "\n",
    "섹터별 종목수 TOP 10을 파이차트로 표현해 봅니다. 특정 날짜(2019-04-30)의 섹터별 종목수 현황은 다음과 같습니다.\n",
    "\n"
   ]
  },
  {
   "cell_type": "code",
   "metadata": {
    "id": "Uj-mrstpO66F",
    "executionInfo": {
     "status": "aborted",
     "timestamp": 1611437055910,
     "user_tz": -540,
     "elapsed": 132988,
     "user": {
      "displayName": "Sean-June Lee",
      "photoUrl": "https://lh3.googleusercontent.com/a-/AOh14Gj6rvtcx9Gy8VOzzw2LH1hYtnxIuHBDw8qnYK9SAuY=s64",
      "userId": "12576390002043678893"
     }
    }
   },
   "source": [
    "df_sector_counts.plot.pie(figsize=(8, 8))"
   ],
   "execution_count": null,
   "outputs": []
  },
  {
   "cell_type": "markdown",
   "metadata": {
    "id": "iKB9SQe7J_-r"
   },
   "source": [
    "## 섹터별 시가총액\n",
    "\n",
    "섹터별 시가총액을 구해봅니다."
   ]
  },
  {
   "cell_type": "code",
   "metadata": {
    "id": "fer1ia0PKahP",
    "executionInfo": {
     "status": "aborted",
     "timestamp": 1611437055911,
     "user_tz": -540,
     "elapsed": 132985,
     "user": {
      "displayName": "Sean-June Lee",
      "photoUrl": "https://lh3.googleusercontent.com/a-/AOh14Gj6rvtcx9Gy8VOzzw2LH1hYtnxIuHBDw8qnYK9SAuY=s64",
      "userId": "12576390002043678893"
     }
    }
   },
   "source": [
    "df_merge.head()"
   ],
   "execution_count": null,
   "outputs": []
  },
  {
   "cell_type": "markdown",
   "metadata": {
    "id": "PHevLB7zKd5O"
   },
   "source": [
    "데이터를 섹터별로 묶어서(groupby) 덧셈(sum)을 하면 섹터별 시가총액을 구할 수 있습니다."
   ]
  },
  {
   "cell_type": "code",
   "metadata": {
    "id": "pSRf7yJ1KnJO",
    "executionInfo": {
     "status": "aborted",
     "timestamp": 1611437055911,
     "user_tz": -540,
     "elapsed": 132981,
     "user": {
      "displayName": "Sean-June Lee",
      "photoUrl": "https://lh3.googleusercontent.com/a-/AOh14Gj6rvtcx9Gy8VOzzw2LH1hYtnxIuHBDw8qnYK9SAuY=s64",
      "userId": "12576390002043678893"
     }
    }
   },
   "source": [
    "df_merge.groupby('Sector').sum().head()"
   ],
   "execution_count": null,
   "outputs": []
  },
  {
   "cell_type": "markdown",
   "metadata": {
    "id": "5OPndek1Kw13"
   },
   "source": [
    "그리고, Marcap(시가총액) 역순으로 소트하여 처음 TOP 20개 섹터를 산출합니다"
   ]
  },
  {
   "cell_type": "code",
   "metadata": {
    "id": "39yNlLeXU5r4",
    "executionInfo": {
     "status": "aborted",
     "timestamp": 1611437055912,
     "user_tz": -540,
     "elapsed": 132978,
     "user": {
      "displayName": "Sean-June Lee",
      "photoUrl": "https://lh3.googleusercontent.com/a-/AOh14Gj6rvtcx9Gy8VOzzw2LH1hYtnxIuHBDw8qnYK9SAuY=s64",
      "userId": "12576390002043678893"
     }
    }
   },
   "source": [
    "df_sector_corp_marcap = df_merge.groupby('Sector').sum().sort_values('Marcap', ascending=False)[:20]\n",
    "df_sector_corp_marcap"
   ],
   "execution_count": null,
   "outputs": []
  },
  {
   "cell_type": "markdown",
   "metadata": {
    "id": "JHmSr_F_K_kx"
   },
   "source": [
    "가로 막대차트로 표현하면 훨씬 더 잘 확인할 수 있죠."
   ]
  },
  {
   "cell_type": "code",
   "metadata": {
    "id": "y-_zCqwxU5r7",
    "executionInfo": {
     "status": "aborted",
     "timestamp": 1611437055912,
     "user_tz": -540,
     "elapsed": 132973,
     "user": {
      "displayName": "Sean-June Lee",
      "photoUrl": "https://lh3.googleusercontent.com/a-/AOh14Gj6rvtcx9Gy8VOzzw2LH1hYtnxIuHBDw8qnYK9SAuY=s64",
      "userId": "12576390002043678893"
     }
    }
   },
   "source": [
    "df_sector_corp_marcap[::-1].plot(kind='barh', figsize=(12, 8))"
   ],
   "execution_count": null,
   "outputs": []
  },
  {
   "cell_type": "markdown",
   "metadata": {
    "id": "TzHN7IhtU5sA"
   },
   "source": [
    "## 컬럼의 금액 단위 바꾸기\n",
    "\n",
    "시가총액은 단위가 너무 커서 읽기가 어렵습니다. 좀 더 쉽게 보기 위해 조 단위로 바꾸어 봅니다."
   ]
  },
  {
   "cell_type": "code",
   "metadata": {
    "id": "8EX_nuhiU5sB",
    "executionInfo": {
     "status": "aborted",
     "timestamp": 1611437055913,
     "user_tz": -540,
     "elapsed": 132970,
     "user": {
      "displayName": "Sean-June Lee",
      "photoUrl": "https://lh3.googleusercontent.com/a-/AOh14Gj6rvtcx9Gy8VOzzw2LH1hYtnxIuHBDw8qnYK9SAuY=s64",
      "userId": "12576390002043678893"
     }
    }
   },
   "source": [
    "df = marcap_date('2019-05-10')\n",
    "\n",
    "df['Marcap_trillion'] = df['Marcap'] / 1e12 # 원 단위에서 조(10^12) 단위로 변경\n",
    "df.head()"
   ],
   "execution_count": null,
   "outputs": []
  },
  {
   "cell_type": "markdown",
   "metadata": {
    "id": "KfJXz5e3MNJD"
   },
   "source": [
    "개별 종목의 시가총액  df\\['Marcap'\\]을 10^12으로 나누어 조 단위로 변경하여 df\\['Marcap_trillion'\\]  컬럼을 추가하였습니다."
   ]
  },
  {
   "cell_type": "code",
   "metadata": {
    "id": "IH9iULBMU5sF",
    "executionInfo": {
     "status": "aborted",
     "timestamp": 1611437055913,
     "user_tz": -540,
     "elapsed": 132966,
     "user": {
      "displayName": "Sean-June Lee",
      "photoUrl": "https://lh3.googleusercontent.com/a-/AOh14Gj6rvtcx9Gy8VOzzw2LH1hYtnxIuHBDw8qnYK9SAuY=s64",
      "userId": "12576390002043678893"
     }
    }
   },
   "source": [
    "df['Marcap_trillion'].sum()  # 시가총액 전체 (조단위)"
   ],
   "execution_count": null,
   "outputs": []
  },
  {
   "cell_type": "markdown",
   "metadata": {
    "id": "ME4ODxjrU5sE"
   },
   "source": [
    "시가총액 컬럼 df['Marcap_trillion']을 모두 더하면, 한국 주식시장 시가총액은 약 1,645.7 조원 입니다. (2019년 5월 10일 기준) "
   ]
  },
  {
   "cell_type": "markdown",
   "metadata": {
    "id": "ut8Dy3wYU5sI"
   },
   "source": [
    "시가총액 비중 df['MarcapRatio'] 의 합은 얼마일까? "
   ]
  },
  {
   "cell_type": "code",
   "metadata": {
    "id": "wvwAGXpOU5sJ",
    "executionInfo": {
     "status": "aborted",
     "timestamp": 1611437055913,
     "user_tz": -540,
     "elapsed": 132962,
     "user": {
      "displayName": "Sean-June Lee",
      "photoUrl": "https://lh3.googleusercontent.com/a-/AOh14Gj6rvtcx9Gy8VOzzw2LH1hYtnxIuHBDw8qnYK9SAuY=s64",
      "userId": "12576390002043678893"
     }
    }
   },
   "source": [
    "df['MarcapRatio'].sum()"
   ],
   "execution_count": null,
   "outputs": []
  },
  {
   "cell_type": "markdown",
   "metadata": {
    "id": "5kpJCiZGU5sP"
   },
   "source": [
    "당연히 100(%)이 되어야 하겠지만 100보다 약간 작은 숫자가 됩니다.\n",
    "\n",
    "시가총액 비중의 합이 100이 안되는 이유는 대부분의 종목들이 너무 작은 비중을 차지하기 때문이다.\n",
    "한국 주식시장에서 시가총액 비중이 0.01% 이 넘으려면 대략 1,200등 안에는 들어야 합니다. 다시 말해, 전체 종목(2133개)의 대략 절반 정도는 시가총액 비중이 0.01% 가 안된다는 의미이기도 한 것이죠."
   ]
  },
  {
   "cell_type": "markdown",
   "metadata": {
    "id": "0HWECBqDOvW7"
   },
   "source": [
    "## 결론\n",
    "시가총액(marcap) 데이터셋 뿐만 아니라 25년간 개별 종목의 가격 등 다양한 데이터를 포함하고 있습니다. 뿐만 아니라 발행 주식수가 데이터에 포함되어 있으므로 수정주가(Adjust Price)을 산출할 수 있습니다.\n",
    "\n",
    "특정 분야의 종목의 시총을 일자별로 합산하면 특정 영역의 혹은 특정 산업의 트렌드를 분석하는데도 요긴하게 사용할 수 있으며, 산업의 규모나 트렌드 분석을 위한 좋은 데이터셋 입니다.\n",
    "\n",
    "주피터 노트북(혹은 구글 Colab)을 통해 간편하게 데이터를 가져와 다양한 분석을 해볼 수 있도록 정리하였으며 관심있는 분들에게 도움이 되시길 바랍니다."
   ]
  },
  {
   "cell_type": "markdown",
   "metadata": {
    "id": "1tQiMXMnp51X"
   },
   "source": [
    "#### 2018 - 2021 [FinanceData.KR]()"
   ]
  }
 ]
}